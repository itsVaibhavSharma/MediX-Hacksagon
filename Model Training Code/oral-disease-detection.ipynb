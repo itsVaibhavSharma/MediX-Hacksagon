{
 "cells": [
  {
   "cell_type": "code",
   "execution_count": 1,
   "id": "32213838",
   "metadata": {
    "_cell_guid": "b1076dfc-b9ad-4769-8c92-a6c4dae69d19",
    "_uuid": "8f2839f25d086af736a60e9eeb907d3b93b6e0e5",
    "execution": {
     "iopub.execute_input": "2025-06-28T01:48:06.197321Z",
     "iopub.status.busy": "2025-06-28T01:48:06.197047Z",
     "iopub.status.idle": "2025-06-28T02:28:20.567566Z",
     "shell.execute_reply": "2025-06-28T02:28:20.566619Z"
    },
    "papermill": {
     "duration": 2414.385445,
     "end_time": "2025-06-28T02:28:20.579163",
     "exception": false,
     "start_time": "2025-06-28T01:48:06.193718",
     "status": "completed"
    },
    "tags": []
   },
   "outputs": [
    {
     "name": "stdout",
     "output_type": "stream",
     "text": [
      "Using device: cuda\n",
      "Loading dataset...\n",
      "Loaded 1296 Calculus images\n",
      "Loaded 219 Caries original images\n",
      "Loaded 2382 Caries augmented images\n",
      "Loaded 2340 Gingivitis images\n",
      "Loaded 183 Tooth Discoloration original images\n",
      "Loaded 1834 Tooth Discoloration augmented images\n",
      "Loaded 265 Ulcers original images\n",
      "Loaded 2541 Ulcers augmented images\n",
      "Loaded 342 Hypodontia images\n",
      "Total images loaded: 11402\n",
      "Class distribution: {'Caries': 2601, 'Calculus': 1296, 'Gingivitis': 2340, 'Tooth Discoloration': 2017, 'Ulcers': 2806, 'Hypodontia': 342}\n",
      "Training samples: 7296\n",
      "Validation samples: 1825\n",
      "Test samples: 2281\n"
     ]
    },
    {
     "name": "stderr",
     "output_type": "stream",
     "text": [
      "/usr/local/lib/python3.11/dist-packages/torchvision/models/_utils.py:208: UserWarning: The parameter 'pretrained' is deprecated since 0.13 and may be removed in the future, please use 'weights' instead.\n",
      "  warnings.warn(\n",
      "/usr/local/lib/python3.11/dist-packages/torchvision/models/_utils.py:223: UserWarning: Arguments other than a weight enum or `None` for 'weights' are deprecated since 0.13 and may be removed in the future. The current behavior is equivalent to passing `weights=ResNet50_Weights.IMAGENET1K_V1`. You can also use `weights=ResNet50_Weights.DEFAULT` to get the most up-to-date weights.\n",
      "  warnings.warn(msg)\n",
      "Downloading: \"https://download.pytorch.org/models/resnet50-0676ba61.pth\" to /root/.cache/torch/hub/checkpoints/resnet50-0676ba61.pth\n",
      "100%|██████████| 97.8M/97.8M [00:00<00:00, 171MB/s]\n"
     ]
    },
    {
     "name": "stdout",
     "output_type": "stream",
     "text": [
      "Model created with 24560198 parameters\n",
      "Starting training...\n"
     ]
    },
    {
     "name": "stderr",
     "output_type": "stream",
     "text": [
      "Epoch 1/50 - Training: 100%|██████████| 228/228 [00:44<00:00,  5.13it/s, Loss=1.0675, Acc=48.04%]\n",
      "Epoch 1/50 - Validation: 100%|██████████| 58/58 [00:05<00:00,  9.89it/s, Loss=1.3459, Acc=56.22%]\n"
     ]
    },
    {
     "name": "stdout",
     "output_type": "stream",
     "text": [
      "Epoch [1/50]\n",
      "Train Loss: 1.2218, Train Acc: 48.04%\n",
      "Val Loss: 1.0322, Val Acc: 56.22%\n",
      "Learning Rate: 0.001000\n",
      "--------------------------------------------------\n"
     ]
    },
    {
     "name": "stderr",
     "output_type": "stream",
     "text": [
      "Epoch 2/50 - Training: 100%|██████████| 228/228 [00:42<00:00,  5.31it/s, Loss=0.8852, Acc=56.02%]\n",
      "Epoch 2/50 - Validation: 100%|██████████| 58/58 [00:04<00:00, 12.27it/s, Loss=0.8459, Acc=53.42%]\n"
     ]
    },
    {
     "name": "stdout",
     "output_type": "stream",
     "text": [
      "Epoch [2/50]\n",
      "Train Loss: 1.0435, Train Acc: 56.02%\n",
      "Val Loss: 1.0984, Val Acc: 53.42%\n",
      "Learning Rate: 0.001000\n",
      "--------------------------------------------------\n"
     ]
    },
    {
     "name": "stderr",
     "output_type": "stream",
     "text": [
      "Epoch 3/50 - Training: 100%|██████████| 228/228 [00:42<00:00,  5.31it/s, Loss=1.0953, Acc=57.31%]\n",
      "Epoch 3/50 - Validation: 100%|██████████| 58/58 [00:04<00:00, 13.66it/s, Loss=1.1059, Acc=62.96%]\n"
     ]
    },
    {
     "name": "stdout",
     "output_type": "stream",
     "text": [
      "Epoch [3/50]\n",
      "Train Loss: 1.0007, Train Acc: 57.31%\n",
      "Val Loss: 0.8265, Val Acc: 62.96%\n",
      "Learning Rate: 0.001000\n",
      "--------------------------------------------------\n"
     ]
    },
    {
     "name": "stderr",
     "output_type": "stream",
     "text": [
      "Epoch 4/50 - Training: 100%|██████████| 228/228 [00:42<00:00,  5.31it/s, Loss=0.7821, Acc=59.79%]\n",
      "Epoch 4/50 - Validation: 100%|██████████| 58/58 [00:04<00:00, 13.73it/s, Loss=0.8031, Acc=66.41%]\n"
     ]
    },
    {
     "name": "stdout",
     "output_type": "stream",
     "text": [
      "Epoch [4/50]\n",
      "Train Loss: 0.9489, Train Acc: 59.79%\n",
      "Val Loss: 0.8064, Val Acc: 66.41%\n",
      "Learning Rate: 0.001000\n",
      "--------------------------------------------------\n"
     ]
    },
    {
     "name": "stderr",
     "output_type": "stream",
     "text": [
      "Epoch 5/50 - Training: 100%|██████████| 228/228 [00:43<00:00,  5.28it/s, Loss=0.8749, Acc=60.22%]\n",
      "Epoch 5/50 - Validation: 100%|██████████| 58/58 [00:04<00:00, 13.84it/s, Loss=0.6356, Acc=59.95%]\n"
     ]
    },
    {
     "name": "stdout",
     "output_type": "stream",
     "text": [
      "Epoch [5/50]\n",
      "Train Loss: 0.9183, Train Acc: 60.22%\n",
      "Val Loss: 0.9135, Val Acc: 59.95%\n",
      "Learning Rate: 0.001000\n",
      "--------------------------------------------------\n"
     ]
    },
    {
     "name": "stderr",
     "output_type": "stream",
     "text": [
      "Epoch 6/50 - Training: 100%|██████████| 228/228 [00:42<00:00,  5.31it/s, Loss=0.8803, Acc=62.05%]\n",
      "Epoch 6/50 - Validation: 100%|██████████| 58/58 [00:04<00:00, 13.27it/s, Loss=1.2771, Acc=66.90%]\n"
     ]
    },
    {
     "name": "stdout",
     "output_type": "stream",
     "text": [
      "Epoch [6/50]\n",
      "Train Loss: 0.8864, Train Acc: 62.05%\n",
      "Val Loss: 0.8299, Val Acc: 66.90%\n",
      "Learning Rate: 0.001000\n",
      "--------------------------------------------------\n"
     ]
    },
    {
     "name": "stderr",
     "output_type": "stream",
     "text": [
      "Epoch 7/50 - Training: 100%|██████████| 228/228 [00:43<00:00,  5.28it/s, Loss=1.0272, Acc=66.20%]\n",
      "Epoch 7/50 - Validation: 100%|██████████| 58/58 [00:04<00:00, 13.57it/s, Loss=0.5391, Acc=55.34%]\n"
     ]
    },
    {
     "name": "stdout",
     "output_type": "stream",
     "text": [
      "Epoch [7/50]\n",
      "Train Loss: 0.8293, Train Acc: 66.20%\n",
      "Val Loss: 1.0335, Val Acc: 55.34%\n",
      "Learning Rate: 0.001000\n",
      "--------------------------------------------------\n"
     ]
    },
    {
     "name": "stderr",
     "output_type": "stream",
     "text": [
      "Epoch 8/50 - Training: 100%|██████████| 228/228 [00:42<00:00,  5.32it/s, Loss=0.8511, Acc=67.71%]\n",
      "Epoch 8/50 - Validation: 100%|██████████| 58/58 [00:04<00:00, 13.67it/s, Loss=0.9744, Acc=74.58%]\n"
     ]
    },
    {
     "name": "stdout",
     "output_type": "stream",
     "text": [
      "Epoch [8/50]\n",
      "Train Loss: 0.7906, Train Acc: 67.71%\n",
      "Val Loss: 0.6636, Val Acc: 74.58%\n",
      "Learning Rate: 0.001000\n",
      "--------------------------------------------------\n"
     ]
    },
    {
     "name": "stderr",
     "output_type": "stream",
     "text": [
      "Epoch 9/50 - Training: 100%|██████████| 228/228 [00:43<00:00,  5.28it/s, Loss=1.0098, Acc=69.61%]\n",
      "Epoch 9/50 - Validation: 100%|██████████| 58/58 [00:04<00:00, 13.82it/s, Loss=0.6990, Acc=64.60%]\n"
     ]
    },
    {
     "name": "stdout",
     "output_type": "stream",
     "text": [
      "Epoch [9/50]\n",
      "Train Loss: 0.7725, Train Acc: 69.61%\n",
      "Val Loss: 0.9136, Val Acc: 64.60%\n",
      "Learning Rate: 0.001000\n",
      "--------------------------------------------------\n"
     ]
    },
    {
     "name": "stderr",
     "output_type": "stream",
     "text": [
      "Epoch 10/50 - Training: 100%|██████████| 228/228 [00:42<00:00,  5.32it/s, Loss=0.5665, Acc=72.03%]\n",
      "Epoch 10/50 - Validation: 100%|██████████| 58/58 [00:04<00:00, 13.61it/s, Loss=0.3955, Acc=64.16%]\n"
     ]
    },
    {
     "name": "stdout",
     "output_type": "stream",
     "text": [
      "Epoch [10/50]\n",
      "Train Loss: 0.7139, Train Acc: 72.03%\n",
      "Val Loss: 0.8749, Val Acc: 64.16%\n",
      "Learning Rate: 0.001000\n",
      "--------------------------------------------------\n"
     ]
    },
    {
     "name": "stderr",
     "output_type": "stream",
     "text": [
      "Epoch 11/50 - Training: 100%|██████████| 228/228 [00:43<00:00,  5.30it/s, Loss=0.4535, Acc=73.07%]\n",
      "Epoch 11/50 - Validation: 100%|██████████| 58/58 [00:04<00:00, 13.59it/s, Loss=2.1114, Acc=77.59%]\n"
     ]
    },
    {
     "name": "stdout",
     "output_type": "stream",
     "text": [
      "Epoch [11/50]\n",
      "Train Loss: 0.7002, Train Acc: 73.07%\n",
      "Val Loss: 0.5761, Val Acc: 77.59%\n",
      "Learning Rate: 0.001000\n",
      "--------------------------------------------------\n"
     ]
    },
    {
     "name": "stderr",
     "output_type": "stream",
     "text": [
      "Epoch 12/50 - Training: 100%|██████████| 228/228 [00:42<00:00,  5.32it/s, Loss=0.6135, Acc=74.14%]\n",
      "Epoch 12/50 - Validation: 100%|██████████| 58/58 [00:04<00:00, 11.81it/s, Loss=2.8440, Acc=75.89%]\n"
     ]
    },
    {
     "name": "stdout",
     "output_type": "stream",
     "text": [
      "Epoch [12/50]\n",
      "Train Loss: 0.6717, Train Acc: 74.14%\n",
      "Val Loss: 0.6162, Val Acc: 75.89%\n",
      "Learning Rate: 0.001000\n",
      "--------------------------------------------------\n"
     ]
    },
    {
     "name": "stderr",
     "output_type": "stream",
     "text": [
      "Epoch 13/50 - Training: 100%|██████████| 228/228 [00:42<00:00,  5.31it/s, Loss=0.7709, Acc=75.95%]\n",
      "Epoch 13/50 - Validation: 100%|██████████| 58/58 [00:04<00:00, 13.61it/s, Loss=0.8560, Acc=80.99%]\n"
     ]
    },
    {
     "name": "stdout",
     "output_type": "stream",
     "text": [
      "Epoch [13/50]\n",
      "Train Loss: 0.6277, Train Acc: 75.95%\n",
      "Val Loss: 0.4789, Val Acc: 80.99%\n",
      "Learning Rate: 0.001000\n",
      "--------------------------------------------------\n"
     ]
    },
    {
     "name": "stderr",
     "output_type": "stream",
     "text": [
      "Epoch 14/50 - Training: 100%|██████████| 228/228 [00:42<00:00,  5.31it/s, Loss=0.5942, Acc=76.45%]\n",
      "Epoch 14/50 - Validation: 100%|██████████| 58/58 [00:04<00:00, 13.74it/s, Loss=0.7899, Acc=80.05%]\n"
     ]
    },
    {
     "name": "stdout",
     "output_type": "stream",
     "text": [
      "Epoch [14/50]\n",
      "Train Loss: 0.5926, Train Acc: 76.45%\n",
      "Val Loss: 0.5173, Val Acc: 80.05%\n",
      "Learning Rate: 0.001000\n",
      "--------------------------------------------------\n"
     ]
    },
    {
     "name": "stderr",
     "output_type": "stream",
     "text": [
      "Epoch 15/50 - Training: 100%|██████████| 228/228 [00:42<00:00,  5.32it/s, Loss=0.6607, Acc=77.14%]\n",
      "Epoch 15/50 - Validation: 100%|██████████| 58/58 [00:04<00:00, 12.51it/s, Loss=0.6634, Acc=73.64%]\n"
     ]
    },
    {
     "name": "stdout",
     "output_type": "stream",
     "text": [
      "Epoch [15/50]\n",
      "Train Loss: 0.5884, Train Acc: 77.14%\n",
      "Val Loss: 0.6115, Val Acc: 73.64%\n",
      "Learning Rate: 0.001000\n",
      "--------------------------------------------------\n"
     ]
    },
    {
     "name": "stderr",
     "output_type": "stream",
     "text": [
      "Epoch 16/50 - Training: 100%|██████████| 228/228 [00:42<00:00,  5.32it/s, Loss=0.8169, Acc=77.63%]\n",
      "Epoch 16/50 - Validation: 100%|██████████| 58/58 [00:04<00:00, 13.87it/s, Loss=0.7950, Acc=81.10%]\n"
     ]
    },
    {
     "name": "stdout",
     "output_type": "stream",
     "text": [
      "Epoch [16/50]\n",
      "Train Loss: 0.5748, Train Acc: 77.63%\n",
      "Val Loss: 0.4710, Val Acc: 81.10%\n",
      "Learning Rate: 0.001000\n",
      "--------------------------------------------------\n"
     ]
    },
    {
     "name": "stderr",
     "output_type": "stream",
     "text": [
      "Epoch 17/50 - Training: 100%|██████████| 228/228 [00:42<00:00,  5.32it/s, Loss=0.5641, Acc=78.87%]\n",
      "Epoch 17/50 - Validation: 100%|██████████| 58/58 [00:04<00:00, 12.30it/s, Loss=0.3545, Acc=80.77%]\n"
     ]
    },
    {
     "name": "stdout",
     "output_type": "stream",
     "text": [
      "Epoch [17/50]\n",
      "Train Loss: 0.5382, Train Acc: 78.87%\n",
      "Val Loss: 0.4646, Val Acc: 80.77%\n",
      "Learning Rate: 0.001000\n",
      "--------------------------------------------------\n"
     ]
    },
    {
     "name": "stderr",
     "output_type": "stream",
     "text": [
      "Epoch 18/50 - Training: 100%|██████████| 228/228 [00:42<00:00,  5.33it/s, Loss=0.5326, Acc=79.76%]\n",
      "Epoch 18/50 - Validation: 100%|██████████| 58/58 [00:04<00:00, 13.80it/s, Loss=2.1378, Acc=81.37%]\n"
     ]
    },
    {
     "name": "stdout",
     "output_type": "stream",
     "text": [
      "Epoch [18/50]\n",
      "Train Loss: 0.5324, Train Acc: 79.76%\n",
      "Val Loss: 0.5033, Val Acc: 81.37%\n",
      "Learning Rate: 0.001000\n",
      "--------------------------------------------------\n"
     ]
    },
    {
     "name": "stderr",
     "output_type": "stream",
     "text": [
      "Epoch 19/50 - Training: 100%|██████████| 228/228 [00:42<00:00,  5.32it/s, Loss=0.5360, Acc=79.10%]\n",
      "Epoch 19/50 - Validation: 100%|██████████| 58/58 [00:04<00:00, 13.03it/s, Loss=1.5280, Acc=79.56%]\n"
     ]
    },
    {
     "name": "stdout",
     "output_type": "stream",
     "text": [
      "Epoch [19/50]\n",
      "Train Loss: 0.5256, Train Acc: 79.10%\n",
      "Val Loss: 0.5377, Val Acc: 79.56%\n",
      "Learning Rate: 0.001000\n",
      "--------------------------------------------------\n"
     ]
    },
    {
     "name": "stderr",
     "output_type": "stream",
     "text": [
      "Epoch 20/50 - Training: 100%|██████████| 228/228 [00:42<00:00,  5.31it/s, Loss=0.4042, Acc=80.63%]\n",
      "Epoch 20/50 - Validation: 100%|██████████| 58/58 [00:04<00:00, 13.93it/s, Loss=2.1325, Acc=82.19%]\n"
     ]
    },
    {
     "name": "stdout",
     "output_type": "stream",
     "text": [
      "Epoch [20/50]\n",
      "Train Loss: 0.4999, Train Acc: 80.63%\n",
      "Val Loss: 0.4706, Val Acc: 82.19%\n",
      "Learning Rate: 0.001000\n",
      "--------------------------------------------------\n"
     ]
    },
    {
     "name": "stderr",
     "output_type": "stream",
     "text": [
      "Epoch 21/50 - Training: 100%|██████████| 228/228 [00:42<00:00,  5.31it/s, Loss=0.5471, Acc=80.28%]\n",
      "Epoch 21/50 - Validation: 100%|██████████| 58/58 [00:04<00:00, 13.68it/s, Loss=0.8102, Acc=84.60%]\n"
     ]
    },
    {
     "name": "stdout",
     "output_type": "stream",
     "text": [
      "Epoch [21/50]\n",
      "Train Loss: 0.4958, Train Acc: 80.28%\n",
      "Val Loss: 0.4146, Val Acc: 84.60%\n",
      "Learning Rate: 0.001000\n",
      "--------------------------------------------------\n"
     ]
    },
    {
     "name": "stderr",
     "output_type": "stream",
     "text": [
      "Epoch 22/50 - Training: 100%|██████████| 228/228 [00:43<00:00,  5.28it/s, Loss=0.5220, Acc=81.96%]\n",
      "Epoch 22/50 - Validation: 100%|██████████| 58/58 [00:04<00:00, 13.61it/s, Loss=1.2461, Acc=81.86%]\n"
     ]
    },
    {
     "name": "stdout",
     "output_type": "stream",
     "text": [
      "Epoch [22/50]\n",
      "Train Loss: 0.4623, Train Acc: 81.96%\n",
      "Val Loss: 0.4917, Val Acc: 81.86%\n",
      "Learning Rate: 0.001000\n",
      "--------------------------------------------------\n"
     ]
    },
    {
     "name": "stderr",
     "output_type": "stream",
     "text": [
      "Epoch 23/50 - Training: 100%|██████████| 228/228 [00:43<00:00,  5.30it/s, Loss=0.5081, Acc=81.80%]\n",
      "Epoch 23/50 - Validation: 100%|██████████| 58/58 [00:04<00:00, 13.57it/s, Loss=0.6508, Acc=80.82%]\n"
     ]
    },
    {
     "name": "stdout",
     "output_type": "stream",
     "text": [
      "Epoch [23/50]\n",
      "Train Loss: 0.4504, Train Acc: 81.80%\n",
      "Val Loss: 0.4939, Val Acc: 80.82%\n",
      "Learning Rate: 0.001000\n",
      "--------------------------------------------------\n"
     ]
    },
    {
     "name": "stderr",
     "output_type": "stream",
     "text": [
      "Epoch 24/50 - Training: 100%|██████████| 228/228 [00:43<00:00,  5.30it/s, Loss=0.4492, Acc=82.50%]\n",
      "Epoch 24/50 - Validation: 100%|██████████| 58/58 [00:04<00:00, 13.32it/s, Loss=0.7740, Acc=77.53%]\n"
     ]
    },
    {
     "name": "stdout",
     "output_type": "stream",
     "text": [
      "Epoch [24/50]\n",
      "Train Loss: 0.4450, Train Acc: 82.50%\n",
      "Val Loss: 0.5763, Val Acc: 77.53%\n",
      "Learning Rate: 0.001000\n",
      "--------------------------------------------------\n"
     ]
    },
    {
     "name": "stderr",
     "output_type": "stream",
     "text": [
      "Epoch 25/50 - Training: 100%|██████████| 228/228 [00:42<00:00,  5.31it/s, Loss=0.3032, Acc=83.03%]\n",
      "Epoch 25/50 - Validation: 100%|██████████| 58/58 [00:04<00:00, 13.70it/s, Loss=0.9933, Acc=82.85%]\n"
     ]
    },
    {
     "name": "stdout",
     "output_type": "stream",
     "text": [
      "Epoch [25/50]\n",
      "Train Loss: 0.4343, Train Acc: 83.03%\n",
      "Val Loss: 0.4152, Val Acc: 82.85%\n",
      "Learning Rate: 0.000500\n",
      "--------------------------------------------------\n"
     ]
    },
    {
     "name": "stderr",
     "output_type": "stream",
     "text": [
      "Epoch 26/50 - Training: 100%|██████████| 228/228 [00:43<00:00,  5.29it/s, Loss=0.2568, Acc=86.49%]\n",
      "Epoch 26/50 - Validation: 100%|██████████| 58/58 [00:04<00:00, 13.74it/s, Loss=2.4400, Acc=88.22%]\n"
     ]
    },
    {
     "name": "stdout",
     "output_type": "stream",
     "text": [
      "Epoch [26/50]\n",
      "Train Loss: 0.3411, Train Acc: 86.49%\n",
      "Val Loss: 0.3348, Val Acc: 88.22%\n",
      "Learning Rate: 0.000500\n",
      "--------------------------------------------------\n"
     ]
    },
    {
     "name": "stderr",
     "output_type": "stream",
     "text": [
      "Epoch 27/50 - Training: 100%|██████████| 228/228 [00:43<00:00,  5.29it/s, Loss=0.1882, Acc=87.32%]\n",
      "Epoch 27/50 - Validation: 100%|██████████| 58/58 [00:04<00:00, 13.71it/s, Loss=1.6701, Acc=88.05%]\n"
     ]
    },
    {
     "name": "stdout",
     "output_type": "stream",
     "text": [
      "Epoch [27/50]\n",
      "Train Loss: 0.3153, Train Acc: 87.32%\n",
      "Val Loss: 0.3064, Val Acc: 88.05%\n",
      "Learning Rate: 0.000500\n",
      "--------------------------------------------------\n"
     ]
    },
    {
     "name": "stderr",
     "output_type": "stream",
     "text": [
      "Epoch 28/50 - Training: 100%|██████████| 228/228 [00:43<00:00,  5.29it/s, Loss=0.2577, Acc=86.43%]\n",
      "Epoch 28/50 - Validation: 100%|██████████| 58/58 [00:04<00:00, 13.56it/s, Loss=2.9169, Acc=89.04%]\n"
     ]
    },
    {
     "name": "stdout",
     "output_type": "stream",
     "text": [
      "Epoch [28/50]\n",
      "Train Loss: 0.3251, Train Acc: 86.43%\n",
      "Val Loss: 0.3185, Val Acc: 89.04%\n",
      "Learning Rate: 0.000500\n",
      "--------------------------------------------------\n"
     ]
    },
    {
     "name": "stderr",
     "output_type": "stream",
     "text": [
      "Epoch 29/50 - Training: 100%|██████████| 228/228 [00:43<00:00,  5.30it/s, Loss=0.2930, Acc=87.68%]\n",
      "Epoch 29/50 - Validation: 100%|██████████| 58/58 [00:04<00:00, 13.60it/s, Loss=2.9350, Acc=89.59%]\n"
     ]
    },
    {
     "name": "stdout",
     "output_type": "stream",
     "text": [
      "Epoch [29/50]\n",
      "Train Loss: 0.3041, Train Acc: 87.68%\n",
      "Val Loss: 0.3092, Val Acc: 89.59%\n",
      "Learning Rate: 0.000500\n",
      "--------------------------------------------------\n"
     ]
    },
    {
     "name": "stderr",
     "output_type": "stream",
     "text": [
      "Epoch 30/50 - Training: 100%|██████████| 228/228 [00:43<00:00,  5.30it/s, Loss=0.4403, Acc=88.60%]\n",
      "Epoch 30/50 - Validation: 100%|██████████| 58/58 [00:04<00:00, 12.60it/s, Loss=2.3876, Acc=88.38%]\n"
     ]
    },
    {
     "name": "stdout",
     "output_type": "stream",
     "text": [
      "Epoch [30/50]\n",
      "Train Loss: 0.2897, Train Acc: 88.60%\n",
      "Val Loss: 0.3083, Val Acc: 88.38%\n",
      "Learning Rate: 0.000500\n",
      "--------------------------------------------------\n"
     ]
    },
    {
     "name": "stderr",
     "output_type": "stream",
     "text": [
      "Epoch 31/50 - Training: 100%|██████████| 228/228 [00:43<00:00,  5.29it/s, Loss=0.2783, Acc=87.12%]\n",
      "Epoch 31/50 - Validation: 100%|██████████| 58/58 [00:04<00:00, 13.70it/s, Loss=1.3896, Acc=87.34%]\n"
     ]
    },
    {
     "name": "stdout",
     "output_type": "stream",
     "text": [
      "Epoch [31/50]\n",
      "Train Loss: 0.3153, Train Acc: 87.12%\n",
      "Val Loss: 0.2782, Val Acc: 87.34%\n",
      "Learning Rate: 0.000500\n",
      "--------------------------------------------------\n"
     ]
    },
    {
     "name": "stderr",
     "output_type": "stream",
     "text": [
      "Epoch 32/50 - Training: 100%|██████████| 228/228 [00:43<00:00,  5.29it/s, Loss=0.1663, Acc=88.86%]\n",
      "Epoch 32/50 - Validation: 100%|██████████| 58/58 [00:05<00:00, 11.26it/s, Loss=1.5956, Acc=90.19%]\n"
     ]
    },
    {
     "name": "stdout",
     "output_type": "stream",
     "text": [
      "Epoch [32/50]\n",
      "Train Loss: 0.2743, Train Acc: 88.86%\n",
      "Val Loss: 0.2587, Val Acc: 90.19%\n",
      "Learning Rate: 0.000500\n",
      "--------------------------------------------------\n"
     ]
    },
    {
     "name": "stderr",
     "output_type": "stream",
     "text": [
      "Epoch 33/50 - Training: 100%|██████████| 228/228 [00:43<00:00,  5.28it/s, Loss=0.1101, Acc=88.49%]\n",
      "Epoch 33/50 - Validation: 100%|██████████| 58/58 [00:04<00:00, 13.64it/s, Loss=1.5004, Acc=87.34%]\n"
     ]
    },
    {
     "name": "stdout",
     "output_type": "stream",
     "text": [
      "Epoch [33/50]\n",
      "Train Loss: 0.2779, Train Acc: 88.49%\n",
      "Val Loss: 0.3258, Val Acc: 87.34%\n",
      "Learning Rate: 0.000500\n",
      "--------------------------------------------------\n"
     ]
    },
    {
     "name": "stderr",
     "output_type": "stream",
     "text": [
      "Epoch 34/50 - Training: 100%|██████████| 228/228 [00:43<00:00,  5.28it/s, Loss=0.4529, Acc=88.71%]\n",
      "Epoch 34/50 - Validation: 100%|██████████| 58/58 [00:05<00:00, 11.22it/s, Loss=1.8697, Acc=89.86%]\n"
     ]
    },
    {
     "name": "stdout",
     "output_type": "stream",
     "text": [
      "Epoch [34/50]\n",
      "Train Loss: 0.2802, Train Acc: 88.71%\n",
      "Val Loss: 0.2673, Val Acc: 89.86%\n",
      "Learning Rate: 0.000500\n",
      "--------------------------------------------------\n"
     ]
    },
    {
     "name": "stderr",
     "output_type": "stream",
     "text": [
      "Epoch 35/50 - Training: 100%|██████████| 228/228 [00:43<00:00,  5.27it/s, Loss=0.2813, Acc=88.80%]\n",
      "Epoch 35/50 - Validation: 100%|██████████| 58/58 [00:04<00:00, 13.72it/s, Loss=2.4197, Acc=89.64%]\n"
     ]
    },
    {
     "name": "stdout",
     "output_type": "stream",
     "text": [
      "Epoch [35/50]\n",
      "Train Loss: 0.2698, Train Acc: 88.80%\n",
      "Val Loss: 0.2759, Val Acc: 89.64%\n",
      "Learning Rate: 0.000500\n",
      "--------------------------------------------------\n"
     ]
    },
    {
     "name": "stderr",
     "output_type": "stream",
     "text": [
      "Epoch 36/50 - Training: 100%|██████████| 228/228 [00:43<00:00,  5.29it/s, Loss=0.2423, Acc=89.32%]\n",
      "Epoch 36/50 - Validation: 100%|██████████| 58/58 [00:04<00:00, 11.98it/s, Loss=1.6084, Acc=90.52%]\n"
     ]
    },
    {
     "name": "stdout",
     "output_type": "stream",
     "text": [
      "Epoch [36/50]\n",
      "Train Loss: 0.2716, Train Acc: 89.32%\n",
      "Val Loss: 0.2534, Val Acc: 90.52%\n",
      "Learning Rate: 0.000500\n",
      "--------------------------------------------------\n"
     ]
    },
    {
     "name": "stderr",
     "output_type": "stream",
     "text": [
      "Epoch 37/50 - Training: 100%|██████████| 228/228 [00:42<00:00,  5.30it/s, Loss=0.1292, Acc=88.73%]\n",
      "Epoch 37/50 - Validation: 100%|██████████| 58/58 [00:04<00:00, 13.56it/s, Loss=1.3929, Acc=87.84%]\n"
     ]
    },
    {
     "name": "stdout",
     "output_type": "stream",
     "text": [
      "Epoch [37/50]\n",
      "Train Loss: 0.2672, Train Acc: 88.73%\n",
      "Val Loss: 0.3064, Val Acc: 87.84%\n",
      "Learning Rate: 0.000500\n",
      "--------------------------------------------------\n"
     ]
    },
    {
     "name": "stderr",
     "output_type": "stream",
     "text": [
      "Epoch 38/50 - Training: 100%|██████████| 228/228 [00:43<00:00,  5.30it/s, Loss=0.2413, Acc=89.39%]\n",
      "Epoch 38/50 - Validation: 100%|██████████| 58/58 [00:04<00:00, 12.55it/s, Loss=1.1357, Acc=89.53%]\n"
     ]
    },
    {
     "name": "stdout",
     "output_type": "stream",
     "text": [
      "Epoch [38/50]\n",
      "Train Loss: 0.2617, Train Acc: 89.39%\n",
      "Val Loss: 0.2662, Val Acc: 89.53%\n",
      "Learning Rate: 0.000500\n",
      "--------------------------------------------------\n"
     ]
    },
    {
     "name": "stderr",
     "output_type": "stream",
     "text": [
      "Epoch 39/50 - Training: 100%|██████████| 228/228 [00:43<00:00,  5.28it/s, Loss=0.2173, Acc=88.93%]\n",
      "Epoch 39/50 - Validation: 100%|██████████| 58/58 [00:04<00:00, 13.71it/s, Loss=0.3810, Acc=89.97%]\n"
     ]
    },
    {
     "name": "stdout",
     "output_type": "stream",
     "text": [
      "Epoch [39/50]\n",
      "Train Loss: 0.2607, Train Acc: 88.93%\n",
      "Val Loss: 0.2499, Val Acc: 89.97%\n",
      "Learning Rate: 0.000500\n",
      "--------------------------------------------------\n"
     ]
    },
    {
     "name": "stderr",
     "output_type": "stream",
     "text": [
      "Epoch 40/50 - Training: 100%|██████████| 228/228 [00:42<00:00,  5.31it/s, Loss=0.3286, Acc=89.54%]\n",
      "Epoch 40/50 - Validation: 100%|██████████| 58/58 [00:04<00:00, 13.48it/s, Loss=0.8803, Acc=91.23%]\n"
     ]
    },
    {
     "name": "stdout",
     "output_type": "stream",
     "text": [
      "Epoch [40/50]\n",
      "Train Loss: 0.2506, Train Acc: 89.54%\n",
      "Val Loss: 0.2274, Val Acc: 91.23%\n",
      "Learning Rate: 0.000500\n",
      "--------------------------------------------------\n"
     ]
    },
    {
     "name": "stderr",
     "output_type": "stream",
     "text": [
      "Epoch 41/50 - Training: 100%|██████████| 228/228 [00:43<00:00,  5.28it/s, Loss=0.1395, Acc=89.12%]\n",
      "Epoch 41/50 - Validation: 100%|██████████| 58/58 [00:04<00:00, 13.67it/s, Loss=0.9983, Acc=90.36%]\n"
     ]
    },
    {
     "name": "stdout",
     "output_type": "stream",
     "text": [
      "Epoch [41/50]\n",
      "Train Loss: 0.2542, Train Acc: 89.12%\n",
      "Val Loss: 0.2367, Val Acc: 90.36%\n",
      "Learning Rate: 0.000500\n",
      "--------------------------------------------------\n"
     ]
    },
    {
     "name": "stderr",
     "output_type": "stream",
     "text": [
      "Epoch 42/50 - Training: 100%|██████████| 228/228 [00:42<00:00,  5.30it/s, Loss=0.3709, Acc=89.58%]\n",
      "Epoch 42/50 - Validation: 100%|██████████| 58/58 [00:04<00:00, 13.53it/s, Loss=0.7858, Acc=90.30%]\n"
     ]
    },
    {
     "name": "stdout",
     "output_type": "stream",
     "text": [
      "Epoch [42/50]\n",
      "Train Loss: 0.2476, Train Acc: 89.58%\n",
      "Val Loss: 0.2631, Val Acc: 90.30%\n",
      "Learning Rate: 0.000500\n",
      "--------------------------------------------------\n"
     ]
    },
    {
     "name": "stderr",
     "output_type": "stream",
     "text": [
      "Epoch 43/50 - Training: 100%|██████████| 228/228 [00:43<00:00,  5.28it/s, Loss=0.3286, Acc=90.45%]\n",
      "Epoch 43/50 - Validation: 100%|██████████| 58/58 [00:04<00:00, 13.80it/s, Loss=1.0393, Acc=89.86%]\n"
     ]
    },
    {
     "name": "stdout",
     "output_type": "stream",
     "text": [
      "Epoch [43/50]\n",
      "Train Loss: 0.2387, Train Acc: 90.45%\n",
      "Val Loss: 0.2300, Val Acc: 89.86%\n",
      "Learning Rate: 0.000500\n",
      "--------------------------------------------------\n"
     ]
    },
    {
     "name": "stderr",
     "output_type": "stream",
     "text": [
      "Epoch 44/50 - Training: 100%|██████████| 228/228 [00:43<00:00,  5.29it/s, Loss=0.2707, Acc=90.01%]\n",
      "Epoch 44/50 - Validation: 100%|██████████| 58/58 [00:04<00:00, 13.66it/s, Loss=1.1394, Acc=90.19%]\n"
     ]
    },
    {
     "name": "stdout",
     "output_type": "stream",
     "text": [
      "Epoch [44/50]\n",
      "Train Loss: 0.2454, Train Acc: 90.01%\n",
      "Val Loss: 0.2661, Val Acc: 90.19%\n",
      "Learning Rate: 0.000250\n",
      "--------------------------------------------------\n"
     ]
    },
    {
     "name": "stderr",
     "output_type": "stream",
     "text": [
      "Epoch 45/50 - Training: 100%|██████████| 228/228 [00:43<00:00,  5.25it/s, Loss=0.2281, Acc=91.20%]\n",
      "Epoch 45/50 - Validation: 100%|██████████| 58/58 [00:04<00:00, 13.43it/s, Loss=0.6667, Acc=91.45%]\n"
     ]
    },
    {
     "name": "stdout",
     "output_type": "stream",
     "text": [
      "Epoch [45/50]\n",
      "Train Loss: 0.2112, Train Acc: 91.20%\n",
      "Val Loss: 0.2083, Val Acc: 91.45%\n",
      "Learning Rate: 0.000250\n",
      "--------------------------------------------------\n"
     ]
    },
    {
     "name": "stderr",
     "output_type": "stream",
     "text": [
      "Epoch 46/50 - Training: 100%|██████████| 228/228 [00:43<00:00,  5.30it/s, Loss=0.1374, Acc=91.39%]\n",
      "Epoch 46/50 - Validation: 100%|██████████| 58/58 [00:04<00:00, 13.46it/s, Loss=0.6096, Acc=92.05%]\n"
     ]
    },
    {
     "name": "stdout",
     "output_type": "stream",
     "text": [
      "Epoch [46/50]\n",
      "Train Loss: 0.1997, Train Acc: 91.39%\n",
      "Val Loss: 0.1891, Val Acc: 92.05%\n",
      "Learning Rate: 0.000250\n",
      "--------------------------------------------------\n"
     ]
    },
    {
     "name": "stderr",
     "output_type": "stream",
     "text": [
      "Epoch 47/50 - Training: 100%|██████████| 228/228 [00:43<00:00,  5.24it/s, Loss=0.1619, Acc=91.68%]\n",
      "Epoch 47/50 - Validation: 100%|██████████| 58/58 [00:04<00:00, 13.62it/s, Loss=0.5407, Acc=92.00%]\n"
     ]
    },
    {
     "name": "stdout",
     "output_type": "stream",
     "text": [
      "Epoch [47/50]\n",
      "Train Loss: 0.1980, Train Acc: 91.68%\n",
      "Val Loss: 0.1889, Val Acc: 92.00%\n",
      "Learning Rate: 0.000250\n",
      "--------------------------------------------------\n"
     ]
    },
    {
     "name": "stderr",
     "output_type": "stream",
     "text": [
      "Epoch 48/50 - Training: 100%|██████████| 228/228 [00:43<00:00,  5.30it/s, Loss=0.3614, Acc=91.94%]\n",
      "Epoch 48/50 - Validation: 100%|██████████| 58/58 [00:04<00:00, 13.65it/s, Loss=0.7230, Acc=91.95%]\n"
     ]
    },
    {
     "name": "stdout",
     "output_type": "stream",
     "text": [
      "Epoch [48/50]\n",
      "Train Loss: 0.1838, Train Acc: 91.94%\n",
      "Val Loss: 0.1971, Val Acc: 91.95%\n",
      "Learning Rate: 0.000250\n",
      "--------------------------------------------------\n"
     ]
    },
    {
     "name": "stderr",
     "output_type": "stream",
     "text": [
      "Epoch 49/50 - Training: 100%|██████████| 228/228 [00:43<00:00,  5.27it/s, Loss=0.2055, Acc=91.69%]\n",
      "Epoch 49/50 - Validation: 100%|██████████| 58/58 [00:04<00:00, 12.41it/s, Loss=1.3093, Acc=90.96%]\n"
     ]
    },
    {
     "name": "stdout",
     "output_type": "stream",
     "text": [
      "Epoch [49/50]\n",
      "Train Loss: 0.1925, Train Acc: 91.69%\n",
      "Val Loss: 0.2300, Val Acc: 90.96%\n",
      "Learning Rate: 0.000250\n",
      "--------------------------------------------------\n"
     ]
    },
    {
     "name": "stderr",
     "output_type": "stream",
     "text": [
      "Epoch 50/50 - Training: 100%|██████████| 228/228 [00:43<00:00,  5.29it/s, Loss=0.1863, Acc=92.09%]\n",
      "Epoch 50/50 - Validation: 100%|██████████| 58/58 [00:04<00:00, 13.38it/s, Loss=1.6915, Acc=91.84%]\n"
     ]
    },
    {
     "name": "stdout",
     "output_type": "stream",
     "text": [
      "Epoch [50/50]\n",
      "Train Loss: 0.1877, Train Acc: 92.09%\n",
      "Val Loss: 0.2246, Val Acc: 91.84%\n",
      "Learning Rate: 0.000125\n",
      "--------------------------------------------------\n"
     ]
    },
    {
     "data": {
      "image/png": "[encoded data removed]",
      "text/plain": [
       "<Figure size 1500x500 with 2 Axes>"
      ]
     },
     "metadata": {},
     "output_type": "display_data"
    },
    {
     "name": "stdout",
     "output_type": "stream",
     "text": [
      "Evaluating on test set...\n"
     ]
    },
    {
     "name": "stderr",
     "output_type": "stream",
     "text": [
      "Evaluating: 100%|██████████| 72/72 [00:07<00:00,  9.33it/s]\n"
     ]
    },
    {
     "name": "stdout",
     "output_type": "stream",
     "text": [
      "Test Accuracy: 91.19%\n",
      "\n",
      "Classification Report:\n",
      "                     precision    recall  f1-score   support\n",
      "\n",
      "             Caries       0.96      0.98      0.97       520\n",
      "           Calculus       0.70      0.65      0.67       259\n",
      "         Gingivitis       0.81      0.84      0.83       468\n",
      "Tooth Discoloration       0.97      0.98      0.97       404\n",
      "             Ulcers       0.99      0.99      0.99       561\n",
      "         Hypodontia       0.98      0.78      0.87        69\n",
      "\n",
      "           accuracy                           0.91      2281\n",
      "          macro avg       0.90      0.87      0.89      2281\n",
      "       weighted avg       0.91      0.91      0.91      2281\n",
      "\n"
     ]
    },
    {
     "data": {
      "image/png": "[encoded data removed]",
      "text/plain": [
       "<Figure size 1000x800 with 2 Axes>"
      ]
     },
     "metadata": {},
     "output_type": "display_data"
    },
    {
     "name": "stdout",
     "output_type": "stream",
     "text": [
      "Training completed!\n",
      "Best validation accuracy: 92.05%\n",
      "Final test accuracy: 91.19%\n",
      "Model saved as 'oral_disease_model_final.pth'\n",
      "Class mapping saved as 'class_mapping.json'\n",
      "Training history saved as 'training_history.pkl'\n"
     ]
    }
   ],
   "source": [
    "import torch\n",
    "import torch.nn as nn\n",
    "import torch.optim as optim\n",
    "from torch.utils.data import Dataset, DataLoader\n",
    "import torchvision.transforms as transforms\n",
    "from torchvision import models\n",
    "import os\n",
    "import cv2\n",
    "import numpy as np\n",
    "from PIL import Image\n",
    "import glob\n",
    "from sklearn.model_selection import train_test_split\n",
    "from sklearn.metrics import accuracy_score, classification_report, confusion_matrix\n",
    "import matplotlib.pyplot as plt\n",
    "import seaborn as sns\n",
    "from tqdm import tqdm\n",
    "import pickle\n",
    "import json\n",
    "\n",
    "# Check if CUDA is available\n",
    "device = torch.device('cuda' if torch.cuda.is_available() else 'cpu')\n",
    "print(f\"Using device: {device}\")\n",
    "\n",
    "class OralDiseaseDataset(Dataset):\n",
    "    def __init__(self, image_paths, labels, transform=None):\n",
    "        self.image_paths = image_paths\n",
    "        self.labels = labels\n",
    "        self.transform = transform\n",
    "        \n",
    "    def __len__(self):\n",
    "        return len(self.image_paths)\n",
    "    \n",
    "    def __getitem__(self, idx):\n",
    "        image_path = self.image_paths[idx]\n",
    "        label = self.labels[idx]\n",
    "        \n",
    "        # Load image\n",
    "        try:\n",
    "            image = Image.open(image_path).convert('RGB')\n",
    "        except Exception as e:\n",
    "            print(f\"Error loading image {image_path}: {e}\")\n",
    "            # Return a black image as fallback\n",
    "            image = Image.new('RGB', (224, 224), (0, 0, 0))\n",
    "        \n",
    "        if self.transform:\n",
    "            image = self.transform(image)\n",
    "            \n",
    "        return image, label\n",
    "\n",
    "class EarlyStopping:\n",
    "    def __init__(self, patience=5, min_delta=0.001, restore_best_weights=True):\n",
    "        self.patience = patience\n",
    "        self.min_delta = min_delta\n",
    "        self.restore_best_weights = restore_best_weights\n",
    "        self.best_acc = 0\n",
    "        self.counter = 0\n",
    "        self.best_weights = None\n",
    "        \n",
    "    def __call__(self, val_acc, model):\n",
    "        if val_acc > self.best_acc + self.min_delta:\n",
    "            self.best_acc = val_acc\n",
    "            self.counter = 0\n",
    "            if self.restore_best_weights:\n",
    "                self.best_weights = model.state_dict().copy()\n",
    "        else:\n",
    "            self.counter += 1\n",
    "            \n",
    "        if self.counter >= self.patience:\n",
    "            if self.restore_best_weights and self.best_weights:\n",
    "                model.load_state_dict(self.best_weights)\n",
    "            return True\n",
    "        return False\n",
    "\n",
    "class OralDiseaseClassifier(nn.Module):\n",
    "    def __init__(self, num_classes=6, pretrained=True):\n",
    "        super(OralDiseaseClassifier, self).__init__()\n",
    "        \n",
    "        # Use ResNet50 as backbone\n",
    "        self.backbone = models.resnet50(pretrained=pretrained)\n",
    "        \n",
    "        # Replace the final fully connected layer\n",
    "        num_features = self.backbone.fc.in_features\n",
    "        self.backbone.fc = nn.Sequential(\n",
    "            nn.Dropout(0.5),\n",
    "            nn.Linear(num_features, 512),\n",
    "            nn.ReLU(),\n",
    "            nn.Dropout(0.3),\n",
    "            nn.Linear(512, num_classes)\n",
    "        )\n",
    "        \n",
    "    def forward(self, x):\n",
    "        return self.backbone(x)\n",
    "        \n",
    "def load_dataset(base_path):\n",
    "    \"\"\"Load dataset from the given directory structure\"\"\"\n",
    "    \n",
    "    # Define class mapping\n",
    "    class_mapping = {\n",
    "        'Caries': 0,\n",
    "        'Calculus': 1,\n",
    "        'Gingivitis': 2,\n",
    "        'Tooth Discoloration': 3,\n",
    "        'Ulcers': 4,\n",
    "        'Hypodontia': 5\n",
    "    }\n",
    "    \n",
    "    image_paths = []\n",
    "    labels = []\n",
    "    \n",
    "    print(\"Loading dataset...\")\n",
    "    \n",
    "    # Load Calculus images\n",
    "    calculus_path = os.path.join(base_path, \"Calculus\", \"Calculus\")\n",
    "    if os.path.exists(calculus_path):\n",
    "        calculus_images = glob.glob(os.path.join(calculus_path, \"*.jpg\"))\n",
    "        image_paths.extend(calculus_images)\n",
    "        labels.extend([class_mapping['Calculus']] * len(calculus_images))\n",
    "        print(f\"Loaded {len(calculus_images)} Calculus images\")\n",
    "    \n",
    "    # Load Caries images (from original and augmented datasets)\n",
    "    caries_original_path = os.path.join(base_path, \"Data caries\", \"Data caries\", \"caries orignal data set\", \"done\")\n",
    "    if os.path.exists(caries_original_path):\n",
    "        caries_images = glob.glob(os.path.join(caries_original_path, \"*.jpg\"))\n",
    "        image_paths.extend(caries_images)\n",
    "        labels.extend([class_mapping['Caries']] * len(caries_images))\n",
    "        print(f\"Loaded {len(caries_images)} Caries original images\")\n",
    "    \n",
    "    caries_aug_path = os.path.join(base_path, \"Data caries\", \"Data caries\", \"caries augmented data set\", \"preview\")\n",
    "    if os.path.exists(caries_aug_path):\n",
    "        caries_aug_images = glob.glob(os.path.join(caries_aug_path, \"*.jpeg\"))\n",
    "        image_paths.extend(caries_aug_images)\n",
    "        labels.extend([class_mapping['Caries']] * len(caries_aug_images))\n",
    "        print(f\"Loaded {len(caries_aug_images)} Caries augmented images\")\n",
    "    \n",
    "    # Load Gingivitis images\n",
    "    gingivitis_path = os.path.join(base_path, \"Gingivitis\", \"Gingivitis\")\n",
    "    if os.path.exists(gingivitis_path):\n",
    "        gingivitis_images = glob.glob(os.path.join(gingivitis_path, \"*.jpg\"))\n",
    "        image_paths.extend(gingivitis_images)\n",
    "        labels.extend([class_mapping['Gingivitis']] * len(gingivitis_images))\n",
    "        print(f\"Loaded {len(gingivitis_images)} Gingivitis images\")\n",
    "    \n",
    "    # Load Tooth Discoloration images\n",
    "    discolor_original_path = os.path.join(base_path, \"Tooth Discoloration\", \"Tooth Discoloration \", \"tooth discoloration original dataset\", \"tooth discoloration original dataset\")\n",
    "    if os.path.exists(discolor_original_path):\n",
    "        discolor_images = glob.glob(os.path.join(discolor_original_path, \"*.jpg\"))\n",
    "        image_paths.extend(discolor_images)\n",
    "        labels.extend([class_mapping['Tooth Discoloration']] * len(discolor_images))\n",
    "        print(f\"Loaded {len(discolor_images)} Tooth Discoloration original images\")\n",
    "    \n",
    "    discolor_aug_path = os.path.join(base_path, \"Tooth Discoloration\", \"Tooth Discoloration \", \"Tooth_discoloration_augmented_dataser\", \"preview\")\n",
    "    if os.path.exists(discolor_aug_path):\n",
    "        discolor_aug_images = glob.glob(os.path.join(discolor_aug_path, \"*.jpeg\"))\n",
    "        image_paths.extend(discolor_aug_images)\n",
    "        labels.extend([class_mapping['Tooth Discoloration']] * len(discolor_aug_images))\n",
    "        print(f\"Loaded {len(discolor_aug_images)} Tooth Discoloration augmented images\")\n",
    "    \n",
    "    # Load Ulcers images\n",
    "    ulcer_original_path = os.path.join(base_path, \"Mouth Ulcer\", \"Mouth Ulcer\", \"ulcer original dataset\", \"ulcer original dataset\")\n",
    "    if os.path.exists(ulcer_original_path):\n",
    "        ulcer_images = glob.glob(os.path.join(ulcer_original_path, \"*.jpg\"))\n",
    "        image_paths.extend(ulcer_images)\n",
    "        labels.extend([class_mapping['Ulcers']] * len(ulcer_images))\n",
    "        print(f\"Loaded {len(ulcer_images)} Ulcers original images\")\n",
    "    \n",
    "    ulcer_aug_path = os.path.join(base_path, \"Mouth Ulcer\", \"Mouth Ulcer\", \"Mouth_Ulcer_augmented_DataSet\", \"preview\")\n",
    "    if os.path.exists(ulcer_aug_path):\n",
    "        ulcer_aug_images = glob.glob(os.path.join(ulcer_aug_path, \"*.jpeg\"))\n",
    "        image_paths.extend(ulcer_aug_images)\n",
    "        labels.extend([class_mapping['Ulcers']] * len(ulcer_aug_images))\n",
    "        print(f\"Loaded {len(ulcer_aug_images)} Ulcers augmented images\")\n",
    "    \n",
    "    # Load Hypodontia images\n",
    "    hypodontia_path = os.path.join(base_path, \"hypodontia\", \"hypodontia\")\n",
    "    if os.path.exists(hypodontia_path):\n",
    "        hypodontia_images = glob.glob(os.path.join(hypodontia_path, \"*.jpg\"))\n",
    "        image_paths.extend(hypodontia_images)\n",
    "        labels.extend([class_mapping['Hypodontia']] * len(hypodontia_images))\n",
    "        print(f\"Loaded {len(hypodontia_images)} Hypodontia images\")\n",
    "    \n",
    "    print(f\"Total images loaded: {len(image_paths)}\")\n",
    "    print(f\"Class distribution: {dict(zip(class_mapping.keys(), [labels.count(i) for i in range(6)]))}\")\n",
    "    \n",
    "    return image_paths, labels, class_mapping\n",
    "    \n",
    "def create_data_transforms():\n",
    "    \"\"\"Create data transformations for training and validation\"\"\"\n",
    "    \n",
    "    train_transform = transforms.Compose([\n",
    "        transforms.Resize((256, 256)),\n",
    "        transforms.RandomCrop(224),\n",
    "        transforms.RandomHorizontalFlip(p=0.5),\n",
    "        transforms.RandomRotation(15),\n",
    "        transforms.ColorJitter(brightness=0.2, contrast=0.2, saturation=0.2, hue=0.1),\n",
    "        transforms.ToTensor(),\n",
    "        transforms.Normalize(mean=[0.485, 0.456, 0.406], std=[0.229, 0.224, 0.225])\n",
    "    ])\n",
    "    \n",
    "    val_transform = transforms.Compose([\n",
    "        transforms.Resize((224, 224)),\n",
    "        transforms.ToTensor(),\n",
    "        transforms.Normalize(mean=[0.485, 0.456, 0.406], std=[0.229, 0.224, 0.225])\n",
    "    ])\n",
    "    \n",
    "    return train_transform, val_transform\n",
    "\n",
    "def train_model(model, train_loader, val_loader, num_epochs=50, learning_rate=0.001):\n",
    "    \"\"\"Train the model with early stopping\"\"\"\n",
    "    \n",
    "    criterion = nn.CrossEntropyLoss()\n",
    "    optimizer = optim.Adam(model.parameters(), lr=learning_rate, weight_decay=1e-4)\n",
    "    scheduler = optim.lr_scheduler.ReduceLROnPlateau(optimizer, mode='max', factor=0.5, patience=3)\n",
    "    \n",
    "    # Early stopping\n",
    "    early_stopping = EarlyStopping(patience=5, min_delta=0.001)\n",
    "    \n",
    "    # Training history\n",
    "    train_losses = []\n",
    "    train_accuracies = []\n",
    "    val_losses = []\n",
    "    val_accuracies = []\n",
    "    \n",
    "    best_val_acc = 0.0\n",
    "    \n",
    "    for epoch in range(num_epochs):\n",
    "        # Training phase\n",
    "        model.train()\n",
    "        running_loss = 0.0\n",
    "        correct_train = 0\n",
    "        total_train = 0\n",
    "        \n",
    "        train_pbar = tqdm(train_loader, desc=f'Epoch {epoch+1}/{num_epochs} - Training')\n",
    "        for images, labels in train_pbar:\n",
    "            images, labels = images.to(device), labels.to(device)\n",
    "            \n",
    "            optimizer.zero_grad()\n",
    "            outputs = model(images)\n",
    "            loss = criterion(outputs, labels)\n",
    "            loss.backward()\n",
    "            optimizer.step()\n",
    "            \n",
    "            running_loss += loss.item()\n",
    "            _, predicted = torch.max(outputs.data, 1)\n",
    "            total_train += labels.size(0)\n",
    "            correct_train += (predicted == labels).sum().item()\n",
    "            \n",
    "            train_pbar.set_postfix({\n",
    "                'Loss': f'{loss.item():.4f}',\n",
    "                'Acc': f'{100.*correct_train/total_train:.2f}%'\n",
    "            })\n",
    "        \n",
    "        train_loss = running_loss / len(train_loader)\n",
    "        train_acc = 100. * correct_train / total_train\n",
    "        \n",
    "        # Validation phase\n",
    "        model.eval()\n",
    "        val_running_loss = 0.0\n",
    "        correct_val = 0\n",
    "        total_val = 0\n",
    "        all_val_preds = []\n",
    "        all_val_labels = []\n",
    "        \n",
    "        with torch.no_grad():\n",
    "            val_pbar = tqdm(val_loader, desc=f'Epoch {epoch+1}/{num_epochs} - Validation')\n",
    "            for images, labels in val_pbar:\n",
    "                images, labels = images.to(device), labels.to(device)\n",
    "                \n",
    "                outputs = model(images)\n",
    "                loss = criterion(outputs, labels)\n",
    "                \n",
    "                val_running_loss += loss.item()\n",
    "                _, predicted = torch.max(outputs, 1)\n",
    "                total_val += labels.size(0)\n",
    "                correct_val += (predicted == labels).sum().item()\n",
    "                \n",
    "                all_val_preds.extend(predicted.cpu().numpy())\n",
    "                all_val_labels.extend(labels.cpu().numpy())\n",
    "                \n",
    "                val_pbar.set_postfix({\n",
    "                    'Loss': f'{loss.item():.4f}',\n",
    "                    'Acc': f'{100.*correct_val/total_val:.2f}%'\n",
    "                })\n",
    "        \n",
    "        val_loss = val_running_loss / len(val_loader)\n",
    "        val_acc = 100. * correct_val / total_val\n",
    "        \n",
    "        # Update learning rate scheduler\n",
    "        scheduler.step(val_acc)\n",
    "        \n",
    "        # Store metrics\n",
    "        train_losses.append(train_loss)\n",
    "        train_accuracies.append(train_acc)\n",
    "        val_losses.append(val_loss)\n",
    "        val_accuracies.append(val_acc)\n",
    "        \n",
    "        print(f'Epoch [{epoch+1}/{num_epochs}]')\n",
    "        print(f'Train Loss: {train_loss:.4f}, Train Acc: {train_acc:.2f}%')\n",
    "        print(f'Val Loss: {val_loss:.4f}, Val Acc: {val_acc:.2f}%')\n",
    "        print(f'Learning Rate: {optimizer.param_groups[0][\"lr\"]:.6f}')\n",
    "        print('-' * 50)\n",
    "        \n",
    "        # Save best model\n",
    "        if val_acc > best_val_acc:\n",
    "            best_val_acc = val_acc\n",
    "            torch.save({\n",
    "                'epoch': epoch,\n",
    "                'model_state_dict': model.state_dict(),\n",
    "                'optimizer_state_dict': optimizer.state_dict(),\n",
    "                'val_acc': val_acc,\n",
    "                'train_acc': train_acc\n",
    "            }, 'best_oral_disease_model.pth')\n",
    "        \n",
    "        # Early stopping check\n",
    "        if early_stopping(val_acc, model):\n",
    "            print(f'Early stopping triggered after epoch {epoch+1}')\n",
    "            break\n",
    "    \n",
    "    return {\n",
    "        'train_losses': train_losses,\n",
    "        'train_accuracies': train_accuracies,\n",
    "        'val_losses': val_losses,\n",
    "        'val_accuracies': val_accuracies,\n",
    "        'best_val_acc': best_val_acc\n",
    "    }\n",
    "\n",
    "def plot_training_history(history):\n",
    "    \"\"\"Plot training history\"\"\"\n",
    "    fig, ((ax1, ax2)) = plt.subplots(1, 2, figsize=(15, 5))\n",
    "    \n",
    "    # Plot losses\n",
    "    ax1.plot(history['train_losses'], label='Training Loss')\n",
    "    ax1.plot(history['val_losses'], label='Validation Loss')\n",
    "    ax1.set_title('Model Loss')\n",
    "    ax1.set_xlabel('Epoch')\n",
    "    ax1.set_ylabel('Loss')\n",
    "    ax1.legend()\n",
    "    \n",
    "    # Plot accuracies\n",
    "    ax2.plot(history['train_accuracies'], label='Training Accuracy')\n",
    "    ax2.plot(history['val_accuracies'], label='Validation Accuracy')\n",
    "    ax2.set_title('Model Accuracy')\n",
    "    ax2.set_xlabel('Epoch')\n",
    "    ax2.set_ylabel('Accuracy (%)')\n",
    "    ax2.legend()\n",
    "    \n",
    "    plt.tight_layout()\n",
    "    plt.savefig('training_history.png', dpi=300, bbox_inches='tight')\n",
    "    plt.show()\n",
    "\n",
    "def evaluate_model(model, test_loader, class_names):\n",
    "    \"\"\"Evaluate the model and create confusion matrix\"\"\"\n",
    "    model.eval()\n",
    "    all_preds = []\n",
    "    all_labels = []\n",
    "    \n",
    "    with torch.no_grad():\n",
    "        for images, labels in tqdm(test_loader, desc='Evaluating'):\n",
    "            images, labels = images.to(device), labels.to(device)\n",
    "            outputs = model(images)\n",
    "            _, predicted = torch.max(outputs, 1)\n",
    "            \n",
    "            all_preds.extend(predicted.cpu().numpy())\n",
    "            all_labels.extend(labels.cpu().numpy())\n",
    "    \n",
    "    # Calculate accuracy\n",
    "    accuracy = accuracy_score(all_labels, all_preds)\n",
    "    print(f'Test Accuracy: {accuracy*100:.2f}%')\n",
    "    \n",
    "    # Classification report\n",
    "    print('\\nClassification Report:')\n",
    "    print(classification_report(all_labels, all_preds, target_names=class_names))\n",
    "    \n",
    "    # Confusion matrix\n",
    "    cm = confusion_matrix(all_labels, all_preds)\n",
    "    plt.figure(figsize=(10, 8))\n",
    "    sns.heatmap(cm, annot=True, fmt='d', cmap='Blues', \n",
    "                xticklabels=class_names, yticklabels=class_names)\n",
    "    plt.title('Confusion Matrix')\n",
    "    plt.ylabel('True Label')\n",
    "    plt.xlabel('Predicted Label')\n",
    "    plt.savefig('confusion_matrix.png', dpi=300, bbox_inches='tight')\n",
    "    plt.show()\n",
    "    \n",
    "    return accuracy\n",
    "\n",
    "def main():\n",
    "    # Configuration\n",
    "    BASE_PATH = \"/kaggle/input/oral-diseases\"\n",
    "    BATCH_SIZE = 32\n",
    "    NUM_EPOCHS = 50\n",
    "    LEARNING_RATE = 0.001\n",
    "    \n",
    "    # Load dataset\n",
    "    image_paths, labels, class_mapping = load_dataset(BASE_PATH)\n",
    "    \n",
    "    if len(image_paths) == 0:\n",
    "        print(\"No images found! Please check the dataset path.\")\n",
    "        return\n",
    "    \n",
    "    # Create reverse mapping for class names\n",
    "    class_names = list(class_mapping.keys())\n",
    "    \n",
    "    # Split dataset\n",
    "    X_train, X_test, y_train, y_test = train_test_split(\n",
    "        image_paths, labels, test_size=0.2, random_state=42, stratify=labels\n",
    "    )\n",
    "    \n",
    "    X_train, X_val, y_train, y_val = train_test_split(\n",
    "        X_train, y_train, test_size=0.2, random_state=42, stratify=y_train\n",
    "    )\n",
    "    \n",
    "    print(f\"Training samples: {len(X_train)}\")\n",
    "    print(f\"Validation samples: {len(X_val)}\")\n",
    "    print(f\"Test samples: {len(X_test)}\")\n",
    "    \n",
    "    # Create data transforms\n",
    "    train_transform, val_transform = create_data_transforms()\n",
    "    \n",
    "    # Create datasets\n",
    "    train_dataset = OralDiseaseDataset(X_train, y_train, transform=train_transform)\n",
    "    val_dataset = OralDiseaseDataset(X_val, y_val, transform=val_transform)\n",
    "    test_dataset = OralDiseaseDataset(X_test, y_test, transform=val_transform)\n",
    "    \n",
    "    # Create data loaders\n",
    "    train_loader = DataLoader(train_dataset, batch_size=BATCH_SIZE, shuffle=True, num_workers=4)\n",
    "    val_loader = DataLoader(val_dataset, batch_size=BATCH_SIZE, shuffle=False, num_workers=4)\n",
    "    test_loader = DataLoader(test_dataset, batch_size=BATCH_SIZE, shuffle=False, num_workers=4)\n",
    "    \n",
    "    # Create model\n",
    "    model = OralDiseaseClassifier(num_classes=len(class_mapping))\n",
    "    model = model.to(device)\n",
    "    \n",
    "    print(f\"Model created with {sum(p.numel() for p in model.parameters())} parameters\")\n",
    "    \n",
    "    # Train model\n",
    "    print(\"Starting training...\")\n",
    "    history = train_model(model, train_loader, val_loader, NUM_EPOCHS, LEARNING_RATE)\n",
    "    \n",
    "    # Plot training history\n",
    "    plot_training_history(history)\n",
    "    \n",
    "    # Load best model for evaluation\n",
    "    checkpoint = torch.load('best_oral_disease_model.pth')\n",
    "    model.load_state_dict(checkpoint['model_state_dict'])\n",
    "    \n",
    "    # Evaluate on test set\n",
    "    print(\"Evaluating on test set...\")\n",
    "    test_accuracy = evaluate_model(model, test_loader, class_names)\n",
    "    \n",
    "    # Save final model and metadata\n",
    "    torch.save({\n",
    "        'model_state_dict': model.state_dict(),\n",
    "        'class_mapping': class_mapping,\n",
    "        'class_names': class_names,\n",
    "        'model_architecture': 'ResNet50',\n",
    "        'test_accuracy': test_accuracy,\n",
    "        'training_history': history\n",
    "    }, '/kaggle/working/oral_disease_model_final.pth')\n",
    "    \n",
    "    # Save class mapping as JSON\n",
    "    with open('class_mapping.json', 'w') as f:\n",
    "        json.dump(class_mapping, f, indent=2)\n",
    "    \n",
    "    # Save training history as pickle\n",
    "    with open('training_history.pkl', 'wb') as f:\n",
    "        pickle.dump(history, f)\n",
    "    \n",
    "    print(\"Training completed!\")\n",
    "    print(f\"Best validation accuracy: {history['best_val_acc']:.2f}%\")\n",
    "    print(f\"Final test accuracy: {test_accuracy*100:.2f}%\")\n",
    "    print(\"Model saved as 'oral_disease_model_final.pth'\")\n",
    "    print(\"Class mapping saved as 'class_mapping.json'\")\n",
    "    print(\"Training history saved as 'training_history.pkl'\")\n",
    "\n",
    "if __name__ == \"__main__\":\n",
    "    main()"
   ]
  }
 ],
 "metadata": {
  "kaggle": {
   "accelerator": "gpu",
   "dataSources": [
    {
     "datasetId": 2729190,
     "sourceId": 8019084,
     "sourceType": "datasetVersion"
    }
   ],
   "isGpuEnabled": true,
   "isInternetEnabled": true,
   "language": "python",
   "sourceType": "notebook"
  },
  "kernelspec": {
   "display_name": "Python 3",
   "language": "python",
   "name": "python3"
  },
  "language_info": {
   "codemirror_mode": {
    "name": "ipython",
    "version": 3
   },
   "file_extension": ".py",
   "mimetype": "text/x-python",
   "name": "python",
   "nbconvert_exporter": "python",
   "pygments_lexer": "ipython3",
   "version": "3.11.11"
  },
  "papermill": {
   "default_parameters": {},
   "duration": 2422.786579,
   "end_time": "2025-06-28T02:28:24.618927",
   "environment_variables": {},
   "exception": null,
   "input_path": "__notebook__.ipynb",
   "output_path": "__notebook__.ipynb",
   "parameters": {},
   "start_time": "2025-06-28T01:48:01.832348",
   "version": "2.6.0"
  }
 },
 "nbformat": 4,
 "nbformat_minor": 5
}
