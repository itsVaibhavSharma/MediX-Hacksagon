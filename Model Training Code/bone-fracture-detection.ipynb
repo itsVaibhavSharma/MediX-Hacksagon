{
 "cells": [
  {
   "cell_type": "code",
   "execution_count": 1,
   "id": "8605afd6",
   "metadata": {
    "_cell_guid": "b1076dfc-b9ad-4769-8c92-a6c4dae69d19",
    "_uuid": "8f2839f25d086af736a60e9eeb907d3b93b6e0e5",
    "execution": {
     "iopub.execute_input": "2025-06-27T22:22:50.256615Z",
     "iopub.status.busy": "2025-06-27T22:22:50.256345Z",
     "iopub.status.idle": "2025-06-27T23:03:51.105395Z",
     "shell.execute_reply": "2025-06-27T23:03:51.104508Z"
    },
    "papermill": {
     "duration": 2460.853589,
     "end_time": "2025-06-27T23:03:51.106592",
     "exception": false,
     "start_time": "2025-06-27T22:22:50.253003",
     "status": "completed"
    },
    "tags": []
   },
   "outputs": [
    {
     "name": "stdout",
     "output_type": "stream",
     "text": [
      "Using device: cuda\n",
      "============================================================\n",
      "BONE FRACTURE DETECTION - PRODUCTION PIPELINE\n",
      "============================================================\n",
      "CUDA is available. Using GPU: Tesla P100-PCIE-16GB\n",
      "\n",
      "Loading datasets...\n",
      "Loaded 9246 images for train split\n",
      "Fractured: 4606, Not Fractured: 4640\n",
      "Loaded 829 images for val split\n",
      "Fractured: 337, Not Fractured: 492\n",
      "Loaded 506 images for test split\n",
      "Fractured: 238, Not Fractured: 268\n",
      "\n",
      "Initializing model...\n"
     ]
    },
    {
     "name": "stderr",
     "output_type": "stream",
     "text": [
      "Downloading: \"https://download.pytorch.org/models/resnet50-0676ba61.pth\" to /root/.cache/torch/hub/checkpoints/resnet50-0676ba61.pth\n",
      "100%|██████████| 97.8M/97.8M [00:00<00:00, 185MB/s]\n"
     ]
    },
    {
     "name": "stdout",
     "output_type": "stream",
     "text": [
      "Total parameters: 24,558,146\n",
      "Trainable parameters: 24,558,146\n",
      "\n",
      "Starting training...\n"
     ]
    },
    {
     "name": "stderr",
     "output_type": "stream",
     "text": [
      "Epoch 1/50 [Train]:  15%|█▍        | 42/289 [00:09<00:45,  5.44it/s, Loss=0.5595, Acc=65.70%]"
     ]
    },
    {
     "name": "stdout",
     "output_type": "stream",
     "text": [
      "Warning: Corrupted image /kaggle/input/bone-fracture-multi-region-x-ray-data/Bone_Fracture_Binary_Classification/Bone_Fracture_Binary_Classification/train/not fractured/IMG0004134.jpg: image file is truncated (1 bytes not processed)\n",
      "Using black placeholder image\n"
     ]
    },
    {
     "name": "stderr",
     "output_type": "stream",
     "text": [
      "Epoch 1/50 [Train]:  20%|█▉        | 57/289 [00:12<00:42,  5.47it/s, Loss=0.4614, Acc=67.00%]"
     ]
    },
    {
     "name": "stdout",
     "output_type": "stream",
     "text": [
      "Warning: Corrupted image /kaggle/input/bone-fracture-multi-region-x-ray-data/Bone_Fracture_Binary_Classification/Bone_Fracture_Binary_Classification/train/not fractured/IMG0004143.jpg: image file is truncated (10 bytes not processed)\n",
      "Using black placeholder image\n"
     ]
    },
    {
     "name": "stderr",
     "output_type": "stream",
     "text": [
      "Epoch 1/50 [Train]:  28%|██▊       | 80/289 [00:16<00:38,  5.48it/s, Loss=0.5976, Acc=69.34%]"
     ]
    },
    {
     "name": "stdout",
     "output_type": "stream",
     "text": [
      "Warning: Corrupted image /kaggle/input/bone-fracture-multi-region-x-ray-data/Bone_Fracture_Binary_Classification/Bone_Fracture_Binary_Classification/train/not fractured/IMG0004149.jpg: image file is truncated (33 bytes not processed)\n",
      "Using black placeholder image\n"
     ]
    },
    {
     "name": "stderr",
     "output_type": "stream",
     "text": [
      "Epoch 1/50 [Train]:  35%|███▌      | 102/289 [00:20<00:34,  5.43it/s, Loss=0.4876, Acc=71.05%]"
     ]
    },
    {
     "name": "stdout",
     "output_type": "stream",
     "text": [
      "Warning: Corrupted image /kaggle/input/bone-fracture-multi-region-x-ray-data/Bone_Fracture_Binary_Classification/Bone_Fracture_Binary_Classification/train/not fractured/IMG0004148.jpg: image file is truncated (14 bytes not processed)\n",
      "Using black placeholder image\n"
     ]
    },
    {
     "name": "stderr",
     "output_type": "stream",
     "text": [
      "Epoch 1/50 [Train]:  64%|██████▍   | 186/289 [00:35<00:18,  5.48it/s, Loss=0.4364, Acc=74.24%]"
     ]
    },
    {
     "name": "stdout",
     "output_type": "stream",
     "text": [
      "Warning: Corrupted image /kaggle/input/bone-fracture-multi-region-x-ray-data/Bone_Fracture_Binary_Classification/Bone_Fracture_Binary_Classification/train/not fractured/IMG0004308.jpg: image file is truncated (40 bytes not processed)\n",
      "Using black placeholder image\n"
     ]
    },
    {
     "name": "stderr",
     "output_type": "stream",
     "text": [
      "Epoch 1/50 [Train]:  95%|█████████▍| 274/289 [00:51<00:02,  5.47it/s, Loss=0.4379, Acc=76.72%]"
     ]
    },
    {
     "name": "stdout",
     "output_type": "stream",
     "text": [
      "Warning: Corrupted image /kaggle/input/bone-fracture-multi-region-x-ray-data/Bone_Fracture_Binary_Classification/Bone_Fracture_Binary_Classification/train/not fractured/IMG0004347.jpg: image file is truncated (40 bytes not processed)\n",
      "Using black placeholder image\n"
     ]
    },
    {
     "name": "stderr",
     "output_type": "stream",
     "text": [
      "Epoch 1/50 [Train]: 100%|██████████| 289/289 [00:54<00:00,  5.29it/s, Loss=0.4843, Acc=76.38%]\n",
      "Epoch 1/50 [Val]:  35%|███▍      | 9/26 [00:02<00:03,  4.75it/s, Loss=0.1571, Acc=86.81%]"
     ]
    },
    {
     "name": "stdout",
     "output_type": "stream",
     "text": [
      "Warning: Corrupted image /kaggle/input/bone-fracture-multi-region-x-ray-data/Bone_Fracture_Binary_Classification/Bone_Fracture_Binary_Classification/val/not fractured/IMG0004134.jpg: image file is truncated (1 bytes not processed)\n",
      "Using black placeholder image\n"
     ]
    },
    {
     "name": "stderr",
     "output_type": "stream",
     "text": [
      "Epoch 1/50 [Val]:  35%|███▍      | 9/26 [00:02<00:03,  4.75it/s, Loss=0.2773, Acc=86.56%]"
     ]
    },
    {
     "name": "stdout",
     "output_type": "stream",
     "text": [
      "Warning: Corrupted image /kaggle/input/bone-fracture-multi-region-x-ray-data/Bone_Fracture_Binary_Classification/Bone_Fracture_Binary_Classification/val/not fractured/IMG0004347.jpg: image file is truncated (40 bytes not processed)\n",
      "Using black placeholder image\n",
      "Warning: Corrupted image /kaggle/input/bone-fracture-multi-region-x-ray-data/Bone_Fracture_Binary_Classification/Bone_Fracture_Binary_Classification/val/not fractured/IMG0004148.jpg: image file is truncated (14 bytes not processed)\n",
      "Using black placeholder image\n"
     ]
    },
    {
     "name": "stderr",
     "output_type": "stream",
     "text": [
      "Epoch 1/50 [Val]:  50%|█████     | 13/26 [00:03<00:02,  5.73it/s, Loss=1.7223, Acc=70.76%]"
     ]
    },
    {
     "name": "stdout",
     "output_type": "stream",
     "text": [
      "Warning: Corrupted image /kaggle/input/bone-fracture-multi-region-x-ray-data/Bone_Fracture_Binary_Classification/Bone_Fracture_Binary_Classification/val/not fractured/IMG0004143.jpg: image file is truncated (10 bytes not processed)\n",
      "Using black placeholder image\n",
      "Warning: Corrupted image /kaggle/input/bone-fracture-multi-region-x-ray-data/Bone_Fracture_Binary_Classification/Bone_Fracture_Binary_Classification/val/not fractured/IMG0004308.jpg: image file is truncated (40 bytes not processed)\n",
      "Using black placeholder image\n"
     ]
    },
    {
     "name": "stderr",
     "output_type": "stream",
     "text": [
      "Epoch 1/50 [Val]:  58%|█████▊    | 15/26 [00:03<00:02,  5.03it/s, Loss=1.5869, Acc=67.50%]"
     ]
    },
    {
     "name": "stdout",
     "output_type": "stream",
     "text": [
      "Warning: Corrupted image /kaggle/input/bone-fracture-multi-region-x-ray-data/Bone_Fracture_Binary_Classification/Bone_Fracture_Binary_Classification/val/not fractured/IMG0004149.jpg: image file is truncated (33 bytes not processed)\n",
      "Using black placeholder image\n"
     ]
    },
    {
     "name": "stderr",
     "output_type": "stream",
     "text": [
      "Epoch 1/50 [Val]: 100%|██████████| 26/26 [00:05<00:00,  5.09it/s, Loss=1.9491, Acc=49.34%]\n"
     ]
    },
    {
     "name": "stdout",
     "output_type": "stream",
     "text": [
      "Epoch 1/50:\n",
      "Train Loss: 0.4936, Train Acc: 76.38%\n",
      "Val Loss: 1.0903, Val Acc: 49.34%\n",
      "Learning Rate: 0.001000\n",
      "------------------------------------------------------------\n",
      "New best model saved with validation accuracy: 49.34%\n"
     ]
    },
    {
     "name": "stderr",
     "output_type": "stream",
     "text": [
      "Epoch 2/50 [Train]:  22%|██▏       | 65/289 [00:12<00:41,  5.46it/s, Loss=0.2599, Acc=83.65%]"
     ]
    },
    {
     "name": "stdout",
     "output_type": "stream",
     "text": [
      "Warning: Corrupted image /kaggle/input/bone-fracture-multi-region-x-ray-data/Bone_Fracture_Binary_Classification/Bone_Fracture_Binary_Classification/train/not fractured/IMG0004149.jpg: image file is truncated (33 bytes not processed)\n",
      "Using black placeholder image\n"
     ]
    },
    {
     "name": "stderr",
     "output_type": "stream",
     "text": [
      "Epoch 2/50 [Train]:  31%|███       | 90/289 [00:16<00:36,  5.45it/s, Loss=0.1273, Acc=84.58%]"
     ]
    },
    {
     "name": "stdout",
     "output_type": "stream",
     "text": [
      "Warning: Corrupted image /kaggle/input/bone-fracture-multi-region-x-ray-data/Bone_Fracture_Binary_Classification/Bone_Fracture_Binary_Classification/train/not fractured/IMG0004143.jpg: image file is truncated (10 bytes not processed)\n",
      "Using black placeholder image\n"
     ]
    },
    {
     "name": "stderr",
     "output_type": "stream",
     "text": [
      "Epoch 2/50 [Train]:  35%|███▌      | 102/289 [00:19<00:34,  5.48it/s, Loss=0.4950, Acc=84.77%]"
     ]
    },
    {
     "name": "stdout",
     "output_type": "stream",
     "text": [
      "Warning: Corrupted image /kaggle/input/bone-fracture-multi-region-x-ray-data/Bone_Fracture_Binary_Classification/Bone_Fracture_Binary_Classification/train/not fractured/IMG0004308.jpg: image file is truncated (40 bytes not processed)\n",
      "Using black placeholder image\n"
     ]
    },
    {
     "name": "stderr",
     "output_type": "stream",
     "text": [
      "Epoch 2/50 [Train]:  67%|██████▋   | 194/289 [00:36<00:17,  5.45it/s, Loss=0.1711, Acc=86.37%]"
     ]
    },
    {
     "name": "stdout",
     "output_type": "stream",
     "text": [
      "Warning: Corrupted image /kaggle/input/bone-fracture-multi-region-x-ray-data/Bone_Fracture_Binary_Classification/Bone_Fracture_Binary_Classification/train/not fractured/IMG0004347.jpg: image file is truncated (40 bytes not processed)\n",
      "Using black placeholder image\n"
     ]
    },
    {
     "name": "stderr",
     "output_type": "stream",
     "text": [
      "Epoch 2/50 [Train]:  78%|███████▊  | 225/289 [00:41<00:11,  5.46it/s, Loss=0.4825, Acc=87.10%]"
     ]
    },
    {
     "name": "stdout",
     "output_type": "stream",
     "text": [
      "Warning: Corrupted image /kaggle/input/bone-fracture-multi-region-x-ray-data/Bone_Fracture_Binary_Classification/Bone_Fracture_Binary_Classification/train/not fractured/IMG0004134.jpg: image file is truncated (1 bytes not processed)\n",
      "Using black placeholder image\n"
     ]
    },
    {
     "name": "stderr",
     "output_type": "stream",
     "text": [
      "Epoch 2/50 [Train]:  85%|████████▍ | 245/289 [00:45<00:08,  5.46it/s, Loss=0.2376, Acc=87.19%]"
     ]
    },
    {
     "name": "stdout",
     "output_type": "stream",
     "text": [
      "Warning: Corrupted image /kaggle/input/bone-fracture-multi-region-x-ray-data/Bone_Fracture_Binary_Classification/Bone_Fracture_Binary_Classification/train/not fractured/IMG0004148.jpg: image file is truncated (14 bytes not processed)\n",
      "Using black placeholder image\n"
     ]
    },
    {
     "name": "stderr",
     "output_type": "stream",
     "text": [
      "Epoch 2/50 [Train]: 100%|██████████| 289/289 [00:53<00:00,  5.41it/s, Loss=0.1721, Acc=87.76%]\n",
      "Epoch 2/50 [Val]:  35%|███▍      | 9/26 [00:02<00:03,  5.39it/s, Loss=0.1232, Acc=92.01%]"
     ]
    },
    {
     "name": "stdout",
     "output_type": "stream",
     "text": [
      "Warning: Corrupted image /kaggle/input/bone-fracture-multi-region-x-ray-data/Bone_Fracture_Binary_Classification/Bone_Fracture_Binary_Classification/val/not fractured/IMG0004134.jpg: image file is truncated (1 bytes not processed)\n",
      "Using black placeholder image\n"
     ]
    },
    {
     "name": "stderr",
     "output_type": "stream",
     "text": [
      "Epoch 2/50 [Val]:  35%|███▍      | 9/26 [00:02<00:03,  5.39it/s, Loss=0.1414, Acc=92.19%]"
     ]
    },
    {
     "name": "stdout",
     "output_type": "stream",
     "text": [
      "Warning: Corrupted image /kaggle/input/bone-fracture-multi-region-x-ray-data/Bone_Fracture_Binary_Classification/Bone_Fracture_Binary_Classification/val/not fractured/IMG0004347.jpg: image file is truncated (40 bytes not processed)\n",
      "Using black placeholder image\n",
      "Warning: Corrupted image /kaggle/input/bone-fracture-multi-region-x-ray-data/Bone_Fracture_Binary_Classification/Bone_Fracture_Binary_Classification/val/not fractured/IMG0004148.jpg: image file is truncated (14 bytes not processed)\n",
      "Using black placeholder image\n"
     ]
    },
    {
     "name": "stderr",
     "output_type": "stream",
     "text": [
      "Epoch 2/50 [Val]:  50%|█████     | 13/26 [00:02<00:02,  6.37it/s, Loss=1.4904, Acc=84.38%]"
     ]
    },
    {
     "name": "stdout",
     "output_type": "stream",
     "text": [
      "Warning: Corrupted image /kaggle/input/bone-fracture-multi-region-x-ray-data/Bone_Fracture_Binary_Classification/Bone_Fracture_Binary_Classification/val/not fractured/IMG0004143.jpg: image file is truncated (10 bytes not processed)\n",
      "Using black placeholder image\n",
      "Warning: Corrupted image /kaggle/input/bone-fracture-multi-region-x-ray-data/Bone_Fracture_Binary_Classification/Bone_Fracture_Binary_Classification/val/not fractured/IMG0004308.jpg: image file is truncated (40 bytes not processed)\n",
      "Using black placeholder image\n",
      "Warning: Corrupted image /kaggle/input/bone-fracture-multi-region-x-ray-data/Bone_Fracture_Binary_Classification/Bone_Fracture_Binary_Classification/val/not fractured/IMG0004149.jpg: image file is truncated (33 bytes not processed)\n",
      "Using black placeholder image"
     ]
    },
    {
     "name": "stderr",
     "output_type": "stream",
     "text": [
      "Epoch 2/50 [Val]:  58%|█████▊    | 15/26 [00:03<00:01,  5.59it/s, Loss=0.9622, Acc=82.50%]"
     ]
    },
    {
     "name": "stdout",
     "output_type": "stream",
     "text": [
      "\n"
     ]
    },
    {
     "name": "stderr",
     "output_type": "stream",
     "text": [
      "Epoch 2/50 [Val]: 100%|██████████| 26/26 [00:04<00:00,  5.45it/s, Loss=1.6020, Acc=72.01%]\n"
     ]
    },
    {
     "name": "stdout",
     "output_type": "stream",
     "text": [
      "Epoch 2/50:\n",
      "Train Loss: 0.3016, Train Acc: 87.76%\n",
      "Val Loss: 0.8093, Val Acc: 72.01%\n",
      "Learning Rate: 0.001000\n",
      "------------------------------------------------------------\n",
      "New best model saved with validation accuracy: 72.01%\n"
     ]
    },
    {
     "name": "stderr",
     "output_type": "stream",
     "text": [
      "Epoch 3/50 [Train]:   2%|▏         | 7/289 [00:01<00:56,  5.02it/s, Loss=0.1816, Acc=90.18%]"
     ]
    },
    {
     "name": "stdout",
     "output_type": "stream",
     "text": [
      "Warning: Corrupted image /kaggle/input/bone-fracture-multi-region-x-ray-data/Bone_Fracture_Binary_Classification/Bone_Fracture_Binary_Classification/train/not fractured/IMG0004148.jpg: image file is truncated (14 bytes not processed)\n",
      "Using black placeholder image\n"
     ]
    },
    {
     "name": "stderr",
     "output_type": "stream",
     "text": [
      "Epoch 3/50 [Train]:  21%|██        | 61/289 [00:11<00:41,  5.48it/s, Loss=0.4722, Acc=91.91%]"
     ]
    },
    {
     "name": "stdout",
     "output_type": "stream",
     "text": [
      "Warning: Corrupted image /kaggle/input/bone-fracture-multi-region-x-ray-data/Bone_Fracture_Binary_Classification/Bone_Fracture_Binary_Classification/train/not fractured/IMG0004143.jpg: image file is truncated (10 bytes not processed)\n",
      "Using black placeholder image\n"
     ]
    },
    {
     "name": "stderr",
     "output_type": "stream",
     "text": [
      "Epoch 3/50 [Train]:  25%|██▍       | 71/289 [00:13<00:39,  5.47it/s, Loss=0.2669, Acc=92.08%]"
     ]
    },
    {
     "name": "stdout",
     "output_type": "stream",
     "text": [
      "Warning: Corrupted image /kaggle/input/bone-fracture-multi-region-x-ray-data/Bone_Fracture_Binary_Classification/Bone_Fracture_Binary_Classification/train/not fractured/IMG0004149.jpg: image file is truncated (33 bytes not processed)\n",
      "Using black placeholder image\n"
     ]
    },
    {
     "name": "stderr",
     "output_type": "stream",
     "text": [
      "Epoch 3/50 [Train]:  31%|███▏      | 91/289 [00:17<00:35,  5.51it/s, Loss=0.2133, Acc=92.07%]"
     ]
    },
    {
     "name": "stdout",
     "output_type": "stream",
     "text": [
      "Warning: Corrupted image /kaggle/input/bone-fracture-multi-region-x-ray-data/Bone_Fracture_Binary_Classification/Bone_Fracture_Binary_Classification/train/not fractured/IMG0004347.jpg: image file is truncated (40 bytes not processed)\n",
      "Using black placeholder image\n"
     ]
    },
    {
     "name": "stderr",
     "output_type": "stream",
     "text": [
      "Epoch 3/50 [Train]:  63%|██████▎   | 181/289 [00:33<00:19,  5.44it/s, Loss=0.3247, Acc=92.59%]"
     ]
    },
    {
     "name": "stdout",
     "output_type": "stream",
     "text": [
      "Warning: Corrupted image /kaggle/input/bone-fracture-multi-region-x-ray-data/Bone_Fracture_Binary_Classification/Bone_Fracture_Binary_Classification/train/not fractured/IMG0004134.jpg: image file is truncated (1 bytes not processed)\n",
      "Using black placeholder image\n"
     ]
    },
    {
     "name": "stderr",
     "output_type": "stream",
     "text": [
      "Epoch 3/50 [Train]:  91%|█████████ | 263/289 [00:48<00:04,  5.47it/s, Loss=0.1202, Acc=93.04%]"
     ]
    },
    {
     "name": "stdout",
     "output_type": "stream",
     "text": [
      "Warning: Corrupted image /kaggle/input/bone-fracture-multi-region-x-ray-data/Bone_Fracture_Binary_Classification/Bone_Fracture_Binary_Classification/train/not fractured/IMG0004308.jpg: image file is truncated (40 bytes not processed)\n",
      "Using black placeholder image\n"
     ]
    },
    {
     "name": "stderr",
     "output_type": "stream",
     "text": [
      "Epoch 3/50 [Train]: 100%|██████████| 289/289 [00:53<00:00,  5.42it/s, Loss=0.0948, Acc=93.14%]\n",
      "Epoch 3/50 [Val]:  35%|███▍      | 9/26 [00:02<00:03,  5.20it/s, Loss=0.4260, Acc=92.36%]"
     ]
    },
    {
     "name": "stdout",
     "output_type": "stream",
     "text": [
      "Warning: Corrupted image /kaggle/input/bone-fracture-multi-region-x-ray-data/Bone_Fracture_Binary_Classification/Bone_Fracture_Binary_Classification/val/not fractured/IMG0004134.jpg: image file is truncated (1 bytes not processed)\n",
      "Using black placeholder image\n"
     ]
    },
    {
     "name": "stderr",
     "output_type": "stream",
     "text": [
      "Epoch 3/50 [Val]:  35%|███▍      | 9/26 [00:02<00:03,  5.20it/s, Loss=0.2467, Acc=92.81%]"
     ]
    },
    {
     "name": "stdout",
     "output_type": "stream",
     "text": [
      "Warning: Corrupted image /kaggle/input/bone-fracture-multi-region-x-ray-data/Bone_Fracture_Binary_Classification/Bone_Fracture_Binary_Classification/val/not fractured/IMG0004347.jpg: image file is truncated (40 bytes not processed)\n",
      "Using black placeholder image\n",
      "Warning: Corrupted image /kaggle/input/bone-fracture-multi-region-x-ray-data/Bone_Fracture_Binary_Classification/Bone_Fracture_Binary_Classification/val/not fractured/IMG0004148.jpg: image file is truncated (14 bytes not processed)\n",
      "Using black placeholder image\n"
     ]
    },
    {
     "name": "stderr",
     "output_type": "stream",
     "text": [
      "Epoch 3/50 [Val]:  50%|█████     | 13/26 [00:02<00:01,  6.68it/s, Loss=0.3480, Acc=91.52%]"
     ]
    },
    {
     "name": "stdout",
     "output_type": "stream",
     "text": [
      "Warning: Corrupted image /kaggle/input/bone-fracture-multi-region-x-ray-data/Bone_Fracture_Binary_Classification/Bone_Fracture_Binary_Classification/val/not fractured/IMG0004143.jpg: image file is truncated (10 bytes not processed)\n",
      "Using black placeholder image\n",
      "Warning: Corrupted image /kaggle/input/bone-fracture-multi-region-x-ray-data/Bone_Fracture_Binary_Classification/Bone_Fracture_Binary_Classification/val/not fractured/IMG0004308.jpg: image file is truncated (40 bytes not processed)\n",
      "Using black placeholder image\n",
      "Warning: Corrupted image /kaggle/input/bone-fracture-multi-region-x-ray-data/Bone_Fracture_Binary_Classification/Bone_Fracture_Binary_Classification/val/not fractured/IMG0004149.jpg: image file is truncated (33 bytes not processed)\n",
      "Using black placeholder image\n"
     ]
    },
    {
     "name": "stderr",
     "output_type": "stream",
     "text": [
      "Epoch 3/50 [Val]: 100%|██████████| 26/26 [00:04<00:00,  5.80it/s, Loss=0.3504, Acc=89.38%]\n"
     ]
    },
    {
     "name": "stdout",
     "output_type": "stream",
     "text": [
      "Epoch 3/50:\n",
      "Train Loss: 0.1793, Train Acc: 93.14%\n",
      "Val Loss: 0.2899, Val Acc: 89.38%\n",
      "Learning Rate: 0.001000\n",
      "------------------------------------------------------------\n",
      "New best model saved with validation accuracy: 89.38%\n"
     ]
    },
    {
     "name": "stderr",
     "output_type": "stream",
     "text": [
      "Epoch 4/50 [Train]:   3%|▎         | 10/289 [00:02<00:53,  5.25it/s, Loss=0.1770, Acc=93.44%]"
     ]
    },
    {
     "name": "stdout",
     "output_type": "stream",
     "text": [
      "Warning: Corrupted image /kaggle/input/bone-fracture-multi-region-x-ray-data/Bone_Fracture_Binary_Classification/Bone_Fracture_Binary_Classification/train/not fractured/IMG0004308.jpg: image file is truncated (40 bytes not processed)\n",
      "Using black placeholder image\n"
     ]
    },
    {
     "name": "stderr",
     "output_type": "stream",
     "text": [
      "Epoch 4/50 [Train]:   5%|▍         | 14/289 [00:03<00:50,  5.42it/s, Loss=0.1413, Acc=92.63%]"
     ]
    },
    {
     "name": "stdout",
     "output_type": "stream",
     "text": [
      "Warning: Corrupted image /kaggle/input/bone-fracture-multi-region-x-ray-data/Bone_Fracture_Binary_Classification/Bone_Fracture_Binary_Classification/train/not fractured/IMG0004347.jpg: image file is truncated (40 bytes not processed)\n",
      "Using black placeholder image\n"
     ]
    },
    {
     "name": "stderr",
     "output_type": "stream",
     "text": [
      "Epoch 4/50 [Train]:   8%|▊         | 22/289 [00:04<00:49,  5.44it/s, Loss=0.0928, Acc=92.33%]"
     ]
    },
    {
     "name": "stdout",
     "output_type": "stream",
     "text": [
      "Warning: Corrupted image /kaggle/input/bone-fracture-multi-region-x-ray-data/Bone_Fracture_Binary_Classification/Bone_Fracture_Binary_Classification/train/not fractured/IMG0004143.jpg: image file is truncated (10 bytes not processed)\n",
      "Using black placeholder image\n"
     ]
    },
    {
     "name": "stderr",
     "output_type": "stream",
     "text": [
      "Epoch 4/50 [Train]:  31%|███       | 89/289 [00:16<00:36,  5.48it/s, Loss=0.1394, Acc=94.21%]"
     ]
    },
    {
     "name": "stdout",
     "output_type": "stream",
     "text": [
      "Warning: Corrupted image /kaggle/input/bone-fracture-multi-region-x-ray-data/Bone_Fracture_Binary_Classification/Bone_Fracture_Binary_Classification/train/not fractured/IMG0004149.jpg: image file is truncated (33 bytes not processed)\n",
      "Using black placeholder image"
     ]
    },
    {
     "name": "stderr",
     "output_type": "stream",
     "text": [
      "Epoch 4/50 [Train]:  31%|███       | 89/289 [00:16<00:36,  5.48it/s, Loss=0.2672, Acc=94.17%]"
     ]
    },
    {
     "name": "stdout",
     "output_type": "stream",
     "text": [
      "\n"
     ]
    },
    {
     "name": "stderr",
     "output_type": "stream",
     "text": [
      "Epoch 4/50 [Train]:  66%|██████▋   | 192/289 [00:35<00:17,  5.44it/s, Loss=0.1066, Acc=94.19%]"
     ]
    },
    {
     "name": "stdout",
     "output_type": "stream",
     "text": [
      "Warning: Corrupted image /kaggle/input/bone-fracture-multi-region-x-ray-data/Bone_Fracture_Binary_Classification/Bone_Fracture_Binary_Classification/train/not fractured/IMG0004134.jpg: image file is truncated (1 bytes not processed)\n",
      "Using black placeholder image\n"
     ]
    },
    {
     "name": "stderr",
     "output_type": "stream",
     "text": [
      "Epoch 4/50 [Train]:  67%|██████▋   | 194/289 [00:35<00:17,  5.43it/s, Loss=0.2132, Acc=94.18%]"
     ]
    },
    {
     "name": "stdout",
     "output_type": "stream",
     "text": [
      "Warning: Corrupted image /kaggle/input/bone-fracture-multi-region-x-ray-data/Bone_Fracture_Binary_Classification/Bone_Fracture_Binary_Classification/train/not fractured/IMG0004148.jpg: image file is truncated (14 bytes not processed)\n",
      "Using black placeholder image\n"
     ]
    },
    {
     "name": "stderr",
     "output_type": "stream",
     "text": [
      "Epoch 4/50 [Train]: 100%|██████████| 289/289 [00:53<00:00,  5.41it/s, Loss=0.1799, Acc=94.53%]\n",
      "Epoch 4/50 [Val]:  35%|███▍      | 9/26 [00:02<00:03,  5.39it/s, Loss=0.0872, Acc=95.83%]"
     ]
    },
    {
     "name": "stdout",
     "output_type": "stream",
     "text": [
      "Warning: Corrupted image /kaggle/input/bone-fracture-multi-region-x-ray-data/Bone_Fracture_Binary_Classification/Bone_Fracture_Binary_Classification/val/not fractured/IMG0004134.jpg: image file is truncated (1 bytes not processed)\n",
      "Using black placeholder image\n"
     ]
    },
    {
     "name": "stderr",
     "output_type": "stream",
     "text": [
      "Epoch 4/50 [Val]:  35%|███▍      | 9/26 [00:02<00:03,  5.39it/s, Loss=0.0730, Acc=95.94%]"
     ]
    },
    {
     "name": "stdout",
     "output_type": "stream",
     "text": [
      "Warning: Corrupted image /kaggle/input/bone-fracture-multi-region-x-ray-data/Bone_Fracture_Binary_Classification/Bone_Fracture_Binary_Classification/val/not fractured/IMG0004347.jpg: image file is truncated (40 bytes not processed)\n",
      "Using black placeholder image\n",
      "Warning: Corrupted image /kaggle/input/bone-fracture-multi-region-x-ray-data/Bone_Fracture_Binary_Classification/Bone_Fracture_Binary_Classification/val/not fractured/IMG0004148.jpg: image file is truncated (14 bytes not processed)\n",
      "Using black placeholder image\n"
     ]
    },
    {
     "name": "stderr",
     "output_type": "stream",
     "text": [
      "Epoch 4/50 [Val]:  50%|█████     | 13/26 [00:02<00:01,  6.68it/s, Loss=0.3828, Acc=93.53%]"
     ]
    },
    {
     "name": "stdout",
     "output_type": "stream",
     "text": [
      "Warning: Corrupted image /kaggle/input/bone-fracture-multi-region-x-ray-data/Bone_Fracture_Binary_Classification/Bone_Fracture_Binary_Classification/val/not fractured/IMG0004143.jpg: image file is truncated (10 bytes not processed)\n",
      "Using black placeholder image\n",
      "Warning: Corrupted image /kaggle/input/bone-fracture-multi-region-x-ray-data/Bone_Fracture_Binary_Classification/Bone_Fracture_Binary_Classification/val/not fractured/IMG0004308.jpg: image file is truncated (40 bytes not processed)\n",
      "Using black placeholder image\n",
      "Warning: Corrupted image /kaggle/input/bone-fracture-multi-region-x-ray-data/Bone_Fracture_Binary_Classification/Bone_Fracture_Binary_Classification/val/not fractured/IMG0004149.jpg: image file is truncated (33 bytes not processed)\n",
      "Using black placeholder image\n"
     ]
    },
    {
     "name": "stderr",
     "output_type": "stream",
     "text": [
      "Epoch 4/50 [Val]: 100%|██████████| 26/26 [00:04<00:00,  6.07it/s, Loss=0.5776, Acc=89.14%]\n"
     ]
    },
    {
     "name": "stdout",
     "output_type": "stream",
     "text": [
      "Epoch 4/50:\n",
      "Train Loss: 0.1507, Train Acc: 94.53%\n",
      "Val Loss: 0.3036, Val Acc: 89.14%\n",
      "Learning Rate: 0.001000\n",
      "------------------------------------------------------------\n"
     ]
    },
    {
     "name": "stderr",
     "output_type": "stream",
     "text": [
      "Epoch 5/50 [Train]:   8%|▊         | 22/289 [00:04<00:48,  5.47it/s, Loss=0.0384, Acc=94.03%]"
     ]
    },
    {
     "name": "stdout",
     "output_type": "stream",
     "text": [
      "Warning: Corrupted image /kaggle/input/bone-fracture-multi-region-x-ray-data/Bone_Fracture_Binary_Classification/Bone_Fracture_Binary_Classification/train/not fractured/IMG0004134.jpg: image file is truncated (1 bytes not processed)\n",
      "Using black placeholder image\n"
     ]
    },
    {
     "name": "stderr",
     "output_type": "stream",
     "text": [
      "Epoch 5/50 [Train]:  28%|██▊       | 82/289 [00:15<00:37,  5.45it/s, Loss=0.0836, Acc=95.73%]"
     ]
    },
    {
     "name": "stdout",
     "output_type": "stream",
     "text": [
      "Warning: Corrupted image /kaggle/input/bone-fracture-multi-region-x-ray-data/Bone_Fracture_Binary_Classification/Bone_Fracture_Binary_Classification/train/not fractured/IMG0004308.jpg: image file is truncated (40 bytes not processed)\n",
      "Using black placeholder image\n"
     ]
    },
    {
     "name": "stderr",
     "output_type": "stream",
     "text": [
      "Epoch 5/50 [Train]:  40%|███▉      | 115/289 [00:21<00:31,  5.49it/s, Loss=0.0164, Acc=95.90%]"
     ]
    },
    {
     "name": "stdout",
     "output_type": "stream",
     "text": [
      "Warning: Corrupted image /kaggle/input/bone-fracture-multi-region-x-ray-data/Bone_Fracture_Binary_Classification/Bone_Fracture_Binary_Classification/train/not fractured/IMG0004143.jpg: image file is truncated (10 bytes not processed)\n",
      "Using black placeholder image\n"
     ]
    },
    {
     "name": "stderr",
     "output_type": "stream",
     "text": [
      "Epoch 5/50 [Train]:  77%|███████▋  | 222/289 [00:41<00:12,  5.47it/s, Loss=0.0408, Acc=96.03%]"
     ]
    },
    {
     "name": "stdout",
     "output_type": "stream",
     "text": [
      "Warning: Corrupted image /kaggle/input/bone-fracture-multi-region-x-ray-data/Bone_Fracture_Binary_Classification/Bone_Fracture_Binary_Classification/train/not fractured/IMG0004347.jpg: image file is truncated (40 bytes not processed)\n",
      "Using black placeholder image\n"
     ]
    },
    {
     "name": "stderr",
     "output_type": "stream",
     "text": [
      "Epoch 5/50 [Train]:  90%|████████▉ | 259/289 [00:47<00:05,  5.47it/s, Loss=0.1076, Acc=95.83%]"
     ]
    },
    {
     "name": "stdout",
     "output_type": "stream",
     "text": [
      "Warning: Corrupted image /kaggle/input/bone-fracture-multi-region-x-ray-data/Bone_Fracture_Binary_Classification/Bone_Fracture_Binary_Classification/train/not fractured/IMG0004149.jpg: image file is truncated (33 bytes not processed)\n",
      "Using black placeholder image\n"
     ]
    },
    {
     "name": "stderr",
     "output_type": "stream",
     "text": [
      "Epoch 5/50 [Train]:  91%|█████████ | 262/289 [00:48<00:04,  5.49it/s, Loss=0.0714, Acc=95.84%]"
     ]
    },
    {
     "name": "stdout",
     "output_type": "stream",
     "text": [
      "Warning: Corrupted image /kaggle/input/bone-fracture-multi-region-x-ray-data/Bone_Fracture_Binary_Classification/Bone_Fracture_Binary_Classification/train/not fractured/IMG0004148.jpg: image file is truncated (14 bytes not processed)\n",
      "Using black placeholder image\n"
     ]
    },
    {
     "name": "stderr",
     "output_type": "stream",
     "text": [
      "Epoch 5/50 [Train]: 100%|██████████| 289/289 [00:53<00:00,  5.41it/s, Loss=0.0365, Acc=95.80%]\n",
      "Epoch 5/50 [Val]:  35%|███▍      | 9/26 [00:02<00:03,  5.18it/s, Loss=2.2986, Acc=69.10%]"
     ]
    },
    {
     "name": "stdout",
     "output_type": "stream",
     "text": [
      "Warning: Corrupted image /kaggle/input/bone-fracture-multi-region-x-ray-data/Bone_Fracture_Binary_Classification/Bone_Fracture_Binary_Classification/val/not fractured/IMG0004134.jpg: image file is truncated (1 bytes not processed)\n",
      "Using black placeholder image\n"
     ]
    },
    {
     "name": "stderr",
     "output_type": "stream",
     "text": [
      "Epoch 5/50 [Val]:  35%|███▍      | 9/26 [00:02<00:03,  5.18it/s, Loss=1.0445, Acc=67.81%]"
     ]
    },
    {
     "name": "stdout",
     "output_type": "stream",
     "text": [
      "Warning: Corrupted image /kaggle/input/bone-fracture-multi-region-x-ray-data/Bone_Fracture_Binary_Classification/Bone_Fracture_Binary_Classification/val/not fractured/IMG0004347.jpg: image file is truncated (40 bytes not processed)\n",
      "Using black placeholder image\n",
      "Warning: Corrupted image /kaggle/input/bone-fracture-multi-region-x-ray-data/Bone_Fracture_Binary_Classification/Bone_Fracture_Binary_Classification/val/not fractured/IMG0004148.jpg: image file is truncated (14 bytes not processed)\n",
      "Using black placeholder image\n"
     ]
    },
    {
     "name": "stderr",
     "output_type": "stream",
     "text": [
      "Epoch 5/50 [Val]:  50%|█████     | 13/26 [00:02<00:01,  6.52it/s, Loss=0.3197, Acc=72.77%]"
     ]
    },
    {
     "name": "stdout",
     "output_type": "stream",
     "text": [
      "Warning: Corrupted image /kaggle/input/bone-fracture-multi-region-x-ray-data/Bone_Fracture_Binary_Classification/Bone_Fracture_Binary_Classification/val/not fractured/IMG0004143.jpg: image file is truncated (10 bytes not processed)\n",
      "Using black placeholder image\n",
      "Warning: Corrupted image /kaggle/input/bone-fracture-multi-region-x-ray-data/Bone_Fracture_Binary_Classification/Bone_Fracture_Binary_Classification/val/not fractured/IMG0004149.jpg: image file is truncated (33 bytes not processed)\n",
      "Warning: Corrupted image /kaggle/input/bone-fracture-multi-region-x-ray-data/Bone_Fracture_Binary_Classification/Bone_Fracture_Binary_Classification/val/not fractured/IMG0004308.jpg: image file is truncated (40 bytes not processed)Using black placeholder image\n",
      "Using black placeholder image\n",
      "\n"
     ]
    },
    {
     "name": "stderr",
     "output_type": "stream",
     "text": [
      "Epoch 5/50 [Val]: 100%|██████████| 26/26 [00:04<00:00,  5.76it/s, Loss=0.2256, Acc=82.27%]\n"
     ]
    },
    {
     "name": "stdout",
     "output_type": "stream",
     "text": [
      "Epoch 5/50:\n",
      "Train Loss: 0.1164, Train Acc: 95.80%\n",
      "Val Loss: 0.5451, Val Acc: 82.27%\n",
      "Learning Rate: 0.001000\n",
      "------------------------------------------------------------\n"
     ]
    },
    {
     "name": "stderr",
     "output_type": "stream",
     "text": [
      "Epoch 6/50 [Train]:  19%|█▉        | 56/289 [00:10<00:42,  5.45it/s, Loss=0.0929, Acc=94.64%]"
     ]
    },
    {
     "name": "stdout",
     "output_type": "stream",
     "text": [
      "Warning: Corrupted image /kaggle/input/bone-fracture-multi-region-x-ray-data/Bone_Fracture_Binary_Classification/Bone_Fracture_Binary_Classification/train/not fractured/IMG0004308.jpg: image file is truncated (40 bytes not processed)\n",
      "Using black placeholder image\n"
     ]
    },
    {
     "name": "stderr",
     "output_type": "stream",
     "text": [
      "Epoch 6/50 [Train]:  24%|██▍       | 70/289 [00:13<00:40,  5.47it/s, Loss=0.1605, Acc=94.82%]"
     ]
    },
    {
     "name": "stdout",
     "output_type": "stream",
     "text": [
      "Warning: Corrupted image /kaggle/input/bone-fracture-multi-region-x-ray-data/Bone_Fracture_Binary_Classification/Bone_Fracture_Binary_Classification/train/not fractured/IMG0004143.jpg: image file is truncated (10 bytes not processed)\n",
      "Using black placeholder image\n"
     ]
    },
    {
     "name": "stderr",
     "output_type": "stream",
     "text": [
      "Epoch 6/50 [Train]:  28%|██▊       | 81/289 [00:15<00:37,  5.49it/s, Loss=0.0946, Acc=94.83%]"
     ]
    },
    {
     "name": "stdout",
     "output_type": "stream",
     "text": [
      "Warning: Corrupted image /kaggle/input/bone-fracture-multi-region-x-ray-data/Bone_Fracture_Binary_Classification/Bone_Fracture_Binary_Classification/train/not fractured/IMG0004347.jpg: image file is truncated (40 bytes not processed)\n",
      "Using black placeholder image\n"
     ]
    },
    {
     "name": "stderr",
     "output_type": "stream",
     "text": [
      "Epoch 6/50 [Train]:  30%|██▉       | 86/289 [00:16<00:37,  5.47it/s, Loss=0.1411, Acc=94.91%]"
     ]
    },
    {
     "name": "stdout",
     "output_type": "stream",
     "text": [
      "Warning: Corrupted image /kaggle/input/bone-fracture-multi-region-x-ray-data/Bone_Fracture_Binary_Classification/Bone_Fracture_Binary_Classification/train/not fractured/IMG0004149.jpg: image file is truncated (33 bytes not processed)"
     ]
    },
    {
     "name": "stderr",
     "output_type": "stream",
     "text": [
      "Epoch 6/50 [Train]:  30%|███       | 87/289 [00:16<00:36,  5.48it/s, Loss=0.0344, Acc=94.97%]"
     ]
    },
    {
     "name": "stdout",
     "output_type": "stream",
     "text": [
      "\n",
      "Using black placeholder image\n"
     ]
    },
    {
     "name": "stderr",
     "output_type": "stream",
     "text": [
      "Epoch 6/50 [Train]:  73%|███████▎  | 210/289 [00:38<00:14,  5.46it/s, Loss=0.0242, Acc=95.73%]"
     ]
    },
    {
     "name": "stdout",
     "output_type": "stream",
     "text": [
      "Warning: Corrupted image /kaggle/input/bone-fracture-multi-region-x-ray-data/Bone_Fracture_Binary_Classification/Bone_Fracture_Binary_Classification/train/not fractured/IMG0004148.jpg: image file is truncated (14 bytes not processed)\n",
      "Using black placeholder image\n"
     ]
    },
    {
     "name": "stderr",
     "output_type": "stream",
     "text": [
      "Epoch 6/50 [Train]:  91%|█████████ | 262/289 [00:48<00:04,  5.49it/s, Loss=0.0984, Acc=95.77%]"
     ]
    },
    {
     "name": "stdout",
     "output_type": "stream",
     "text": [
      "Warning: Corrupted image /kaggle/input/bone-fracture-multi-region-x-ray-data/Bone_Fracture_Binary_Classification/Bone_Fracture_Binary_Classification/train/not fractured/IMG0004134.jpg: image file is truncated (1 bytes not processed)\n",
      "Using black placeholder image\n"
     ]
    },
    {
     "name": "stderr",
     "output_type": "stream",
     "text": [
      "Epoch 6/50 [Train]: 100%|██████████| 289/289 [00:53<00:00,  5.41it/s, Loss=0.0140, Acc=95.89%]\n",
      "Epoch 6/50 [Val]:  35%|███▍      | 9/26 [00:02<00:03,  5.07it/s, Loss=0.0850, Acc=97.57%]"
     ]
    },
    {
     "name": "stdout",
     "output_type": "stream",
     "text": [
      "Warning: Corrupted image /kaggle/input/bone-fracture-multi-region-x-ray-data/Bone_Fracture_Binary_Classification/Bone_Fracture_Binary_Classification/val/not fractured/IMG0004134.jpg: image file is truncated (1 bytes not processed)\n",
      "Using black placeholder image\n"
     ]
    },
    {
     "name": "stderr",
     "output_type": "stream",
     "text": [
      "Epoch 6/50 [Val]:  35%|███▍      | 9/26 [00:02<00:03,  5.07it/s, Loss=0.0934, Acc=97.50%]"
     ]
    },
    {
     "name": "stdout",
     "output_type": "stream",
     "text": [
      "Warning: Corrupted image /kaggle/input/bone-fracture-multi-region-x-ray-data/Bone_Fracture_Binary_Classification/Bone_Fracture_Binary_Classification/val/not fractured/IMG0004347.jpg: image file is truncated (40 bytes not processed)\n",
      "Using black placeholder image\n",
      "Warning: Corrupted image /kaggle/input/bone-fracture-multi-region-x-ray-data/Bone_Fracture_Binary_Classification/Bone_Fracture_Binary_Classification/val/not fractured/IMG0004148.jpg: image file is truncated (14 bytes not processed)\n",
      "Using black placeholder image\n"
     ]
    },
    {
     "name": "stderr",
     "output_type": "stream",
     "text": [
      "Epoch 6/50 [Val]:  50%|█████     | 13/26 [00:02<00:02,  6.22it/s, Loss=0.4675, Acc=95.76%]"
     ]
    },
    {
     "name": "stdout",
     "output_type": "stream",
     "text": [
      "Warning: Corrupted image /kaggle/input/bone-fracture-multi-region-x-ray-data/Bone_Fracture_Binary_Classification/Bone_Fracture_Binary_Classification/val/not fractured/IMG0004143.jpg: image file is truncated (10 bytes not processed)\n",
      "Using black placeholder image\n",
      "Warning: Corrupted image /kaggle/input/bone-fracture-multi-region-x-ray-data/Bone_Fracture_Binary_Classification/Bone_Fracture_Binary_Classification/val/not fractured/IMG0004308.jpg: image file is truncated (40 bytes not processed)\n",
      "Using black placeholder image\n",
      "Warning: Corrupted image /kaggle/input/bone-fracture-multi-region-x-ray-data/Bone_Fracture_Binary_Classification/Bone_Fracture_Binary_Classification/val/not fractured/IMG0004149.jpg: image file is truncated (33 bytes not processed)\n",
      "Using black placeholder image\n"
     ]
    },
    {
     "name": "stderr",
     "output_type": "stream",
     "text": [
      "Epoch 6/50 [Val]: 100%|██████████| 26/26 [00:04<00:00,  5.71it/s, Loss=0.4092, Acc=94.09%]\n"
     ]
    },
    {
     "name": "stdout",
     "output_type": "stream",
     "text": [
      "Epoch 6/50:\n",
      "Train Loss: 0.1191, Train Acc: 95.89%\n",
      "Val Loss: 0.1964, Val Acc: 94.09%\n",
      "Learning Rate: 0.001000\n",
      "------------------------------------------------------------\n",
      "New best model saved with validation accuracy: 94.09%\n"
     ]
    },
    {
     "name": "stderr",
     "output_type": "stream",
     "text": [
      "Epoch 7/50 [Train]:  25%|██▍       | 72/289 [00:13<00:39,  5.49it/s, Loss=0.2335, Acc=95.83%]"
     ]
    },
    {
     "name": "stdout",
     "output_type": "stream",
     "text": [
      "Warning: Corrupted image /kaggle/input/bone-fracture-multi-region-x-ray-data/Bone_Fracture_Binary_Classification/Bone_Fracture_Binary_Classification/train/not fractured/IMG0004308.jpg: image file is truncated (40 bytes not processed)\n",
      "Using black placeholder image\n"
     ]
    },
    {
     "name": "stderr",
     "output_type": "stream",
     "text": [
      "Epoch 7/50 [Train]:  37%|███▋      | 108/289 [00:20<00:33,  5.46it/s, Loss=0.2298, Acc=96.30%]"
     ]
    },
    {
     "name": "stdout",
     "output_type": "stream",
     "text": [
      "Warning: Corrupted image /kaggle/input/bone-fracture-multi-region-x-ray-data/Bone_Fracture_Binary_Classification/Bone_Fracture_Binary_Classification/train/not fractured/IMG0004143.jpg: image file is truncated (10 bytes not processed)"
     ]
    },
    {
     "name": "stderr",
     "output_type": "stream",
     "text": [
      "Epoch 7/50 [Train]:  37%|███▋      | 108/289 [00:20<00:33,  5.46it/s, Loss=0.0057, Acc=96.33%]"
     ]
    },
    {
     "name": "stdout",
     "output_type": "stream",
     "text": [
      "\n"
     ]
    },
    {
     "name": "stderr",
     "output_type": "stream",
     "text": [
      "Epoch 7/50 [Train]:  38%|███▊      | 109/289 [00:20<00:33,  5.45it/s, Loss=0.0057, Acc=96.33%]"
     ]
    },
    {
     "name": "stdout",
     "output_type": "stream",
     "text": [
      "Using black placeholder image\n"
     ]
    },
    {
     "name": "stderr",
     "output_type": "stream",
     "text": [
      "Epoch 7/50 [Train]:  38%|███▊      | 110/289 [00:20<00:32,  5.46it/s, Loss=0.0313, Acc=96.36%]"
     ]
    },
    {
     "name": "stdout",
     "output_type": "stream",
     "text": [
      "Warning: Corrupted image /kaggle/input/bone-fracture-multi-region-x-ray-data/Bone_Fracture_Binary_Classification/Bone_Fracture_Binary_Classification/train/not fractured/IMG0004149.jpg: image file is truncated (33 bytes not processed)\n",
      "Using black placeholder image\n"
     ]
    },
    {
     "name": "stderr",
     "output_type": "stream",
     "text": [
      "Epoch 7/50 [Train]:  50%|████▉     | 144/289 [00:26<00:26,  5.47it/s, Loss=0.0558, Acc=96.40%]"
     ]
    },
    {
     "name": "stdout",
     "output_type": "stream",
     "text": [
      "Warning: Corrupted image /kaggle/input/bone-fracture-multi-region-x-ray-data/Bone_Fracture_Binary_Classification/Bone_Fracture_Binary_Classification/train/not fractured/IMG0004148.jpg: image file is truncated (14 bytes not processed)\n",
      "Using black placeholder image\n"
     ]
    },
    {
     "name": "stderr",
     "output_type": "stream",
     "text": [
      "Epoch 7/50 [Train]:  56%|█████▌    | 162/289 [00:30<00:23,  5.48it/s, Loss=0.1437, Acc=96.08%]"
     ]
    },
    {
     "name": "stdout",
     "output_type": "stream",
     "text": [
      "Warning: Corrupted image /kaggle/input/bone-fracture-multi-region-x-ray-data/Bone_Fracture_Binary_Classification/Bone_Fracture_Binary_Classification/train/not fractured/IMG0004347.jpg: image file is truncated (40 bytes not processed)\n",
      "Using black placeholder image\n"
     ]
    },
    {
     "name": "stderr",
     "output_type": "stream",
     "text": [
      "Epoch 7/50 [Train]:  60%|█████▉    | 172/289 [00:32<00:21,  5.47it/s, Loss=0.0340, Acc=96.02%]"
     ]
    },
    {
     "name": "stdout",
     "output_type": "stream",
     "text": [
      "Warning: Corrupted image /kaggle/input/bone-fracture-multi-region-x-ray-data/Bone_Fracture_Binary_Classification/Bone_Fracture_Binary_Classification/train/not fractured/IMG0004134.jpg: image file is truncated (1 bytes not processed)\n",
      "Using black placeholder image\n"
     ]
    },
    {
     "name": "stderr",
     "output_type": "stream",
     "text": [
      "Epoch 7/50 [Train]: 100%|██████████| 289/289 [00:53<00:00,  5.41it/s, Loss=0.0379, Acc=96.41%]\n",
      "Epoch 7/50 [Val]:  35%|███▍      | 9/26 [00:02<00:03,  4.59it/s, Loss=0.1945, Acc=95.14%]"
     ]
    },
    {
     "name": "stdout",
     "output_type": "stream",
     "text": [
      "Warning: Corrupted image /kaggle/input/bone-fracture-multi-region-x-ray-data/Bone_Fracture_Binary_Classification/Bone_Fracture_Binary_Classification/val/not fractured/IMG0004134.jpg: image file is truncated (1 bytes not processed)\n",
      "Using black placeholder image\n"
     ]
    },
    {
     "name": "stderr",
     "output_type": "stream",
     "text": [
      "Epoch 7/50 [Val]:  35%|███▍      | 9/26 [00:02<00:03,  4.59it/s, Loss=0.1376, Acc=95.31%]"
     ]
    },
    {
     "name": "stdout",
     "output_type": "stream",
     "text": [
      "Warning: Corrupted image /kaggle/input/bone-fracture-multi-region-x-ray-data/Bone_Fracture_Binary_Classification/Bone_Fracture_Binary_Classification/val/not fractured/IMG0004347.jpg: image file is truncated (40 bytes not processed)\n",
      "Using black placeholder image\n",
      "Warning: Corrupted image /kaggle/input/bone-fracture-multi-region-x-ray-data/Bone_Fracture_Binary_Classification/Bone_Fracture_Binary_Classification/val/not fractured/IMG0004148.jpg: image file is truncated (14 bytes not processed)\n",
      "Using black placeholder image\n"
     ]
    },
    {
     "name": "stderr",
     "output_type": "stream",
     "text": [
      "Epoch 7/50 [Val]:  50%|█████     | 13/26 [00:03<00:02,  5.38it/s, Loss=0.3227, Acc=93.53%]"
     ]
    },
    {
     "name": "stdout",
     "output_type": "stream",
     "text": [
      "Warning: Corrupted image /kaggle/input/bone-fracture-multi-region-x-ray-data/Bone_Fracture_Binary_Classification/Bone_Fracture_Binary_Classification/val/not fractured/IMG0004143.jpg: image file is truncated (10 bytes not processed)\n",
      "Using black placeholder image\n",
      "Warning: Corrupted image /kaggle/input/bone-fracture-multi-region-x-ray-data/Bone_Fracture_Binary_Classification/Bone_Fracture_Binary_Classification/val/not fractured/IMG0004308.jpg: image file is truncated (40 bytes not processed)\n",
      "Using black placeholder image\n",
      "Warning: Corrupted image /kaggle/input/bone-fracture-multi-region-x-ray-data/Bone_Fracture_Binary_Classification/Bone_Fracture_Binary_Classification/val/not fractured/IMG0004149.jpg: image file is truncated (33 bytes not processed)\n",
      "Using black placeholder image\n"
     ]
    },
    {
     "name": "stderr",
     "output_type": "stream",
     "text": [
      "Epoch 7/50 [Val]: 100%|██████████| 26/26 [00:04<00:00,  5.26it/s, Loss=0.4787, Acc=92.64%]\n"
     ]
    },
    {
     "name": "stdout",
     "output_type": "stream",
     "text": [
      "Epoch 7/50:\n",
      "Train Loss: 0.0999, Train Acc: 96.41%\n",
      "Val Loss: 0.2289, Val Acc: 92.64%\n",
      "Learning Rate: 0.001000\n",
      "------------------------------------------------------------\n"
     ]
    },
    {
     "name": "stderr",
     "output_type": "stream",
     "text": [
      "Epoch 8/50 [Train]:  28%|██▊       | 81/289 [00:15<00:38,  5.47it/s, Loss=0.1129, Acc=97.57%]"
     ]
    },
    {
     "name": "stdout",
     "output_type": "stream",
     "text": [
      "Warning: Corrupted image /kaggle/input/bone-fracture-multi-region-x-ray-data/Bone_Fracture_Binary_Classification/Bone_Fracture_Binary_Classification/train/not fractured/IMG0004134.jpg: image file is truncated (1 bytes not processed)\n",
      "Using black placeholder image\n"
     ]
    },
    {
     "name": "stderr",
     "output_type": "stream",
     "text": [
      "Epoch 8/50 [Train]:  49%|████▉     | 141/289 [00:26<00:26,  5.49it/s, Loss=0.0769, Acc=96.70%]"
     ]
    },
    {
     "name": "stdout",
     "output_type": "stream",
     "text": [
      "Warning: Corrupted image /kaggle/input/bone-fracture-multi-region-x-ray-data/Bone_Fracture_Binary_Classification/Bone_Fracture_Binary_Classification/train/not fractured/IMG0004143.jpg: image file is truncated (10 bytes not processed)\n",
      "Using black placeholder image\n"
     ]
    },
    {
     "name": "stderr",
     "output_type": "stream",
     "text": [
      "Epoch 8/50 [Train]:  61%|██████    | 175/289 [00:32<00:20,  5.46it/s, Loss=0.0498, Acc=96.68%]"
     ]
    },
    {
     "name": "stdout",
     "output_type": "stream",
     "text": [
      "Warning: Corrupted image /kaggle/input/bone-fracture-multi-region-x-ray-data/Bone_Fracture_Binary_Classification/Bone_Fracture_Binary_Classification/train/not fractured/IMG0004308.jpg: image file is truncated (40 bytes not processed)\n",
      "Using black placeholder image\n"
     ]
    },
    {
     "name": "stderr",
     "output_type": "stream",
     "text": [
      "Epoch 8/50 [Train]:  61%|██████    | 177/289 [00:32<00:20,  5.50it/s, Loss=0.0636, Acc=96.66%]"
     ]
    },
    {
     "name": "stdout",
     "output_type": "stream",
     "text": [
      "Warning: Corrupted image /kaggle/input/bone-fracture-multi-region-x-ray-data/Bone_Fracture_Binary_Classification/Bone_Fracture_Binary_Classification/train/not fractured/IMG0004148.jpg: image file is truncated (14 bytes not processed)\n",
      "Using black placeholder image\n"
     ]
    },
    {
     "name": "stderr",
     "output_type": "stream",
     "text": [
      "Epoch 8/50 [Train]:  72%|███████▏  | 207/289 [00:38<00:14,  5.50it/s, Loss=0.1907, Acc=96.54%]"
     ]
    },
    {
     "name": "stdout",
     "output_type": "stream",
     "text": [
      "Warning: Corrupted image /kaggle/input/bone-fracture-multi-region-x-ray-data/Bone_Fracture_Binary_Classification/Bone_Fracture_Binary_Classification/train/not fractured/IMG0004347.jpg: image file is truncated (40 bytes not processed)\n",
      "Using black placeholder image\n"
     ]
    },
    {
     "name": "stderr",
     "output_type": "stream",
     "text": [
      "Epoch 8/50 [Train]:  96%|█████████▌| 277/289 [00:51<00:02,  5.49it/s, Loss=0.0236, Acc=96.67%]"
     ]
    },
    {
     "name": "stdout",
     "output_type": "stream",
     "text": [
      "Warning: Corrupted image /kaggle/input/bone-fracture-multi-region-x-ray-data/Bone_Fracture_Binary_Classification/Bone_Fracture_Binary_Classification/train/not fractured/IMG0004149.jpg: image file is truncated (33 bytes not processed)\n",
      "Using black placeholder image\n"
     ]
    },
    {
     "name": "stderr",
     "output_type": "stream",
     "text": [
      "Epoch 8/50 [Train]: 100%|██████████| 289/289 [00:53<00:00,  5.41it/s, Loss=0.0112, Acc=96.64%]\n",
      "Epoch 8/50 [Val]:  35%|███▍      | 9/26 [00:02<00:03,  5.39it/s, Loss=0.0480, Acc=98.96%]"
     ]
    },
    {
     "name": "stdout",
     "output_type": "stream",
     "text": [
      "Warning: Corrupted image /kaggle/input/bone-fracture-multi-region-x-ray-data/Bone_Fracture_Binary_Classification/Bone_Fracture_Binary_Classification/val/not fractured/IMG0004134.jpg: image file is truncated (1 bytes not processed)\n",
      "Using black placeholder image\n"
     ]
    },
    {
     "name": "stderr",
     "output_type": "stream",
     "text": [
      "Epoch 8/50 [Val]:  35%|███▍      | 9/26 [00:02<00:03,  5.39it/s, Loss=0.0316, Acc=99.06%]"
     ]
    },
    {
     "name": "stdout",
     "output_type": "stream",
     "text": [
      "Warning: Corrupted image /kaggle/input/bone-fracture-multi-region-x-ray-data/Bone_Fracture_Binary_Classification/Bone_Fracture_Binary_Classification/val/not fractured/IMG0004347.jpg: image file is truncated (40 bytes not processed)\n",
      "Using black placeholder image\n",
      "Warning: Corrupted image /kaggle/input/bone-fracture-multi-region-x-ray-data/Bone_Fracture_Binary_Classification/Bone_Fracture_Binary_Classification/val/not fractured/IMG0004148.jpg: image file is truncated (14 bytes not processed)\n",
      "Using black placeholder image\n"
     ]
    },
    {
     "name": "stderr",
     "output_type": "stream",
     "text": [
      "Epoch 8/50 [Val]:  50%|█████     | 13/26 [00:02<00:01,  6.65it/s, Loss=1.3786, Acc=87.05%]"
     ]
    },
    {
     "name": "stdout",
     "output_type": "stream",
     "text": [
      "Warning: Corrupted image /kaggle/input/bone-fracture-multi-region-x-ray-data/Bone_Fracture_Binary_Classification/Bone_Fracture_Binary_Classification/val/not fractured/IMG0004143.jpg: image file is truncated (10 bytes not processed)\n",
      "Using black placeholder image\n",
      "Warning: Corrupted image /kaggle/input/bone-fracture-multi-region-x-ray-data/Bone_Fracture_Binary_Classification/Bone_Fracture_Binary_Classification/val/not fractured/IMG0004149.jpg: image file is truncated (33 bytes not processed)\n",
      "Using black placeholder image\n"
     ]
    },
    {
     "name": "stderr",
     "output_type": "stream",
     "text": [
      "Epoch 8/50 [Val]:  58%|█████▊    | 15/26 [00:03<00:01,  6.34it/s, Loss=0.9931, Acc=85.21%]"
     ]
    },
    {
     "name": "stdout",
     "output_type": "stream",
     "text": [
      "Warning: Corrupted image /kaggle/input/bone-fracture-multi-region-x-ray-data/Bone_Fracture_Binary_Classification/Bone_Fracture_Binary_Classification/val/not fractured/IMG0004308.jpg: image file is truncated (40 bytes not processed)\n",
      "Using black placeholder image\n"
     ]
    },
    {
     "name": "stderr",
     "output_type": "stream",
     "text": [
      "Epoch 8/50 [Val]: 100%|██████████| 26/26 [00:04<00:00,  5.96it/s, Loss=1.4703, Acc=71.89%]\n"
     ]
    },
    {
     "name": "stdout",
     "output_type": "stream",
     "text": [
      "Epoch 8/50:\n",
      "Train Loss: 0.0984, Train Acc: 96.64%\n",
      "Val Loss: 0.8427, Val Acc: 71.89%\n",
      "Learning Rate: 0.001000\n",
      "------------------------------------------------------------\n"
     ]
    },
    {
     "name": "stderr",
     "output_type": "stream",
     "text": [
      "Epoch 9/50 [Train]:  15%|█▍        | 43/289 [00:08<00:44,  5.47it/s, Loss=0.2803, Acc=97.75%]"
     ]
    },
    {
     "name": "stdout",
     "output_type": "stream",
     "text": [
      "Warning: Corrupted image /kaggle/input/bone-fracture-multi-region-x-ray-data/Bone_Fracture_Binary_Classification/Bone_Fracture_Binary_Classification/train/not fractured/IMG0004143.jpg: image file is truncated (10 bytes not processed)\n",
      "Using black placeholder image\n"
     ]
    },
    {
     "name": "stderr",
     "output_type": "stream",
     "text": [
      "Epoch 9/50 [Train]:  29%|██▊       | 83/289 [00:16<00:37,  5.45it/s, Loss=0.0799, Acc=97.74%]"
     ]
    },
    {
     "name": "stdout",
     "output_type": "stream",
     "text": [
      "Warning: Corrupted image /kaggle/input/bone-fracture-multi-region-x-ray-data/Bone_Fracture_Binary_Classification/Bone_Fracture_Binary_Classification/train/not fractured/IMG0004149.jpg: image file is truncated (33 bytes not processed)\n",
      "Using black placeholder image\n"
     ]
    },
    {
     "name": "stderr",
     "output_type": "stream",
     "text": [
      "Epoch 9/50 [Train]:  58%|█████▊    | 169/289 [00:32<00:21,  5.48it/s, Loss=0.0103, Acc=97.13%]"
     ]
    },
    {
     "name": "stdout",
     "output_type": "stream",
     "text": [
      "Warning: Corrupted image /kaggle/input/bone-fracture-multi-region-x-ray-data/Bone_Fracture_Binary_Classification/Bone_Fracture_Binary_Classification/train/not fractured/IMG0004134.jpg: image file is truncated (1 bytes not processed)\n",
      "Using black placeholder image\n"
     ]
    },
    {
     "name": "stderr",
     "output_type": "stream",
     "text": [
      "Epoch 9/50 [Train]:  61%|██████    | 175/289 [00:33<00:20,  5.48it/s, Loss=0.0328, Acc=97.11%]"
     ]
    },
    {
     "name": "stdout",
     "output_type": "stream",
     "text": [
      "Warning: Corrupted image /kaggle/input/bone-fracture-multi-region-x-ray-data/Bone_Fracture_Binary_Classification/Bone_Fracture_Binary_Classification/train/not fractured/IMG0004308.jpg: image file is truncated (40 bytes not processed)\n",
      "Using black placeholder image\n"
     ]
    },
    {
     "name": "stderr",
     "output_type": "stream",
     "text": [
      "Epoch 9/50 [Train]:  88%|████████▊ | 255/289 [00:47<00:06,  5.47it/s, Loss=0.0408, Acc=97.16%]"
     ]
    },
    {
     "name": "stdout",
     "output_type": "stream",
     "text": [
      "Warning: Corrupted image /kaggle/input/bone-fracture-multi-region-x-ray-data/Bone_Fracture_Binary_Classification/Bone_Fracture_Binary_Classification/train/not fractured/IMG0004347.jpg: image file is truncated (40 bytes not processed)\n",
      "Using black placeholder image\n"
     ]
    },
    {
     "name": "stderr",
     "output_type": "stream",
     "text": [
      "Epoch 9/50 [Train]:  97%|█████████▋| 279/289 [00:52<00:01,  5.50it/s, Loss=0.0568, Acc=97.10%]"
     ]
    },
    {
     "name": "stdout",
     "output_type": "stream",
     "text": [
      "Warning: Corrupted image /kaggle/input/bone-fracture-multi-region-x-ray-data/Bone_Fracture_Binary_Classification/Bone_Fracture_Binary_Classification/train/not fractured/IMG0004148.jpg: image file is truncated (14 bytes not processed)\n",
      "Using black placeholder image\n"
     ]
    },
    {
     "name": "stderr",
     "output_type": "stream",
     "text": [
      "Epoch 9/50 [Train]: 100%|██████████| 289/289 [00:53<00:00,  5.35it/s, Loss=0.0618, Acc=97.04%]\n",
      "Epoch 9/50 [Val]:  35%|███▍      | 9/26 [00:02<00:03,  5.00it/s, Loss=0.4055, Acc=76.39%]"
     ]
    },
    {
     "name": "stdout",
     "output_type": "stream",
     "text": [
      "Warning: Corrupted image /kaggle/input/bone-fracture-multi-region-x-ray-data/Bone_Fracture_Binary_Classification/Bone_Fracture_Binary_Classification/val/not fractured/IMG0004134.jpg: image file is truncated (1 bytes not processed)\n",
      "Using black placeholder image\n"
     ]
    },
    {
     "name": "stderr",
     "output_type": "stream",
     "text": [
      "Epoch 9/50 [Val]:  35%|███▍      | 9/26 [00:02<00:03,  5.00it/s, Loss=0.4676, Acc=76.25%]"
     ]
    },
    {
     "name": "stdout",
     "output_type": "stream",
     "text": [
      "Warning: Corrupted image /kaggle/input/bone-fracture-multi-region-x-ray-data/Bone_Fracture_Binary_Classification/Bone_Fracture_Binary_Classification/val/not fractured/IMG0004347.jpg: image file is truncated (40 bytes not processed)\n",
      "Using black placeholder image\n",
      "Warning: Corrupted image /kaggle/input/bone-fracture-multi-region-x-ray-data/Bone_Fracture_Binary_Classification/Bone_Fracture_Binary_Classification/val/not fractured/IMG0004148.jpg: image file is truncated (14 bytes not processed)\n",
      "Using black placeholder image\n"
     ]
    },
    {
     "name": "stderr",
     "output_type": "stream",
     "text": [
      "Epoch 9/50 [Val]:  50%|█████     | 13/26 [00:02<00:01,  6.62it/s, Loss=0.0357, Acc=80.58%]"
     ]
    },
    {
     "name": "stdout",
     "output_type": "stream",
     "text": [
      "Warning: Corrupted image /kaggle/input/bone-fracture-multi-region-x-ray-data/Bone_Fracture_Binary_Classification/Bone_Fracture_Binary_Classification/val/not fractured/IMG0004143.jpg: image file is truncated (10 bytes not processed)\n",
      "Using black placeholder image\n",
      "Warning: Corrupted image /kaggle/input/bone-fracture-multi-region-x-ray-data/Bone_Fracture_Binary_Classification/Bone_Fracture_Binary_Classification/val/not fractured/IMG0004149.jpg: image file is truncated (33 bytes not processed)\n",
      "Using black placeholder image\n"
     ]
    },
    {
     "name": "stderr",
     "output_type": "stream",
     "text": [
      "Epoch 9/50 [Val]:  58%|█████▊    | 15/26 [00:03<00:01,  6.21it/s, Loss=0.0780, Acc=82.62%]"
     ]
    },
    {
     "name": "stdout",
     "output_type": "stream",
     "text": [
      "Warning: Corrupted image /kaggle/input/bone-fracture-multi-region-x-ray-data/Bone_Fracture_Binary_Classification/Bone_Fracture_Binary_Classification/val/not fractured/IMG0004308.jpg: image file is truncated (40 bytes not processed)\n",
      "Using black placeholder image\n"
     ]
    },
    {
     "name": "stderr",
     "output_type": "stream",
     "text": [
      "Epoch 9/50 [Val]: 100%|██████████| 26/26 [00:04<00:00,  5.80it/s, Loss=0.0626, Acc=87.70%]\n"
     ]
    },
    {
     "name": "stdout",
     "output_type": "stream",
     "text": [
      "Epoch 9/50:\n",
      "Train Loss: 0.0835, Train Acc: 97.04%\n",
      "Val Loss: 0.2468, Val Acc: 87.70%\n",
      "Learning Rate: 0.001000\n",
      "------------------------------------------------------------\n"
     ]
    },
    {
     "name": "stderr",
     "output_type": "stream",
     "text": [
      "Epoch 10/50 [Train]:   2%|▏         | 7/289 [00:01<00:57,  4.87it/s, Loss=0.0469, Acc=99.11%]"
     ]
    },
    {
     "name": "stdout",
     "output_type": "stream",
     "text": [
      "Warning: Corrupted image /kaggle/input/bone-fracture-multi-region-x-ray-data/Bone_Fracture_Binary_Classification/Bone_Fracture_Binary_Classification/train/not fractured/IMG0004149.jpg: image file is truncated (33 bytes not processed)\n",
      "Using black placeholder image\n",
      "Warning: Corrupted image /kaggle/input/bone-fracture-multi-region-x-ray-data/Bone_Fracture_Binary_Classification/Bone_Fracture_Binary_Classification/train/not fractured/IMG0004134.jpg: image file is truncated (1 bytes not processed)\n",
      "Using black placeholder image\n"
     ]
    },
    {
     "name": "stderr",
     "output_type": "stream",
     "text": [
      "Epoch 10/50 [Train]:   9%|▉         | 26/289 [00:05<00:48,  5.47it/s, Loss=0.0397, Acc=98.20%]"
     ]
    },
    {
     "name": "stdout",
     "output_type": "stream",
     "text": [
      "Warning: Corrupted image /kaggle/input/bone-fracture-multi-region-x-ray-data/Bone_Fracture_Binary_Classification/Bone_Fracture_Binary_Classification/train/not fractured/IMG0004143.jpg: image file is truncated (10 bytes not processed)\n",
      "Using black placeholder image\n"
     ]
    },
    {
     "name": "stderr",
     "output_type": "stream",
     "text": [
      "Epoch 10/50 [Train]:  13%|█▎        | 37/289 [00:07<00:45,  5.50it/s, Loss=0.0057, Acc=98.14%]"
     ]
    },
    {
     "name": "stdout",
     "output_type": "stream",
     "text": [
      "Warning: Corrupted image /kaggle/input/bone-fracture-multi-region-x-ray-data/Bone_Fracture_Binary_Classification/Bone_Fracture_Binary_Classification/train/not fractured/IMG0004308.jpg: image file is truncated (40 bytes not processed)\n",
      "Using black placeholder image\n"
     ]
    },
    {
     "name": "stderr",
     "output_type": "stream",
     "text": [
      "Epoch 10/50 [Train]:  13%|█▎        | 39/289 [00:07<00:45,  5.47it/s, Loss=0.0868, Acc=98.16%]"
     ]
    },
    {
     "name": "stdout",
     "output_type": "stream",
     "text": [
      "Warning: Corrupted image /kaggle/input/bone-fracture-multi-region-x-ray-data/Bone_Fracture_Binary_Classification/Bone_Fracture_Binary_Classification/train/not fractured/IMG0004148.jpg: image file is truncated (14 bytes not processed)\n",
      "Using black placeholder image\n"
     ]
    },
    {
     "name": "stderr",
     "output_type": "stream",
     "text": [
      "Epoch 10/50 [Train]:  66%|██████▋   | 192/289 [00:35<00:17,  5.48it/s, Loss=0.0038, Acc=97.49%]"
     ]
    },
    {
     "name": "stdout",
     "output_type": "stream",
     "text": [
      "Warning: Corrupted image /kaggle/input/bone-fracture-multi-region-x-ray-data/Bone_Fracture_Binary_Classification/Bone_Fracture_Binary_Classification/train/not fractured/IMG0004347.jpg: image file is truncated (40 bytes not processed)\n",
      "Using black placeholder image\n"
     ]
    },
    {
     "name": "stderr",
     "output_type": "stream",
     "text": [
      "Epoch 10/50 [Train]: 100%|██████████| 289/289 [00:53<00:00,  5.40it/s, Loss=0.0118, Acc=97.23%]\n",
      "Epoch 10/50 [Val]:  35%|███▍      | 9/26 [00:02<00:03,  5.40it/s, Loss=0.0857, Acc=97.22%]"
     ]
    },
    {
     "name": "stdout",
     "output_type": "stream",
     "text": [
      "Warning: Corrupted image /kaggle/input/bone-fracture-multi-region-x-ray-data/Bone_Fracture_Binary_Classification/Bone_Fracture_Binary_Classification/val/not fractured/IMG0004134.jpg: image file is truncated (1 bytes not processed)\n",
      "Using black placeholder image\n"
     ]
    },
    {
     "name": "stderr",
     "output_type": "stream",
     "text": [
      "Epoch 10/50 [Val]:  35%|███▍      | 9/26 [00:02<00:03,  5.40it/s, Loss=0.0949, Acc=97.19%]"
     ]
    },
    {
     "name": "stdout",
     "output_type": "stream",
     "text": [
      "Warning: Corrupted image /kaggle/input/bone-fracture-multi-region-x-ray-data/Bone_Fracture_Binary_Classification/Bone_Fracture_Binary_Classification/val/not fractured/IMG0004347.jpg: image file is truncated (40 bytes not processed)\n",
      "Using black placeholder image\n",
      "Warning: Corrupted image /kaggle/input/bone-fracture-multi-region-x-ray-data/Bone_Fracture_Binary_Classification/Bone_Fracture_Binary_Classification/val/not fractured/IMG0004148.jpg: image file is truncated (14 bytes not processed)\n",
      "Using black placeholder image\n"
     ]
    },
    {
     "name": "stderr",
     "output_type": "stream",
     "text": [
      "Epoch 10/50 [Val]:  50%|█████     | 13/26 [00:02<00:01,  6.65it/s, Loss=1.2165, Acc=85.27%]"
     ]
    },
    {
     "name": "stdout",
     "output_type": "stream",
     "text": [
      "Warning: Corrupted image /kaggle/input/bone-fracture-multi-region-x-ray-data/Bone_Fracture_Binary_Classification/Bone_Fracture_Binary_Classification/val/not fractured/IMG0004143.jpg: image file is truncated (10 bytes not processed)\n",
      "Using black placeholder image\n",
      "Warning: Corrupted image /kaggle/input/bone-fracture-multi-region-x-ray-data/Bone_Fracture_Binary_Classification/Bone_Fracture_Binary_Classification/val/not fractured/IMG0004308.jpg: image file is truncated (40 bytes not processed)\n",
      "Using black placeholder imageWarning: Corrupted image /kaggle/input/bone-fracture-multi-region-x-ray-data/Bone_Fracture_Binary_Classification/Bone_Fracture_Binary_Classification/val/not fractured/IMG0004149.jpg: image file is truncated (33 bytes not processed)\n",
      "\n",
      "Using black placeholder image\n"
     ]
    },
    {
     "name": "stderr",
     "output_type": "stream",
     "text": [
      "Epoch 10/50 [Val]: 100%|██████████| 26/26 [00:04<00:00,  5.93it/s, Loss=1.8126, Acc=71.41%]\n"
     ]
    },
    {
     "name": "stdout",
     "output_type": "stream",
     "text": [
      "Epoch 10/50:\n",
      "Train Loss: 0.0839, Train Acc: 97.23%\n",
      "Val Loss: 0.9505, Val Acc: 71.41%\n",
      "Learning Rate: 0.001000\n",
      "------------------------------------------------------------\n"
     ]
    },
    {
     "name": "stderr",
     "output_type": "stream",
     "text": [
      "Epoch 11/50 [Train]:   4%|▍         | 11/289 [00:02<00:51,  5.38it/s, Loss=0.0239, Acc=96.31%]"
     ]
    },
    {
     "name": "stdout",
     "output_type": "stream",
     "text": [
      "Warning: Corrupted image /kaggle/input/bone-fracture-multi-region-x-ray-data/Bone_Fracture_Binary_Classification/Bone_Fracture_Binary_Classification/train/not fractured/IMG0004308.jpg: image file is truncated (40 bytes not processed)\n",
      "Using black placeholder image\n"
     ]
    },
    {
     "name": "stderr",
     "output_type": "stream",
     "text": [
      "Epoch 11/50 [Train]:  54%|█████▎    | 155/289 [00:28<00:24,  5.47it/s, Loss=0.0612, Acc=97.32%]"
     ]
    },
    {
     "name": "stdout",
     "output_type": "stream",
     "text": [
      "Warning: Corrupted image /kaggle/input/bone-fracture-multi-region-x-ray-data/Bone_Fracture_Binary_Classification/Bone_Fracture_Binary_Classification/train/not fractured/IMG0004134.jpg: image file is truncated (1 bytes not processed)\n",
      "Using black placeholder image\n"
     ]
    },
    {
     "name": "stderr",
     "output_type": "stream",
     "text": [
      "Epoch 11/50 [Train]:  55%|█████▌    | 160/289 [00:29<00:23,  5.49it/s, Loss=0.0150, Acc=97.29%]"
     ]
    },
    {
     "name": "stdout",
     "output_type": "stream",
     "text": [
      "Warning: Corrupted image /kaggle/input/bone-fracture-multi-region-x-ray-data/Bone_Fracture_Binary_Classification/Bone_Fracture_Binary_Classification/train/not fractured/IMG0004148.jpg: image file is truncated (14 bytes not processed)\n",
      "Using black placeholder image\n"
     ]
    },
    {
     "name": "stderr",
     "output_type": "stream",
     "text": [
      "Epoch 11/50 [Train]:  56%|█████▌    | 162/289 [00:30<00:23,  5.46it/s, Loss=0.1179, Acc=97.26%]"
     ]
    },
    {
     "name": "stdout",
     "output_type": "stream",
     "text": [
      "Warning: Corrupted image /kaggle/input/bone-fracture-multi-region-x-ray-data/Bone_Fracture_Binary_Classification/Bone_Fracture_Binary_Classification/train/not fractured/IMG0004149.jpg: image file is truncated (33 bytes not processed)\n",
      "Using black placeholder image\n"
     ]
    },
    {
     "name": "stderr",
     "output_type": "stream",
     "text": [
      "Epoch 11/50 [Train]:  85%|████████▍ | 245/289 [00:45<00:08,  5.49it/s, Loss=0.1656, Acc=97.27%]"
     ]
    },
    {
     "name": "stdout",
     "output_type": "stream",
     "text": [
      "Warning: Corrupted image /kaggle/input/bone-fracture-multi-region-x-ray-data/Bone_Fracture_Binary_Classification/Bone_Fracture_Binary_Classification/train/not fractured/IMG0004143.jpg: image file is truncated (10 bytes not processed)\n",
      "Using black placeholder image\n"
     ]
    },
    {
     "name": "stderr",
     "output_type": "stream",
     "text": [
      "Epoch 11/50 [Train]:  94%|█████████▍| 271/289 [00:49<00:03,  5.45it/s, Loss=0.0545, Acc=97.27%]"
     ]
    },
    {
     "name": "stdout",
     "output_type": "stream",
     "text": [
      "Warning: Corrupted image /kaggle/input/bone-fracture-multi-region-x-ray-data/Bone_Fracture_Binary_Classification/Bone_Fracture_Binary_Classification/train/not fractured/IMG0004347.jpg: image file is truncated (40 bytes not processed)\n",
      "Using black placeholder image\n"
     ]
    },
    {
     "name": "stderr",
     "output_type": "stream",
     "text": [
      "Epoch 11/50 [Train]: 100%|██████████| 289/289 [00:53<00:00,  5.42it/s, Loss=0.1123, Acc=97.36%]\n",
      "Epoch 11/50 [Val]:  35%|███▍      | 9/26 [00:02<00:03,  5.14it/s, Loss=0.3375, Acc=94.79%]"
     ]
    },
    {
     "name": "stdout",
     "output_type": "stream",
     "text": [
      "Warning: Corrupted image /kaggle/input/bone-fracture-multi-region-x-ray-data/Bone_Fracture_Binary_Classification/Bone_Fracture_Binary_Classification/val/not fractured/IMG0004134.jpg: image file is truncated (1 bytes not processed)\n",
      "Using black placeholder image\n"
     ]
    },
    {
     "name": "stderr",
     "output_type": "stream",
     "text": [
      "Epoch 11/50 [Val]:  35%|███▍      | 9/26 [00:02<00:03,  5.14it/s, Loss=0.0685, Acc=95.00%]"
     ]
    },
    {
     "name": "stdout",
     "output_type": "stream",
     "text": [
      "Warning: Corrupted image /kaggle/input/bone-fracture-multi-region-x-ray-data/Bone_Fracture_Binary_Classification/Bone_Fracture_Binary_Classification/val/not fractured/IMG0004347.jpg: image file is truncated (40 bytes not processed)\n",
      "Using black placeholder image\n",
      "Warning: Corrupted image /kaggle/input/bone-fracture-multi-region-x-ray-data/Bone_Fracture_Binary_Classification/Bone_Fracture_Binary_Classification/val/not fractured/IMG0004148.jpg: image file is truncated (14 bytes not processed)\n",
      "Using black placeholder image\n"
     ]
    },
    {
     "name": "stderr",
     "output_type": "stream",
     "text": [
      "Epoch 11/50 [Val]:  50%|█████     | 13/26 [00:02<00:02,  6.39it/s, Loss=0.0849, Acc=94.42%]"
     ]
    },
    {
     "name": "stdout",
     "output_type": "stream",
     "text": [
      "Warning: Corrupted image /kaggle/input/bone-fracture-multi-region-x-ray-data/Bone_Fracture_Binary_Classification/Bone_Fracture_Binary_Classification/val/not fractured/IMG0004143.jpg: image file is truncated (10 bytes not processed)\n",
      "Using black placeholder image\n",
      "Warning: Corrupted image /kaggle/input/bone-fracture-multi-region-x-ray-data/Bone_Fracture_Binary_Classification/Bone_Fracture_Binary_Classification/val/not fractured/IMG0004308.jpg: image file is truncated (40 bytes not processed)\n",
      "Using black placeholder image\n",
      "Warning: Corrupted image /kaggle/input/bone-fracture-multi-region-x-ray-data/Bone_Fracture_Binary_Classification/Bone_Fracture_Binary_Classification/val/not fractured/IMG0004149.jpg: image file is truncated (33 bytes not processed)\n",
      "Using black placeholder image"
     ]
    },
    {
     "name": "stderr",
     "output_type": "stream",
     "text": [
      "Epoch 11/50 [Val]:  50%|█████     | 13/26 [00:03<00:02,  6.39it/s, Loss=0.0716, Acc=94.38%]"
     ]
    },
    {
     "name": "stdout",
     "output_type": "stream",
     "text": [
      "\n"
     ]
    },
    {
     "name": "stderr",
     "output_type": "stream",
     "text": [
      "Epoch 11/50 [Val]: 100%|██████████| 26/26 [00:04<00:00,  5.81it/s, Loss=0.0885, Acc=93.85%]\n"
     ]
    },
    {
     "name": "stdout",
     "output_type": "stream",
     "text": [
      "Epoch 11/50:\n",
      "Train Loss: 0.0761, Train Acc: 97.36%\n",
      "Val Loss: 0.1324, Val Acc: 93.85%\n",
      "Learning Rate: 0.001000\n",
      "------------------------------------------------------------\n"
     ]
    },
    {
     "name": "stderr",
     "output_type": "stream",
     "text": [
      "Epoch 12/50 [Train]:  25%|██▍       | 71/289 [00:13<00:39,  5.49it/s, Loss=0.0450, Acc=98.42%]"
     ]
    },
    {
     "name": "stdout",
     "output_type": "stream",
     "text": [
      "Warning: Corrupted image /kaggle/input/bone-fracture-multi-region-x-ray-data/Bone_Fracture_Binary_Classification/Bone_Fracture_Binary_Classification/train/not fractured/IMG0004143.jpg: image file is truncated (10 bytes not processed)\n",
      "Using black placeholder image\n"
     ]
    },
    {
     "name": "stderr",
     "output_type": "stream",
     "text": [
      "Epoch 12/50 [Train]:  30%|███       | 88/289 [00:16<00:36,  5.46it/s, Loss=0.1320, Acc=97.94%]"
     ]
    },
    {
     "name": "stdout",
     "output_type": "stream",
     "text": [
      "Warning: Corrupted image /kaggle/input/bone-fracture-multi-region-x-ray-data/Bone_Fracture_Binary_Classification/Bone_Fracture_Binary_Classification/train/not fractured/IMG0004148.jpg: image file is truncated (14 bytes not processed)\n",
      "Using black placeholder image\n"
     ]
    },
    {
     "name": "stderr",
     "output_type": "stream",
     "text": [
      "Epoch 12/50 [Train]:  57%|█████▋    | 164/289 [00:30<00:22,  5.49it/s, Loss=0.0236, Acc=97.88%]"
     ]
    },
    {
     "name": "stdout",
     "output_type": "stream",
     "text": [
      "Warning: Corrupted image /kaggle/input/bone-fracture-multi-region-x-ray-data/Bone_Fracture_Binary_Classification/Bone_Fracture_Binary_Classification/train/not fractured/IMG0004134.jpg: image file is truncated (1 bytes not processed)\n",
      "Using black placeholder image\n"
     ]
    },
    {
     "name": "stderr",
     "output_type": "stream",
     "text": [
      "Epoch 12/50 [Train]:  67%|██████▋   | 195/289 [00:36<00:17,  5.49it/s, Loss=0.2119, Acc=97.72%]"
     ]
    },
    {
     "name": "stdout",
     "output_type": "stream",
     "text": [
      "Warning: Corrupted image /kaggle/input/bone-fracture-multi-region-x-ray-data/Bone_Fracture_Binary_Classification/Bone_Fracture_Binary_Classification/train/not fractured/IMG0004149.jpg: image file is truncated (33 bytes not processed)\n",
      "Using black placeholder image\n"
     ]
    },
    {
     "name": "stderr",
     "output_type": "stream",
     "text": [
      "Epoch 12/50 [Train]:  71%|███████   | 204/289 [00:37<00:15,  5.42it/s, Loss=0.1378, Acc=97.72%]"
     ]
    },
    {
     "name": "stdout",
     "output_type": "stream",
     "text": [
      "Warning: Corrupted image /kaggle/input/bone-fracture-multi-region-x-ray-data/Bone_Fracture_Binary_Classification/Bone_Fracture_Binary_Classification/train/not fractured/IMG0004347.jpg: image file is truncated (40 bytes not processed)\n",
      "Using black placeholder image\n"
     ]
    },
    {
     "name": "stderr",
     "output_type": "stream",
     "text": [
      "Epoch 12/50 [Train]:  75%|███████▌  | 218/289 [00:40<00:12,  5.47it/s, Loss=0.0858, Acc=97.79%]"
     ]
    },
    {
     "name": "stdout",
     "output_type": "stream",
     "text": [
      "Warning: Corrupted image /kaggle/input/bone-fracture-multi-region-x-ray-data/Bone_Fracture_Binary_Classification/Bone_Fracture_Binary_Classification/train/not fractured/IMG0004308.jpg: image file is truncated (40 bytes not processed)\n",
      "Using black placeholder image\n"
     ]
    },
    {
     "name": "stderr",
     "output_type": "stream",
     "text": [
      "Epoch 12/50 [Train]: 100%|██████████| 289/289 [00:53<00:00,  5.40it/s, Loss=0.0184, Acc=97.74%]\n",
      "Epoch 12/50 [Val]:  35%|███▍      | 9/26 [00:02<00:03,  5.11it/s, Loss=0.5400, Acc=82.64%]"
     ]
    },
    {
     "name": "stdout",
     "output_type": "stream",
     "text": [
      "Warning: Corrupted image /kaggle/input/bone-fracture-multi-region-x-ray-data/Bone_Fracture_Binary_Classification/Bone_Fracture_Binary_Classification/val/not fractured/IMG0004134.jpg: image file is truncated (1 bytes not processed)\n",
      "Using black placeholder image\n"
     ]
    },
    {
     "name": "stderr",
     "output_type": "stream",
     "text": [
      "Epoch 12/50 [Val]:  35%|███▍      | 9/26 [00:02<00:03,  5.11it/s, Loss=0.5199, Acc=83.12%]"
     ]
    },
    {
     "name": "stdout",
     "output_type": "stream",
     "text": [
      "Warning: Corrupted image /kaggle/input/bone-fracture-multi-region-x-ray-data/Bone_Fracture_Binary_Classification/Bone_Fracture_Binary_Classification/val/not fractured/IMG0004347.jpg: image file is truncated (40 bytes not processed)\n",
      "Using black placeholder image\n",
      "Warning: Corrupted image /kaggle/input/bone-fracture-multi-region-x-ray-data/Bone_Fracture_Binary_Classification/Bone_Fracture_Binary_Classification/val/not fractured/IMG0004148.jpg: image file is truncated (14 bytes not processed)\n",
      "Using black placeholder image\n"
     ]
    },
    {
     "name": "stderr",
     "output_type": "stream",
     "text": [
      "Epoch 12/50 [Val]:  50%|█████     | 13/26 [00:03<00:02,  6.21it/s, Loss=0.1137, Acc=85.04%]"
     ]
    },
    {
     "name": "stdout",
     "output_type": "stream",
     "text": [
      "Warning: Corrupted image /kaggle/input/bone-fracture-multi-region-x-ray-data/Bone_Fracture_Binary_Classification/Bone_Fracture_Binary_Classification/val/not fractured/IMG0004143.jpg: image file is truncated (10 bytes not processed)\n",
      "Using black placeholder image\n",
      "Warning: Corrupted image /kaggle/input/bone-fracture-multi-region-x-ray-data/Bone_Fracture_Binary_Classification/Bone_Fracture_Binary_Classification/val/not fractured/IMG0004149.jpg: image file is truncated (33 bytes not processed)Warning: Corrupted image /kaggle/input/bone-fracture-multi-region-x-ray-data/Bone_Fracture_Binary_Classification/Bone_Fracture_Binary_Classification/val/not fractured/IMG0004308.jpg: image file is truncated (40 bytes not processed)\n",
      "\n",
      "Using black placeholder image\n",
      "Using black placeholder image\n"
     ]
    },
    {
     "name": "stderr",
     "output_type": "stream",
     "text": [
      "Epoch 12/50 [Val]: 100%|██████████| 26/26 [00:04<00:00,  5.41it/s, Loss=0.1279, Acc=89.99%]\n"
     ]
    },
    {
     "name": "stdout",
     "output_type": "stream",
     "text": [
      "Epoch 12/50:\n",
      "Train Loss: 0.0676, Train Acc: 97.74%\n",
      "Val Loss: 0.2531, Val Acc: 89.99%\n",
      "Learning Rate: 0.001000\n",
      "------------------------------------------------------------\n"
     ]
    },
    {
     "name": "stderr",
     "output_type": "stream",
     "text": [
      "Epoch 13/50 [Train]:   1%|          | 2/289 [00:00<01:40,  2.87it/s, Loss=0.0146, Acc=100.00%]"
     ]
    },
    {
     "name": "stdout",
     "output_type": "stream",
     "text": [
      "Warning: Corrupted image /kaggle/input/bone-fracture-multi-region-x-ray-data/Bone_Fracture_Binary_Classification/Bone_Fracture_Binary_Classification/train/not fractured/IMG0004347.jpg: image file is truncated (40 bytes not processed)\n",
      "Using black placeholder image\n"
     ]
    },
    {
     "name": "stderr",
     "output_type": "stream",
     "text": [
      "Epoch 13/50 [Train]:   1%|          | 3/289 [00:00<01:18,  3.67it/s, Loss=0.0248, Acc=100.00%]"
     ]
    },
    {
     "name": "stdout",
     "output_type": "stream",
     "text": [
      "Warning: Corrupted image /kaggle/input/bone-fracture-multi-region-x-ray-data/Bone_Fracture_Binary_Classification/Bone_Fracture_Binary_Classification/train/not fractured/IMG0004134.jpg: image file is truncated (1 bytes not processed)\n",
      "Using black placeholder image\n"
     ]
    },
    {
     "name": "stderr",
     "output_type": "stream",
     "text": [
      "Epoch 13/50 [Train]:  28%|██▊       | 82/289 [00:15<00:37,  5.46it/s, Loss=0.0092, Acc=98.02%]"
     ]
    },
    {
     "name": "stdout",
     "output_type": "stream",
     "text": [
      "Warning: Corrupted image /kaggle/input/bone-fracture-multi-region-x-ray-data/Bone_Fracture_Binary_Classification/Bone_Fracture_Binary_Classification/train/not fractured/IMG0004149.jpg: image file is truncated (33 bytes not processed)\n",
      "Using black placeholder image\n"
     ]
    },
    {
     "name": "stderr",
     "output_type": "stream",
     "text": [
      "Epoch 13/50 [Train]:  52%|█████▏    | 149/289 [00:27<00:25,  5.39it/s, Loss=0.0264, Acc=97.65%]"
     ]
    },
    {
     "name": "stdout",
     "output_type": "stream",
     "text": [
      "Warning: Corrupted image /kaggle/input/bone-fracture-multi-region-x-ray-data/Bone_Fracture_Binary_Classification/Bone_Fracture_Binary_Classification/train/not fractured/IMG0004143.jpg: image file is truncated (10 bytes not processed)\n",
      "Using black placeholder image\n"
     ]
    },
    {
     "name": "stderr",
     "output_type": "stream",
     "text": [
      "Epoch 13/50 [Train]:  79%|███████▉  | 229/289 [00:42<00:10,  5.48it/s, Loss=0.0391, Acc=97.16%]"
     ]
    },
    {
     "name": "stdout",
     "output_type": "stream",
     "text": [
      "Warning: Corrupted image /kaggle/input/bone-fracture-multi-region-x-ray-data/Bone_Fracture_Binary_Classification/Bone_Fracture_Binary_Classification/train/not fractured/IMG0004308.jpg: image file is truncated (40 bytes not processed)\n",
      "Using black placeholder image\n"
     ]
    },
    {
     "name": "stderr",
     "output_type": "stream",
     "text": [
      "Epoch 13/50 [Train]:  80%|████████  | 232/289 [00:42<00:10,  5.47it/s, Loss=0.0187, Acc=97.18%]"
     ]
    },
    {
     "name": "stdout",
     "output_type": "stream",
     "text": [
      "Warning: Corrupted image /kaggle/input/bone-fracture-multi-region-x-ray-data/Bone_Fracture_Binary_Classification/Bone_Fracture_Binary_Classification/train/not fractured/IMG0004148.jpg: image file is truncated (14 bytes not processed)\n",
      "Using black placeholder image\n"
     ]
    },
    {
     "name": "stderr",
     "output_type": "stream",
     "text": [
      "Epoch 13/50 [Train]: 100%|██████████| 289/289 [00:53<00:00,  5.42it/s, Loss=0.2554, Acc=97.39%]\n",
      "Epoch 13/50 [Val]:  35%|███▍      | 9/26 [00:02<00:03,  5.59it/s, Loss=0.0198, Acc=98.96%]"
     ]
    },
    {
     "name": "stdout",
     "output_type": "stream",
     "text": [
      "Warning: Corrupted image /kaggle/input/bone-fracture-multi-region-x-ray-data/Bone_Fracture_Binary_Classification/Bone_Fracture_Binary_Classification/val/not fractured/IMG0004134.jpg: image file is truncated (1 bytes not processed)\n",
      "Using black placeholder image\n"
     ]
    },
    {
     "name": "stderr",
     "output_type": "stream",
     "text": [
      "Epoch 13/50 [Val]:  35%|███▍      | 9/26 [00:02<00:03,  5.59it/s, Loss=0.0249, Acc=98.75%]"
     ]
    },
    {
     "name": "stdout",
     "output_type": "stream",
     "text": [
      "Warning: Corrupted image /kaggle/input/bone-fracture-multi-region-x-ray-data/Bone_Fracture_Binary_Classification/Bone_Fracture_Binary_Classification/val/not fractured/IMG0004347.jpg: image file is truncated (40 bytes not processed)\n",
      "Using black placeholder image\n",
      "Warning: Corrupted image /kaggle/input/bone-fracture-multi-region-x-ray-data/Bone_Fracture_Binary_Classification/Bone_Fracture_Binary_Classification/val/not fractured/IMG0004148.jpg: image file is truncated (14 bytes not processed)\n",
      "Using black placeholder image\n"
     ]
    },
    {
     "name": "stderr",
     "output_type": "stream",
     "text": [
      "Epoch 13/50 [Val]:  50%|█████     | 13/26 [00:02<00:01,  6.52it/s, Loss=2.9912, Acc=83.48%]"
     ]
    },
    {
     "name": "stdout",
     "output_type": "stream",
     "text": [
      "Warning: Corrupted image /kaggle/input/bone-fracture-multi-region-x-ray-data/Bone_Fracture_Binary_Classification/Bone_Fracture_Binary_Classification/val/not fractured/IMG0004143.jpg: image file is truncated (10 bytes not processed)\n",
      "Using black placeholder image\n",
      "Warning: Corrupted image /kaggle/input/bone-fracture-multi-region-x-ray-data/Bone_Fracture_Binary_Classification/Bone_Fracture_Binary_Classification/val/not fractured/IMG0004308.jpg: image file is truncated (40 bytes not processed)\n",
      "Using black placeholder image\n",
      "Warning: Corrupted image /kaggle/input/bone-fracture-multi-region-x-ray-data/Bone_Fracture_Binary_Classification/Bone_Fracture_Binary_Classification/val/not fractured/IMG0004149.jpg: image file is truncated (33 bytes not processed)\n",
      "Using black placeholder image\n"
     ]
    },
    {
     "name": "stderr",
     "output_type": "stream",
     "text": [
      "Epoch 13/50 [Val]: 100%|██████████| 26/26 [00:04<00:00,  5.87it/s, Loss=2.5779, Acc=64.54%]\n"
     ]
    },
    {
     "name": "stdout",
     "output_type": "stream",
     "text": [
      "Epoch 13/50:\n",
      "Train Loss: 0.0688, Train Acc: 97.39%\n",
      "Val Loss: 1.5966, Val Acc: 64.54%\n",
      "Learning Rate: 0.001000\n",
      "------------------------------------------------------------\n"
     ]
    },
    {
     "name": "stderr",
     "output_type": "stream",
     "text": [
      "Epoch 14/50 [Train]:  49%|████▉     | 141/289 [00:26<00:26,  5.49it/s, Loss=0.0154, Acc=97.76%]"
     ]
    },
    {
     "name": "stdout",
     "output_type": "stream",
     "text": [
      "Warning: Corrupted image /kaggle/input/bone-fracture-multi-region-x-ray-data/Bone_Fracture_Binary_Classification/Bone_Fracture_Binary_Classification/train/not fractured/IMG0004148.jpg: image file is truncated (14 bytes not processed)\n",
      "Using black placeholder image\n"
     ]
    },
    {
     "name": "stderr",
     "output_type": "stream",
     "text": [
      "Epoch 14/50 [Train]:  65%|██████▌   | 189/289 [00:35<00:18,  5.44it/s, Loss=0.0162, Acc=97.72%]"
     ]
    },
    {
     "name": "stdout",
     "output_type": "stream",
     "text": [
      "Warning: Corrupted image /kaggle/input/bone-fracture-multi-region-x-ray-data/Bone_Fracture_Binary_Classification/Bone_Fracture_Binary_Classification/train/not fractured/IMG0004308.jpg: image file is truncated (40 bytes not processed)\n",
      "Using black placeholder image\n"
     ]
    },
    {
     "name": "stderr",
     "output_type": "stream",
     "text": [
      "Epoch 14/50 [Train]:  73%|███████▎  | 212/289 [00:39<00:14,  5.47it/s, Loss=0.0052, Acc=97.80%]"
     ]
    },
    {
     "name": "stdout",
     "output_type": "stream",
     "text": [
      "Warning: Corrupted image /kaggle/input/bone-fracture-multi-region-x-ray-data/Bone_Fracture_Binary_Classification/Bone_Fracture_Binary_Classification/train/not fractured/IMG0004143.jpg: image file is truncated (10 bytes not processed)\n",
      "Using black placeholder image\n"
     ]
    },
    {
     "name": "stderr",
     "output_type": "stream",
     "text": [
      "Epoch 14/50 [Train]:  76%|███████▋  | 221/289 [00:41<00:12,  5.45it/s, Loss=0.0213, Acc=97.81%]"
     ]
    },
    {
     "name": "stdout",
     "output_type": "stream",
     "text": [
      "Warning: Corrupted image /kaggle/input/bone-fracture-multi-region-x-ray-data/Bone_Fracture_Binary_Classification/Bone_Fracture_Binary_Classification/train/not fractured/IMG0004347.jpg: image file is truncated (40 bytes not processed)\n",
      "Using black placeholder image\n"
     ]
    },
    {
     "name": "stderr",
     "output_type": "stream",
     "text": [
      "Epoch 14/50 [Train]:  83%|████████▎ | 239/289 [00:44<00:09,  5.47it/s, Loss=0.2025, Acc=97.71%]"
     ]
    },
    {
     "name": "stdout",
     "output_type": "stream",
     "text": [
      "Warning: Corrupted image /kaggle/input/bone-fracture-multi-region-x-ray-data/Bone_Fracture_Binary_Classification/Bone_Fracture_Binary_Classification/train/not fractured/IMG0004149.jpg: image file is truncated (33 bytes not processed)\n",
      "Using black placeholder image\n"
     ]
    },
    {
     "name": "stderr",
     "output_type": "stream",
     "text": [
      "Epoch 14/50 [Train]:  86%|████████▌ | 248/289 [00:46<00:07,  5.47it/s, Loss=0.0938, Acc=97.68%]"
     ]
    },
    {
     "name": "stdout",
     "output_type": "stream",
     "text": [
      "Warning: Corrupted image /kaggle/input/bone-fracture-multi-region-x-ray-data/Bone_Fracture_Binary_Classification/Bone_Fracture_Binary_Classification/train/not fractured/IMG0004134.jpg: image file is truncated (1 bytes not processed)\n",
      "Using black placeholder image\n"
     ]
    },
    {
     "name": "stderr",
     "output_type": "stream",
     "text": [
      "Epoch 14/50 [Train]: 100%|██████████| 289/289 [00:53<00:00,  5.40it/s, Loss=0.0037, Acc=97.74%]\n",
      "Epoch 14/50 [Val]:  35%|███▍      | 9/26 [00:02<00:03,  5.09it/s, Loss=0.1424, Acc=95.14%]"
     ]
    },
    {
     "name": "stdout",
     "output_type": "stream",
     "text": [
      "Warning: Corrupted image /kaggle/input/bone-fracture-multi-region-x-ray-data/Bone_Fracture_Binary_Classification/Bone_Fracture_Binary_Classification/val/not fractured/IMG0004134.jpg: image file is truncated (1 bytes not processed)\n",
      "Using black placeholder image\n"
     ]
    },
    {
     "name": "stderr",
     "output_type": "stream",
     "text": [
      "Epoch 14/50 [Val]:  35%|███▍      | 9/26 [00:02<00:03,  5.09it/s, Loss=0.2865, Acc=95.00%]"
     ]
    },
    {
     "name": "stdout",
     "output_type": "stream",
     "text": [
      "Warning: Corrupted image /kaggle/input/bone-fracture-multi-region-x-ray-data/Bone_Fracture_Binary_Classification/Bone_Fracture_Binary_Classification/val/not fractured/IMG0004347.jpg: image file is truncated (40 bytes not processed)\n",
      "Using black placeholder image\n",
      "Warning: Corrupted image /kaggle/input/bone-fracture-multi-region-x-ray-data/Bone_Fracture_Binary_Classification/Bone_Fracture_Binary_Classification/val/not fractured/IMG0004148.jpg: image file is truncated (14 bytes not processed)\n",
      "Using black placeholder image\n"
     ]
    },
    {
     "name": "stderr",
     "output_type": "stream",
     "text": [
      "Epoch 14/50 [Val]:  50%|█████     | 13/26 [00:02<00:02,  6.46it/s, Loss=0.1834, Acc=95.54%]"
     ]
    },
    {
     "name": "stdout",
     "output_type": "stream",
     "text": [
      "Warning: Corrupted image /kaggle/input/bone-fracture-multi-region-x-ray-data/Bone_Fracture_Binary_Classification/Bone_Fracture_Binary_Classification/val/not fractured/IMG0004143.jpg: image file is truncated (10 bytes not processed)\n",
      "Using black placeholder image\n",
      "Warning: Corrupted image /kaggle/input/bone-fracture-multi-region-x-ray-data/Bone_Fracture_Binary_Classification/Bone_Fracture_Binary_Classification/val/not fractured/IMG0004308.jpg: image file is truncated (40 bytes not processed)\n",
      "Using black placeholder image\n",
      "Warning: Corrupted image /kaggle/input/bone-fracture-multi-region-x-ray-data/Bone_Fracture_Binary_Classification/Bone_Fracture_Binary_Classification/val/not fractured/IMG0004149.jpg: image file is truncated (33 bytes not processed)\n",
      "Using black placeholder image\n"
     ]
    },
    {
     "name": "stderr",
     "output_type": "stream",
     "text": [
      "Epoch 14/50 [Val]: 100%|██████████| 26/26 [00:04<00:00,  5.77it/s, Loss=0.1850, Acc=96.14%]\n"
     ]
    },
    {
     "name": "stdout",
     "output_type": "stream",
     "text": [
      "Epoch 14/50:\n",
      "Train Loss: 0.0625, Train Acc: 97.74%\n",
      "Val Loss: 0.1387, Val Acc: 96.14%\n",
      "Learning Rate: 0.001000\n",
      "------------------------------------------------------------\n",
      "New best model saved with validation accuracy: 96.14%\n"
     ]
    },
    {
     "name": "stderr",
     "output_type": "stream",
     "text": [
      "Epoch 15/50 [Train]:  15%|█▍        | 42/289 [00:08<00:45,  5.41it/s, Loss=0.0937, Acc=98.14%]"
     ]
    },
    {
     "name": "stdout",
     "output_type": "stream",
     "text": [
      "Warning: Corrupted image /kaggle/input/bone-fracture-multi-region-x-ray-data/Bone_Fracture_Binary_Classification/Bone_Fracture_Binary_Classification/train/not fractured/IMG0004134.jpg: image file is truncated (1 bytes not processed)\n",
      "Using black placeholder image\n"
     ]
    },
    {
     "name": "stderr",
     "output_type": "stream",
     "text": [
      "Epoch 15/50 [Train]:  28%|██▊       | 81/289 [00:15<00:37,  5.48it/s, Loss=0.1328, Acc=97.96%]"
     ]
    },
    {
     "name": "stdout",
     "output_type": "stream",
     "text": [
      "Warning: Corrupted image /kaggle/input/bone-fracture-multi-region-x-ray-data/Bone_Fracture_Binary_Classification/Bone_Fracture_Binary_Classification/train/not fractured/IMG0004347.jpg: image file is truncated (40 bytes not processed)\n",
      "Using black placeholder image\n"
     ]
    },
    {
     "name": "stderr",
     "output_type": "stream",
     "text": [
      "Epoch 15/50 [Train]:  35%|███▌      | 102/289 [00:19<00:34,  5.46it/s, Loss=0.0774, Acc=98.01%]"
     ]
    },
    {
     "name": "stdout",
     "output_type": "stream",
     "text": [
      "Warning: Corrupted image /kaggle/input/bone-fracture-multi-region-x-ray-data/Bone_Fracture_Binary_Classification/Bone_Fracture_Binary_Classification/train/not fractured/IMG0004143.jpg: image file is truncated (10 bytes not processed)\n",
      "Using black placeholder image\n"
     ]
    },
    {
     "name": "stderr",
     "output_type": "stream",
     "text": [
      "Epoch 15/50 [Train]:  56%|█████▌    | 161/289 [00:29<00:23,  5.47it/s, Loss=0.0508, Acc=97.98%]"
     ]
    },
    {
     "name": "stdout",
     "output_type": "stream",
     "text": [
      "Warning: Corrupted image /kaggle/input/bone-fracture-multi-region-x-ray-data/Bone_Fracture_Binary_Classification/Bone_Fracture_Binary_Classification/train/not fractured/IMG0004149.jpg: image file is truncated (33 bytes not processed)\n",
      "Using black placeholder image\n"
     ]
    },
    {
     "name": "stderr",
     "output_type": "stream",
     "text": [
      "Epoch 15/50 [Train]:  56%|█████▌    | 162/289 [00:30<00:23,  5.50it/s, Loss=0.1393, Acc=97.94%]"
     ]
    },
    {
     "name": "stdout",
     "output_type": "stream",
     "text": [
      "Warning: Corrupted image /kaggle/input/bone-fracture-multi-region-x-ray-data/Bone_Fracture_Binary_Classification/Bone_Fracture_Binary_Classification/train/not fractured/IMG0004308.jpg: image file is truncated (40 bytes not processed)\n",
      "Using black placeholder image\n"
     ]
    },
    {
     "name": "stderr",
     "output_type": "stream",
     "text": [
      "Epoch 15/50 [Train]:  97%|█████████▋| 280/289 [00:51<00:01,  5.47it/s, Loss=0.0917, Acc=97.83%]"
     ]
    },
    {
     "name": "stdout",
     "output_type": "stream",
     "text": [
      "Warning: Corrupted image /kaggle/input/bone-fracture-multi-region-x-ray-data/Bone_Fracture_Binary_Classification/Bone_Fracture_Binary_Classification/train/not fractured/IMG0004148.jpg: image file is truncated (14 bytes not processed)\n",
      "Using black placeholder image\n"
     ]
    },
    {
     "name": "stderr",
     "output_type": "stream",
     "text": [
      "Epoch 15/50 [Train]: 100%|██████████| 289/289 [00:53<00:00,  5.42it/s, Loss=0.0701, Acc=97.84%]\n",
      "Epoch 15/50 [Val]:  35%|███▍      | 9/26 [00:02<00:03,  5.36it/s, Loss=0.2420, Acc=98.61%]"
     ]
    },
    {
     "name": "stdout",
     "output_type": "stream",
     "text": [
      "Warning: Corrupted image /kaggle/input/bone-fracture-multi-region-x-ray-data/Bone_Fracture_Binary_Classification/Bone_Fracture_Binary_Classification/val/not fractured/IMG0004134.jpg: image file is truncated (1 bytes not processed)\n",
      "Using black placeholder image\n"
     ]
    },
    {
     "name": "stderr",
     "output_type": "stream",
     "text": [
      "Epoch 15/50 [Val]:  35%|███▍      | 9/26 [00:02<00:03,  5.36it/s, Loss=0.2366, Acc=98.12%]"
     ]
    },
    {
     "name": "stdout",
     "output_type": "stream",
     "text": [
      "Warning: Corrupted image /kaggle/input/bone-fracture-multi-region-x-ray-data/Bone_Fracture_Binary_Classification/Bone_Fracture_Binary_Classification/val/not fractured/IMG0004347.jpg: image file is truncated (40 bytes not processed)\n",
      "Using black placeholder image\n",
      "Warning: Corrupted image /kaggle/input/bone-fracture-multi-region-x-ray-data/Bone_Fracture_Binary_Classification/Bone_Fracture_Binary_Classification/val/not fractured/IMG0004148.jpg: image file is truncated (14 bytes not processed)\n",
      "Using black placeholder image\n"
     ]
    },
    {
     "name": "stderr",
     "output_type": "stream",
     "text": [
      "Epoch 15/50 [Val]:  50%|█████     | 13/26 [00:02<00:01,  6.70it/s, Loss=0.5532, Acc=93.08%]"
     ]
    },
    {
     "name": "stdout",
     "output_type": "stream",
     "text": [
      "Warning: Corrupted image /kaggle/input/bone-fracture-multi-region-x-ray-data/Bone_Fracture_Binary_Classification/Bone_Fracture_Binary_Classification/val/not fractured/IMG0004143.jpg: image file is truncated (10 bytes not processed)\n",
      "Using black placeholder image\n",
      "Warning: Corrupted image /kaggle/input/bone-fracture-multi-region-x-ray-data/Bone_Fracture_Binary_Classification/Bone_Fracture_Binary_Classification/val/not fractured/IMG0004149.jpg: image file is truncated (33 bytes not processed)\n",
      "Using black placeholder image\n",
      "Warning: Corrupted image /kaggle/input/bone-fracture-multi-region-x-ray-data/Bone_Fracture_Binary_Classification/Bone_Fracture_Binary_Classification/val/not fractured/IMG0004308.jpg: image file is truncated (40 bytes not processed)"
     ]
    },
    {
     "name": "stderr",
     "output_type": "stream",
     "text": [
      "Epoch 15/50 [Val]:  58%|█████▊    | 15/26 [00:03<00:01,  6.22it/s, Loss=0.3074, Acc=92.71%]"
     ]
    },
    {
     "name": "stdout",
     "output_type": "stream",
     "text": [
      "\n",
      "Using black placeholder image\n"
     ]
    },
    {
     "name": "stderr",
     "output_type": "stream",
     "text": [
      "Epoch 15/50 [Val]: 100%|██████████| 26/26 [00:04<00:00,  6.00it/s, Loss=0.3752, Acc=89.38%]\n"
     ]
    },
    {
     "name": "stdout",
     "output_type": "stream",
     "text": [
      "Epoch 15/50:\n",
      "Train Loss: 0.0642, Train Acc: 97.84%\n",
      "Val Loss: 0.2630, Val Acc: 89.38%\n",
      "Learning Rate: 0.001000\n",
      "------------------------------------------------------------\n"
     ]
    },
    {
     "name": "stderr",
     "output_type": "stream",
     "text": [
      "Epoch 16/50 [Train]:   0%|          | 0/289 [00:00<?, ?it/s]"
     ]
    },
    {
     "name": "stdout",
     "output_type": "stream",
     "text": [
      "Warning: Corrupted image /kaggle/input/bone-fracture-multi-region-x-ray-data/Bone_Fracture_Binary_Classification/Bone_Fracture_Binary_Classification/train/not fractured/IMG0004148.jpg: image file is truncated (14 bytes not processed)\n",
      "Using black placeholder image\n"
     ]
    },
    {
     "name": "stderr",
     "output_type": "stream",
     "text": [
      "Epoch 16/50 [Train]:   4%|▍         | 11/289 [00:02<00:52,  5.34it/s, Loss=0.3903, Acc=97.16%]"
     ]
    },
    {
     "name": "stdout",
     "output_type": "stream",
     "text": [
      "Warning: Corrupted image /kaggle/input/bone-fracture-multi-region-x-ray-data/Bone_Fracture_Binary_Classification/Bone_Fracture_Binary_Classification/train/not fractured/IMG0004347.jpg: image file is truncated (40 bytes not processed)\n",
      "Using black placeholder image\n"
     ]
    },
    {
     "name": "stderr",
     "output_type": "stream",
     "text": [
      "Epoch 16/50 [Train]:  27%|██▋       | 78/289 [00:14<00:38,  5.42it/s, Loss=0.1258, Acc=98.20%]"
     ]
    },
    {
     "name": "stdout",
     "output_type": "stream",
     "text": [
      "Warning: Corrupted image /kaggle/input/bone-fracture-multi-region-x-ray-data/Bone_Fracture_Binary_Classification/Bone_Fracture_Binary_Classification/train/not fractured/IMG0004149.jpg: image file is truncated (33 bytes not processed)\n",
      "Using black placeholder image\n"
     ]
    },
    {
     "name": "stderr",
     "output_type": "stream",
     "text": [
      "Epoch 16/50 [Train]:  39%|███▉      | 113/289 [00:21<00:32,  5.46it/s, Loss=0.0464, Acc=98.31%]"
     ]
    },
    {
     "name": "stdout",
     "output_type": "stream",
     "text": [
      "Warning: Corrupted image /kaggle/input/bone-fracture-multi-region-x-ray-data/Bone_Fracture_Binary_Classification/Bone_Fracture_Binary_Classification/train/not fractured/IMG0004134.jpg: image file is truncated (1 bytes not processed)\n",
      "Using black placeholder image\n"
     ]
    },
    {
     "name": "stderr",
     "output_type": "stream",
     "text": [
      "Epoch 16/50 [Train]:  51%|█████     | 147/289 [00:27<00:25,  5.49it/s, Loss=0.1807, Acc=98.21%]"
     ]
    },
    {
     "name": "stdout",
     "output_type": "stream",
     "text": [
      "Warning: Corrupted image /kaggle/input/bone-fracture-multi-region-x-ray-data/Bone_Fracture_Binary_Classification/Bone_Fracture_Binary_Classification/train/not fractured/IMG0004308.jpg: image file is truncated (40 bytes not processed)\n",
      "Using black placeholder image\n"
     ]
    },
    {
     "name": "stderr",
     "output_type": "stream",
     "text": [
      "Epoch 16/50 [Train]:  79%|███████▉  | 228/289 [00:42<00:11,  5.45it/s, Loss=0.0431, Acc=98.20%]"
     ]
    },
    {
     "name": "stdout",
     "output_type": "stream",
     "text": [
      "Warning: Corrupted image /kaggle/input/bone-fracture-multi-region-x-ray-data/Bone_Fracture_Binary_Classification/Bone_Fracture_Binary_Classification/train/not fractured/IMG0004143.jpg: image file is truncated (10 bytes not processed)\n",
      "Using black placeholder image\n"
     ]
    },
    {
     "name": "stderr",
     "output_type": "stream",
     "text": [
      "Epoch 16/50 [Train]: 100%|██████████| 289/289 [00:53<00:00,  5.42it/s, Loss=0.0550, Acc=98.22%]\n",
      "Epoch 16/50 [Val]:  35%|███▍      | 9/26 [00:02<00:03,  5.05it/s, Loss=0.0113, Acc=99.65%]"
     ]
    },
    {
     "name": "stdout",
     "output_type": "stream",
     "text": [
      "Warning: Corrupted image /kaggle/input/bone-fracture-multi-region-x-ray-data/Bone_Fracture_Binary_Classification/Bone_Fracture_Binary_Classification/val/not fractured/IMG0004134.jpg: image file is truncated (1 bytes not processed)\n",
      "Using black placeholder image\n"
     ]
    },
    {
     "name": "stderr",
     "output_type": "stream",
     "text": [
      "Epoch 16/50 [Val]:  35%|███▍      | 9/26 [00:02<00:03,  5.05it/s, Loss=0.0059, Acc=99.69%]"
     ]
    },
    {
     "name": "stdout",
     "output_type": "stream",
     "text": [
      "Warning: Corrupted image /kaggle/input/bone-fracture-multi-region-x-ray-data/Bone_Fracture_Binary_Classification/Bone_Fracture_Binary_Classification/val/not fractured/IMG0004347.jpg: image file is truncated (40 bytes not processed)\n",
      "Using black placeholder image\n",
      "Warning: Corrupted image /kaggle/input/bone-fracture-multi-region-x-ray-data/Bone_Fracture_Binary_Classification/Bone_Fracture_Binary_Classification/val/not fractured/IMG0004148.jpg: image file is truncated (14 bytes not processed)\n",
      "Using black placeholder image\n"
     ]
    },
    {
     "name": "stderr",
     "output_type": "stream",
     "text": [
      "Epoch 16/50 [Val]:  50%|█████     | 13/26 [00:02<00:02,  6.47it/s, Loss=4.5316, Acc=83.93%]"
     ]
    },
    {
     "name": "stdout",
     "output_type": "stream",
     "text": [
      "Warning: Corrupted image /kaggle/input/bone-fracture-multi-region-x-ray-data/Bone_Fracture_Binary_Classification/Bone_Fracture_Binary_Classification/val/not fractured/IMG0004143.jpg: image file is truncated (10 bytes not processed)\n",
      "Using black placeholder image\n",
      "Warning: Corrupted image /kaggle/input/bone-fracture-multi-region-x-ray-data/Bone_Fracture_Binary_Classification/Bone_Fracture_Binary_Classification/val/not fractured/IMG0004149.jpg: image file is truncated (33 bytes not processed)\n",
      "Using black placeholder image\n"
     ]
    },
    {
     "name": "stderr",
     "output_type": "stream",
     "text": [
      "Epoch 16/50 [Val]:  58%|█████▊    | 15/26 [00:03<00:01,  6.09it/s, Loss=3.9143, Acc=80.00%]"
     ]
    },
    {
     "name": "stdout",
     "output_type": "stream",
     "text": [
      "Warning: Corrupted image /kaggle/input/bone-fracture-multi-region-x-ray-data/Bone_Fracture_Binary_Classification/Bone_Fracture_Binary_Classification/val/not fractured/IMG0004308.jpg: image file is truncated (40 bytes not processed)\n",
      "Using black placeholder image\n"
     ]
    },
    {
     "name": "stderr",
     "output_type": "stream",
     "text": [
      "Epoch 16/50 [Val]: 100%|██████████| 26/26 [00:04<00:00,  5.56it/s, Loss=4.6300, Acc=61.64%]\n"
     ]
    },
    {
     "name": "stdout",
     "output_type": "stream",
     "text": [
      "Epoch 16/50:\n",
      "Train Loss: 0.0526, Train Acc: 98.22%\n",
      "Val Loss: 2.6182, Val Acc: 61.64%\n",
      "Learning Rate: 0.001000\n",
      "------------------------------------------------------------\n"
     ]
    },
    {
     "name": "stderr",
     "output_type": "stream",
     "text": [
      "Epoch 17/50 [Train]:  20%|██        | 58/289 [00:11<00:42,  5.48it/s, Loss=0.0110, Acc=97.95%]"
     ]
    },
    {
     "name": "stdout",
     "output_type": "stream",
     "text": [
      "Warning: Corrupted image /kaggle/input/bone-fracture-multi-region-x-ray-data/Bone_Fracture_Binary_Classification/Bone_Fracture_Binary_Classification/train/not fractured/IMG0004134.jpg: image file is truncated (1 bytes not processed)\n",
      "Using black placeholder image\n"
     ]
    },
    {
     "name": "stderr",
     "output_type": "stream",
     "text": [
      "Epoch 17/50 [Train]:  31%|███       | 89/289 [00:16<00:36,  5.48it/s, Loss=0.0303, Acc=97.93%]"
     ]
    },
    {
     "name": "stdout",
     "output_type": "stream",
     "text": [
      "Warning: Corrupted image /kaggle/input/bone-fracture-multi-region-x-ray-data/Bone_Fracture_Binary_Classification/Bone_Fracture_Binary_Classification/train/not fractured/IMG0004149.jpg: image file is truncated (33 bytes not processed)\n",
      "Using black placeholder image\n"
     ]
    },
    {
     "name": "stderr",
     "output_type": "stream",
     "text": [
      "Epoch 17/50 [Train]:  53%|█████▎    | 152/289 [00:28<00:25,  5.42it/s, Loss=0.0042, Acc=98.13%]"
     ]
    },
    {
     "name": "stdout",
     "output_type": "stream",
     "text": [
      "Warning: Corrupted image /kaggle/input/bone-fracture-multi-region-x-ray-data/Bone_Fracture_Binary_Classification/Bone_Fracture_Binary_Classification/train/not fractured/IMG0004143.jpg: image file is truncated (10 bytes not processed)\n",
      "Using black placeholder image\n"
     ]
    },
    {
     "name": "stderr",
     "output_type": "stream",
     "text": [
      "Epoch 17/50 [Train]:  55%|█████▌    | 160/289 [00:29<00:23,  5.46it/s, Loss=0.0242, Acc=98.11%]"
     ]
    },
    {
     "name": "stdout",
     "output_type": "stream",
     "text": [
      "Warning: Corrupted image /kaggle/input/bone-fracture-multi-region-x-ray-data/Bone_Fracture_Binary_Classification/Bone_Fracture_Binary_Classification/train/not fractured/IMG0004308.jpg: image file is truncated (40 bytes not processed)\n",
      "Using black placeholder image\n"
     ]
    },
    {
     "name": "stderr",
     "output_type": "stream",
     "text": [
      "Epoch 17/50 [Train]:  84%|████████▍ | 243/289 [00:44<00:08,  5.48it/s, Loss=0.2027, Acc=97.89%]"
     ]
    },
    {
     "name": "stdout",
     "output_type": "stream",
     "text": [
      "Warning: Corrupted image /kaggle/input/bone-fracture-multi-region-x-ray-data/Bone_Fracture_Binary_Classification/Bone_Fracture_Binary_Classification/train/not fractured/IMG0004148.jpg: image file is truncated (14 bytes not processed)\n",
      "Using black placeholder image\n"
     ]
    },
    {
     "name": "stderr",
     "output_type": "stream",
     "text": [
      "Epoch 17/50 [Train]:  89%|████████▉ | 258/289 [00:47<00:05,  5.48it/s, Loss=0.0388, Acc=97.89%]"
     ]
    },
    {
     "name": "stdout",
     "output_type": "stream",
     "text": [
      "Warning: Corrupted image /kaggle/input/bone-fracture-multi-region-x-ray-data/Bone_Fracture_Binary_Classification/Bone_Fracture_Binary_Classification/train/not fractured/IMG0004347.jpg: image file is truncated (40 bytes not processed)\n",
      "Using black placeholder image\n"
     ]
    },
    {
     "name": "stderr",
     "output_type": "stream",
     "text": [
      "Epoch 17/50 [Train]: 100%|██████████| 289/289 [00:53<00:00,  5.42it/s, Loss=0.1257, Acc=97.90%]\n",
      "Epoch 17/50 [Val]:  35%|███▍      | 9/26 [00:02<00:03,  5.57it/s, Loss=0.3281, Acc=92.36%]"
     ]
    },
    {
     "name": "stdout",
     "output_type": "stream",
     "text": [
      "Warning: Corrupted image /kaggle/input/bone-fracture-multi-region-x-ray-data/Bone_Fracture_Binary_Classification/Bone_Fracture_Binary_Classification/val/not fractured/IMG0004134.jpg: image file is truncated (1 bytes not processed)\n",
      "Using black placeholder image\n"
     ]
    },
    {
     "name": "stderr",
     "output_type": "stream",
     "text": [
      "Epoch 17/50 [Val]:  35%|███▍      | 9/26 [00:02<00:03,  5.57it/s, Loss=0.3060, Acc=92.19%]"
     ]
    },
    {
     "name": "stdout",
     "output_type": "stream",
     "text": [
      "Warning: Corrupted image /kaggle/input/bone-fracture-multi-region-x-ray-data/Bone_Fracture_Binary_Classification/Bone_Fracture_Binary_Classification/val/not fractured/IMG0004347.jpg: image file is truncated (40 bytes not processed)\n",
      "Using black placeholder image\n",
      "Warning: Corrupted image /kaggle/input/bone-fracture-multi-region-x-ray-data/Bone_Fracture_Binary_Classification/Bone_Fracture_Binary_Classification/val/not fractured/IMG0004148.jpg: image file is truncated (14 bytes not processed)\n",
      "Using black placeholder image\n"
     ]
    },
    {
     "name": "stderr",
     "output_type": "stream",
     "text": [
      "Epoch 17/50 [Val]:  50%|█████     | 13/26 [00:02<00:01,  6.77it/s, Loss=0.2099, Acc=93.08%]"
     ]
    },
    {
     "name": "stdout",
     "output_type": "stream",
     "text": [
      "Warning: Corrupted image /kaggle/input/bone-fracture-multi-region-x-ray-data/Bone_Fracture_Binary_Classification/Bone_Fracture_Binary_Classification/val/not fractured/IMG0004143.jpg: image file is truncated (10 bytes not processed)\n",
      "Using black placeholder image\n",
      "Warning: Corrupted image /kaggle/input/bone-fracture-multi-region-x-ray-data/Bone_Fracture_Binary_Classification/Bone_Fracture_Binary_Classification/val/not fractured/IMG0004149.jpg: image file is truncated (33 bytes not processed)\n",
      "Using black placeholder image"
     ]
    },
    {
     "name": "stderr",
     "output_type": "stream",
     "text": [
      "Epoch 17/50 [Val]:  58%|█████▊    | 15/26 [00:03<00:01,  5.97it/s, Loss=0.1204, Acc=93.33%]"
     ]
    },
    {
     "name": "stdout",
     "output_type": "stream",
     "text": [
      "\n",
      "Warning: Corrupted image /kaggle/input/bone-fracture-multi-region-x-ray-data/Bone_Fracture_Binary_Classification/Bone_Fracture_Binary_Classification/val/not fractured/IMG0004308.jpg: image file is truncated (40 bytes not processed)\n",
      "Using black placeholder image\n"
     ]
    },
    {
     "name": "stderr",
     "output_type": "stream",
     "text": [
      "Epoch 17/50 [Val]: 100%|██████████| 26/26 [00:04<00:00,  5.89it/s, Loss=0.1742, Acc=94.57%]\n"
     ]
    },
    {
     "name": "stdout",
     "output_type": "stream",
     "text": [
      "Epoch 17/50:\n",
      "Train Loss: 0.0590, Train Acc: 97.90%\n",
      "Val Loss: 0.2105, Val Acc: 94.57%\n",
      "Learning Rate: 0.000500\n",
      "------------------------------------------------------------\n"
     ]
    },
    {
     "name": "stderr",
     "output_type": "stream",
     "text": [
      "Epoch 18/50 [Train]:   5%|▍         | 14/289 [00:02<00:50,  5.43it/s, Loss=0.0024, Acc=98.66%]"
     ]
    },
    {
     "name": "stdout",
     "output_type": "stream",
     "text": [
      "Warning: Corrupted image /kaggle/input/bone-fracture-multi-region-x-ray-data/Bone_Fracture_Binary_Classification/Bone_Fracture_Binary_Classification/train/not fractured/IMG0004347.jpg: image file is truncated (40 bytes not processed)\n",
      "Using black placeholder image\n"
     ]
    },
    {
     "name": "stderr",
     "output_type": "stream",
     "text": [
      "Epoch 18/50 [Train]:   6%|▌         | 18/289 [00:03<00:49,  5.46it/s, Loss=0.1010, Acc=98.09%]"
     ]
    },
    {
     "name": "stdout",
     "output_type": "stream",
     "text": [
      "Warning: Corrupted image /kaggle/input/bone-fracture-multi-region-x-ray-data/Bone_Fracture_Binary_Classification/Bone_Fracture_Binary_Classification/train/not fractured/IMG0004134.jpg: image file is truncated (1 bytes not processed)\n",
      "Using black placeholder image\n"
     ]
    },
    {
     "name": "stderr",
     "output_type": "stream",
     "text": [
      "Epoch 18/50 [Train]:   7%|▋         | 21/289 [00:04<00:49,  5.43it/s, Loss=0.0073, Acc=98.21%]"
     ]
    },
    {
     "name": "stdout",
     "output_type": "stream",
     "text": [
      "Warning: Corrupted image /kaggle/input/bone-fracture-multi-region-x-ray-data/Bone_Fracture_Binary_Classification/Bone_Fracture_Binary_Classification/train/not fractured/IMG0004143.jpg: image file is truncated (10 bytes not processed)\n",
      "Using black placeholder image\n"
     ]
    },
    {
     "name": "stderr",
     "output_type": "stream",
     "text": [
      "Epoch 18/50 [Train]:   9%|▉         | 27/289 [00:05<00:47,  5.48it/s, Loss=0.0554, Acc=98.03%]"
     ]
    },
    {
     "name": "stdout",
     "output_type": "stream",
     "text": [
      "Warning: Corrupted image /kaggle/input/bone-fracture-multi-region-x-ray-data/Bone_Fracture_Binary_Classification/Bone_Fracture_Binary_Classification/train/not fractured/IMG0004148.jpg: image file is truncated (14 bytes not processed)\n",
      "Using black placeholder image\n"
     ]
    },
    {
     "name": "stderr",
     "output_type": "stream",
     "text": [
      "Epoch 18/50 [Train]:  33%|███▎      | 94/289 [00:17<00:35,  5.45it/s, Loss=0.0122, Acc=98.24%]"
     ]
    },
    {
     "name": "stdout",
     "output_type": "stream",
     "text": [
      "Warning: Corrupted image /kaggle/input/bone-fracture-multi-region-x-ray-data/Bone_Fracture_Binary_Classification/Bone_Fracture_Binary_Classification/train/not fractured/IMG0004149.jpg: image file is truncated (33 bytes not processed)\n",
      "Using black placeholder image\n"
     ]
    },
    {
     "name": "stderr",
     "output_type": "stream",
     "text": [
      "Epoch 18/50 [Train]:  44%|████▍     | 128/289 [00:23<00:29,  5.41it/s, Loss=0.0035, Acc=98.51%]"
     ]
    },
    {
     "name": "stdout",
     "output_type": "stream",
     "text": [
      "Warning: Corrupted image /kaggle/input/bone-fracture-multi-region-x-ray-data/Bone_Fracture_Binary_Classification/Bone_Fracture_Binary_Classification/train/not fractured/IMG0004308.jpg: image file is truncated (40 bytes not processed)\n",
      "Using black placeholder image\n"
     ]
    },
    {
     "name": "stderr",
     "output_type": "stream",
     "text": [
      "Epoch 18/50 [Train]: 100%|██████████| 289/289 [00:53<00:00,  5.42it/s, Loss=0.0041, Acc=98.78%]\n",
      "Epoch 18/50 [Val]:  35%|███▍      | 9/26 [00:02<00:03,  5.24it/s, Loss=0.1250, Acc=97.22%]"
     ]
    },
    {
     "name": "stdout",
     "output_type": "stream",
     "text": [
      "Warning: Corrupted image /kaggle/input/bone-fracture-multi-region-x-ray-data/Bone_Fracture_Binary_Classification/Bone_Fracture_Binary_Classification/val/not fractured/IMG0004134.jpg: image file is truncated (1 bytes not processed)\n",
      "Using black placeholder image\n"
     ]
    },
    {
     "name": "stderr",
     "output_type": "stream",
     "text": [
      "Epoch 18/50 [Val]:  35%|███▍      | 9/26 [00:02<00:03,  5.24it/s, Loss=0.1397, Acc=97.19%]"
     ]
    },
    {
     "name": "stdout",
     "output_type": "stream",
     "text": [
      "Warning: Corrupted image /kaggle/input/bone-fracture-multi-region-x-ray-data/Bone_Fracture_Binary_Classification/Bone_Fracture_Binary_Classification/val/not fractured/IMG0004347.jpg: image file is truncated (40 bytes not processed)\n",
      "Using black placeholder image\n",
      "Warning: Corrupted image /kaggle/input/bone-fracture-multi-region-x-ray-data/Bone_Fracture_Binary_Classification/Bone_Fracture_Binary_Classification/val/not fractured/IMG0004148.jpg: image file is truncated (14 bytes not processed)\n",
      "Using black placeholder image\n"
     ]
    },
    {
     "name": "stderr",
     "output_type": "stream",
     "text": [
      "Epoch 18/50 [Val]:  50%|█████     | 13/26 [00:02<00:01,  6.53it/s, Loss=0.0643, Acc=96.21%]"
     ]
    },
    {
     "name": "stdout",
     "output_type": "stream",
     "text": [
      "Warning: Corrupted image /kaggle/input/bone-fracture-multi-region-x-ray-data/Bone_Fracture_Binary_Classification/Bone_Fracture_Binary_Classification/val/not fractured/IMG0004143.jpg: image file is truncated (10 bytes not processed)\n",
      "Using black placeholder image\n",
      "Warning: Corrupted image /kaggle/input/bone-fracture-multi-region-x-ray-data/Bone_Fracture_Binary_Classification/Bone_Fracture_Binary_Classification/val/not fractured/IMG0004308.jpg: image file is truncated (40 bytes not processed)\n",
      "Using black placeholder image\n",
      "Warning: Corrupted image /kaggle/input/bone-fracture-multi-region-x-ray-data/Bone_Fracture_Binary_Classification/Bone_Fracture_Binary_Classification/val/not fractured/IMG0004149.jpg: image file is truncated (33 bytes not processed)\n",
      "Using black placeholder image\n"
     ]
    },
    {
     "name": "stderr",
     "output_type": "stream",
     "text": [
      "Epoch 18/50 [Val]: 100%|██████████| 26/26 [00:04<00:00,  5.81it/s, Loss=0.0864, Acc=96.50%]\n"
     ]
    },
    {
     "name": "stdout",
     "output_type": "stream",
     "text": [
      "Epoch 18/50:\n",
      "Train Loss: 0.0306, Train Acc: 98.78%\n",
      "Val Loss: 0.0846, Val Acc: 96.50%\n",
      "Learning Rate: 0.000500\n",
      "------------------------------------------------------------\n",
      "New best model saved with validation accuracy: 96.50%\n"
     ]
    },
    {
     "name": "stderr",
     "output_type": "stream",
     "text": [
      "Epoch 19/50 [Train]:   5%|▍         | 14/289 [00:03<00:50,  5.42it/s, Loss=0.0014, Acc=98.88%]"
     ]
    },
    {
     "name": "stdout",
     "output_type": "stream",
     "text": [
      "Warning: Corrupted image /kaggle/input/bone-fracture-multi-region-x-ray-data/Bone_Fracture_Binary_Classification/Bone_Fracture_Binary_Classification/train/not fractured/IMG0004347.jpg: image file is truncated (40 bytes not processed)\n",
      "Using black placeholder image\n"
     ]
    },
    {
     "name": "stderr",
     "output_type": "stream",
     "text": [
      "Epoch 19/50 [Train]:  20%|██        | 58/289 [00:11<00:42,  5.45it/s, Loss=0.0220, Acc=99.03%]"
     ]
    },
    {
     "name": "stdout",
     "output_type": "stream",
     "text": [
      "Warning: Corrupted image /kaggle/input/bone-fracture-multi-region-x-ray-data/Bone_Fracture_Binary_Classification/Bone_Fracture_Binary_Classification/train/not fractured/IMG0004149.jpg: image file is truncated (33 bytes not processed)\n",
      "Using black placeholder image\n"
     ]
    },
    {
     "name": "stderr",
     "output_type": "stream",
     "text": [
      "Epoch 19/50 [Train]:  42%|████▏     | 120/289 [00:22<00:31,  5.44it/s, Loss=0.0104, Acc=99.04%]"
     ]
    },
    {
     "name": "stdout",
     "output_type": "stream",
     "text": [
      "Warning: Corrupted image /kaggle/input/bone-fracture-multi-region-x-ray-data/Bone_Fracture_Binary_Classification/Bone_Fracture_Binary_Classification/train/not fractured/IMG0004134.jpg: image file is truncated (1 bytes not processed)\n",
      "Using black placeholder image\n"
     ]
    },
    {
     "name": "stderr",
     "output_type": "stream",
     "text": [
      "Epoch 19/50 [Train]:  73%|███████▎  | 210/289 [00:38<00:14,  5.46it/s, Loss=0.0044, Acc=99.21%]"
     ]
    },
    {
     "name": "stdout",
     "output_type": "stream",
     "text": [
      "Warning: Corrupted image /kaggle/input/bone-fracture-multi-region-x-ray-data/Bone_Fracture_Binary_Classification/Bone_Fracture_Binary_Classification/train/not fractured/IMG0004148.jpg: image file is truncated (14 bytes not processed)\n",
      "Using black placeholder image\n"
     ]
    },
    {
     "name": "stderr",
     "output_type": "stream",
     "text": [
      "Epoch 19/50 [Train]:  74%|███████▍  | 215/289 [00:39<00:13,  5.48it/s, Loss=0.0627, Acc=99.19%]"
     ]
    },
    {
     "name": "stdout",
     "output_type": "stream",
     "text": [
      "Warning: Corrupted image /kaggle/input/bone-fracture-multi-region-x-ray-data/Bone_Fracture_Binary_Classification/Bone_Fracture_Binary_Classification/train/not fractured/IMG0004143.jpg: image file is truncated (10 bytes not processed)\n",
      "Using black placeholder image\n"
     ]
    },
    {
     "name": "stderr",
     "output_type": "stream",
     "text": [
      "Epoch 19/50 [Train]:  97%|█████████▋| 280/289 [00:51<00:01,  5.48it/s, Loss=0.0633, Acc=99.05%]"
     ]
    },
    {
     "name": "stdout",
     "output_type": "stream",
     "text": [
      "Warning: Corrupted image /kaggle/input/bone-fracture-multi-region-x-ray-data/Bone_Fracture_Binary_Classification/Bone_Fracture_Binary_Classification/train/not fractured/IMG0004308.jpg: image file is truncated (40 bytes not processed)\n",
      "Using black placeholder image\n"
     ]
    },
    {
     "name": "stderr",
     "output_type": "stream",
     "text": [
      "Epoch 19/50 [Train]: 100%|██████████| 289/289 [00:53<00:00,  5.40it/s, Loss=0.0373, Acc=99.03%]\n",
      "Epoch 19/50 [Val]:  35%|███▍      | 9/26 [00:02<00:03,  5.26it/s, Loss=0.0968, Acc=98.61%]"
     ]
    },
    {
     "name": "stdout",
     "output_type": "stream",
     "text": [
      "Warning: Corrupted image /kaggle/input/bone-fracture-multi-region-x-ray-data/Bone_Fracture_Binary_Classification/Bone_Fracture_Binary_Classification/val/not fractured/IMG0004134.jpg: image file is truncated (1 bytes not processed)\n",
      "Using black placeholder image\n"
     ]
    },
    {
     "name": "stderr",
     "output_type": "stream",
     "text": [
      "Epoch 19/50 [Val]:  35%|███▍      | 9/26 [00:02<00:03,  5.26it/s, Loss=0.0254, Acc=98.75%]"
     ]
    },
    {
     "name": "stdout",
     "output_type": "stream",
     "text": [
      "Warning: Corrupted image /kaggle/input/bone-fracture-multi-region-x-ray-data/Bone_Fracture_Binary_Classification/Bone_Fracture_Binary_Classification/val/not fractured/IMG0004347.jpg: image file is truncated (40 bytes not processed)\n",
      "Using black placeholder image\n",
      "Warning: Corrupted image /kaggle/input/bone-fracture-multi-region-x-ray-data/Bone_Fracture_Binary_Classification/Bone_Fracture_Binary_Classification/val/not fractured/IMG0004148.jpg: image file is truncated (14 bytes not processed)\n",
      "Using black placeholder image\n"
     ]
    },
    {
     "name": "stderr",
     "output_type": "stream",
     "text": [
      "Epoch 19/50 [Val]:  50%|█████     | 13/26 [00:02<00:01,  6.55it/s, Loss=0.0828, Acc=97.32%]"
     ]
    },
    {
     "name": "stdout",
     "output_type": "stream",
     "text": [
      "Warning: Corrupted image /kaggle/input/bone-fracture-multi-region-x-ray-data/Bone_Fracture_Binary_Classification/Bone_Fracture_Binary_Classification/val/not fractured/IMG0004143.jpg: image file is truncated (10 bytes not processed)\n",
      "Using black placeholder image\n",
      "Warning: Corrupted image /kaggle/input/bone-fracture-multi-region-x-ray-data/Bone_Fracture_Binary_Classification/Bone_Fracture_Binary_Classification/val/not fractured/IMG0004308.jpg: image file is truncated (40 bytes not processed)\n",
      "Using black placeholder image\n",
      "Warning: Corrupted image /kaggle/input/bone-fracture-multi-region-x-ray-data/Bone_Fracture_Binary_Classification/Bone_Fracture_Binary_Classification/val/not fractured/IMG0004149.jpg: image file is truncated (33 bytes not processed)\n",
      "Using black placeholder image\n"
     ]
    },
    {
     "name": "stderr",
     "output_type": "stream",
     "text": [
      "Epoch 19/50 [Val]: 100%|██████████| 26/26 [00:04<00:00,  5.92it/s, Loss=0.0786, Acc=96.62%]\n"
     ]
    },
    {
     "name": "stdout",
     "output_type": "stream",
     "text": [
      "Epoch 19/50:\n",
      "Train Loss: 0.0299, Train Acc: 99.03%\n",
      "Val Loss: 0.0636, Val Acc: 96.62%\n",
      "Learning Rate: 0.000500\n",
      "------------------------------------------------------------\n",
      "New best model saved with validation accuracy: 96.62%\n"
     ]
    },
    {
     "name": "stderr",
     "output_type": "stream",
     "text": [
      "Epoch 20/50 [Train]:   2%|▏         | 7/289 [00:01<00:56,  5.00it/s, Loss=0.2066, Acc=97.32%]"
     ]
    },
    {
     "name": "stdout",
     "output_type": "stream",
     "text": [
      "Warning: Corrupted image /kaggle/input/bone-fracture-multi-region-x-ray-data/Bone_Fracture_Binary_Classification/Bone_Fracture_Binary_Classification/train/not fractured/IMG0004347.jpg: image file is truncated (40 bytes not processed)\n",
      "Using black placeholder image\n"
     ]
    },
    {
     "name": "stderr",
     "output_type": "stream",
     "text": [
      "Epoch 20/50 [Train]:   7%|▋         | 19/289 [00:03<00:49,  5.46it/s, Loss=0.0065, Acc=98.19%]"
     ]
    },
    {
     "name": "stdout",
     "output_type": "stream",
     "text": [
      "Warning: Corrupted image /kaggle/input/bone-fracture-multi-region-x-ray-data/Bone_Fracture_Binary_Classification/Bone_Fracture_Binary_Classification/train/not fractured/IMG0004148.jpg: image file is truncated (14 bytes not processed)\n",
      "Using black placeholder image\n"
     ]
    },
    {
     "name": "stderr",
     "output_type": "stream",
     "text": [
      "Epoch 20/50 [Train]:  17%|█▋        | 50/289 [00:09<00:43,  5.50it/s, Loss=0.0009, Acc=98.75%]"
     ]
    },
    {
     "name": "stdout",
     "output_type": "stream",
     "text": [
      "Warning: Corrupted image /kaggle/input/bone-fracture-multi-region-x-ray-data/Bone_Fracture_Binary_Classification/Bone_Fracture_Binary_Classification/train/not fractured/IMG0004149.jpg: image file is truncated (33 bytes not processed)\n",
      "Using black placeholder image\n"
     ]
    },
    {
     "name": "stderr",
     "output_type": "stream",
     "text": [
      "Epoch 20/50 [Train]:  37%|███▋      | 108/289 [00:20<00:33,  5.45it/s, Loss=0.0037, Acc=98.78%]"
     ]
    },
    {
     "name": "stdout",
     "output_type": "stream",
     "text": [
      "Warning: Corrupted image /kaggle/input/bone-fracture-multi-region-x-ray-data/Bone_Fracture_Binary_Classification/Bone_Fracture_Binary_Classification/train/not fractured/IMG0004143.jpg: image file is truncated (10 bytes not processed)\n",
      "Using black placeholder image\n"
     ]
    },
    {
     "name": "stderr",
     "output_type": "stream",
     "text": [
      "Epoch 20/50 [Train]:  67%|██████▋   | 193/289 [00:35<00:17,  5.49it/s, Loss=0.1188, Acc=98.77%]"
     ]
    },
    {
     "name": "stdout",
     "output_type": "stream",
     "text": [
      "Warning: Corrupted image /kaggle/input/bone-fracture-multi-region-x-ray-data/Bone_Fracture_Binary_Classification/Bone_Fracture_Binary_Classification/train/not fractured/IMG0004134.jpg: image file is truncated (1 bytes not processed)\n",
      "Using black placeholder image\n"
     ]
    },
    {
     "name": "stderr",
     "output_type": "stream",
     "text": [
      "Epoch 20/50 [Train]:  93%|█████████▎| 268/289 [00:49<00:03,  5.47it/s, Loss=0.0904, Acc=98.82%]"
     ]
    },
    {
     "name": "stdout",
     "output_type": "stream",
     "text": [
      "Warning: Corrupted image /kaggle/input/bone-fracture-multi-region-x-ray-data/Bone_Fracture_Binary_Classification/Bone_Fracture_Binary_Classification/train/not fractured/IMG0004308.jpg: image file is truncated (40 bytes not processed)\n",
      "Using black placeholder image\n"
     ]
    },
    {
     "name": "stderr",
     "output_type": "stream",
     "text": [
      "Epoch 20/50 [Train]: 100%|██████████| 289/289 [00:53<00:00,  5.42it/s, Loss=0.0053, Acc=98.86%]\n",
      "Epoch 20/50 [Val]:  35%|███▍      | 9/26 [00:02<00:03,  5.42it/s, Loss=0.0698, Acc=98.61%]"
     ]
    },
    {
     "name": "stdout",
     "output_type": "stream",
     "text": [
      "Warning: Corrupted image /kaggle/input/bone-fracture-multi-region-x-ray-data/Bone_Fracture_Binary_Classification/Bone_Fracture_Binary_Classification/val/not fractured/IMG0004134.jpg: image file is truncated (1 bytes not processed)\n",
      "Using black placeholder image\n"
     ]
    },
    {
     "name": "stderr",
     "output_type": "stream",
     "text": [
      "Epoch 20/50 [Val]:  35%|███▍      | 9/26 [00:02<00:03,  5.42it/s, Loss=0.0341, Acc=98.75%]"
     ]
    },
    {
     "name": "stdout",
     "output_type": "stream",
     "text": [
      "Warning: Corrupted image /kaggle/input/bone-fracture-multi-region-x-ray-data/Bone_Fracture_Binary_Classification/Bone_Fracture_Binary_Classification/val/not fractured/IMG0004347.jpg: image file is truncated (40 bytes not processed)\n",
      "Using black placeholder image\n",
      "Warning: Corrupted image /kaggle/input/bone-fracture-multi-region-x-ray-data/Bone_Fracture_Binary_Classification/Bone_Fracture_Binary_Classification/val/not fractured/IMG0004148.jpg: image file is truncated (14 bytes not processed)\n",
      "Using black placeholder image\n"
     ]
    },
    {
     "name": "stderr",
     "output_type": "stream",
     "text": [
      "Epoch 20/50 [Val]:  50%|█████     | 13/26 [00:02<00:01,  6.65it/s, Loss=0.1662, Acc=97.10%]"
     ]
    },
    {
     "name": "stdout",
     "output_type": "stream",
     "text": [
      "Warning: Corrupted image /kaggle/input/bone-fracture-multi-region-x-ray-data/Bone_Fracture_Binary_Classification/Bone_Fracture_Binary_Classification/val/not fractured/IMG0004143.jpg: image file is truncated (10 bytes not processed)\n",
      "Using black placeholder image\n",
      "Warning: Corrupted image /kaggle/input/bone-fracture-multi-region-x-ray-data/Bone_Fracture_Binary_Classification/Bone_Fracture_Binary_Classification/val/not fractured/IMG0004308.jpg: image file is truncated (40 bytes not processed)\n",
      "Using black placeholder imageWarning: Corrupted image /kaggle/input/bone-fracture-multi-region-x-ray-data/Bone_Fracture_Binary_Classification/Bone_Fracture_Binary_Classification/val/not fractured/IMG0004149.jpg: image file is truncated (33 bytes not processed)\n",
      "\n",
      "Using black placeholder image"
     ]
    },
    {
     "name": "stderr",
     "output_type": "stream",
     "text": [
      "Epoch 20/50 [Val]:  50%|█████     | 13/26 [00:03<00:01,  6.65it/s, Loss=0.0372, Acc=97.08%]"
     ]
    },
    {
     "name": "stdout",
     "output_type": "stream",
     "text": [
      "\n"
     ]
    },
    {
     "name": "stderr",
     "output_type": "stream",
     "text": [
      "Epoch 20/50 [Val]: 100%|██████████| 26/26 [00:04<00:00,  5.90it/s, Loss=0.1153, Acc=96.02%]\n"
     ]
    },
    {
     "name": "stdout",
     "output_type": "stream",
     "text": [
      "Epoch 20/50:\n",
      "Train Loss: 0.0298, Train Acc: 98.86%\n",
      "Val Loss: 0.0830, Val Acc: 96.02%\n",
      "Learning Rate: 0.000500\n",
      "------------------------------------------------------------\n"
     ]
    },
    {
     "name": "stderr",
     "output_type": "stream",
     "text": [
      "Epoch 21/50 [Train]:  14%|█▍        | 41/289 [00:07<00:45,  5.42it/s, Loss=0.0274, Acc=99.39%]"
     ]
    },
    {
     "name": "stdout",
     "output_type": "stream",
     "text": [
      "Warning: Corrupted image /kaggle/input/bone-fracture-multi-region-x-ray-data/Bone_Fracture_Binary_Classification/Bone_Fracture_Binary_Classification/train/not fractured/IMG0004134.jpg: image file is truncated (1 bytes not processed)\n",
      "Using black placeholder image\n"
     ]
    },
    {
     "name": "stderr",
     "output_type": "stream",
     "text": [
      "Epoch 21/50 [Train]:  38%|███▊      | 111/289 [00:20<00:32,  5.46it/s, Loss=0.0019, Acc=99.16%]"
     ]
    },
    {
     "name": "stdout",
     "output_type": "stream",
     "text": [
      "Warning: Corrupted image /kaggle/input/bone-fracture-multi-region-x-ray-data/Bone_Fracture_Binary_Classification/Bone_Fracture_Binary_Classification/train/not fractured/IMG0004148.jpg: image file is truncated (14 bytes not processed)\n",
      "Using black placeholder image\n"
     ]
    },
    {
     "name": "stderr",
     "output_type": "stream",
     "text": [
      "Epoch 21/50 [Train]:  53%|█████▎    | 152/289 [00:28<00:24,  5.48it/s, Loss=0.0072, Acc=99.01%]"
     ]
    },
    {
     "name": "stdout",
     "output_type": "stream",
     "text": [
      "Warning: Corrupted image /kaggle/input/bone-fracture-multi-region-x-ray-data/Bone_Fracture_Binary_Classification/Bone_Fracture_Binary_Classification/train/not fractured/IMG0004149.jpg: image file is truncated (33 bytes not processed)\n",
      "Using black placeholder image\n"
     ]
    },
    {
     "name": "stderr",
     "output_type": "stream",
     "text": [
      "Epoch 21/50 [Train]:  63%|██████▎   | 182/289 [00:33<00:19,  5.49it/s, Loss=0.0062, Acc=99.00%]"
     ]
    },
    {
     "name": "stdout",
     "output_type": "stream",
     "text": [
      "Warning: Corrupted image /kaggle/input/bone-fracture-multi-region-x-ray-data/Bone_Fracture_Binary_Classification/Bone_Fracture_Binary_Classification/train/not fractured/IMG0004143.jpg: image file is truncated (10 bytes not processed)\n",
      "Using black placeholder image\n"
     ]
    },
    {
     "name": "stderr",
     "output_type": "stream",
     "text": [
      "Epoch 21/50 [Train]:  90%|█████████ | 261/289 [00:48<00:05,  5.46it/s, Loss=0.0011, Acc=99.14%]"
     ]
    },
    {
     "name": "stdout",
     "output_type": "stream",
     "text": [
      "Warning: Corrupted image /kaggle/input/bone-fracture-multi-region-x-ray-data/Bone_Fracture_Binary_Classification/Bone_Fracture_Binary_Classification/train/not fractured/IMG0004308.jpg: image file is truncated (40 bytes not processed)\n",
      "Using black placeholder image\n"
     ]
    },
    {
     "name": "stderr",
     "output_type": "stream",
     "text": [
      "Epoch 21/50 [Train]:  93%|█████████▎| 269/289 [00:49<00:03,  5.48it/s, Loss=0.0139, Acc=99.16%]"
     ]
    },
    {
     "name": "stdout",
     "output_type": "stream",
     "text": [
      "Warning: Corrupted image /kaggle/input/bone-fracture-multi-region-x-ray-data/Bone_Fracture_Binary_Classification/Bone_Fracture_Binary_Classification/train/not fractured/IMG0004347.jpg: image file is truncated (40 bytes not processed)\n",
      "Using black placeholder image\n"
     ]
    },
    {
     "name": "stderr",
     "output_type": "stream",
     "text": [
      "Epoch 21/50 [Train]: 100%|██████████| 289/289 [00:53<00:00,  5.41it/s, Loss=0.0049, Acc=99.12%]\n",
      "Epoch 21/50 [Val]:  35%|███▍      | 9/26 [00:02<00:03,  5.24it/s, Loss=0.0902, Acc=96.53%]"
     ]
    },
    {
     "name": "stdout",
     "output_type": "stream",
     "text": [
      "Warning: Corrupted image /kaggle/input/bone-fracture-multi-region-x-ray-data/Bone_Fracture_Binary_Classification/Bone_Fracture_Binary_Classification/val/not fractured/IMG0004134.jpg: image file is truncated (1 bytes not processed)\n",
      "Using black placeholder image\n"
     ]
    },
    {
     "name": "stderr",
     "output_type": "stream",
     "text": [
      "Epoch 21/50 [Val]:  35%|███▍      | 9/26 [00:02<00:03,  5.24it/s, Loss=0.0339, Acc=96.88%]"
     ]
    },
    {
     "name": "stdout",
     "output_type": "stream",
     "text": [
      "Warning: Corrupted image /kaggle/input/bone-fracture-multi-region-x-ray-data/Bone_Fracture_Binary_Classification/Bone_Fracture_Binary_Classification/val/not fractured/IMG0004347.jpg: image file is truncated (40 bytes not processed)\n",
      "Using black placeholder image\n",
      "Warning: Corrupted image /kaggle/input/bone-fracture-multi-region-x-ray-data/Bone_Fracture_Binary_Classification/Bone_Fracture_Binary_Classification/val/not fractured/IMG0004148.jpg: image file is truncated (14 bytes not processed)\n",
      "Using black placeholder image\n"
     ]
    },
    {
     "name": "stderr",
     "output_type": "stream",
     "text": [
      "Epoch 21/50 [Val]:  50%|█████     | 13/26 [00:02<00:01,  6.55it/s, Loss=0.1832, Acc=96.43%]"
     ]
    },
    {
     "name": "stdout",
     "output_type": "stream",
     "text": [
      "Warning: Corrupted image /kaggle/input/bone-fracture-multi-region-x-ray-data/Bone_Fracture_Binary_Classification/Bone_Fracture_Binary_Classification/val/not fractured/IMG0004143.jpg: image file is truncated (10 bytes not processed)\n",
      "Using black placeholder image\n",
      "Warning: Corrupted image /kaggle/input/bone-fracture-multi-region-x-ray-data/Bone_Fracture_Binary_Classification/Bone_Fracture_Binary_Classification/val/not fractured/IMG0004149.jpg: image file is truncated (33 bytes not processed)\n",
      "Using black placeholder image\n",
      "Warning: Corrupted image /kaggle/input/bone-fracture-multi-region-x-ray-data/Bone_Fracture_Binary_Classification/Bone_Fracture_Binary_Classification/val/not fractured/IMG0004308.jpg: image file is truncated (40 bytes not processed)"
     ]
    },
    {
     "name": "stderr",
     "output_type": "stream",
     "text": [
      "Epoch 21/50 [Val]:  50%|█████     | 13/26 [00:03<00:01,  6.55it/s, Loss=0.0532, Acc=96.46%]"
     ]
    },
    {
     "name": "stdout",
     "output_type": "stream",
     "text": [
      "\n",
      "Using black placeholder image"
     ]
    },
    {
     "name": "stderr",
     "output_type": "stream",
     "text": [
      "Epoch 21/50 [Val]:  58%|█████▊    | 15/26 [00:03<00:01,  6.06it/s, Loss=0.0532, Acc=96.46%]"
     ]
    },
    {
     "name": "stdout",
     "output_type": "stream",
     "text": [
      "\n"
     ]
    },
    {
     "name": "stderr",
     "output_type": "stream",
     "text": [
      "Epoch 21/50 [Val]: 100%|██████████| 26/26 [00:04<00:00,  5.92it/s, Loss=0.0804, Acc=96.38%]\n"
     ]
    },
    {
     "name": "stdout",
     "output_type": "stream",
     "text": [
      "Epoch 21/50:\n",
      "Train Loss: 0.0241, Train Acc: 99.12%\n",
      "Val Loss: 0.0745, Val Acc: 96.38%\n",
      "Learning Rate: 0.000500\n",
      "------------------------------------------------------------\n"
     ]
    },
    {
     "name": "stderr",
     "output_type": "stream",
     "text": [
      "Epoch 22/50 [Train]:   0%|          | 0/289 [00:00<?, ?it/s]"
     ]
    },
    {
     "name": "stdout",
     "output_type": "stream",
     "text": [
      "Warning: Corrupted image /kaggle/input/bone-fracture-multi-region-x-ray-data/Bone_Fracture_Binary_Classification/Bone_Fracture_Binary_Classification/train/not fractured/IMG0004347.jpg: image file is truncated (40 bytes not processed)\n",
      "Using black placeholder image\n"
     ]
    },
    {
     "name": "stderr",
     "output_type": "stream",
     "text": [
      "Epoch 22/50 [Train]:  13%|█▎        | 39/289 [00:07<00:45,  5.45it/s, Loss=0.1631, Acc=98.96%]"
     ]
    },
    {
     "name": "stdout",
     "output_type": "stream",
     "text": [
      "Warning: Corrupted image /kaggle/input/bone-fracture-multi-region-x-ray-data/Bone_Fracture_Binary_Classification/Bone_Fracture_Binary_Classification/train/not fractured/IMG0004149.jpg: image file is truncated (33 bytes not processed)\n",
      "Using black placeholder image\n"
     ]
    },
    {
     "name": "stderr",
     "output_type": "stream",
     "text": [
      "Epoch 22/50 [Train]:  15%|█▍        | 43/289 [00:08<00:45,  5.46it/s, Loss=0.0054, Acc=99.06%]"
     ]
    },
    {
     "name": "stdout",
     "output_type": "stream",
     "text": [
      "Warning: Corrupted image /kaggle/input/bone-fracture-multi-region-x-ray-data/Bone_Fracture_Binary_Classification/Bone_Fracture_Binary_Classification/train/not fractured/IMG0004134.jpg: image file is truncated (1 bytes not processed)\n",
      "Using black placeholder image\n"
     ]
    },
    {
     "name": "stderr",
     "output_type": "stream",
     "text": [
      "Epoch 22/50 [Train]:  27%|██▋       | 78/289 [00:14<00:38,  5.46it/s, Loss=0.0043, Acc=99.12%]"
     ]
    },
    {
     "name": "stdout",
     "output_type": "stream",
     "text": [
      "Warning: Corrupted image /kaggle/input/bone-fracture-multi-region-x-ray-data/Bone_Fracture_Binary_Classification/Bone_Fracture_Binary_Classification/train/not fractured/IMG0004143.jpg: image file is truncated (10 bytes not processed)\n",
      "Using black placeholder image\n"
     ]
    },
    {
     "name": "stderr",
     "output_type": "stream",
     "text": [
      "Epoch 22/50 [Train]:  47%|████▋     | 137/289 [00:25<00:27,  5.47it/s, Loss=0.0971, Acc=98.56%]"
     ]
    },
    {
     "name": "stdout",
     "output_type": "stream",
     "text": [
      "Warning: Corrupted image /kaggle/input/bone-fracture-multi-region-x-ray-data/Bone_Fracture_Binary_Classification/Bone_Fracture_Binary_Classification/train/not fractured/IMG0004308.jpg: image file is truncated (40 bytes not processed)\n",
      "Using black placeholder image\n"
     ]
    },
    {
     "name": "stderr",
     "output_type": "stream",
     "text": [
      "Epoch 22/50 [Train]:  73%|███████▎  | 212/289 [00:39<00:14,  5.48it/s, Loss=0.0360, Acc=98.76%]"
     ]
    },
    {
     "name": "stdout",
     "output_type": "stream",
     "text": [
      "Warning: Corrupted image /kaggle/input/bone-fracture-multi-region-x-ray-data/Bone_Fracture_Binary_Classification/Bone_Fracture_Binary_Classification/train/not fractured/IMG0004148.jpg: image file is truncated (14 bytes not processed)\n",
      "Using black placeholder image\n"
     ]
    },
    {
     "name": "stderr",
     "output_type": "stream",
     "text": [
      "Epoch 22/50 [Train]: 100%|██████████| 289/289 [00:53<00:00,  5.39it/s, Loss=0.0409, Acc=98.75%]\n",
      "Epoch 22/50 [Val]:  35%|███▍      | 9/26 [00:02<00:03,  5.40it/s, Loss=0.0648, Acc=99.65%]"
     ]
    },
    {
     "name": "stdout",
     "output_type": "stream",
     "text": [
      "Warning: Corrupted image /kaggle/input/bone-fracture-multi-region-x-ray-data/Bone_Fracture_Binary_Classification/Bone_Fracture_Binary_Classification/val/not fractured/IMG0004134.jpg: image file is truncated (1 bytes not processed)\n",
      "Using black placeholder image\n"
     ]
    },
    {
     "name": "stderr",
     "output_type": "stream",
     "text": [
      "Epoch 22/50 [Val]:  35%|███▍      | 9/26 [00:02<00:03,  5.40it/s, Loss=0.0925, Acc=99.38%]"
     ]
    },
    {
     "name": "stdout",
     "output_type": "stream",
     "text": [
      "Warning: Corrupted image /kaggle/input/bone-fracture-multi-region-x-ray-data/Bone_Fracture_Binary_Classification/Bone_Fracture_Binary_Classification/val/not fractured/IMG0004347.jpg: image file is truncated (40 bytes not processed)\n",
      "Using black placeholder image\n",
      "Warning: Corrupted image /kaggle/input/bone-fracture-multi-region-x-ray-data/Bone_Fracture_Binary_Classification/Bone_Fracture_Binary_Classification/val/not fractured/IMG0004148.jpg: image file is truncated (14 bytes not processed)\n",
      "Using black placeholder image\n"
     ]
    },
    {
     "name": "stderr",
     "output_type": "stream",
     "text": [
      "Epoch 22/50 [Val]:  50%|█████     | 13/26 [00:02<00:01,  6.57it/s, Loss=0.1721, Acc=97.54%]"
     ]
    },
    {
     "name": "stdout",
     "output_type": "stream",
     "text": [
      "Warning: Corrupted image /kaggle/input/bone-fracture-multi-region-x-ray-data/Bone_Fracture_Binary_Classification/Bone_Fracture_Binary_Classification/val/not fractured/IMG0004143.jpg: image file is truncated (10 bytes not processed)\n",
      "Using black placeholder image\n",
      "Warning: Corrupted image /kaggle/input/bone-fracture-multi-region-x-ray-data/Bone_Fracture_Binary_Classification/Bone_Fracture_Binary_Classification/val/not fractured/IMG0004308.jpg: image file is truncated (40 bytes not processed)\n",
      "Using black placeholder image\n",
      "Warning: Corrupted image /kaggle/input/bone-fracture-multi-region-x-ray-data/Bone_Fracture_Binary_Classification/Bone_Fracture_Binary_Classification/val/not fractured/IMG0004149.jpg: image file is truncated (33 bytes not processed)\n",
      "Using black placeholder image\n"
     ]
    },
    {
     "name": "stderr",
     "output_type": "stream",
     "text": [
      "Epoch 22/50 [Val]: 100%|██████████| 26/26 [00:04<00:00,  5.79it/s, Loss=0.1529, Acc=96.02%]\n"
     ]
    },
    {
     "name": "stdout",
     "output_type": "stream",
     "text": [
      "Epoch 22/50:\n",
      "Train Loss: 0.0376, Train Acc: 98.75%\n",
      "Val Loss: 0.0901, Val Acc: 96.02%\n",
      "Learning Rate: 0.000500\n",
      "------------------------------------------------------------\n"
     ]
    },
    {
     "name": "stderr",
     "output_type": "stream",
     "text": [
      "Epoch 23/50 [Train]:   0%|          | 1/289 [00:00<02:47,  1.72it/s, Loss=0.0232, Acc=100.00%]"
     ]
    },
    {
     "name": "stdout",
     "output_type": "stream",
     "text": [
      "Warning: Corrupted image /kaggle/input/bone-fracture-multi-region-x-ray-data/Bone_Fracture_Binary_Classification/Bone_Fracture_Binary_Classification/train/not fractured/IMG0004148.jpg: image file is truncated (14 bytes not processed)\n",
      "Using black placeholder image\n"
     ]
    },
    {
     "name": "stderr",
     "output_type": "stream",
     "text": [
      "Epoch 23/50 [Train]:   3%|▎         | 10/289 [00:02<00:52,  5.31it/s, Loss=0.0464, Acc=99.06%]"
     ]
    },
    {
     "name": "stdout",
     "output_type": "stream",
     "text": [
      "Warning: Corrupted image /kaggle/input/bone-fracture-multi-region-x-ray-data/Bone_Fracture_Binary_Classification/Bone_Fracture_Binary_Classification/train/not fractured/IMG0004149.jpg: image file is truncated (33 bytes not processed)\n",
      "Using black placeholder image\n"
     ]
    },
    {
     "name": "stderr",
     "output_type": "stream",
     "text": [
      "Epoch 23/50 [Train]:  18%|█▊        | 53/289 [00:10<00:43,  5.48it/s, Loss=0.0313, Acc=99.35%]"
     ]
    },
    {
     "name": "stdout",
     "output_type": "stream",
     "text": [
      "Warning: Corrupted image /kaggle/input/bone-fracture-multi-region-x-ray-data/Bone_Fracture_Binary_Classification/Bone_Fracture_Binary_Classification/train/not fractured/IMG0004134.jpg: image file is truncated (1 bytes not processed)\n",
      "Using black placeholder image\n"
     ]
    },
    {
     "name": "stderr",
     "output_type": "stream",
     "text": [
      "Epoch 23/50 [Train]:  40%|███▉      | 115/289 [00:21<00:31,  5.45it/s, Loss=0.0831, Acc=99.13%]"
     ]
    },
    {
     "name": "stdout",
     "output_type": "stream",
     "text": [
      "Warning: Corrupted image /kaggle/input/bone-fracture-multi-region-x-ray-data/Bone_Fracture_Binary_Classification/Bone_Fracture_Binary_Classification/train/not fractured/IMG0004347.jpg: image file is truncated (40 bytes not processed)\n",
      "Using black placeholder image\n"
     ]
    },
    {
     "name": "stderr",
     "output_type": "stream",
     "text": [
      "Epoch 23/50 [Train]:  63%|██████▎   | 183/289 [00:33<00:19,  5.47it/s, Loss=0.0017, Acc=99.13%]"
     ]
    },
    {
     "name": "stdout",
     "output_type": "stream",
     "text": [
      "Warning: Corrupted image /kaggle/input/bone-fracture-multi-region-x-ray-data/Bone_Fracture_Binary_Classification/Bone_Fracture_Binary_Classification/train/not fractured/IMG0004308.jpg: image file is truncated (40 bytes not processed)\n",
      "Using black placeholder image\n"
     ]
    },
    {
     "name": "stderr",
     "output_type": "stream",
     "text": [
      "Epoch 23/50 [Train]:  97%|█████████▋| 280/289 [00:51<00:01,  5.47it/s, Loss=0.0168, Acc=99.15%]"
     ]
    },
    {
     "name": "stdout",
     "output_type": "stream",
     "text": [
      "Warning: Corrupted image /kaggle/input/bone-fracture-multi-region-x-ray-data/Bone_Fracture_Binary_Classification/Bone_Fracture_Binary_Classification/train/not fractured/IMG0004143.jpg: image file is truncated (10 bytes not processed)\n",
      "Using black placeholder image\n"
     ]
    },
    {
     "name": "stderr",
     "output_type": "stream",
     "text": [
      "Epoch 23/50 [Train]: 100%|██████████| 289/289 [00:53<00:00,  5.41it/s, Loss=0.0581, Acc=99.11%]\n",
      "Epoch 23/50 [Val]:  35%|███▍      | 9/26 [00:02<00:03,  4.87it/s, Loss=0.0647, Acc=99.31%]"
     ]
    },
    {
     "name": "stdout",
     "output_type": "stream",
     "text": [
      "Warning: Corrupted image /kaggle/input/bone-fracture-multi-region-x-ray-data/Bone_Fracture_Binary_Classification/Bone_Fracture_Binary_Classification/val/not fractured/IMG0004134.jpg: image file is truncated (1 bytes not processed)\n",
      "Using black placeholder image\n"
     ]
    },
    {
     "name": "stderr",
     "output_type": "stream",
     "text": [
      "Epoch 23/50 [Val]:  35%|███▍      | 9/26 [00:02<00:03,  4.87it/s, Loss=0.0900, Acc=99.06%]"
     ]
    },
    {
     "name": "stdout",
     "output_type": "stream",
     "text": [
      "Warning: Corrupted image /kaggle/input/bone-fracture-multi-region-x-ray-data/Bone_Fracture_Binary_Classification/Bone_Fracture_Binary_Classification/val/not fractured/IMG0004347.jpg: image file is truncated (40 bytes not processed)\n",
      "Using black placeholder image\n",
      "Warning: Corrupted image /kaggle/input/bone-fracture-multi-region-x-ray-data/Bone_Fracture_Binary_Classification/Bone_Fracture_Binary_Classification/val/not fractured/IMG0004148.jpg: image file is truncated (14 bytes not processed)\n",
      "Using black placeholder image\n"
     ]
    },
    {
     "name": "stderr",
     "output_type": "stream",
     "text": [
      "Epoch 23/50 [Val]:  50%|█████     | 13/26 [00:03<00:02,  4.92it/s, Loss=0.0848, Acc=97.77%]"
     ]
    },
    {
     "name": "stdout",
     "output_type": "stream",
     "text": [
      "Warning: Corrupted image /kaggle/input/bone-fracture-multi-region-x-ray-data/Bone_Fracture_Binary_Classification/Bone_Fracture_Binary_Classification/val/not fractured/IMG0004143.jpg: image file is truncated (10 bytes not processed)\n",
      "Using black placeholder image\n",
      "Warning: Corrupted image /kaggle/input/bone-fracture-multi-region-x-ray-data/Bone_Fracture_Binary_Classification/Bone_Fracture_Binary_Classification/val/not fractured/IMG0004308.jpg: image file is truncated (40 bytes not processed)\n",
      "Using black placeholder image\n",
      "Warning: Corrupted image /kaggle/input/bone-fracture-multi-region-x-ray-data/Bone_Fracture_Binary_Classification/Bone_Fracture_Binary_Classification/val/not fractured/IMG0004149.jpg: image file is truncated (33 bytes not processed)\n",
      "Using black placeholder image\n"
     ]
    },
    {
     "name": "stderr",
     "output_type": "stream",
     "text": [
      "Epoch 23/50 [Val]: 100%|██████████| 26/26 [00:05<00:00,  5.11it/s, Loss=0.1309, Acc=96.74%]\n"
     ]
    },
    {
     "name": "stdout",
     "output_type": "stream",
     "text": [
      "Epoch 23/50:\n",
      "Train Loss: 0.0272, Train Acc: 99.11%\n",
      "Val Loss: 0.0662, Val Acc: 96.74%\n",
      "Learning Rate: 0.000500\n",
      "------------------------------------------------------------\n",
      "New best model saved with validation accuracy: 96.74%\n"
     ]
    },
    {
     "name": "stderr",
     "output_type": "stream",
     "text": [
      "Epoch 24/50 [Train]:   0%|          | 0/289 [00:00<?, ?it/s]"
     ]
    },
    {
     "name": "stdout",
     "output_type": "stream",
     "text": [
      "Warning: Corrupted image /kaggle/input/bone-fracture-multi-region-x-ray-data/Bone_Fracture_Binary_Classification/Bone_Fracture_Binary_Classification/train/not fractured/IMG0004143.jpg: image file is truncated (10 bytes not processed)\n",
      "Using black placeholder image"
     ]
    },
    {
     "name": "stderr",
     "output_type": "stream",
     "text": [
      "Epoch 24/50 [Train]:   0%|          | 1/289 [00:00<02:43,  1.76it/s, Loss=0.0033, Acc=100.00%]"
     ]
    },
    {
     "name": "stdout",
     "output_type": "stream",
     "text": [
      "\n"
     ]
    },
    {
     "name": "stderr",
     "output_type": "stream",
     "text": [
      "Epoch 24/50 [Train]:   8%|▊         | 24/289 [00:04<00:48,  5.48it/s, Loss=0.0044, Acc=99.61%]"
     ]
    },
    {
     "name": "stdout",
     "output_type": "stream",
     "text": [
      "Warning: Corrupted image /kaggle/input/bone-fracture-multi-region-x-ray-data/Bone_Fracture_Binary_Classification/Bone_Fracture_Binary_Classification/train/not fractured/IMG0004134.jpg: image file is truncated (1 bytes not processed)\n",
      "Using black placeholder image\n"
     ]
    },
    {
     "name": "stderr",
     "output_type": "stream",
     "text": [
      "Epoch 24/50 [Train]:  28%|██▊       | 81/289 [00:15<00:38,  5.47it/s, Loss=0.0074, Acc=99.50%]"
     ]
    },
    {
     "name": "stdout",
     "output_type": "stream",
     "text": [
      "Warning: Corrupted image /kaggle/input/bone-fracture-multi-region-x-ray-data/Bone_Fracture_Binary_Classification/Bone_Fracture_Binary_Classification/train/not fractured/IMG0004347.jpg: image file is truncated (40 bytes not processed)\n",
      "Using black placeholder image\n"
     ]
    },
    {
     "name": "stderr",
     "output_type": "stream",
     "text": [
      "Epoch 24/50 [Train]:  50%|█████     | 145/289 [00:27<00:26,  5.45it/s, Loss=0.0123, Acc=99.33%]"
     ]
    },
    {
     "name": "stdout",
     "output_type": "stream",
     "text": [
      "Warning: Corrupted image /kaggle/input/bone-fracture-multi-region-x-ray-data/Bone_Fracture_Binary_Classification/Bone_Fracture_Binary_Classification/train/not fractured/IMG0004149.jpg: image file is truncated (33 bytes not processed)\n",
      "Using black placeholder image\n"
     ]
    },
    {
     "name": "stderr",
     "output_type": "stream",
     "text": [
      "Epoch 24/50 [Train]:  58%|█████▊    | 169/289 [00:31<00:22,  5.43it/s, Loss=0.0052, Acc=99.33%]"
     ]
    },
    {
     "name": "stdout",
     "output_type": "stream",
     "text": [
      "Warning: Corrupted image /kaggle/input/bone-fracture-multi-region-x-ray-data/Bone_Fracture_Binary_Classification/Bone_Fracture_Binary_Classification/train/not fractured/IMG0004148.jpg: image file is truncated (14 bytes not processed)\n",
      "Using black placeholder image\n"
     ]
    },
    {
     "name": "stderr",
     "output_type": "stream",
     "text": [
      "Epoch 24/50 [Train]:  82%|████████▏ | 236/289 [00:43<00:09,  5.44it/s, Loss=0.0024, Acc=99.28%]"
     ]
    },
    {
     "name": "stdout",
     "output_type": "stream",
     "text": [
      "Warning: Corrupted image /kaggle/input/bone-fracture-multi-region-x-ray-data/Bone_Fracture_Binary_Classification/Bone_Fracture_Binary_Classification/train/not fractured/IMG0004308.jpg: image file is truncated (40 bytes not processed)\n",
      "Using black placeholder image\n"
     ]
    },
    {
     "name": "stderr",
     "output_type": "stream",
     "text": [
      "Epoch 24/50 [Train]: 100%|██████████| 289/289 [00:53<00:00,  5.40it/s, Loss=0.0076, Acc=99.18%]\n",
      "Epoch 24/50 [Val]:  35%|███▍      | 9/26 [00:02<00:03,  5.55it/s, Loss=0.0893, Acc=95.49%]"
     ]
    },
    {
     "name": "stdout",
     "output_type": "stream",
     "text": [
      "Warning: Corrupted image /kaggle/input/bone-fracture-multi-region-x-ray-data/Bone_Fracture_Binary_Classification/Bone_Fracture_Binary_Classification/val/not fractured/IMG0004134.jpg: image file is truncated (1 bytes not processed)\n",
      "Using black placeholder image\n"
     ]
    },
    {
     "name": "stderr",
     "output_type": "stream",
     "text": [
      "Epoch 24/50 [Val]:  35%|███▍      | 9/26 [00:02<00:03,  5.55it/s, Loss=0.0780, Acc=95.00%]"
     ]
    },
    {
     "name": "stdout",
     "output_type": "stream",
     "text": [
      "Warning: Corrupted image /kaggle/input/bone-fracture-multi-region-x-ray-data/Bone_Fracture_Binary_Classification/Bone_Fracture_Binary_Classification/val/not fractured/IMG0004347.jpg: image file is truncated (40 bytes not processed)\n",
      "Using black placeholder image\n",
      "Warning: Corrupted image /kaggle/input/bone-fracture-multi-region-x-ray-data/Bone_Fracture_Binary_Classification/Bone_Fracture_Binary_Classification/val/not fractured/IMG0004148.jpg: image file is truncated (14 bytes not processed)\n",
      "Using black placeholder image\n"
     ]
    },
    {
     "name": "stderr",
     "output_type": "stream",
     "text": [
      "Epoch 24/50 [Val]:  50%|█████     | 13/26 [00:02<00:01,  6.73it/s, Loss=0.3804, Acc=94.20%]"
     ]
    },
    {
     "name": "stdout",
     "output_type": "stream",
     "text": [
      "Warning: Corrupted image /kaggle/input/bone-fracture-multi-region-x-ray-data/Bone_Fracture_Binary_Classification/Bone_Fracture_Binary_Classification/val/not fractured/IMG0004143.jpg: image file is truncated (10 bytes not processed)\n",
      "Using black placeholder image\n",
      "Warning: Corrupted image /kaggle/input/bone-fracture-multi-region-x-ray-data/Bone_Fracture_Binary_Classification/Bone_Fracture_Binary_Classification/val/not fractured/IMG0004149.jpg: image file is truncated (33 bytes not processed)\n",
      "Using black placeholder image\n"
     ]
    },
    {
     "name": "stderr",
     "output_type": "stream",
     "text": [
      "Epoch 24/50 [Val]:  58%|█████▊    | 15/26 [00:03<00:01,  6.24it/s, Loss=0.0386, Acc=94.38%]"
     ]
    },
    {
     "name": "stdout",
     "output_type": "stream",
     "text": [
      "Warning: Corrupted image /kaggle/input/bone-fracture-multi-region-x-ray-data/Bone_Fracture_Binary_Classification/Bone_Fracture_Binary_Classification/val/not fractured/IMG0004308.jpg: image file is truncated (40 bytes not processed)\n",
      "Using black placeholder image\n"
     ]
    },
    {
     "name": "stderr",
     "output_type": "stream",
     "text": [
      "Epoch 24/50 [Val]: 100%|██████████| 26/26 [00:04<00:00,  5.88it/s, Loss=0.1928, Acc=94.69%]\n"
     ]
    },
    {
     "name": "stdout",
     "output_type": "stream",
     "text": [
      "Epoch 24/50:\n",
      "Train Loss: 0.0203, Train Acc: 99.18%\n",
      "Val Loss: 0.1155, Val Acc: 94.69%\n",
      "Learning Rate: 0.000500\n",
      "------------------------------------------------------------\n"
     ]
    },
    {
     "name": "stderr",
     "output_type": "stream",
     "text": [
      "Epoch 25/50 [Train]:   4%|▍         | 13/289 [00:02<00:51,  5.37it/s, Loss=0.0291, Acc=99.04%]"
     ]
    },
    {
     "name": "stdout",
     "output_type": "stream",
     "text": [
      "Warning: Corrupted image /kaggle/input/bone-fracture-multi-region-x-ray-data/Bone_Fracture_Binary_Classification/Bone_Fracture_Binary_Classification/train/not fractured/IMG0004308.jpg: image file is truncated (40 bytes not processed)\n",
      "Using black placeholder image\n"
     ]
    },
    {
     "name": "stderr",
     "output_type": "stream",
     "text": [
      "Epoch 25/50 [Train]:  31%|███▏      | 91/289 [00:17<00:36,  5.46it/s, Loss=0.0264, Acc=98.97%]"
     ]
    },
    {
     "name": "stdout",
     "output_type": "stream",
     "text": [
      "Warning: Corrupted image /kaggle/input/bone-fracture-multi-region-x-ray-data/Bone_Fracture_Binary_Classification/Bone_Fracture_Binary_Classification/train/not fractured/IMG0004143.jpg: image file is truncated (10 bytes not processed)\n",
      "Using black placeholder image\n"
     ]
    },
    {
     "name": "stderr",
     "output_type": "stream",
     "text": [
      "Epoch 25/50 [Train]:  39%|███▉      | 113/289 [00:21<00:32,  5.48it/s, Loss=0.0005, Acc=99.03%]"
     ]
    },
    {
     "name": "stdout",
     "output_type": "stream",
     "text": [
      "Warning: Corrupted image /kaggle/input/bone-fracture-multi-region-x-ray-data/Bone_Fracture_Binary_Classification/Bone_Fracture_Binary_Classification/train/not fractured/IMG0004347.jpg: image file is truncated (40 bytes not processed)\n",
      "Using black placeholder image\n"
     ]
    },
    {
     "name": "stderr",
     "output_type": "stream",
     "text": [
      "Epoch 25/50 [Train]:  44%|████▎     | 126/289 [00:23<00:29,  5.49it/s, Loss=0.0034, Acc=99.11%]"
     ]
    },
    {
     "name": "stdout",
     "output_type": "stream",
     "text": [
      "Warning: Corrupted image /kaggle/input/bone-fracture-multi-region-x-ray-data/Bone_Fracture_Binary_Classification/Bone_Fracture_Binary_Classification/train/not fractured/IMG0004134.jpg: image file is truncated (1 bytes not processed)\n",
      "Using black placeholder image\n"
     ]
    },
    {
     "name": "stderr",
     "output_type": "stream",
     "text": [
      "Epoch 25/50 [Train]:  79%|███████▉  | 228/289 [00:42<00:11,  5.47it/s, Loss=0.0120, Acc=99.01%]"
     ]
    },
    {
     "name": "stdout",
     "output_type": "stream",
     "text": [
      "Warning: Corrupted image /kaggle/input/bone-fracture-multi-region-x-ray-data/Bone_Fracture_Binary_Classification/Bone_Fracture_Binary_Classification/train/not fractured/IMG0004148.jpg: image file is truncated (14 bytes not processed)\n",
      "Using black placeholder image\n"
     ]
    },
    {
     "name": "stderr",
     "output_type": "stream",
     "text": [
      "Epoch 25/50 [Train]:  84%|████████▍ | 244/289 [00:45<00:08,  5.43it/s, Loss=0.1613, Acc=99.04%]"
     ]
    },
    {
     "name": "stdout",
     "output_type": "stream",
     "text": [
      "Warning: Corrupted image /kaggle/input/bone-fracture-multi-region-x-ray-data/Bone_Fracture_Binary_Classification/Bone_Fracture_Binary_Classification/train/not fractured/IMG0004149.jpg: image file is truncated (33 bytes not processed)\n",
      "Using black placeholder image\n"
     ]
    },
    {
     "name": "stderr",
     "output_type": "stream",
     "text": [
      "Epoch 25/50 [Train]: 100%|██████████| 289/289 [00:53<00:00,  5.41it/s, Loss=0.0030, Acc=99.09%]\n",
      "Epoch 25/50 [Val]:  35%|███▍      | 9/26 [00:02<00:03,  5.16it/s, Loss=0.0788, Acc=97.22%]"
     ]
    },
    {
     "name": "stdout",
     "output_type": "stream",
     "text": [
      "Warning: Corrupted image /kaggle/input/bone-fracture-multi-region-x-ray-data/Bone_Fracture_Binary_Classification/Bone_Fracture_Binary_Classification/val/not fractured/IMG0004134.jpg: image file is truncated (1 bytes not processed)\n",
      "Using black placeholder image\n"
     ]
    },
    {
     "name": "stderr",
     "output_type": "stream",
     "text": [
      "Epoch 25/50 [Val]:  35%|███▍      | 9/26 [00:02<00:03,  5.16it/s, Loss=0.0410, Acc=97.19%]"
     ]
    },
    {
     "name": "stdout",
     "output_type": "stream",
     "text": [
      "Warning: Corrupted image /kaggle/input/bone-fracture-multi-region-x-ray-data/Bone_Fracture_Binary_Classification/Bone_Fracture_Binary_Classification/val/not fractured/IMG0004347.jpg: image file is truncated (40 bytes not processed)\n",
      "Using black placeholder image\n",
      "Warning: Corrupted image /kaggle/input/bone-fracture-multi-region-x-ray-data/Bone_Fracture_Binary_Classification/Bone_Fracture_Binary_Classification/val/not fractured/IMG0004148.jpg: image file is truncated (14 bytes not processed)\n",
      "Using black placeholder image\n"
     ]
    },
    {
     "name": "stderr",
     "output_type": "stream",
     "text": [
      "Epoch 25/50 [Val]:  50%|█████     | 13/26 [00:02<00:02,  6.47it/s, Loss=0.1218, Acc=96.43%]"
     ]
    },
    {
     "name": "stdout",
     "output_type": "stream",
     "text": [
      "Warning: Corrupted image /kaggle/input/bone-fracture-multi-region-x-ray-data/Bone_Fracture_Binary_Classification/Bone_Fracture_Binary_Classification/val/not fractured/IMG0004143.jpg: image file is truncated (10 bytes not processed)\n",
      "Using black placeholder image\n",
      "Warning: Corrupted image /kaggle/input/bone-fracture-multi-region-x-ray-data/Bone_Fracture_Binary_Classification/Bone_Fracture_Binary_Classification/val/not fractured/IMG0004308.jpg: image file is truncated (40 bytes not processed)\n",
      "Using black placeholder image\n",
      "Warning: Corrupted image /kaggle/input/bone-fracture-multi-region-x-ray-data/Bone_Fracture_Binary_Classification/Bone_Fracture_Binary_Classification/val/not fractured/IMG0004149.jpg: image file is truncated (33 bytes not processed)\n",
      "Using black placeholder image"
     ]
    },
    {
     "name": "stderr",
     "output_type": "stream",
     "text": [
      "Epoch 25/50 [Val]:  58%|█████▊    | 15/26 [00:03<00:01,  6.09it/s, Loss=0.2410, Acc=96.04%]"
     ]
    },
    {
     "name": "stdout",
     "output_type": "stream",
     "text": [
      "\n"
     ]
    },
    {
     "name": "stderr",
     "output_type": "stream",
     "text": [
      "Epoch 25/50 [Val]: 100%|██████████| 26/26 [00:04<00:00,  5.78it/s, Loss=0.2584, Acc=95.90%]\n"
     ]
    },
    {
     "name": "stdout",
     "output_type": "stream",
     "text": [
      "Epoch 25/50:\n",
      "Train Loss: 0.0245, Train Acc: 99.09%\n",
      "Val Loss: 0.0889, Val Acc: 95.90%\n",
      "Learning Rate: 0.000250\n",
      "------------------------------------------------------------\n"
     ]
    },
    {
     "name": "stderr",
     "output_type": "stream",
     "text": [
      "Epoch 26/50 [Train]:  19%|█▉        | 56/289 [00:10<00:42,  5.43it/s, Loss=0.0084, Acc=99.11%]"
     ]
    },
    {
     "name": "stdout",
     "output_type": "stream",
     "text": [
      "Warning: Corrupted image /kaggle/input/bone-fracture-multi-region-x-ray-data/Bone_Fracture_Binary_Classification/Bone_Fracture_Binary_Classification/train/not fractured/IMG0004149.jpg: image file is truncated (33 bytes not processed)\n",
      "Using black placeholder image\n"
     ]
    },
    {
     "name": "stderr",
     "output_type": "stream",
     "text": [
      "Epoch 26/50 [Train]:  35%|███▍      | 100/289 [00:18<00:34,  5.49it/s, Loss=0.0189, Acc=99.16%]"
     ]
    },
    {
     "name": "stdout",
     "output_type": "stream",
     "text": [
      "Warning: Corrupted image /kaggle/input/bone-fracture-multi-region-x-ray-data/Bone_Fracture_Binary_Classification/Bone_Fracture_Binary_Classification/train/not fractured/IMG0004143.jpg: image file is truncated (10 bytes not processed)\n",
      "Using black placeholder image\n"
     ]
    },
    {
     "name": "stderr",
     "output_type": "stream",
     "text": [
      "Epoch 26/50 [Train]:  63%|██████▎   | 183/289 [00:33<00:19,  5.51it/s, Loss=0.0152, Acc=99.33%]"
     ]
    },
    {
     "name": "stdout",
     "output_type": "stream",
     "text": [
      "Warning: Corrupted image /kaggle/input/bone-fracture-multi-region-x-ray-data/Bone_Fracture_Binary_Classification/Bone_Fracture_Binary_Classification/train/not fractured/IMG0004148.jpg: image file is truncated (14 bytes not processed)"
     ]
    },
    {
     "name": "stderr",
     "output_type": "stream",
     "text": [
      "Epoch 26/50 [Train]:  63%|██████▎   | 183/289 [00:34<00:19,  5.51it/s, Loss=0.0025, Acc=99.34%]"
     ]
    },
    {
     "name": "stdout",
     "output_type": "stream",
     "text": [
      "\n"
     ]
    },
    {
     "name": "stderr",
     "output_type": "stream",
     "text": [
      "Epoch 26/50 [Train]:  64%|██████▎   | 184/289 [00:34<00:19,  5.50it/s, Loss=0.0025, Acc=99.34%]"
     ]
    },
    {
     "name": "stdout",
     "output_type": "stream",
     "text": [
      "Using black placeholder image\n"
     ]
    },
    {
     "name": "stderr",
     "output_type": "stream",
     "text": [
      "Epoch 26/50 [Train]:  64%|██████▍   | 185/289 [00:34<00:18,  5.49it/s, Loss=0.0033, Acc=99.34%]"
     ]
    },
    {
     "name": "stdout",
     "output_type": "stream",
     "text": [
      "Warning: Corrupted image /kaggle/input/bone-fracture-multi-region-x-ray-data/Bone_Fracture_Binary_Classification/Bone_Fracture_Binary_Classification/train/not fractured/IMG0004134.jpg: image file is truncated (1 bytes not processed)\n",
      "Using black placeholder image\n"
     ]
    },
    {
     "name": "stderr",
     "output_type": "stream",
     "text": [
      "Epoch 26/50 [Train]:  65%|██████▌   | 188/289 [00:34<00:18,  5.51it/s, Loss=0.0009, Acc=99.35%]"
     ]
    },
    {
     "name": "stdout",
     "output_type": "stream",
     "text": [
      "Warning: Corrupted image /kaggle/input/bone-fracture-multi-region-x-ray-data/Bone_Fracture_Binary_Classification/Bone_Fracture_Binary_Classification/train/not fractured/IMG0004308.jpg: image file is truncated (40 bytes not processed)\n",
      "Using black placeholder image\n"
     ]
    },
    {
     "name": "stderr",
     "output_type": "stream",
     "text": [
      "Epoch 26/50 [Train]:  75%|███████▌  | 218/289 [00:40<00:12,  5.49it/s, Loss=0.0021, Acc=99.31%]"
     ]
    },
    {
     "name": "stdout",
     "output_type": "stream",
     "text": [
      "Warning: Corrupted image /kaggle/input/bone-fracture-multi-region-x-ray-data/Bone_Fracture_Binary_Classification/Bone_Fracture_Binary_Classification/train/not fractured/IMG0004347.jpg: image file is truncated (40 bytes not processed)\n",
      "Using black placeholder image\n"
     ]
    },
    {
     "name": "stderr",
     "output_type": "stream",
     "text": [
      "Epoch 26/50 [Train]: 100%|██████████| 289/289 [00:53<00:00,  5.41it/s, Loss=0.0224, Acc=99.32%]\n",
      "Epoch 26/50 [Val]:  35%|███▍      | 9/26 [00:02<00:03,  5.29it/s, Loss=0.0499, Acc=99.31%]"
     ]
    },
    {
     "name": "stdout",
     "output_type": "stream",
     "text": [
      "Warning: Corrupted image /kaggle/input/bone-fracture-multi-region-x-ray-data/Bone_Fracture_Binary_Classification/Bone_Fracture_Binary_Classification/val/not fractured/IMG0004134.jpg: image file is truncated (1 bytes not processed)\n",
      "Using black placeholder image\n"
     ]
    },
    {
     "name": "stderr",
     "output_type": "stream",
     "text": [
      "Epoch 26/50 [Val]:  35%|███▍      | 9/26 [00:02<00:03,  5.29it/s, Loss=0.0399, Acc=99.38%]"
     ]
    },
    {
     "name": "stdout",
     "output_type": "stream",
     "text": [
      "Warning: Corrupted image /kaggle/input/bone-fracture-multi-region-x-ray-data/Bone_Fracture_Binary_Classification/Bone_Fracture_Binary_Classification/val/not fractured/IMG0004347.jpg: image file is truncated (40 bytes not processed)\n",
      "Using black placeholder image\n",
      "Warning: Corrupted image /kaggle/input/bone-fracture-multi-region-x-ray-data/Bone_Fracture_Binary_Classification/Bone_Fracture_Binary_Classification/val/not fractured/IMG0004148.jpg: image file is truncated (14 bytes not processed)\n",
      "Using black placeholder image\n"
     ]
    },
    {
     "name": "stderr",
     "output_type": "stream",
     "text": [
      "Epoch 26/50 [Val]:  50%|█████     | 13/26 [00:02<00:01,  6.57it/s, Loss=0.0935, Acc=98.44%]"
     ]
    },
    {
     "name": "stdout",
     "output_type": "stream",
     "text": [
      "Warning: Corrupted image /kaggle/input/bone-fracture-multi-region-x-ray-data/Bone_Fracture_Binary_Classification/Bone_Fracture_Binary_Classification/val/not fractured/IMG0004143.jpg: image file is truncated (10 bytes not processed)\n",
      "Using black placeholder image\n",
      "Warning: Corrupted image /kaggle/input/bone-fracture-multi-region-x-ray-data/Bone_Fracture_Binary_Classification/Bone_Fracture_Binary_Classification/val/not fractured/IMG0004308.jpg: image file is truncated (40 bytes not processed)Warning: Corrupted image /kaggle/input/bone-fracture-multi-region-x-ray-data/Bone_Fracture_Binary_Classification/Bone_Fracture_Binary_Classification/val/not fractured/IMG0004149.jpg: image file is truncated (33 bytes not processed)\n",
      "\n",
      "Using black placeholder imageUsing black placeholder image\n",
      "\n"
     ]
    },
    {
     "name": "stderr",
     "output_type": "stream",
     "text": [
      "Epoch 26/50 [Val]: 100%|██████████| 26/26 [00:04<00:00,  5.94it/s, Loss=0.0711, Acc=97.59%]\n"
     ]
    },
    {
     "name": "stdout",
     "output_type": "stream",
     "text": [
      "Epoch 26/50:\n",
      "Train Loss: 0.0196, Train Acc: 99.32%\n",
      "Val Loss: 0.0559, Val Acc: 97.59%\n",
      "Learning Rate: 0.000250\n",
      "------------------------------------------------------------\n",
      "New best model saved with validation accuracy: 97.59%\n"
     ]
    },
    {
     "name": "stderr",
     "output_type": "stream",
     "text": [
      "Epoch 27/50 [Train]:   0%|          | 0/289 [00:00<?, ?it/s]"
     ]
    },
    {
     "name": "stdout",
     "output_type": "stream",
     "text": [
      "Warning: Corrupted image /kaggle/input/bone-fracture-multi-region-x-ray-data/Bone_Fracture_Binary_Classification/Bone_Fracture_Binary_Classification/train/not fractured/IMG0004308.jpg: image file is truncated (40 bytes not processed)\n"
     ]
    },
    {
     "name": "stderr",
     "output_type": "stream",
     "text": [
      "Epoch 27/50 [Train]:   0%|          | 0/289 [00:00<?, ?it/s, Loss=0.0124, Acc=100.00%]"
     ]
    },
    {
     "name": "stdout",
     "output_type": "stream",
     "text": [
      "Using black placeholder image\n"
     ]
    },
    {
     "name": "stderr",
     "output_type": "stream",
     "text": [
      "Epoch 27/50 [Train]:  16%|█▋        | 47/289 [00:09<00:44,  5.46it/s, Loss=0.0013, Acc=99.60%]"
     ]
    },
    {
     "name": "stdout",
     "output_type": "stream",
     "text": [
      "Warning: Corrupted image /kaggle/input/bone-fracture-multi-region-x-ray-data/Bone_Fracture_Binary_Classification/Bone_Fracture_Binary_Classification/train/not fractured/IMG0004134.jpg: image file is truncated (1 bytes not processed)\n",
      "Using black placeholder image\n"
     ]
    },
    {
     "name": "stderr",
     "output_type": "stream",
     "text": [
      "Epoch 27/50 [Train]:  18%|█▊        | 52/289 [00:10<00:43,  5.48it/s, Loss=0.0008, Acc=99.58%]"
     ]
    },
    {
     "name": "stdout",
     "output_type": "stream",
     "text": [
      "Warning: Corrupted image /kaggle/input/bone-fracture-multi-region-x-ray-data/Bone_Fracture_Binary_Classification/Bone_Fracture_Binary_Classification/train/not fractured/IMG0004149.jpg: image file is truncated (33 bytes not processed)\n",
      "Using black placeholder image\n"
     ]
    },
    {
     "name": "stderr",
     "output_type": "stream",
     "text": [
      "Epoch 27/50 [Train]:  31%|███▏      | 91/289 [00:17<00:37,  5.31it/s, Loss=0.0026, Acc=99.66%]"
     ]
    },
    {
     "name": "stdout",
     "output_type": "stream",
     "text": [
      "Warning: Corrupted image /kaggle/input/bone-fracture-multi-region-x-ray-data/Bone_Fracture_Binary_Classification/Bone_Fracture_Binary_Classification/train/not fractured/IMG0004143.jpg: image file is truncated (10 bytes not processed)\n",
      "Using black placeholder image\n",
      "Warning: Corrupted image /kaggle/input/bone-fracture-multi-region-x-ray-data/Bone_Fracture_Binary_Classification/Bone_Fracture_Binary_Classification/train/not fractured/IMG0004148.jpg: image file is truncated (14 bytes not processed)\n",
      "Using black placeholder image\n"
     ]
    },
    {
     "name": "stderr",
     "output_type": "stream",
     "text": [
      "Epoch 27/50 [Train]:  83%|████████▎ | 239/289 [00:44<00:09,  5.43it/s, Loss=0.0269, Acc=99.58%]"
     ]
    },
    {
     "name": "stdout",
     "output_type": "stream",
     "text": [
      "Warning: Corrupted image /kaggle/input/bone-fracture-multi-region-x-ray-data/Bone_Fracture_Binary_Classification/Bone_Fracture_Binary_Classification/train/not fractured/IMG0004347.jpg: image file is truncated (40 bytes not processed)\n",
      "Using black placeholder image\n"
     ]
    },
    {
     "name": "stderr",
     "output_type": "stream",
     "text": [
      "Epoch 27/50 [Train]: 100%|██████████| 289/289 [00:53<00:00,  5.40it/s, Loss=0.0072, Acc=99.57%]\n",
      "Epoch 27/50 [Val]:  35%|███▍      | 9/26 [00:02<00:03,  5.25it/s, Loss=0.0570, Acc=98.96%]"
     ]
    },
    {
     "name": "stdout",
     "output_type": "stream",
     "text": [
      "Warning: Corrupted image /kaggle/input/bone-fracture-multi-region-x-ray-data/Bone_Fracture_Binary_Classification/Bone_Fracture_Binary_Classification/val/not fractured/IMG0004134.jpg: image file is truncated (1 bytes not processed)\n",
      "Using black placeholder image\n"
     ]
    },
    {
     "name": "stderr",
     "output_type": "stream",
     "text": [
      "Epoch 27/50 [Val]:  35%|███▍      | 9/26 [00:02<00:03,  5.25it/s, Loss=0.0502, Acc=99.06%]"
     ]
    },
    {
     "name": "stdout",
     "output_type": "stream",
     "text": [
      "Warning: Corrupted image /kaggle/input/bone-fracture-multi-region-x-ray-data/Bone_Fracture_Binary_Classification/Bone_Fracture_Binary_Classification/val/not fractured/IMG0004347.jpg: image file is truncated (40 bytes not processed)\n",
      "Using black placeholder image\n",
      "Warning: Corrupted image /kaggle/input/bone-fracture-multi-region-x-ray-data/Bone_Fracture_Binary_Classification/Bone_Fracture_Binary_Classification/val/not fractured/IMG0004148.jpg: image file is truncated (14 bytes not processed)\n",
      "Using black placeholder image\n"
     ]
    },
    {
     "name": "stderr",
     "output_type": "stream",
     "text": [
      "Epoch 27/50 [Val]:  50%|█████     | 13/26 [00:02<00:02,  6.36it/s, Loss=0.0839, Acc=98.66%]"
     ]
    },
    {
     "name": "stdout",
     "output_type": "stream",
     "text": [
      "Warning: Corrupted image /kaggle/input/bone-fracture-multi-region-x-ray-data/Bone_Fracture_Binary_Classification/Bone_Fracture_Binary_Classification/val/not fractured/IMG0004143.jpg: image file is truncated (10 bytes not processed)\n",
      "Using black placeholder image\n",
      "Warning: Corrupted image /kaggle/input/bone-fracture-multi-region-x-ray-data/Bone_Fracture_Binary_Classification/Bone_Fracture_Binary_Classification/val/not fractured/IMG0004308.jpg: image file is truncated (40 bytes not processed)\n",
      "Using black placeholder image\n",
      "Warning: Corrupted image /kaggle/input/bone-fracture-multi-region-x-ray-data/Bone_Fracture_Binary_Classification/Bone_Fracture_Binary_Classification/val/not fractured/IMG0004149.jpg: image file is truncated (33 bytes not processed)\n",
      "Using black placeholder image\n"
     ]
    },
    {
     "name": "stderr",
     "output_type": "stream",
     "text": [
      "Epoch 27/50 [Val]: 100%|██████████| 26/26 [00:04<00:00,  5.92it/s, Loss=0.0594, Acc=98.55%]\n"
     ]
    },
    {
     "name": "stdout",
     "output_type": "stream",
     "text": [
      "Epoch 27/50:\n",
      "Train Loss: 0.0112, Train Acc: 99.57%\n",
      "Val Loss: 0.0423, Val Acc: 98.55%\n",
      "Learning Rate: 0.000250\n",
      "------------------------------------------------------------\n",
      "New best model saved with validation accuracy: 98.55%\n"
     ]
    },
    {
     "name": "stderr",
     "output_type": "stream",
     "text": [
      "Epoch 28/50 [Train]:   0%|          | 1/289 [00:00<02:47,  1.72it/s, Loss=0.0052, Acc=100.00%]"
     ]
    },
    {
     "name": "stdout",
     "output_type": "stream",
     "text": [
      "Warning: Corrupted image /kaggle/input/bone-fracture-multi-region-x-ray-data/Bone_Fracture_Binary_Classification/Bone_Fracture_Binary_Classification/train/not fractured/IMG0004143.jpg: image file is truncated (10 bytes not processed)\n",
      "Using black placeholder image\n"
     ]
    },
    {
     "name": "stderr",
     "output_type": "stream",
     "text": [
      "Epoch 28/50 [Train]:   6%|▌         | 18/289 [00:03<00:49,  5.49it/s, Loss=0.0017, Acc=99.65%]"
     ]
    },
    {
     "name": "stdout",
     "output_type": "stream",
     "text": [
      "Warning: Corrupted image /kaggle/input/bone-fracture-multi-region-x-ray-data/Bone_Fracture_Binary_Classification/Bone_Fracture_Binary_Classification/train/not fractured/IMG0004149.jpg: image file is truncated (33 bytes not processed)\n",
      "Using black placeholder image\n"
     ]
    },
    {
     "name": "stderr",
     "output_type": "stream",
     "text": [
      "Epoch 28/50 [Train]:  10%|▉         | 28/289 [00:05<00:47,  5.48it/s, Loss=0.0009, Acc=99.78%]"
     ]
    },
    {
     "name": "stdout",
     "output_type": "stream",
     "text": [
      "Warning: Corrupted image /kaggle/input/bone-fracture-multi-region-x-ray-data/Bone_Fracture_Binary_Classification/Bone_Fracture_Binary_Classification/train/not fractured/IMG0004308.jpg: image file is truncated (40 bytes not processed)\n",
      "Using black placeholder image\n"
     ]
    },
    {
     "name": "stderr",
     "output_type": "stream",
     "text": [
      "Epoch 28/50 [Train]:  13%|█▎        | 37/289 [00:07<00:46,  5.45it/s, Loss=0.0141, Acc=99.83%]"
     ]
    },
    {
     "name": "stdout",
     "output_type": "stream",
     "text": [
      "Warning: Corrupted image /kaggle/input/bone-fracture-multi-region-x-ray-data/Bone_Fracture_Binary_Classification/Bone_Fracture_Binary_Classification/train/not fractured/IMG0004148.jpg: image file is truncated (14 bytes not processed)\n",
      "Using black placeholder image\n"
     ]
    },
    {
     "name": "stderr",
     "output_type": "stream",
     "text": [
      "Epoch 28/50 [Train]:  44%|████▍     | 128/289 [00:23<00:29,  5.44it/s, Loss=0.0007, Acc=99.51%]"
     ]
    },
    {
     "name": "stdout",
     "output_type": "stream",
     "text": [
      "Warning: Corrupted image /kaggle/input/bone-fracture-multi-region-x-ray-data/Bone_Fracture_Binary_Classification/Bone_Fracture_Binary_Classification/train/not fractured/IMG0004347.jpg: image file is truncated (40 bytes not processed)\n",
      "Using black placeholder image\n"
     ]
    },
    {
     "name": "stderr",
     "output_type": "stream",
     "text": [
      "Epoch 28/50 [Train]:  48%|████▊     | 139/289 [00:25<00:27,  5.46it/s, Loss=0.0075, Acc=99.53%]"
     ]
    },
    {
     "name": "stdout",
     "output_type": "stream",
     "text": [
      "Warning: Corrupted image /kaggle/input/bone-fracture-multi-region-x-ray-data/Bone_Fracture_Binary_Classification/Bone_Fracture_Binary_Classification/train/not fractured/IMG0004134.jpg: image file is truncated (1 bytes not processed)\n",
      "Using black placeholder image\n"
     ]
    },
    {
     "name": "stderr",
     "output_type": "stream",
     "text": [
      "Epoch 28/50 [Train]: 100%|██████████| 289/289 [00:53<00:00,  5.42it/s, Loss=0.0007, Acc=99.48%]\n",
      "Epoch 28/50 [Val]:  35%|███▍      | 9/26 [00:02<00:04,  4.21it/s, Loss=0.0710, Acc=98.26%]"
     ]
    },
    {
     "name": "stdout",
     "output_type": "stream",
     "text": [
      "Warning: Corrupted image /kaggle/input/bone-fracture-multi-region-x-ray-data/Bone_Fracture_Binary_Classification/Bone_Fracture_Binary_Classification/val/not fractured/IMG0004134.jpg: image file is truncated (1 bytes not processed)\n",
      "Using black placeholder image\n",
      "Warning: Corrupted image /kaggle/input/bone-fracture-multi-region-x-ray-data/Bone_Fracture_Binary_Classification/Bone_Fracture_Binary_Classification/val/not fractured/IMG0004347.jpg: image file is truncated (40 bytes not processed)\n",
      "Using black placeholder image\n"
     ]
    },
    {
     "name": "stderr",
     "output_type": "stream",
     "text": [
      "Epoch 28/50 [Val]:  35%|███▍      | 9/26 [00:02<00:04,  4.21it/s, Loss=0.0465, Acc=98.44%]"
     ]
    },
    {
     "name": "stdout",
     "output_type": "stream",
     "text": [
      "Warning: Corrupted image /kaggle/input/bone-fracture-multi-region-x-ray-data/Bone_Fracture_Binary_Classification/Bone_Fracture_Binary_Classification/val/not fractured/IMG0004148.jpg: image file is truncated (14 bytes not processed)\n",
      "Using black placeholder image\n"
     ]
    },
    {
     "name": "stderr",
     "output_type": "stream",
     "text": [
      "Epoch 28/50 [Val]:  50%|█████     | 13/26 [00:03<00:02,  6.04it/s, Loss=0.0428, Acc=97.99%]"
     ]
    },
    {
     "name": "stdout",
     "output_type": "stream",
     "text": [
      "Warning: Corrupted image /kaggle/input/bone-fracture-multi-region-x-ray-data/Bone_Fracture_Binary_Classification/Bone_Fracture_Binary_Classification/val/not fractured/IMG0004143.jpg: image file is truncated (10 bytes not processed)\n",
      "Using black placeholder image\n",
      "Warning: Corrupted image /kaggle/input/bone-fracture-multi-region-x-ray-data/Bone_Fracture_Binary_Classification/Bone_Fracture_Binary_Classification/val/not fractured/IMG0004308.jpg: image file is truncated (40 bytes not processed)\n",
      "Using black placeholder image\n",
      "Warning: Corrupted image /kaggle/input/bone-fracture-multi-region-x-ray-data/Bone_Fracture_Binary_Classification/Bone_Fracture_Binary_Classification/val/not fractured/IMG0004149.jpg: image file is truncated (33 bytes not processed)\n",
      "Using black placeholder image\n"
     ]
    },
    {
     "name": "stderr",
     "output_type": "stream",
     "text": [
      "Epoch 28/50 [Val]: 100%|██████████| 26/26 [00:04<00:00,  5.39it/s, Loss=0.0328, Acc=98.31%]\n"
     ]
    },
    {
     "name": "stdout",
     "output_type": "stream",
     "text": [
      "Epoch 28/50:\n",
      "Train Loss: 0.0159, Train Acc: 99.48%\n",
      "Val Loss: 0.0489, Val Acc: 98.31%\n",
      "Learning Rate: 0.000250\n",
      "------------------------------------------------------------\n"
     ]
    },
    {
     "name": "stderr",
     "output_type": "stream",
     "text": [
      "Epoch 29/50 [Train]:  19%|█▉        | 55/289 [00:10<00:42,  5.49it/s, Loss=0.0560, Acc=99.43%]"
     ]
    },
    {
     "name": "stdout",
     "output_type": "stream",
     "text": [
      "Warning: Corrupted image /kaggle/input/bone-fracture-multi-region-x-ray-data/Bone_Fracture_Binary_Classification/Bone_Fracture_Binary_Classification/train/not fractured/IMG0004134.jpg: image file is truncated (1 bytes not processed)\n",
      "Using black placeholder image\n"
     ]
    },
    {
     "name": "stderr",
     "output_type": "stream",
     "text": [
      "Epoch 29/50 [Train]:  24%|██▍       | 69/289 [00:13<00:40,  5.46it/s, Loss=0.0007, Acc=99.50%]"
     ]
    },
    {
     "name": "stdout",
     "output_type": "stream",
     "text": [
      "Warning: Corrupted image /kaggle/input/bone-fracture-multi-region-x-ray-data/Bone_Fracture_Binary_Classification/Bone_Fracture_Binary_Classification/train/not fractured/IMG0004143.jpg: image file is truncated (10 bytes not processed)\n",
      "Using black placeholder image\n"
     ]
    },
    {
     "name": "stderr",
     "output_type": "stream",
     "text": [
      "Epoch 29/50 [Train]:  28%|██▊       | 80/289 [00:15<00:38,  5.48it/s, Loss=0.0026, Acc=99.57%]"
     ]
    },
    {
     "name": "stdout",
     "output_type": "stream",
     "text": [
      "Warning: Corrupted image /kaggle/input/bone-fracture-multi-region-x-ray-data/Bone_Fracture_Binary_Classification/Bone_Fracture_Binary_Classification/train/not fractured/IMG0004149.jpg: image file is truncated (33 bytes not processed)\n",
      "Using black placeholder image\n"
     ]
    },
    {
     "name": "stderr",
     "output_type": "stream",
     "text": [
      "Epoch 29/50 [Train]:  48%|████▊     | 140/289 [00:26<00:27,  5.48it/s, Loss=0.0165, Acc=99.62%]"
     ]
    },
    {
     "name": "stdout",
     "output_type": "stream",
     "text": [
      "Warning: Corrupted image /kaggle/input/bone-fracture-multi-region-x-ray-data/Bone_Fracture_Binary_Classification/Bone_Fracture_Binary_Classification/train/not fractured/IMG0004308.jpg: image file is truncated (40 bytes not processed)\n",
      "Using black placeholder image\n"
     ]
    },
    {
     "name": "stderr",
     "output_type": "stream",
     "text": [
      "Epoch 29/50 [Train]:  64%|██████▎   | 184/289 [00:34<00:19,  5.47it/s, Loss=0.0126, Acc=99.58%]"
     ]
    },
    {
     "name": "stdout",
     "output_type": "stream",
     "text": [
      "Warning: Corrupted image /kaggle/input/bone-fracture-multi-region-x-ray-data/Bone_Fracture_Binary_Classification/Bone_Fracture_Binary_Classification/train/not fractured/IMG0004347.jpg: image file is truncated (40 bytes not processed)\n",
      "Using black placeholder image\n"
     ]
    },
    {
     "name": "stderr",
     "output_type": "stream",
     "text": [
      "Epoch 29/50 [Train]:  93%|█████████▎| 270/289 [00:49<00:03,  5.44it/s, Loss=0.0012, Acc=99.53%]"
     ]
    },
    {
     "name": "stdout",
     "output_type": "stream",
     "text": [
      "Warning: Corrupted image /kaggle/input/bone-fracture-multi-region-x-ray-data/Bone_Fracture_Binary_Classification/Bone_Fracture_Binary_Classification/train/not fractured/IMG0004148.jpg: image file is truncated (14 bytes not processed)\n",
      "Using black placeholder image\n"
     ]
    },
    {
     "name": "stderr",
     "output_type": "stream",
     "text": [
      "Epoch 29/50 [Train]: 100%|██████████| 289/289 [00:53<00:00,  5.41it/s, Loss=0.0047, Acc=99.52%]\n",
      "Epoch 29/50 [Val]:  35%|███▍      | 9/26 [00:02<00:03,  5.56it/s, Loss=0.0385, Acc=98.96%]"
     ]
    },
    {
     "name": "stdout",
     "output_type": "stream",
     "text": [
      "Warning: Corrupted image /kaggle/input/bone-fracture-multi-region-x-ray-data/Bone_Fracture_Binary_Classification/Bone_Fracture_Binary_Classification/val/not fractured/IMG0004134.jpg: image file is truncated (1 bytes not processed)\n",
      "Using black placeholder image\n"
     ]
    },
    {
     "name": "stderr",
     "output_type": "stream",
     "text": [
      "Epoch 29/50 [Val]:  35%|███▍      | 9/26 [00:02<00:03,  5.56it/s, Loss=0.0238, Acc=99.06%]"
     ]
    },
    {
     "name": "stdout",
     "output_type": "stream",
     "text": [
      "Warning: Corrupted image /kaggle/input/bone-fracture-multi-region-x-ray-data/Bone_Fracture_Binary_Classification/Bone_Fracture_Binary_Classification/val/not fractured/IMG0004347.jpg: image file is truncated (40 bytes not processed)\n",
      "Using black placeholder image\n",
      "Warning: Corrupted image /kaggle/input/bone-fracture-multi-region-x-ray-data/Bone_Fracture_Binary_Classification/Bone_Fracture_Binary_Classification/val/not fractured/IMG0004148.jpg: image file is truncated (14 bytes not processed)\n",
      "Using black placeholder image\n"
     ]
    },
    {
     "name": "stderr",
     "output_type": "stream",
     "text": [
      "Epoch 29/50 [Val]:  50%|█████     | 13/26 [00:02<00:01,  6.79it/s, Loss=0.1829, Acc=97.10%]"
     ]
    },
    {
     "name": "stdout",
     "output_type": "stream",
     "text": [
      "Warning: Corrupted image /kaggle/input/bone-fracture-multi-region-x-ray-data/Bone_Fracture_Binary_Classification/Bone_Fracture_Binary_Classification/val/not fractured/IMG0004143.jpg: image file is truncated (10 bytes not processed)\n",
      "Using black placeholder image\n",
      "Warning: Corrupted image /kaggle/input/bone-fracture-multi-region-x-ray-data/Bone_Fracture_Binary_Classification/Bone_Fracture_Binary_Classification/val/not fractured/IMG0004308.jpg: image file is truncated (40 bytes not processed)\n",
      "Using black placeholder image\n",
      "Warning: Corrupted image /kaggle/input/bone-fracture-multi-region-x-ray-data/Bone_Fracture_Binary_Classification/Bone_Fracture_Binary_Classification/val/not fractured/IMG0004149.jpg: image file is truncated (33 bytes not processed)\n",
      "Using black placeholder image\n"
     ]
    },
    {
     "name": "stderr",
     "output_type": "stream",
     "text": [
      "Epoch 29/50 [Val]: 100%|██████████| 26/26 [00:04<00:00,  5.90it/s, Loss=0.0858, Acc=96.50%]\n"
     ]
    },
    {
     "name": "stdout",
     "output_type": "stream",
     "text": [
      "Epoch 29/50:\n",
      "Train Loss: 0.0147, Train Acc: 99.52%\n",
      "Val Loss: 0.0746, Val Acc: 96.50%\n",
      "Learning Rate: 0.000250\n",
      "------------------------------------------------------------\n"
     ]
    },
    {
     "name": "stderr",
     "output_type": "stream",
     "text": [
      "Epoch 30/50 [Train]:  10%|█         | 29/289 [00:05<00:47,  5.47it/s, Loss=0.0005, Acc=99.78%]"
     ]
    },
    {
     "name": "stdout",
     "output_type": "stream",
     "text": [
      "Warning: Corrupted image /kaggle/input/bone-fracture-multi-region-x-ray-data/Bone_Fracture_Binary_Classification/Bone_Fracture_Binary_Classification/train/not fractured/IMG0004143.jpg: image file is truncated (10 bytes not processed)\n",
      "Using black placeholder image\n"
     ]
    },
    {
     "name": "stderr",
     "output_type": "stream",
     "text": [
      "Epoch 30/50 [Train]:  12%|█▏        | 36/289 [00:07<00:46,  5.46it/s, Loss=0.0006, Acc=99.83%]"
     ]
    },
    {
     "name": "stdout",
     "output_type": "stream",
     "text": [
      "Warning: Corrupted image /kaggle/input/bone-fracture-multi-region-x-ray-data/Bone_Fracture_Binary_Classification/Bone_Fracture_Binary_Classification/train/not fractured/IMG0004149.jpg: image file is truncated (33 bytes not processed)\n",
      "Using black placeholder image\n"
     ]
    },
    {
     "name": "stderr",
     "output_type": "stream",
     "text": [
      "Epoch 30/50 [Train]:  17%|█▋        | 50/289 [00:09<00:43,  5.48it/s, Loss=0.0013, Acc=99.69%]"
     ]
    },
    {
     "name": "stdout",
     "output_type": "stream",
     "text": [
      "Warning: Corrupted image /kaggle/input/bone-fracture-multi-region-x-ray-data/Bone_Fracture_Binary_Classification/Bone_Fracture_Binary_Classification/train/not fractured/IMG0004134.jpg: image file is truncated (1 bytes not processed)\n",
      "Using black placeholder image\n"
     ]
    },
    {
     "name": "stderr",
     "output_type": "stream",
     "text": [
      "Epoch 30/50 [Train]:  19%|█▉        | 56/289 [00:10<00:42,  5.49it/s, Loss=0.0008, Acc=99.72%]"
     ]
    },
    {
     "name": "stdout",
     "output_type": "stream",
     "text": [
      "Warning: Corrupted image /kaggle/input/bone-fracture-multi-region-x-ray-data/Bone_Fracture_Binary_Classification/Bone_Fracture_Binary_Classification/train/not fractured/IMG0004308.jpg: image file is truncated (40 bytes not processed)\n",
      "Using black placeholder image\n"
     ]
    },
    {
     "name": "stderr",
     "output_type": "stream",
     "text": [
      "Epoch 30/50 [Train]:  70%|██████▉   | 202/289 [00:37<00:15,  5.46it/s, Loss=0.0024, Acc=99.69%]"
     ]
    },
    {
     "name": "stdout",
     "output_type": "stream",
     "text": [
      "Warning: Corrupted image /kaggle/input/bone-fracture-multi-region-x-ray-data/Bone_Fracture_Binary_Classification/Bone_Fracture_Binary_Classification/train/not fractured/IMG0004347.jpg: image file is truncated (40 bytes not processed)\n",
      "Using black placeholder image\n"
     ]
    },
    {
     "name": "stderr",
     "output_type": "stream",
     "text": [
      "Epoch 30/50 [Train]:  90%|████████▉ | 260/289 [00:47<00:05,  5.49it/s, Loss=0.0003, Acc=99.64%]"
     ]
    },
    {
     "name": "stdout",
     "output_type": "stream",
     "text": [
      "Warning: Corrupted image /kaggle/input/bone-fracture-multi-region-x-ray-data/Bone_Fracture_Binary_Classification/Bone_Fracture_Binary_Classification/train/not fractured/IMG0004148.jpg: image file is truncated (14 bytes not processed)\n",
      "Using black placeholder image\n"
     ]
    },
    {
     "name": "stderr",
     "output_type": "stream",
     "text": [
      "Epoch 30/50 [Train]: 100%|██████████| 289/289 [00:53<00:00,  5.42it/s, Loss=0.0006, Acc=99.65%]\n",
      "Epoch 30/50 [Val]:  35%|███▍      | 9/26 [00:02<00:03,  5.27it/s, Loss=0.0709, Acc=98.96%]"
     ]
    },
    {
     "name": "stdout",
     "output_type": "stream",
     "text": [
      "Warning: Corrupted image /kaggle/input/bone-fracture-multi-region-x-ray-data/Bone_Fracture_Binary_Classification/Bone_Fracture_Binary_Classification/val/not fractured/IMG0004134.jpg: image file is truncated (1 bytes not processed)\n",
      "Using black placeholder image\n"
     ]
    },
    {
     "name": "stderr",
     "output_type": "stream",
     "text": [
      "Epoch 30/50 [Val]:  35%|███▍      | 9/26 [00:02<00:03,  5.27it/s, Loss=0.0611, Acc=98.75%]"
     ]
    },
    {
     "name": "stdout",
     "output_type": "stream",
     "text": [
      "Warning: Corrupted image /kaggle/input/bone-fracture-multi-region-x-ray-data/Bone_Fracture_Binary_Classification/Bone_Fracture_Binary_Classification/val/not fractured/IMG0004347.jpg: image file is truncated (40 bytes not processed)\n",
      "Using black placeholder image\n",
      "Warning: Corrupted image /kaggle/input/bone-fracture-multi-region-x-ray-data/Bone_Fracture_Binary_Classification/Bone_Fracture_Binary_Classification/val/not fractured/IMG0004148.jpg: image file is truncated (14 bytes not processed)\n",
      "Using black placeholder image\n"
     ]
    },
    {
     "name": "stderr",
     "output_type": "stream",
     "text": [
      "Epoch 30/50 [Val]:  50%|█████     | 13/26 [00:02<00:02,  5.83it/s, Loss=0.0880, Acc=97.99%]"
     ]
    },
    {
     "name": "stdout",
     "output_type": "stream",
     "text": [
      "Warning: Corrupted image /kaggle/input/bone-fracture-multi-region-x-ray-data/Bone_Fracture_Binary_Classification/Bone_Fracture_Binary_Classification/val/not fractured/IMG0004143.jpg: image file is truncated (10 bytes not processed)\n",
      "Using black placeholder image\n",
      "Warning: Corrupted image /kaggle/input/bone-fracture-multi-region-x-ray-data/Bone_Fracture_Binary_Classification/Bone_Fracture_Binary_Classification/val/not fractured/IMG0004308.jpg: image file is truncated (40 bytes not processed)\n",
      "Using black placeholder image\n"
     ]
    },
    {
     "name": "stderr",
     "output_type": "stream",
     "text": [
      "Epoch 30/50 [Val]:  58%|█████▊    | 15/26 [00:03<00:02,  4.91it/s, Loss=0.0470, Acc=97.92%]"
     ]
    },
    {
     "name": "stdout",
     "output_type": "stream",
     "text": [
      "Warning: Corrupted image /kaggle/input/bone-fracture-multi-region-x-ray-data/Bone_Fracture_Binary_Classification/Bone_Fracture_Binary_Classification/val/not fractured/IMG0004149.jpg: image file is truncated (33 bytes not processed)\n",
      "Using black placeholder image\n"
     ]
    },
    {
     "name": "stderr",
     "output_type": "stream",
     "text": [
      "Epoch 30/50 [Val]: 100%|██████████| 26/26 [00:04<00:00,  5.41it/s, Loss=0.0439, Acc=98.19%]\n"
     ]
    },
    {
     "name": "stdout",
     "output_type": "stream",
     "text": [
      "Epoch 30/50:\n",
      "Train Loss: 0.0103, Train Acc: 99.65%\n",
      "Val Loss: 0.0501, Val Acc: 98.19%\n",
      "Learning Rate: 0.000250\n",
      "------------------------------------------------------------\n"
     ]
    },
    {
     "name": "stderr",
     "output_type": "stream",
     "text": [
      "Epoch 31/50 [Train]:  21%|██▏       | 62/289 [00:11<00:41,  5.49it/s, Loss=0.0002, Acc=99.85%]"
     ]
    },
    {
     "name": "stdout",
     "output_type": "stream",
     "text": [
      "Warning: Corrupted image /kaggle/input/bone-fracture-multi-region-x-ray-data/Bone_Fracture_Binary_Classification/Bone_Fracture_Binary_Classification/train/not fractured/IMG0004149.jpg: image file is truncated (33 bytes not processed)\n",
      "Using black placeholder image\n"
     ]
    },
    {
     "name": "stderr",
     "output_type": "stream",
     "text": [
      "Epoch 31/50 [Train]:  29%|██▉       | 84/289 [00:15<00:37,  5.48it/s, Loss=0.0010, Acc=99.89%]"
     ]
    },
    {
     "name": "stdout",
     "output_type": "stream",
     "text": [
      "Warning: Corrupted image /kaggle/input/bone-fracture-multi-region-x-ray-data/Bone_Fracture_Binary_Classification/Bone_Fracture_Binary_Classification/train/not fractured/IMG0004308.jpg: image file is truncated (40 bytes not processed)\n",
      "Using black placeholder image\n"
     ]
    },
    {
     "name": "stderr",
     "output_type": "stream",
     "text": [
      "Epoch 31/50 [Train]:  79%|███████▉  | 228/289 [00:42<00:11,  5.42it/s, Loss=0.0059, Acc=99.75%]"
     ]
    },
    {
     "name": "stdout",
     "output_type": "stream",
     "text": [
      "Warning: Corrupted image /kaggle/input/bone-fracture-multi-region-x-ray-data/Bone_Fracture_Binary_Classification/Bone_Fracture_Binary_Classification/train/not fractured/IMG0004148.jpg: image file is truncated (14 bytes not processed)\n",
      "Using black placeholder image\n"
     ]
    },
    {
     "name": "stderr",
     "output_type": "stream",
     "text": [
      "Epoch 31/50 [Train]:  83%|████████▎ | 239/289 [00:44<00:09,  5.46it/s, Loss=0.0030, Acc=99.75%]"
     ]
    },
    {
     "name": "stdout",
     "output_type": "stream",
     "text": [
      "Warning: Corrupted image /kaggle/input/bone-fracture-multi-region-x-ray-data/Bone_Fracture_Binary_Classification/Bone_Fracture_Binary_Classification/train/not fractured/IMG0004347.jpg: image file is truncated (40 bytes not processed)\n",
      "Using black placeholder image\n"
     ]
    },
    {
     "name": "stderr",
     "output_type": "stream",
     "text": [
      "Epoch 31/50 [Train]:  90%|████████▉ | 260/289 [00:48<00:05,  5.48it/s, Loss=0.0011, Acc=99.74%]"
     ]
    },
    {
     "name": "stdout",
     "output_type": "stream",
     "text": [
      "Warning: Corrupted image /kaggle/input/bone-fracture-multi-region-x-ray-data/Bone_Fracture_Binary_Classification/Bone_Fracture_Binary_Classification/train/not fractured/IMG0004143.jpg: image file is truncated (10 bytes not processed)\n",
      "Using black placeholder image\n"
     ]
    },
    {
     "name": "stderr",
     "output_type": "stream",
     "text": [
      "Epoch 31/50 [Train]:  93%|█████████▎| 269/289 [00:49<00:03,  5.47it/s, Loss=0.0126, Acc=99.73%]"
     ]
    },
    {
     "name": "stdout",
     "output_type": "stream",
     "text": [
      "Warning: Corrupted image /kaggle/input/bone-fracture-multi-region-x-ray-data/Bone_Fracture_Binary_Classification/Bone_Fracture_Binary_Classification/train/not fractured/IMG0004134.jpg: image file is truncated (1 bytes not processed)\n",
      "Using black placeholder image\n"
     ]
    },
    {
     "name": "stderr",
     "output_type": "stream",
     "text": [
      "Epoch 31/50 [Train]: 100%|██████████| 289/289 [00:53<00:00,  5.40it/s, Loss=0.1331, Acc=99.70%]\n",
      "Epoch 31/50 [Val]:  35%|███▍      | 9/26 [00:02<00:03,  5.35it/s, Loss=0.2084, Acc=91.67%]"
     ]
    },
    {
     "name": "stdout",
     "output_type": "stream",
     "text": [
      "Warning: Corrupted image /kaggle/input/bone-fracture-multi-region-x-ray-data/Bone_Fracture_Binary_Classification/Bone_Fracture_Binary_Classification/val/not fractured/IMG0004134.jpg: image file is truncated (1 bytes not processed)\n",
      "Using black placeholder image\n"
     ]
    },
    {
     "name": "stderr",
     "output_type": "stream",
     "text": [
      "Epoch 31/50 [Val]:  35%|███▍      | 9/26 [00:02<00:03,  5.35it/s, Loss=0.1315, Acc=91.56%]"
     ]
    },
    {
     "name": "stdout",
     "output_type": "stream",
     "text": [
      "Warning: Corrupted image /kaggle/input/bone-fracture-multi-region-x-ray-data/Bone_Fracture_Binary_Classification/Bone_Fracture_Binary_Classification/val/not fractured/IMG0004347.jpg: image file is truncated (40 bytes not processed)\n",
      "Using black placeholder image\n",
      "Warning: Corrupted image /kaggle/input/bone-fracture-multi-region-x-ray-data/Bone_Fracture_Binary_Classification/Bone_Fracture_Binary_Classification/val/not fractured/IMG0004148.jpg: image file is truncated (14 bytes not processed)\n",
      "Using black placeholder image\n"
     ]
    },
    {
     "name": "stderr",
     "output_type": "stream",
     "text": [
      "Epoch 31/50 [Val]:  50%|█████     | 13/26 [00:02<00:02,  6.50it/s, Loss=0.0012, Acc=93.75%]"
     ]
    },
    {
     "name": "stdout",
     "output_type": "stream",
     "text": [
      "Warning: Corrupted image /kaggle/input/bone-fracture-multi-region-x-ray-data/Bone_Fracture_Binary_Classification/Bone_Fracture_Binary_Classification/val/not fractured/IMG0004143.jpg: image file is truncated (10 bytes not processed)\n",
      "Using black placeholder image\n",
      "Warning: Corrupted image /kaggle/input/bone-fracture-multi-region-x-ray-data/Bone_Fracture_Binary_Classification/Bone_Fracture_Binary_Classification/val/not fractured/IMG0004308.jpg: image file is truncated (40 bytes not processed)\n",
      "Using black placeholder image\n",
      "Warning: Corrupted image /kaggle/input/bone-fracture-multi-region-x-ray-data/Bone_Fracture_Binary_Classification/Bone_Fracture_Binary_Classification/val/not fractured/IMG0004149.jpg: image file is truncated (33 bytes not processed)\n",
      "Using black placeholder image\n"
     ]
    },
    {
     "name": "stderr",
     "output_type": "stream",
     "text": [
      "Epoch 31/50 [Val]: 100%|██████████| 26/26 [00:04<00:00,  5.77it/s, Loss=0.0163, Acc=96.26%]\n"
     ]
    },
    {
     "name": "stdout",
     "output_type": "stream",
     "text": [
      "Epoch 31/50:\n",
      "Train Loss: 0.0100, Train Acc: 99.70%\n",
      "Val Loss: 0.0754, Val Acc: 96.26%\n",
      "Learning Rate: 0.000250\n",
      "------------------------------------------------------------\n"
     ]
    },
    {
     "name": "stderr",
     "output_type": "stream",
     "text": [
      "Epoch 32/50 [Train]:  11%|█         | 32/289 [00:06<00:47,  5.47it/s, Loss=0.0003, Acc=99.51%]"
     ]
    },
    {
     "name": "stdout",
     "output_type": "stream",
     "text": [
      "Warning: Corrupted image /kaggle/input/bone-fracture-multi-region-x-ray-data/Bone_Fracture_Binary_Classification/Bone_Fracture_Binary_Classification/train/not fractured/IMG0004143.jpg: image file is truncated (10 bytes not processed)\n",
      "Using black placeholder image\n"
     ]
    },
    {
     "name": "stderr",
     "output_type": "stream",
     "text": [
      "Epoch 32/50 [Train]:  18%|█▊        | 52/289 [00:09<00:43,  5.49it/s, Loss=0.0070, Acc=99.34%]"
     ]
    },
    {
     "name": "stdout",
     "output_type": "stream",
     "text": [
      "Warning: Corrupted image /kaggle/input/bone-fracture-multi-region-x-ray-data/Bone_Fracture_Binary_Classification/Bone_Fracture_Binary_Classification/train/not fractured/IMG0004134.jpg: image file is truncated (1 bytes not processed)\n",
      "Using black placeholder image\n"
     ]
    },
    {
     "name": "stderr",
     "output_type": "stream",
     "text": [
      "Epoch 32/50 [Train]:  20%|██        | 59/289 [00:11<00:41,  5.49it/s, Loss=0.0224, Acc=99.42%]"
     ]
    },
    {
     "name": "stdout",
     "output_type": "stream",
     "text": [
      "Warning: Corrupted image /kaggle/input/bone-fracture-multi-region-x-ray-data/Bone_Fracture_Binary_Classification/Bone_Fracture_Binary_Classification/train/not fractured/IMG0004308.jpg: image file is truncated (40 bytes not processed)\n",
      "Using black placeholder image\n"
     ]
    },
    {
     "name": "stderr",
     "output_type": "stream",
     "text": [
      "Epoch 32/50 [Train]:  42%|████▏     | 121/289 [00:22<00:30,  5.47it/s, Loss=0.0066, Acc=99.48%]"
     ]
    },
    {
     "name": "stdout",
     "output_type": "stream",
     "text": [
      "Warning: Corrupted image /kaggle/input/bone-fracture-multi-region-x-ray-data/Bone_Fracture_Binary_Classification/Bone_Fracture_Binary_Classification/train/not fractured/IMG0004148.jpg: image file is truncated (14 bytes not processed)\n",
      "Using black placeholder image\n"
     ]
    },
    {
     "name": "stderr",
     "output_type": "stream",
     "text": [
      "Epoch 32/50 [Train]:  46%|████▌     | 132/289 [00:24<00:28,  5.50it/s, Loss=0.0022, Acc=99.46%]"
     ]
    },
    {
     "name": "stdout",
     "output_type": "stream",
     "text": [
      "Warning: Corrupted image /kaggle/input/bone-fracture-multi-region-x-ray-data/Bone_Fracture_Binary_Classification/Bone_Fracture_Binary_Classification/train/not fractured/IMG0004347.jpg: image file is truncated (40 bytes not processed)\n",
      "Using black placeholder image\n"
     ]
    },
    {
     "name": "stderr",
     "output_type": "stream",
     "text": [
      "Epoch 32/50 [Train]:  73%|███████▎  | 212/289 [00:39<00:14,  5.46it/s, Loss=0.0007, Acc=99.40%]"
     ]
    },
    {
     "name": "stdout",
     "output_type": "stream",
     "text": [
      "Warning: Corrupted image /kaggle/input/bone-fracture-multi-region-x-ray-data/Bone_Fracture_Binary_Classification/Bone_Fracture_Binary_Classification/train/not fractured/IMG0004149.jpg: image file is truncated (33 bytes not processed)\n",
      "Using black placeholder image\n"
     ]
    },
    {
     "name": "stderr",
     "output_type": "stream",
     "text": [
      "Epoch 32/50 [Train]: 100%|██████████| 289/289 [00:53<00:00,  5.42it/s, Loss=0.0021, Acc=99.43%]\n",
      "Epoch 32/50 [Val]:  35%|███▍      | 9/26 [00:02<00:03,  5.37it/s, Loss=0.0936, Acc=98.26%]"
     ]
    },
    {
     "name": "stdout",
     "output_type": "stream",
     "text": [
      "Warning: Corrupted image /kaggle/input/bone-fracture-multi-region-x-ray-data/Bone_Fracture_Binary_Classification/Bone_Fracture_Binary_Classification/val/not fractured/IMG0004134.jpg: image file is truncated (1 bytes not processed)\n",
      "Using black placeholder image\n"
     ]
    },
    {
     "name": "stderr",
     "output_type": "stream",
     "text": [
      "Epoch 32/50 [Val]:  35%|███▍      | 9/26 [00:02<00:03,  5.37it/s, Loss=0.0598, Acc=98.44%]"
     ]
    },
    {
     "name": "stdout",
     "output_type": "stream",
     "text": [
      "Warning: Corrupted image /kaggle/input/bone-fracture-multi-region-x-ray-data/Bone_Fracture_Binary_Classification/Bone_Fracture_Binary_Classification/val/not fractured/IMG0004347.jpg: image file is truncated (40 bytes not processed)\n",
      "Using black placeholder image\n",
      "Warning: Corrupted image /kaggle/input/bone-fracture-multi-region-x-ray-data/Bone_Fracture_Binary_Classification/Bone_Fracture_Binary_Classification/val/not fractured/IMG0004148.jpg: image file is truncated (14 bytes not processed)\n",
      "Using black placeholder image\n"
     ]
    },
    {
     "name": "stderr",
     "output_type": "stream",
     "text": [
      "Epoch 32/50 [Val]:  50%|█████     | 13/26 [00:02<00:02,  6.44it/s, Loss=0.0297, Acc=98.21%]"
     ]
    },
    {
     "name": "stdout",
     "output_type": "stream",
     "text": [
      "Warning: Corrupted image /kaggle/input/bone-fracture-multi-region-x-ray-data/Bone_Fracture_Binary_Classification/Bone_Fracture_Binary_Classification/val/not fractured/IMG0004143.jpg: image file is truncated (10 bytes not processed)\n",
      "Using black placeholder image\n",
      "Warning: Corrupted image /kaggle/input/bone-fracture-multi-region-x-ray-data/Bone_Fracture_Binary_Classification/Bone_Fracture_Binary_Classification/val/not fractured/IMG0004308.jpg: image file is truncated (40 bytes not processed)\n",
      "Using black placeholder image\n",
      "Warning: Corrupted image /kaggle/input/bone-fracture-multi-region-x-ray-data/Bone_Fracture_Binary_Classification/Bone_Fracture_Binary_Classification/val/not fractured/IMG0004149.jpg: image file is truncated (33 bytes not processed)\n",
      "Using black placeholder image\n"
     ]
    },
    {
     "name": "stderr",
     "output_type": "stream",
     "text": [
      "Epoch 32/50 [Val]: 100%|██████████| 26/26 [00:04<00:00,  5.82it/s, Loss=0.0292, Acc=98.43%]\n"
     ]
    },
    {
     "name": "stdout",
     "output_type": "stream",
     "text": [
      "Epoch 32/50:\n",
      "Train Loss: 0.0192, Train Acc: 99.43%\n",
      "Val Loss: 0.0405, Val Acc: 98.43%\n",
      "Learning Rate: 0.000250\n",
      "------------------------------------------------------------\n"
     ]
    },
    {
     "name": "stderr",
     "output_type": "stream",
     "text": [
      "Epoch 33/50 [Train]:   0%|          | 0/289 [00:00<?, ?it/s]"
     ]
    },
    {
     "name": "stdout",
     "output_type": "stream",
     "text": [
      "Warning: Corrupted image /kaggle/input/bone-fracture-multi-region-x-ray-data/Bone_Fracture_Binary_Classification/Bone_Fracture_Binary_Classification/train/not fractured/IMG0004347.jpg: image file is truncated (40 bytes not processed)\n",
      "Using black placeholder image\n"
     ]
    },
    {
     "name": "stderr",
     "output_type": "stream",
     "text": [
      "Epoch 33/50 [Train]:  15%|█▌        | 44/289 [00:08<00:45,  5.43it/s, Loss=0.0002, Acc=99.86%]"
     ]
    },
    {
     "name": "stdout",
     "output_type": "stream",
     "text": [
      "Warning: Corrupted image /kaggle/input/bone-fracture-multi-region-x-ray-data/Bone_Fracture_Binary_Classification/Bone_Fracture_Binary_Classification/train/not fractured/IMG0004143.jpg: image file is truncated (10 bytes not processed)\n",
      "Using black placeholder image\n"
     ]
    },
    {
     "name": "stderr",
     "output_type": "stream",
     "text": [
      "Epoch 33/50 [Train]:  33%|███▎      | 95/289 [00:17<00:35,  5.46it/s, Loss=0.0106, Acc=99.77%]"
     ]
    },
    {
     "name": "stdout",
     "output_type": "stream",
     "text": [
      "Warning: Corrupted image /kaggle/input/bone-fracture-multi-region-x-ray-data/Bone_Fracture_Binary_Classification/Bone_Fracture_Binary_Classification/train/not fractured/IMG0004149.jpg: image file is truncated (33 bytes not processed)\n",
      "Using black placeholder image\n"
     ]
    },
    {
     "name": "stderr",
     "output_type": "stream",
     "text": [
      "Epoch 33/50 [Train]:  62%|██████▏   | 180/289 [00:33<00:20,  5.44it/s, Loss=0.0014, Acc=99.53%]"
     ]
    },
    {
     "name": "stdout",
     "output_type": "stream",
     "text": [
      "Warning: Corrupted image /kaggle/input/bone-fracture-multi-region-x-ray-data/Bone_Fracture_Binary_Classification/Bone_Fracture_Binary_Classification/train/not fractured/IMG0004308.jpg: image file is truncated (40 bytes not processed)\n",
      "Using black placeholder image\n"
     ]
    },
    {
     "name": "stderr",
     "output_type": "stream",
     "text": [
      "Epoch 33/50 [Train]:  77%|███████▋  | 223/289 [00:41<00:12,  5.40it/s, Loss=0.0036, Acc=99.52%]"
     ]
    },
    {
     "name": "stdout",
     "output_type": "stream",
     "text": [
      "Warning: Corrupted image /kaggle/input/bone-fracture-multi-region-x-ray-data/Bone_Fracture_Binary_Classification/Bone_Fracture_Binary_Classification/train/not fractured/IMG0004134.jpg: image file is truncated (1 bytes not processed)\n",
      "Using black placeholder image\n"
     ]
    },
    {
     "name": "stderr",
     "output_type": "stream",
     "text": [
      "Epoch 33/50 [Train]:  90%|████████▉ | 260/289 [00:48<00:05,  5.44it/s, Loss=0.0014, Acc=99.56%]"
     ]
    },
    {
     "name": "stdout",
     "output_type": "stream",
     "text": [
      "Warning: Corrupted image /kaggle/input/bone-fracture-multi-region-x-ray-data/Bone_Fracture_Binary_Classification/Bone_Fracture_Binary_Classification/train/not fractured/IMG0004148.jpg: image file is truncated (14 bytes not processed)\n",
      "Using black placeholder image\n"
     ]
    },
    {
     "name": "stderr",
     "output_type": "stream",
     "text": [
      "Epoch 33/50 [Train]: 100%|██████████| 289/289 [00:53<00:00,  5.41it/s, Loss=0.0627, Acc=99.53%]\n",
      "Epoch 33/50 [Val]:  35%|███▍      | 9/26 [00:02<00:03,  5.19it/s, Loss=0.0580, Acc=97.92%]"
     ]
    },
    {
     "name": "stdout",
     "output_type": "stream",
     "text": [
      "Warning: Corrupted image /kaggle/input/bone-fracture-multi-region-x-ray-data/Bone_Fracture_Binary_Classification/Bone_Fracture_Binary_Classification/val/not fractured/IMG0004134.jpg: image file is truncated (1 bytes not processed)\n",
      "Using black placeholder image\n"
     ]
    },
    {
     "name": "stderr",
     "output_type": "stream",
     "text": [
      "Epoch 33/50 [Val]:  35%|███▍      | 9/26 [00:02<00:03,  5.19it/s, Loss=0.0743, Acc=97.81%]"
     ]
    },
    {
     "name": "stdout",
     "output_type": "stream",
     "text": [
      "Warning: Corrupted image /kaggle/input/bone-fracture-multi-region-x-ray-data/Bone_Fracture_Binary_Classification/Bone_Fracture_Binary_Classification/val/not fractured/IMG0004347.jpg: image file is truncated (40 bytes not processed)\n",
      "Using black placeholder image\n",
      "Warning: Corrupted image /kaggle/input/bone-fracture-multi-region-x-ray-data/Bone_Fracture_Binary_Classification/Bone_Fracture_Binary_Classification/val/not fractured/IMG0004148.jpg: image file is truncated (14 bytes not processed)\n",
      "Using black placeholder image\n"
     ]
    },
    {
     "name": "stderr",
     "output_type": "stream",
     "text": [
      "Epoch 33/50 [Val]:  50%|█████     | 13/26 [00:02<00:02,  6.41it/s, Loss=0.0532, Acc=97.77%]"
     ]
    },
    {
     "name": "stdout",
     "output_type": "stream",
     "text": [
      "Warning: Corrupted image /kaggle/input/bone-fracture-multi-region-x-ray-data/Bone_Fracture_Binary_Classification/Bone_Fracture_Binary_Classification/val/not fractured/IMG0004143.jpg: image file is truncated (10 bytes not processed)\n",
      "Using black placeholder image\n",
      "Warning: Corrupted image /kaggle/input/bone-fracture-multi-region-x-ray-data/Bone_Fracture_Binary_Classification/Bone_Fracture_Binary_Classification/val/not fractured/IMG0004308.jpg: image file is truncated (40 bytes not processed)\n",
      "Using black placeholder image\n",
      "Warning: Corrupted image /kaggle/input/bone-fracture-multi-region-x-ray-data/Bone_Fracture_Binary_Classification/Bone_Fracture_Binary_Classification/val/not fractured/IMG0004149.jpg: image file is truncated (33 bytes not processed)\n",
      "Using black placeholder image\n"
     ]
    },
    {
     "name": "stderr",
     "output_type": "stream",
     "text": [
      "Epoch 33/50 [Val]: 100%|██████████| 26/26 [00:04<00:00,  5.66it/s, Loss=0.1162, Acc=97.59%]\n"
     ]
    },
    {
     "name": "stdout",
     "output_type": "stream",
     "text": [
      "Epoch 33/50:\n",
      "Train Loss: 0.0163, Train Acc: 99.53%\n",
      "Val Loss: 0.0565, Val Acc: 97.59%\n",
      "Learning Rate: 0.000250\n",
      "------------------------------------------------------------\n"
     ]
    },
    {
     "name": "stderr",
     "output_type": "stream",
     "text": [
      "Epoch 34/50 [Train]:   0%|          | 1/289 [00:00<02:57,  1.62it/s, Loss=0.0016, Acc=100.00%]"
     ]
    },
    {
     "name": "stdout",
     "output_type": "stream",
     "text": [
      "Warning: Corrupted image /kaggle/input/bone-fracture-multi-region-x-ray-data/Bone_Fracture_Binary_Classification/Bone_Fracture_Binary_Classification/train/not fractured/IMG0004347.jpg: image file is truncated (40 bytes not processed)\n",
      "Using black placeholder image\n"
     ]
    },
    {
     "name": "stderr",
     "output_type": "stream",
     "text": [
      "Epoch 34/50 [Train]:  10%|█         | 30/289 [00:06<00:47,  5.46it/s, Loss=0.0026, Acc=99.38%]"
     ]
    },
    {
     "name": "stdout",
     "output_type": "stream",
     "text": [
      "Warning: Corrupted image /kaggle/input/bone-fracture-multi-region-x-ray-data/Bone_Fracture_Binary_Classification/Bone_Fracture_Binary_Classification/train/not fractured/IMG0004308.jpg: image file is truncated (40 bytes not processed)\n",
      "Using black placeholder image\n"
     ]
    },
    {
     "name": "stderr",
     "output_type": "stream",
     "text": [
      "Epoch 34/50 [Train]:  26%|██▋       | 76/289 [00:14<00:39,  5.45it/s, Loss=0.0003, Acc=99.51%]"
     ]
    },
    {
     "name": "stdout",
     "output_type": "stream",
     "text": [
      "Warning: Corrupted image /kaggle/input/bone-fracture-multi-region-x-ray-data/Bone_Fracture_Binary_Classification/Bone_Fracture_Binary_Classification/train/not fractured/IMG0004143.jpg: image file is truncated (10 bytes not processed)\n",
      "Using black placeholder image\n"
     ]
    },
    {
     "name": "stderr",
     "output_type": "stream",
     "text": [
      "Epoch 34/50 [Train]:  42%|████▏     | 120/289 [00:22<00:30,  5.46it/s, Loss=0.0105, Acc=99.38%]"
     ]
    },
    {
     "name": "stdout",
     "output_type": "stream",
     "text": [
      "Warning: Corrupted image /kaggle/input/bone-fracture-multi-region-x-ray-data/Bone_Fracture_Binary_Classification/Bone_Fracture_Binary_Classification/train/not fractured/IMG0004148.jpg: image file is truncated (14 bytes not processed)\n",
      "Using black placeholder image\n"
     ]
    },
    {
     "name": "stderr",
     "output_type": "stream",
     "text": [
      "Epoch 34/50 [Train]:  46%|████▋     | 134/289 [00:25<00:28,  5.50it/s, Loss=0.0006, Acc=99.44%]"
     ]
    },
    {
     "name": "stdout",
     "output_type": "stream",
     "text": [
      "Warning: Corrupted image /kaggle/input/bone-fracture-multi-region-x-ray-data/Bone_Fracture_Binary_Classification/Bone_Fracture_Binary_Classification/train/not fractured/IMG0004149.jpg: image file is truncated (33 bytes not processed)\n",
      "Using black placeholder image\n"
     ]
    },
    {
     "name": "stderr",
     "output_type": "stream",
     "text": [
      "Epoch 34/50 [Train]:  71%|███████   | 204/289 [00:38<00:15,  5.47it/s, Loss=0.0093, Acc=99.45%]"
     ]
    },
    {
     "name": "stdout",
     "output_type": "stream",
     "text": [
      "Warning: Corrupted image /kaggle/input/bone-fracture-multi-region-x-ray-data/Bone_Fracture_Binary_Classification/Bone_Fracture_Binary_Classification/train/not fractured/IMG0004134.jpg: image file is truncated (1 bytes not processed)\n",
      "Using black placeholder image\n"
     ]
    },
    {
     "name": "stderr",
     "output_type": "stream",
     "text": [
      "Epoch 34/50 [Train]: 100%|██████████| 289/289 [00:53<00:00,  5.35it/s, Loss=0.0005, Acc=99.51%]\n",
      "Epoch 34/50 [Val]:  35%|███▍      | 9/26 [00:02<00:03,  5.22it/s, Loss=0.0987, Acc=97.22%]"
     ]
    },
    {
     "name": "stdout",
     "output_type": "stream",
     "text": [
      "Warning: Corrupted image /kaggle/input/bone-fracture-multi-region-x-ray-data/Bone_Fracture_Binary_Classification/Bone_Fracture_Binary_Classification/val/not fractured/IMG0004134.jpg: image file is truncated (1 bytes not processed)\n",
      "Using black placeholder image\n"
     ]
    },
    {
     "name": "stderr",
     "output_type": "stream",
     "text": [
      "Epoch 34/50 [Val]:  35%|███▍      | 9/26 [00:02<00:03,  5.22it/s, Loss=0.0347, Acc=97.50%]"
     ]
    },
    {
     "name": "stdout",
     "output_type": "stream",
     "text": [
      "Warning: Corrupted image /kaggle/input/bone-fracture-multi-region-x-ray-data/Bone_Fracture_Binary_Classification/Bone_Fracture_Binary_Classification/val/not fractured/IMG0004347.jpg: image file is truncated (40 bytes not processed)\n",
      "Using black placeholder image\n",
      "Warning: Corrupted image /kaggle/input/bone-fracture-multi-region-x-ray-data/Bone_Fracture_Binary_Classification/Bone_Fracture_Binary_Classification/val/not fractured/IMG0004148.jpg: image file is truncated (14 bytes not processed)\n",
      "Using black placeholder image\n"
     ]
    },
    {
     "name": "stderr",
     "output_type": "stream",
     "text": [
      "Epoch 34/50 [Val]:  50%|█████     | 13/26 [00:02<00:02,  6.41it/s, Loss=0.0250, Acc=97.77%]"
     ]
    },
    {
     "name": "stdout",
     "output_type": "stream",
     "text": [
      "Warning: Corrupted image /kaggle/input/bone-fracture-multi-region-x-ray-data/Bone_Fracture_Binary_Classification/Bone_Fracture_Binary_Classification/val/not fractured/IMG0004143.jpg: image file is truncated (10 bytes not processed)\n",
      "Using black placeholder image\n",
      "Warning: Corrupted image /kaggle/input/bone-fracture-multi-region-x-ray-data/Bone_Fracture_Binary_Classification/Bone_Fracture_Binary_Classification/val/not fractured/IMG0004308.jpg: image file is truncated (40 bytes not processed)Using black placeholder image\n",
      "\n",
      "Warning: Corrupted image /kaggle/input/bone-fracture-multi-region-x-ray-data/Bone_Fracture_Binary_Classification/Bone_Fracture_Binary_Classification/val/not fractured/IMG0004149.jpg: image file is truncated (33 bytes not processed)\n",
      "Using black placeholder image"
     ]
    },
    {
     "name": "stderr",
     "output_type": "stream",
     "text": [
      "Epoch 34/50 [Val]:  58%|█████▊    | 15/26 [00:03<00:01,  6.06it/s, Loss=0.0660, Acc=97.50%]"
     ]
    },
    {
     "name": "stdout",
     "output_type": "stream",
     "text": [
      "\n"
     ]
    },
    {
     "name": "stderr",
     "output_type": "stream",
     "text": [
      "Epoch 34/50 [Val]: 100%|██████████| 26/26 [00:04<00:00,  5.86it/s, Loss=0.0128, Acc=98.07%]\n"
     ]
    },
    {
     "name": "stdout",
     "output_type": "stream",
     "text": [
      "Epoch 34/50:\n",
      "Train Loss: 0.0127, Train Acc: 99.51%\n",
      "Val Loss: 0.0466, Val Acc: 98.07%\n",
      "Learning Rate: 0.000250\n",
      "------------------------------------------------------------\n"
     ]
    },
    {
     "name": "stderr",
     "output_type": "stream",
     "text": [
      "Epoch 35/50 [Train]:  30%|███       | 87/289 [00:16<00:36,  5.49it/s, Loss=0.0012, Acc=99.64%]"
     ]
    },
    {
     "name": "stdout",
     "output_type": "stream",
     "text": [
      "Warning: Corrupted image /kaggle/input/bone-fracture-multi-region-x-ray-data/Bone_Fracture_Binary_Classification/Bone_Fracture_Binary_Classification/train/not fractured/IMG0004149.jpg: image file is truncated (33 bytes not processed)\n",
      "Using black placeholder image\n"
     ]
    },
    {
     "name": "stderr",
     "output_type": "stream",
     "text": [
      "Epoch 35/50 [Train]:  42%|████▏     | 120/289 [00:22<00:30,  5.50it/s, Loss=0.0018, Acc=99.61%]"
     ]
    },
    {
     "name": "stdout",
     "output_type": "stream",
     "text": [
      "Warning: Corrupted image /kaggle/input/bone-fracture-multi-region-x-ray-data/Bone_Fracture_Binary_Classification/Bone_Fracture_Binary_Classification/train/not fractured/IMG0004308.jpg: image file is truncated (40 bytes not processed)\n",
      "Using black placeholder image\n"
     ]
    },
    {
     "name": "stderr",
     "output_type": "stream",
     "text": [
      "Epoch 35/50 [Train]:  58%|█████▊    | 168/289 [00:31<00:22,  5.46it/s, Loss=0.0005, Acc=99.67%]"
     ]
    },
    {
     "name": "stdout",
     "output_type": "stream",
     "text": [
      "Warning: Corrupted image /kaggle/input/bone-fracture-multi-region-x-ray-data/Bone_Fracture_Binary_Classification/Bone_Fracture_Binary_Classification/train/not fractured/IMG0004148.jpg: image file is truncated (14 bytes not processed)\n",
      "Using black placeholder image\n"
     ]
    },
    {
     "name": "stderr",
     "output_type": "stream",
     "text": [
      "Epoch 35/50 [Train]:  61%|██████    | 177/289 [00:32<00:20,  5.44it/s, Loss=0.0177, Acc=99.65%]"
     ]
    },
    {
     "name": "stdout",
     "output_type": "stream",
     "text": [
      "Warning: Corrupted image /kaggle/input/bone-fracture-multi-region-x-ray-data/Bone_Fracture_Binary_Classification/Bone_Fracture_Binary_Classification/train/not fractured/IMG0004347.jpg: image file is truncated (40 bytes not processed)\n",
      "Using black placeholder image\n"
     ]
    },
    {
     "name": "stderr",
     "output_type": "stream",
     "text": [
      "Epoch 35/50 [Train]:  96%|█████████▌| 278/289 [00:51<00:02,  5.41it/s, Loss=0.0059, Acc=99.64%]"
     ]
    },
    {
     "name": "stdout",
     "output_type": "stream",
     "text": [
      "Warning: Corrupted image /kaggle/input/bone-fracture-multi-region-x-ray-data/Bone_Fracture_Binary_Classification/Bone_Fracture_Binary_Classification/train/not fractured/IMG0004143.jpg: image file is truncated (10 bytes not processed)\n",
      "Using black placeholder image\n",
      "Warning: Corrupted image /kaggle/input/bone-fracture-multi-region-x-ray-data/Bone_Fracture_Binary_Classification/Bone_Fracture_Binary_Classification/train/not fractured/IMG0004134.jpg: image file is truncated (1 bytes not processed)\n",
      "Using black placeholder image\n"
     ]
    },
    {
     "name": "stderr",
     "output_type": "stream",
     "text": [
      "Epoch 35/50 [Train]: 100%|██████████| 289/289 [00:53<00:00,  5.40it/s, Loss=0.0007, Acc=99.64%]\n",
      "Epoch 35/50 [Val]:  35%|███▍      | 9/26 [00:02<00:03,  5.29it/s, Loss=0.0496, Acc=98.96%]"
     ]
    },
    {
     "name": "stdout",
     "output_type": "stream",
     "text": [
      "Warning: Corrupted image /kaggle/input/bone-fracture-multi-region-x-ray-data/Bone_Fracture_Binary_Classification/Bone_Fracture_Binary_Classification/val/not fractured/IMG0004134.jpg: image file is truncated (1 bytes not processed)\n",
      "Using black placeholder image\n"
     ]
    },
    {
     "name": "stderr",
     "output_type": "stream",
     "text": [
      "Epoch 35/50 [Val]:  35%|███▍      | 9/26 [00:02<00:03,  5.29it/s, Loss=0.0293, Acc=99.06%]"
     ]
    },
    {
     "name": "stdout",
     "output_type": "stream",
     "text": [
      "Warning: Corrupted image /kaggle/input/bone-fracture-multi-region-x-ray-data/Bone_Fracture_Binary_Classification/Bone_Fracture_Binary_Classification/val/not fractured/IMG0004347.jpg: image file is truncated (40 bytes not processed)\n",
      "Using black placeholder image\n",
      "Warning: Corrupted image /kaggle/input/bone-fracture-multi-region-x-ray-data/Bone_Fracture_Binary_Classification/Bone_Fracture_Binary_Classification/val/not fractured/IMG0004148.jpg: image file is truncated (14 bytes not processed)\n",
      "Using black placeholder image\n"
     ]
    },
    {
     "name": "stderr",
     "output_type": "stream",
     "text": [
      "Epoch 35/50 [Val]:  50%|█████     | 13/26 [00:02<00:01,  6.58it/s, Loss=0.0953, Acc=98.44%]"
     ]
    },
    {
     "name": "stdout",
     "output_type": "stream",
     "text": [
      "Warning: Corrupted image /kaggle/input/bone-fracture-multi-region-x-ray-data/Bone_Fracture_Binary_Classification/Bone_Fracture_Binary_Classification/val/not fractured/IMG0004143.jpg: image file is truncated (10 bytes not processed)\n",
      "Using black placeholder image\n",
      "Warning: Corrupted image /kaggle/input/bone-fracture-multi-region-x-ray-data/Bone_Fracture_Binary_Classification/Bone_Fracture_Binary_Classification/val/not fractured/IMG0004308.jpg: image file is truncated (40 bytes not processed)\n",
      "Using black placeholder image\n",
      "Warning: Corrupted image /kaggle/input/bone-fracture-multi-region-x-ray-data/Bone_Fracture_Binary_Classification/Bone_Fracture_Binary_Classification/val/not fractured/IMG0004149.jpg: image file is truncated (33 bytes not processed)\n",
      "Using black placeholder image\n"
     ]
    },
    {
     "name": "stderr",
     "output_type": "stream",
     "text": [
      "Epoch 35/50 [Val]: 100%|██████████| 26/26 [00:04<00:00,  6.00it/s, Loss=0.0436, Acc=98.43%]\n"
     ]
    },
    {
     "name": "stdout",
     "output_type": "stream",
     "text": [
      "Epoch 35/50:\n",
      "Train Loss: 0.0118, Train Acc: 99.64%\n",
      "Val Loss: 0.0421, Val Acc: 98.43%\n",
      "Learning Rate: 0.000250\n",
      "------------------------------------------------------------\n"
     ]
    },
    {
     "name": "stderr",
     "output_type": "stream",
     "text": [
      "Epoch 36/50 [Train]:  13%|█▎        | 38/289 [00:07<00:46,  5.42it/s, Loss=0.0013, Acc=100.00%]"
     ]
    },
    {
     "name": "stdout",
     "output_type": "stream",
     "text": [
      "Warning: Corrupted image /kaggle/input/bone-fracture-multi-region-x-ray-data/Bone_Fracture_Binary_Classification/Bone_Fracture_Binary_Classification/train/not fractured/IMG0004308.jpg: image file is truncated (40 bytes not processed)\n",
      "Using black placeholder image\n"
     ]
    },
    {
     "name": "stderr",
     "output_type": "stream",
     "text": [
      "Epoch 36/50 [Train]:  21%|██        | 60/289 [00:11<00:41,  5.48it/s, Loss=0.0100, Acc=99.95%]"
     ]
    },
    {
     "name": "stdout",
     "output_type": "stream",
     "text": [
      "Warning: Corrupted image /kaggle/input/bone-fracture-multi-region-x-ray-data/Bone_Fracture_Binary_Classification/Bone_Fracture_Binary_Classification/train/not fractured/IMG0004347.jpg: image file is truncated (40 bytes not processed)\n",
      "Using black placeholder image\n"
     ]
    },
    {
     "name": "stderr",
     "output_type": "stream",
     "text": [
      "Epoch 36/50 [Train]:  24%|██▍       | 69/289 [00:13<00:40,  5.45it/s, Loss=0.0052, Acc=99.95%]"
     ]
    },
    {
     "name": "stdout",
     "output_type": "stream",
     "text": [
      "Warning: Corrupted image /kaggle/input/bone-fracture-multi-region-x-ray-data/Bone_Fracture_Binary_Classification/Bone_Fracture_Binary_Classification/train/not fractured/IMG0004134.jpg: image file is truncated (1 bytes not processed)\n",
      "Using black placeholder image\n"
     ]
    },
    {
     "name": "stderr",
     "output_type": "stream",
     "text": [
      "Epoch 36/50 [Train]:  25%|██▍       | 72/289 [00:13<00:39,  5.46it/s, Loss=0.0699, Acc=99.83%]"
     ]
    },
    {
     "name": "stdout",
     "output_type": "stream",
     "text": [
      "Warning: Corrupted image /kaggle/input/bone-fracture-multi-region-x-ray-data/Bone_Fracture_Binary_Classification/Bone_Fracture_Binary_Classification/train/not fractured/IMG0004149.jpg: image file is truncated (33 bytes not processed)\n",
      "Using black placeholder image\n"
     ]
    },
    {
     "name": "stderr",
     "output_type": "stream",
     "text": [
      "Epoch 36/50 [Train]:  53%|█████▎    | 153/289 [00:28<00:24,  5.48it/s, Loss=0.0741, Acc=99.67%]"
     ]
    },
    {
     "name": "stdout",
     "output_type": "stream",
     "text": [
      "Warning: Corrupted image /kaggle/input/bone-fracture-multi-region-x-ray-data/Bone_Fracture_Binary_Classification/Bone_Fracture_Binary_Classification/train/not fractured/IMG0004148.jpg: image file is truncated (14 bytes not processed)\n",
      "Using black placeholder image\n"
     ]
    },
    {
     "name": "stderr",
     "output_type": "stream",
     "text": [
      "Epoch 36/50 [Train]:  92%|█████████▏| 265/289 [00:48<00:04,  5.50it/s, Loss=0.0003, Acc=99.67%]"
     ]
    },
    {
     "name": "stdout",
     "output_type": "stream",
     "text": [
      "Warning: Corrupted image /kaggle/input/bone-fracture-multi-region-x-ray-data/Bone_Fracture_Binary_Classification/Bone_Fracture_Binary_Classification/train/not fractured/IMG0004143.jpg: image file is truncated (10 bytes not processed)\n",
      "Using black placeholder image\n"
     ]
    },
    {
     "name": "stderr",
     "output_type": "stream",
     "text": [
      "Epoch 36/50 [Train]: 100%|██████████| 289/289 [00:53<00:00,  5.42it/s, Loss=0.0006, Acc=99.68%]\n",
      "Epoch 36/50 [Val]:  35%|███▍      | 9/26 [00:02<00:03,  5.38it/s, Loss=0.0760, Acc=97.92%]"
     ]
    },
    {
     "name": "stdout",
     "output_type": "stream",
     "text": [
      "Warning: Corrupted image /kaggle/input/bone-fracture-multi-region-x-ray-data/Bone_Fracture_Binary_Classification/Bone_Fracture_Binary_Classification/val/not fractured/IMG0004134.jpg: image file is truncated (1 bytes not processed)\n",
      "Using black placeholder image\n"
     ]
    },
    {
     "name": "stderr",
     "output_type": "stream",
     "text": [
      "Epoch 36/50 [Val]:  35%|███▍      | 9/26 [00:02<00:03,  5.38it/s, Loss=0.0656, Acc=97.81%]"
     ]
    },
    {
     "name": "stdout",
     "output_type": "stream",
     "text": [
      "Warning: Corrupted image /kaggle/input/bone-fracture-multi-region-x-ray-data/Bone_Fracture_Binary_Classification/Bone_Fracture_Binary_Classification/val/not fractured/IMG0004347.jpg: image file is truncated (40 bytes not processed)\n",
      "Using black placeholder image\n",
      "Warning: Corrupted image /kaggle/input/bone-fracture-multi-region-x-ray-data/Bone_Fracture_Binary_Classification/Bone_Fracture_Binary_Classification/val/not fractured/IMG0004148.jpg: image file is truncated (14 bytes not processed)\n",
      "Using black placeholder image\n"
     ]
    },
    {
     "name": "stderr",
     "output_type": "stream",
     "text": [
      "Epoch 36/50 [Val]:  50%|█████     | 13/26 [00:02<00:02,  5.66it/s, Loss=0.0731, Acc=97.99%]"
     ]
    },
    {
     "name": "stdout",
     "output_type": "stream",
     "text": [
      "Warning: Corrupted image /kaggle/input/bone-fracture-multi-region-x-ray-data/Bone_Fracture_Binary_Classification/Bone_Fracture_Binary_Classification/val/not fractured/IMG0004143.jpg: image file is truncated (10 bytes not processed)\n",
      "Using black placeholder image\n",
      "Warning: Corrupted image /kaggle/input/bone-fracture-multi-region-x-ray-data/Bone_Fracture_Binary_Classification/Bone_Fracture_Binary_Classification/val/not fractured/IMG0004149.jpg: image file is truncated (33 bytes not processed)Warning: Corrupted image /kaggle/input/bone-fracture-multi-region-x-ray-data/Bone_Fracture_Binary_Classification/Bone_Fracture_Binary_Classification/val/not fractured/IMG0004308.jpg: image file is truncated (40 bytes not processed)"
     ]
    },
    {
     "name": "stderr",
     "output_type": "stream",
     "text": [
      "Epoch 36/50 [Val]:  50%|█████     | 13/26 [00:03<00:02,  5.66it/s, Loss=0.0331, Acc=97.92%]"
     ]
    },
    {
     "name": "stdout",
     "output_type": "stream",
     "text": [
      "\n"
     ]
    },
    {
     "name": "stderr",
     "output_type": "stream",
     "text": [
      "Epoch 36/50 [Val]:  58%|█████▊    | 15/26 [00:03<00:02,  5.27it/s, Loss=0.0331, Acc=97.92%]"
     ]
    },
    {
     "name": "stdout",
     "output_type": "stream",
     "text": [
      "\n",
      "Using black placeholder image\n",
      "Using black placeholder image\n"
     ]
    },
    {
     "name": "stderr",
     "output_type": "stream",
     "text": [
      "Epoch 36/50 [Val]: 100%|██████████| 26/26 [00:04<00:00,  5.43it/s, Loss=0.0135, Acc=98.43%]\n"
     ]
    },
    {
     "name": "stdout",
     "output_type": "stream",
     "text": [
      "Epoch 36/50:\n",
      "Train Loss: 0.0107, Train Acc: 99.68%\n",
      "Val Loss: 0.0405, Val Acc: 98.43%\n",
      "Learning Rate: 0.000250\n",
      "------------------------------------------------------------\n"
     ]
    },
    {
     "name": "stderr",
     "output_type": "stream",
     "text": [
      "Epoch 37/50 [Train]:   0%|          | 0/289 [00:00<?, ?it/s]"
     ]
    },
    {
     "name": "stdout",
     "output_type": "stream",
     "text": [
      "Warning: Corrupted image /kaggle/input/bone-fracture-multi-region-x-ray-data/Bone_Fracture_Binary_Classification/Bone_Fracture_Binary_Classification/train/not fractured/IMG0004134.jpg: image file is truncated (1 bytes not processed)\n",
      "Using black placeholder image\n"
     ]
    },
    {
     "name": "stderr",
     "output_type": "stream",
     "text": [
      "Epoch 37/50 [Train]:   4%|▍         | 12/289 [00:02<00:51,  5.42it/s, Loss=0.0007, Acc=99.48%]"
     ]
    },
    {
     "name": "stdout",
     "output_type": "stream",
     "text": [
      "Warning: Corrupted image /kaggle/input/bone-fracture-multi-region-x-ray-data/Bone_Fracture_Binary_Classification/Bone_Fracture_Binary_Classification/train/not fractured/IMG0004143.jpg: image file is truncated (10 bytes not processed)\n",
      "Using black placeholder image\n"
     ]
    },
    {
     "name": "stderr",
     "output_type": "stream",
     "text": [
      "Epoch 37/50 [Train]:  11%|█         | 32/289 [00:06<00:46,  5.48it/s, Loss=0.0021, Acc=99.71%]"
     ]
    },
    {
     "name": "stdout",
     "output_type": "stream",
     "text": [
      "Warning: Corrupted image /kaggle/input/bone-fracture-multi-region-x-ray-data/Bone_Fracture_Binary_Classification/Bone_Fracture_Binary_Classification/train/not fractured/IMG0004148.jpg: image file is truncated (14 bytes not processed)\n",
      "Using black placeholder image\n"
     ]
    },
    {
     "name": "stderr",
     "output_type": "stream",
     "text": [
      "Epoch 37/50 [Train]:  30%|██▉       | 86/289 [00:16<00:37,  5.47it/s, Loss=0.0112, Acc=99.60%]"
     ]
    },
    {
     "name": "stdout",
     "output_type": "stream",
     "text": [
      "Warning: Corrupted image /kaggle/input/bone-fracture-multi-region-x-ray-data/Bone_Fracture_Binary_Classification/Bone_Fracture_Binary_Classification/train/not fractured/IMG0004149.jpg: image file is truncated (33 bytes not processed)\n",
      "Using black placeholder image\n"
     ]
    },
    {
     "name": "stderr",
     "output_type": "stream",
     "text": [
      "Epoch 37/50 [Train]:  38%|███▊      | 109/289 [00:20<00:32,  5.49it/s, Loss=0.0007, Acc=99.63%]"
     ]
    },
    {
     "name": "stdout",
     "output_type": "stream",
     "text": [
      "Warning: Corrupted image /kaggle/input/bone-fracture-multi-region-x-ray-data/Bone_Fracture_Binary_Classification/Bone_Fracture_Binary_Classification/train/not fractured/IMG0004308.jpg: image file is truncated (40 bytes not processed)\n",
      "Using black placeholder image\n"
     ]
    },
    {
     "name": "stderr",
     "output_type": "stream",
     "text": [
      "Epoch 37/50 [Train]:  63%|██████▎   | 182/289 [00:33<00:19,  5.50it/s, Loss=0.0004, Acc=99.52%]"
     ]
    },
    {
     "name": "stdout",
     "output_type": "stream",
     "text": [
      "Warning: Corrupted image /kaggle/input/bone-fracture-multi-region-x-ray-data/Bone_Fracture_Binary_Classification/Bone_Fracture_Binary_Classification/train/not fractured/IMG0004347.jpg: image file is truncated (40 bytes not processed)\n",
      "Using black placeholder image\n"
     ]
    },
    {
     "name": "stderr",
     "output_type": "stream",
     "text": [
      "Epoch 37/50 [Train]: 100%|██████████| 289/289 [00:53<00:00,  5.44it/s, Loss=0.0024, Acc=99.38%]\n",
      "Epoch 37/50 [Val]:  35%|███▍      | 9/26 [00:02<00:03,  5.38it/s, Loss=0.1382, Acc=94.79%]"
     ]
    },
    {
     "name": "stdout",
     "output_type": "stream",
     "text": [
      "Warning: Corrupted image /kaggle/input/bone-fracture-multi-region-x-ray-data/Bone_Fracture_Binary_Classification/Bone_Fracture_Binary_Classification/val/not fractured/IMG0004134.jpg: image file is truncated (1 bytes not processed)\n",
      "Using black placeholder image\n"
     ]
    },
    {
     "name": "stderr",
     "output_type": "stream",
     "text": [
      "Epoch 37/50 [Val]:  35%|███▍      | 9/26 [00:02<00:03,  5.38it/s, Loss=0.0944, Acc=94.69%]"
     ]
    },
    {
     "name": "stdout",
     "output_type": "stream",
     "text": [
      "Warning: Corrupted image /kaggle/input/bone-fracture-multi-region-x-ray-data/Bone_Fracture_Binary_Classification/Bone_Fracture_Binary_Classification/val/not fractured/IMG0004347.jpg: image file is truncated (40 bytes not processed)\n",
      "Using black placeholder image\n",
      "Warning: Corrupted image /kaggle/input/bone-fracture-multi-region-x-ray-data/Bone_Fracture_Binary_Classification/Bone_Fracture_Binary_Classification/val/not fractured/IMG0004148.jpg: image file is truncated (14 bytes not processed)\n",
      "Using black placeholder image\n"
     ]
    },
    {
     "name": "stderr",
     "output_type": "stream",
     "text": [
      "Epoch 37/50 [Val]:  50%|█████     | 13/26 [00:02<00:01,  6.77it/s, Loss=0.1011, Acc=95.31%]"
     ]
    },
    {
     "name": "stdout",
     "output_type": "stream",
     "text": [
      "Warning: Corrupted image /kaggle/input/bone-fracture-multi-region-x-ray-data/Bone_Fracture_Binary_Classification/Bone_Fracture_Binary_Classification/val/not fractured/IMG0004143.jpg: image file is truncated (10 bytes not processed)\n",
      "Using black placeholder image\n",
      "Warning: Corrupted image /kaggle/input/bone-fracture-multi-region-x-ray-data/Bone_Fracture_Binary_Classification/Bone_Fracture_Binary_Classification/val/not fractured/IMG0004149.jpg: image file is truncated (33 bytes not processed)\n",
      "Using black placeholder image\n"
     ]
    },
    {
     "name": "stderr",
     "output_type": "stream",
     "text": [
      "Epoch 37/50 [Val]:  58%|█████▊    | 15/26 [00:03<00:01,  6.34it/s, Loss=0.0346, Acc=95.42%]"
     ]
    },
    {
     "name": "stdout",
     "output_type": "stream",
     "text": [
      "Warning: Corrupted image /kaggle/input/bone-fracture-multi-region-x-ray-data/Bone_Fracture_Binary_Classification/Bone_Fracture_Binary_Classification/val/not fractured/IMG0004308.jpg: image file is truncated (40 bytes not processed)\n",
      "Using black placeholder image"
     ]
    },
    {
     "name": "stderr",
     "output_type": "stream",
     "text": [
      "Epoch 37/50 [Val]:  58%|█████▊    | 15/26 [00:03<00:01,  6.34it/s, Loss=0.1074, Acc=95.31%]"
     ]
    },
    {
     "name": "stdout",
     "output_type": "stream",
     "text": [
      "\n"
     ]
    },
    {
     "name": "stderr",
     "output_type": "stream",
     "text": [
      "Epoch 37/50 [Val]: 100%|██████████| 26/26 [00:04<00:00,  6.16it/s, Loss=0.0442, Acc=96.98%]\n"
     ]
    },
    {
     "name": "stdout",
     "output_type": "stream",
     "text": [
      "Epoch 37/50:\n",
      "Train Loss: 0.0158, Train Acc: 99.38%\n",
      "Val Loss: 0.0685, Val Acc: 96.98%\n",
      "Learning Rate: 0.000250\n",
      "------------------------------------------------------------\n"
     ]
    },
    {
     "name": "stderr",
     "output_type": "stream",
     "text": [
      "Epoch 38/50 [Train]:  12%|█▏        | 35/289 [00:06<00:46,  5.50it/s, Loss=0.0013, Acc=98.75%]"
     ]
    },
    {
     "name": "stdout",
     "output_type": "stream",
     "text": [
      "Warning: Corrupted image /kaggle/input/bone-fracture-multi-region-x-ray-data/Bone_Fracture_Binary_Classification/Bone_Fracture_Binary_Classification/train/not fractured/IMG0004308.jpg: image file is truncated (40 bytes not processed)\n",
      "Using black placeholder image\n"
     ]
    },
    {
     "name": "stderr",
     "output_type": "stream",
     "text": [
      "Epoch 38/50 [Train]:  32%|███▏      | 93/289 [00:17<00:35,  5.49it/s, Loss=0.0067, Acc=99.23%]"
     ]
    },
    {
     "name": "stdout",
     "output_type": "stream",
     "text": [
      "Warning: Corrupted image /kaggle/input/bone-fracture-multi-region-x-ray-data/Bone_Fracture_Binary_Classification/Bone_Fracture_Binary_Classification/train/not fractured/IMG0004149.jpg: image file is truncated (33 bytes not processed)\n",
      "Using black placeholder image\n"
     ]
    },
    {
     "name": "stderr",
     "output_type": "stream",
     "text": [
      "Epoch 38/50 [Train]:  33%|███▎      | 96/289 [00:18<00:35,  5.49it/s, Loss=0.0005, Acc=99.25%]"
     ]
    },
    {
     "name": "stdout",
     "output_type": "stream",
     "text": [
      "Warning: Corrupted image /kaggle/input/bone-fracture-multi-region-x-ray-data/Bone_Fracture_Binary_Classification/Bone_Fracture_Binary_Classification/train/not fractured/IMG0004347.jpg: image file is truncated (40 bytes not processed)\n",
      "Using black placeholder image\n"
     ]
    },
    {
     "name": "stderr",
     "output_type": "stream",
     "text": [
      "Epoch 38/50 [Train]:  83%|████████▎ | 240/289 [00:44<00:08,  5.49it/s, Loss=0.0005, Acc=99.60%]"
     ]
    },
    {
     "name": "stdout",
     "output_type": "stream",
     "text": [
      "Warning: Corrupted image /kaggle/input/bone-fracture-multi-region-x-ray-data/Bone_Fracture_Binary_Classification/Bone_Fracture_Binary_Classification/train/not fractured/IMG0004134.jpg: image file is truncated (1 bytes not processed)\n",
      "Using black placeholder image\n"
     ]
    },
    {
     "name": "stderr",
     "output_type": "stream",
     "text": [
      "Epoch 38/50 [Train]:  90%|████████▉ | 260/289 [00:47<00:05,  5.49it/s, Loss=0.0108, Acc=99.57%]"
     ]
    },
    {
     "name": "stdout",
     "output_type": "stream",
     "text": [
      "Warning: Corrupted image /kaggle/input/bone-fracture-multi-region-x-ray-data/Bone_Fracture_Binary_Classification/Bone_Fracture_Binary_Classification/train/not fractured/IMG0004143.jpg: image file is truncated (10 bytes not processed)\n",
      "Using black placeholder image\n"
     ]
    },
    {
     "name": "stderr",
     "output_type": "stream",
     "text": [
      "Epoch 38/50 [Train]:  92%|█████████▏| 265/289 [00:48<00:04,  5.47it/s, Loss=0.0010, Acc=99.58%]"
     ]
    },
    {
     "name": "stdout",
     "output_type": "stream",
     "text": [
      "Warning: Corrupted image /kaggle/input/bone-fracture-multi-region-x-ray-data/Bone_Fracture_Binary_Classification/Bone_Fracture_Binary_Classification/train/not fractured/IMG0004148.jpg: image file is truncated (14 bytes not processed)\n",
      "Using black placeholder image\n"
     ]
    },
    {
     "name": "stderr",
     "output_type": "stream",
     "text": [
      "Epoch 38/50 [Train]: 100%|██████████| 289/289 [00:53<00:00,  5.42it/s, Loss=0.0039, Acc=99.56%]\n",
      "Epoch 38/50 [Val]:  35%|███▍      | 9/26 [00:02<00:03,  5.52it/s, Loss=0.1097, Acc=96.18%]"
     ]
    },
    {
     "name": "stdout",
     "output_type": "stream",
     "text": [
      "Warning: Corrupted image /kaggle/input/bone-fracture-multi-region-x-ray-data/Bone_Fracture_Binary_Classification/Bone_Fracture_Binary_Classification/val/not fractured/IMG0004134.jpg: image file is truncated (1 bytes not processed)\n",
      "Using black placeholder image\n"
     ]
    },
    {
     "name": "stderr",
     "output_type": "stream",
     "text": [
      "Epoch 38/50 [Val]:  35%|███▍      | 9/26 [00:02<00:03,  5.52it/s, Loss=0.0936, Acc=95.94%]"
     ]
    },
    {
     "name": "stdout",
     "output_type": "stream",
     "text": [
      "Warning: Corrupted image /kaggle/input/bone-fracture-multi-region-x-ray-data/Bone_Fracture_Binary_Classification/Bone_Fracture_Binary_Classification/val/not fractured/IMG0004347.jpg: image file is truncated (40 bytes not processed)\n",
      "Using black placeholder image\n",
      "Warning: Corrupted image /kaggle/input/bone-fracture-multi-region-x-ray-data/Bone_Fracture_Binary_Classification/Bone_Fracture_Binary_Classification/val/not fractured/IMG0004148.jpg: image file is truncated (14 bytes not processed)\n",
      "Using black placeholder image\n"
     ]
    },
    {
     "name": "stderr",
     "output_type": "stream",
     "text": [
      "Epoch 38/50 [Val]:  50%|█████     | 13/26 [00:02<00:01,  6.71it/s, Loss=0.0487, Acc=96.65%]"
     ]
    },
    {
     "name": "stdout",
     "output_type": "stream",
     "text": [
      "Warning: Corrupted image /kaggle/input/bone-fracture-multi-region-x-ray-data/Bone_Fracture_Binary_Classification/Bone_Fracture_Binary_Classification/val/not fractured/IMG0004143.jpg: image file is truncated (10 bytes not processed)\n",
      "Using black placeholder image\n",
      "Warning: Corrupted image /kaggle/input/bone-fracture-multi-region-x-ray-data/Bone_Fracture_Binary_Classification/Bone_Fracture_Binary_Classification/val/not fractured/IMG0004149.jpg: image file is truncated (33 bytes not processed)\n",
      "Warning: Corrupted image /kaggle/input/bone-fracture-multi-region-x-ray-data/Bone_Fracture_Binary_Classification/Bone_Fracture_Binary_Classification/val/not fractured/IMG0004308.jpg: image file is truncated (40 bytes not processed)Using black placeholder image\n",
      "\n",
      "Using black placeholder image\n"
     ]
    },
    {
     "name": "stderr",
     "output_type": "stream",
     "text": [
      "Epoch 38/50 [Val]: 100%|██████████| 26/26 [00:04<00:00,  6.08it/s, Loss=0.0172, Acc=97.71%]\n"
     ]
    },
    {
     "name": "stdout",
     "output_type": "stream",
     "text": [
      "Epoch 38/50:\n",
      "Train Loss: 0.0141, Train Acc: 99.56%\n",
      "Val Loss: 0.0437, Val Acc: 97.71%\n",
      "Learning Rate: 0.000250\n",
      "------------------------------------------------------------\n"
     ]
    },
    {
     "name": "stderr",
     "output_type": "stream",
     "text": [
      "Epoch 39/50 [Train]:  15%|█▍        | 42/289 [00:08<00:45,  5.48it/s, Loss=0.0003, Acc=99.48%]"
     ]
    },
    {
     "name": "stdout",
     "output_type": "stream",
     "text": [
      "Warning: Corrupted image /kaggle/input/bone-fracture-multi-region-x-ray-data/Bone_Fracture_Binary_Classification/Bone_Fracture_Binary_Classification/train/not fractured/IMG0004308.jpg: image file is truncated (40 bytes not processed)\n",
      "Using black placeholder image\n"
     ]
    },
    {
     "name": "stderr",
     "output_type": "stream",
     "text": [
      "Epoch 39/50 [Train]:  23%|██▎       | 67/289 [00:12<00:40,  5.48it/s, Loss=0.0009, Acc=99.63%]"
     ]
    },
    {
     "name": "stdout",
     "output_type": "stream",
     "text": [
      "Warning: Corrupted image /kaggle/input/bone-fracture-multi-region-x-ray-data/Bone_Fracture_Binary_Classification/Bone_Fracture_Binary_Classification/train/not fractured/IMG0004134.jpg: image file is truncated (1 bytes not processed)\n",
      "Using black placeholder image\n"
     ]
    },
    {
     "name": "stderr",
     "output_type": "stream",
     "text": [
      "Epoch 39/50 [Train]:  48%|████▊     | 139/289 [00:25<00:28,  5.27it/s, Loss=0.0002, Acc=99.64%]"
     ]
    },
    {
     "name": "stdout",
     "output_type": "stream",
     "text": [
      "Warning: Corrupted image /kaggle/input/bone-fracture-multi-region-x-ray-data/Bone_Fracture_Binary_Classification/Bone_Fracture_Binary_Classification/train/not fractured/IMG0004347.jpg: image file is truncated (40 bytes not processed)\n",
      "Using black placeholder image\n"
     ]
    },
    {
     "name": "stderr",
     "output_type": "stream",
     "text": [
      "Epoch 39/50 [Train]:  64%|██████▍   | 185/289 [00:34<00:18,  5.48it/s, Loss=0.0589, Acc=99.65%]"
     ]
    },
    {
     "name": "stdout",
     "output_type": "stream",
     "text": [
      "Warning: Corrupted image /kaggle/input/bone-fracture-multi-region-x-ray-data/Bone_Fracture_Binary_Classification/Bone_Fracture_Binary_Classification/train/not fractured/IMG0004143.jpg: image file is truncated (10 bytes not processed)\n",
      "Using black placeholder image\n"
     ]
    },
    {
     "name": "stderr",
     "output_type": "stream",
     "text": [
      "Epoch 39/50 [Train]:  78%|███████▊  | 225/289 [00:41<00:11,  5.45it/s, Loss=0.0415, Acc=99.54%]"
     ]
    },
    {
     "name": "stdout",
     "output_type": "stream",
     "text": [
      "Warning: Corrupted image /kaggle/input/bone-fracture-multi-region-x-ray-data/Bone_Fracture_Binary_Classification/Bone_Fracture_Binary_Classification/train/not fractured/IMG0004148.jpg: image file is truncated (14 bytes not processed)\n",
      "Using black placeholder image\n"
     ]
    },
    {
     "name": "stderr",
     "output_type": "stream",
     "text": [
      "Epoch 39/50 [Train]:  79%|███████▉  | 228/289 [00:42<00:11,  5.45it/s, Loss=0.0111, Acc=99.55%]"
     ]
    },
    {
     "name": "stdout",
     "output_type": "stream",
     "text": [
      "Warning: Corrupted image /kaggle/input/bone-fracture-multi-region-x-ray-data/Bone_Fracture_Binary_Classification/Bone_Fracture_Binary_Classification/train/not fractured/IMG0004149.jpg: image file is truncated (33 bytes not processed)\n",
      "Using black placeholder image\n"
     ]
    },
    {
     "name": "stderr",
     "output_type": "stream",
     "text": [
      "Epoch 39/50 [Train]: 100%|██████████| 289/289 [00:53<00:00,  5.42it/s, Loss=0.0080, Acc=99.57%]\n",
      "Epoch 39/50 [Val]:  35%|███▍      | 9/26 [00:02<00:03,  5.58it/s, Loss=0.0234, Acc=99.31%]"
     ]
    },
    {
     "name": "stdout",
     "output_type": "stream",
     "text": [
      "Warning: Corrupted image /kaggle/input/bone-fracture-multi-region-x-ray-data/Bone_Fracture_Binary_Classification/Bone_Fracture_Binary_Classification/val/not fractured/IMG0004134.jpg: image file is truncated (1 bytes not processed)\n",
      "Using black placeholder image\n"
     ]
    },
    {
     "name": "stderr",
     "output_type": "stream",
     "text": [
      "Epoch 39/50 [Val]:  35%|███▍      | 9/26 [00:02<00:03,  5.58it/s, Loss=0.0659, Acc=99.06%]"
     ]
    },
    {
     "name": "stdout",
     "output_type": "stream",
     "text": [
      "Warning: Corrupted image /kaggle/input/bone-fracture-multi-region-x-ray-data/Bone_Fracture_Binary_Classification/Bone_Fracture_Binary_Classification/val/not fractured/IMG0004347.jpg: image file is truncated (40 bytes not processed)\n",
      "Using black placeholder image\n",
      "Warning: Corrupted image /kaggle/input/bone-fracture-multi-region-x-ray-data/Bone_Fracture_Binary_Classification/Bone_Fracture_Binary_Classification/val/not fractured/IMG0004148.jpg: image file is truncated (14 bytes not processed)\n",
      "Using black placeholder image\n"
     ]
    },
    {
     "name": "stderr",
     "output_type": "stream",
     "text": [
      "Epoch 39/50 [Val]:  50%|█████     | 13/26 [00:02<00:01,  6.79it/s, Loss=0.0953, Acc=98.88%]"
     ]
    },
    {
     "name": "stdout",
     "output_type": "stream",
     "text": [
      "Warning: Corrupted image /kaggle/input/bone-fracture-multi-region-x-ray-data/Bone_Fracture_Binary_Classification/Bone_Fracture_Binary_Classification/val/not fractured/IMG0004143.jpg: image file is truncated (10 bytes not processed)\n",
      "Using black placeholder image\n",
      "Warning: Corrupted image /kaggle/input/bone-fracture-multi-region-x-ray-data/Bone_Fracture_Binary_Classification/Bone_Fracture_Binary_Classification/val/not fractured/IMG0004149.jpg: image file is truncated (33 bytes not processed)\n",
      "Using black placeholder image\n"
     ]
    },
    {
     "name": "stderr",
     "output_type": "stream",
     "text": [
      "Epoch 39/50 [Val]:  58%|█████▊    | 15/26 [00:02<00:01,  6.32it/s, Loss=0.1004, Acc=98.75%]"
     ]
    },
    {
     "name": "stdout",
     "output_type": "stream",
     "text": [
      "Warning: Corrupted image /kaggle/input/bone-fracture-multi-region-x-ray-data/Bone_Fracture_Binary_Classification/Bone_Fracture_Binary_Classification/val/not fractured/IMG0004308.jpg: image file is truncated (40 bytes not processed)\n",
      "Using black placeholder image\n"
     ]
    },
    {
     "name": "stderr",
     "output_type": "stream",
     "text": [
      "Epoch 39/50 [Val]: 100%|██████████| 26/26 [00:04<00:00,  5.99it/s, Loss=0.0904, Acc=98.19%]\n"
     ]
    },
    {
     "name": "stdout",
     "output_type": "stream",
     "text": [
      "Epoch 39/50:\n",
      "Train Loss: 0.0128, Train Acc: 99.57%\n",
      "Val Loss: 0.0433, Val Acc: 98.19%\n",
      "Learning Rate: 0.000250\n",
      "------------------------------------------------------------\n"
     ]
    },
    {
     "name": "stderr",
     "output_type": "stream",
     "text": [
      "Epoch 40/50 [Train]:   9%|▊         | 25/289 [00:05<00:48,  5.47it/s, Loss=0.0002, Acc=99.75%]"
     ]
    },
    {
     "name": "stdout",
     "output_type": "stream",
     "text": [
      "Warning: Corrupted image /kaggle/input/bone-fracture-multi-region-x-ray-data/Bone_Fracture_Binary_Classification/Bone_Fracture_Binary_Classification/train/not fractured/IMG0004347.jpg: image file is truncated (40 bytes not processed)\n",
      "Using black placeholder image\n"
     ]
    },
    {
     "name": "stderr",
     "output_type": "stream",
     "text": [
      "Epoch 40/50 [Train]:  22%|██▏       | 63/289 [00:12<00:41,  5.48it/s, Loss=0.0018, Acc=99.70%]"
     ]
    },
    {
     "name": "stdout",
     "output_type": "stream",
     "text": [
      "Warning: Corrupted image /kaggle/input/bone-fracture-multi-region-x-ray-data/Bone_Fracture_Binary_Classification/Bone_Fracture_Binary_Classification/train/not fractured/IMG0004143.jpg: image file is truncated (10 bytes not processed)\n",
      "Using black placeholder image\n"
     ]
    },
    {
     "name": "stderr",
     "output_type": "stream",
     "text": [
      "Epoch 40/50 [Train]:  43%|████▎     | 123/289 [00:23<00:30,  5.49it/s, Loss=0.0003, Acc=99.57%]"
     ]
    },
    {
     "name": "stdout",
     "output_type": "stream",
     "text": [
      "Warning: Corrupted image /kaggle/input/bone-fracture-multi-region-x-ray-data/Bone_Fracture_Binary_Classification/Bone_Fracture_Binary_Classification/train/not fractured/IMG0004148.jpg: image file is truncated (14 bytes not processed)\n",
      "Using black placeholder image\n"
     ]
    },
    {
     "name": "stderr",
     "output_type": "stream",
     "text": [
      "Epoch 40/50 [Train]:  56%|█████▌    | 161/289 [00:30<00:23,  5.49it/s, Loss=0.0071, Acc=99.65%]"
     ]
    },
    {
     "name": "stdout",
     "output_type": "stream",
     "text": [
      "Warning: Corrupted image /kaggle/input/bone-fracture-multi-region-x-ray-data/Bone_Fracture_Binary_Classification/Bone_Fracture_Binary_Classification/train/not fractured/IMG0004308.jpg: image file is truncated (40 bytes not processed)\n",
      "Using black placeholder image\n"
     ]
    },
    {
     "name": "stderr",
     "output_type": "stream",
     "text": [
      "Epoch 40/50 [Train]:  72%|███████▏  | 209/289 [00:38<00:14,  5.48it/s, Loss=0.0383, Acc=99.66%]"
     ]
    },
    {
     "name": "stdout",
     "output_type": "stream",
     "text": [
      "Warning: Corrupted image /kaggle/input/bone-fracture-multi-region-x-ray-data/Bone_Fracture_Binary_Classification/Bone_Fracture_Binary_Classification/train/not fractured/IMG0004149.jpg: image file is truncated (33 bytes not processed)\n",
      "Using black placeholder image\n"
     ]
    },
    {
     "name": "stderr",
     "output_type": "stream",
     "text": [
      "Epoch 40/50 [Train]:  83%|████████▎ | 241/289 [00:44<00:08,  5.46it/s, Loss=0.0032, Acc=99.64%]"
     ]
    },
    {
     "name": "stdout",
     "output_type": "stream",
     "text": [
      "Warning: Corrupted image /kaggle/input/bone-fracture-multi-region-x-ray-data/Bone_Fracture_Binary_Classification/Bone_Fracture_Binary_Classification/train/not fractured/IMG0004134.jpg: image file is truncated (1 bytes not processed)\n",
      "Using black placeholder image\n"
     ]
    },
    {
     "name": "stderr",
     "output_type": "stream",
     "text": [
      "Epoch 40/50 [Train]: 100%|██████████| 289/289 [00:53<00:00,  5.41it/s, Loss=0.0043, Acc=99.63%]\n",
      "Epoch 40/50 [Val]:  35%|███▍      | 9/26 [00:02<00:03,  5.34it/s, Loss=0.1301, Acc=95.49%]"
     ]
    },
    {
     "name": "stdout",
     "output_type": "stream",
     "text": [
      "Warning: Corrupted image /kaggle/input/bone-fracture-multi-region-x-ray-data/Bone_Fracture_Binary_Classification/Bone_Fracture_Binary_Classification/val/not fractured/IMG0004134.jpg: image file is truncated (1 bytes not processed)\n",
      "Using black placeholder image\n"
     ]
    },
    {
     "name": "stderr",
     "output_type": "stream",
     "text": [
      "Epoch 40/50 [Val]:  35%|███▍      | 9/26 [00:02<00:03,  5.34it/s, Loss=0.1447, Acc=95.31%]"
     ]
    },
    {
     "name": "stdout",
     "output_type": "stream",
     "text": [
      "Warning: Corrupted image /kaggle/input/bone-fracture-multi-region-x-ray-data/Bone_Fracture_Binary_Classification/Bone_Fracture_Binary_Classification/val/not fractured/IMG0004347.jpg: image file is truncated (40 bytes not processed)\n",
      "Using black placeholder image\n",
      "Warning: Corrupted image /kaggle/input/bone-fracture-multi-region-x-ray-data/Bone_Fracture_Binary_Classification/Bone_Fracture_Binary_Classification/val/not fractured/IMG0004148.jpg: image file is truncated (14 bytes not processed)\n",
      "Using black placeholder image\n"
     ]
    },
    {
     "name": "stderr",
     "output_type": "stream",
     "text": [
      "Epoch 40/50 [Val]:  50%|█████     | 13/26 [00:02<00:01,  6.64it/s, Loss=0.0499, Acc=96.43%]"
     ]
    },
    {
     "name": "stdout",
     "output_type": "stream",
     "text": [
      "Warning: Corrupted image /kaggle/input/bone-fracture-multi-region-x-ray-data/Bone_Fracture_Binary_Classification/Bone_Fracture_Binary_Classification/val/not fractured/IMG0004143.jpg: image file is truncated (10 bytes not processed)\n",
      "Using black placeholder image\n",
      "Warning: Corrupted image /kaggle/input/bone-fracture-multi-region-x-ray-data/Bone_Fracture_Binary_Classification/Bone_Fracture_Binary_Classification/val/not fractured/IMG0004308.jpg: image file is truncated (40 bytes not processed)\n",
      "Using black placeholder image\n",
      "Warning: Corrupted image /kaggle/input/bone-fracture-multi-region-x-ray-data/Bone_Fracture_Binary_Classification/Bone_Fracture_Binary_Classification/val/not fractured/IMG0004149.jpg: image file is truncated (33 bytes not processed)\n",
      "Using black placeholder image\n"
     ]
    },
    {
     "name": "stderr",
     "output_type": "stream",
     "text": [
      "Epoch 40/50 [Val]: 100%|██████████| 26/26 [00:04<00:00,  5.96it/s, Loss=0.0275, Acc=97.59%]\n"
     ]
    },
    {
     "name": "stdout",
     "output_type": "stream",
     "text": [
      "Epoch 40/50:\n",
      "Train Loss: 0.0108, Train Acc: 99.63%\n",
      "Val Loss: 0.0506, Val Acc: 97.59%\n",
      "Learning Rate: 0.000250\n",
      "------------------------------------------------------------\n"
     ]
    },
    {
     "name": "stderr",
     "output_type": "stream",
     "text": [
      "Epoch 41/50 [Train]:   0%|          | 0/289 [00:00<?, ?it/s]"
     ]
    },
    {
     "name": "stdout",
     "output_type": "stream",
     "text": [
      "Warning: Corrupted image /kaggle/input/bone-fracture-multi-region-x-ray-data/Bone_Fracture_Binary_Classification/Bone_Fracture_Binary_Classification/train/not fractured/IMG0004134.jpg: image file is truncated (1 bytes not processed)\n",
      "Using black placeholder image\n"
     ]
    },
    {
     "name": "stderr",
     "output_type": "stream",
     "text": [
      "Epoch 41/50 [Train]:   1%|▏         | 4/289 [00:01<01:10,  4.05it/s, Loss=0.0047, Acc=99.22%]"
     ]
    },
    {
     "name": "stdout",
     "output_type": "stream",
     "text": [
      "Warning: Corrupted image /kaggle/input/bone-fracture-multi-region-x-ray-data/Bone_Fracture_Binary_Classification/Bone_Fracture_Binary_Classification/train/not fractured/IMG0004308.jpg: image file is truncated (40 bytes not processed)\n",
      "Using black placeholder image\n"
     ]
    },
    {
     "name": "stderr",
     "output_type": "stream",
     "text": [
      "Epoch 41/50 [Train]:  36%|███▋      | 105/289 [00:19<00:33,  5.49it/s, Loss=0.0157, Acc=99.70%]"
     ]
    },
    {
     "name": "stdout",
     "output_type": "stream",
     "text": [
      "Warning: Corrupted image /kaggle/input/bone-fracture-multi-region-x-ray-data/Bone_Fracture_Binary_Classification/Bone_Fracture_Binary_Classification/train/not fractured/IMG0004143.jpg: image file is truncated (10 bytes not processed)\n",
      "Using black placeholder image\n"
     ]
    },
    {
     "name": "stderr",
     "output_type": "stream",
     "text": [
      "Epoch 41/50 [Train]:  39%|███▉      | 113/289 [00:21<00:31,  5.50it/s, Loss=0.0009, Acc=99.70%]"
     ]
    },
    {
     "name": "stdout",
     "output_type": "stream",
     "text": [
      "Warning: Corrupted image /kaggle/input/bone-fracture-multi-region-x-ray-data/Bone_Fracture_Binary_Classification/Bone_Fracture_Binary_Classification/train/not fractured/IMG0004347.jpg: image file is truncated (40 bytes not processed)\n",
      "Using black placeholder image\n"
     ]
    },
    {
     "name": "stderr",
     "output_type": "stream",
     "text": [
      "Epoch 41/50 [Train]:  66%|██████▌   | 190/289 [00:35<00:18,  5.46it/s, Loss=0.0003, Acc=99.67%]"
     ]
    },
    {
     "name": "stdout",
     "output_type": "stream",
     "text": [
      "Warning: Corrupted image /kaggle/input/bone-fracture-multi-region-x-ray-data/Bone_Fracture_Binary_Classification/Bone_Fracture_Binary_Classification/train/not fractured/IMG0004149.jpg: image file is truncated (33 bytes not processed)\n",
      "Using black placeholder image\n"
     ]
    },
    {
     "name": "stderr",
     "output_type": "stream",
     "text": [
      "Epoch 41/50 [Train]:  85%|████████▍ | 245/289 [00:45<00:08,  5.49it/s, Loss=0.0107, Acc=99.64%]"
     ]
    },
    {
     "name": "stdout",
     "output_type": "stream",
     "text": [
      "Warning: Corrupted image /kaggle/input/bone-fracture-multi-region-x-ray-data/Bone_Fracture_Binary_Classification/Bone_Fracture_Binary_Classification/train/not fractured/IMG0004148.jpg: image file is truncated (14 bytes not processed)\n",
      "Using black placeholder image\n"
     ]
    },
    {
     "name": "stderr",
     "output_type": "stream",
     "text": [
      "Epoch 41/50 [Train]: 100%|██████████| 289/289 [00:53<00:00,  5.43it/s, Loss=0.0076, Acc=99.58%]\n",
      "Epoch 41/50 [Val]:  35%|███▍      | 9/26 [00:02<00:03,  4.70it/s, Loss=0.0878, Acc=97.57%]"
     ]
    },
    {
     "name": "stdout",
     "output_type": "stream",
     "text": [
      "Warning: Corrupted image /kaggle/input/bone-fracture-multi-region-x-ray-data/Bone_Fracture_Binary_Classification/Bone_Fracture_Binary_Classification/val/not fractured/IMG0004134.jpg: image file is truncated (1 bytes not processed)\n",
      "Using black placeholder image\n"
     ]
    },
    {
     "name": "stderr",
     "output_type": "stream",
     "text": [
      "Epoch 41/50 [Val]:  35%|███▍      | 9/26 [00:02<00:03,  4.70it/s, Loss=0.0398, Acc=97.81%]"
     ]
    },
    {
     "name": "stdout",
     "output_type": "stream",
     "text": [
      "Warning: Corrupted image /kaggle/input/bone-fracture-multi-region-x-ray-data/Bone_Fracture_Binary_Classification/Bone_Fracture_Binary_Classification/val/not fractured/IMG0004347.jpg: image file is truncated (40 bytes not processed)\n",
      "Using black placeholder image\n",
      "Warning: Corrupted image /kaggle/input/bone-fracture-multi-region-x-ray-data/Bone_Fracture_Binary_Classification/Bone_Fracture_Binary_Classification/val/not fractured/IMG0004148.jpg: image file is truncated (14 bytes not processed)\n",
      "Using black placeholder image\n"
     ]
    },
    {
     "name": "stderr",
     "output_type": "stream",
     "text": [
      "Epoch 41/50 [Val]:  50%|█████     | 13/26 [00:03<00:02,  6.26it/s, Loss=0.0514, Acc=97.99%]"
     ]
    },
    {
     "name": "stdout",
     "output_type": "stream",
     "text": [
      "Warning: Corrupted image /kaggle/input/bone-fracture-multi-region-x-ray-data/Bone_Fracture_Binary_Classification/Bone_Fracture_Binary_Classification/val/not fractured/IMG0004143.jpg: image file is truncated (10 bytes not processed)\n",
      "Using black placeholder image\n",
      "Warning: Corrupted image /kaggle/input/bone-fracture-multi-region-x-ray-data/Bone_Fracture_Binary_Classification/Bone_Fracture_Binary_Classification/val/not fractured/IMG0004149.jpg: image file is truncated (33 bytes not processed)\n",
      "Using black placeholder image\n"
     ]
    },
    {
     "name": "stderr",
     "output_type": "stream",
     "text": [
      "Epoch 41/50 [Val]:  58%|█████▊    | 15/26 [00:03<00:01,  5.84it/s, Loss=0.0389, Acc=97.92%]"
     ]
    },
    {
     "name": "stdout",
     "output_type": "stream",
     "text": [
      "Warning: Corrupted image /kaggle/input/bone-fracture-multi-region-x-ray-data/Bone_Fracture_Binary_Classification/Bone_Fracture_Binary_Classification/val/not fractured/IMG0004308.jpg: image file is truncated (40 bytes not processed)\n",
      "Using black placeholder image\n"
     ]
    },
    {
     "name": "stderr",
     "output_type": "stream",
     "text": [
      "Epoch 41/50 [Val]: 100%|██████████| 26/26 [00:04<00:00,  5.46it/s, Loss=0.0208, Acc=98.19%]\n"
     ]
    },
    {
     "name": "stdout",
     "output_type": "stream",
     "text": [
      "Epoch 41/50:\n",
      "Train Loss: 0.0127, Train Acc: 99.58%\n",
      "Val Loss: 0.0450, Val Acc: 98.19%\n",
      "Learning Rate: 0.000250\n",
      "------------------------------------------------------------\n"
     ]
    },
    {
     "name": "stderr",
     "output_type": "stream",
     "text": [
      "Epoch 42/50 [Train]:   0%|          | 0/289 [00:00<?, ?it/s]"
     ]
    },
    {
     "name": "stdout",
     "output_type": "stream",
     "text": [
      "Warning: Corrupted image /kaggle/input/bone-fracture-multi-region-x-ray-data/Bone_Fracture_Binary_Classification/Bone_Fracture_Binary_Classification/train/not fractured/IMG0004134.jpg: image file is truncated (1 bytes not processed)\n",
      "Using black placeholder image\n"
     ]
    },
    {
     "name": "stderr",
     "output_type": "stream",
     "text": [
      "Epoch 42/50 [Train]:   9%|▊         | 25/289 [00:05<00:47,  5.50it/s, Loss=0.0046, Acc=99.25%]"
     ]
    },
    {
     "name": "stdout",
     "output_type": "stream",
     "text": [
      "Warning: Corrupted image /kaggle/input/bone-fracture-multi-region-x-ray-data/Bone_Fracture_Binary_Classification/Bone_Fracture_Binary_Classification/train/not fractured/IMG0004308.jpg: image file is truncated (40 bytes not processed)\n",
      "Using black placeholder image\n"
     ]
    },
    {
     "name": "stderr",
     "output_type": "stream",
     "text": [
      "Epoch 42/50 [Train]:   9%|▉         | 26/289 [00:05<00:47,  5.52it/s, Loss=0.0006, Acc=99.28%]"
     ]
    },
    {
     "name": "stdout",
     "output_type": "stream",
     "text": [
      "Warning: Corrupted image /kaggle/input/bone-fracture-multi-region-x-ray-data/Bone_Fracture_Binary_Classification/Bone_Fracture_Binary_Classification/train/not fractured/IMG0004347.jpg: image file is truncated (40 bytes not processed)\n",
      "Using black placeholder image\n"
     ]
    },
    {
     "name": "stderr",
     "output_type": "stream",
     "text": [
      "Epoch 42/50 [Train]:  47%|████▋     | 135/289 [00:25<00:28,  5.47it/s, Loss=0.0058, Acc=99.38%]"
     ]
    },
    {
     "name": "stdout",
     "output_type": "stream",
     "text": [
      "Warning: Corrupted image /kaggle/input/bone-fracture-multi-region-x-ray-data/Bone_Fracture_Binary_Classification/Bone_Fracture_Binary_Classification/train/not fractured/IMG0004148.jpg: image file is truncated (14 bytes not processed)\n",
      "Using black placeholder image\n"
     ]
    },
    {
     "name": "stderr",
     "output_type": "stream",
     "text": [
      "Epoch 42/50 [Train]:  68%|██████▊   | 196/289 [00:36<00:16,  5.48it/s, Loss=0.0024, Acc=99.47%]"
     ]
    },
    {
     "name": "stdout",
     "output_type": "stream",
     "text": [
      "Warning: Corrupted image /kaggle/input/bone-fracture-multi-region-x-ray-data/Bone_Fracture_Binary_Classification/Bone_Fracture_Binary_Classification/train/not fractured/IMG0004149.jpg: image file is truncated (33 bytes not processed)\n",
      "Using black placeholder image\n"
     ]
    },
    {
     "name": "stderr",
     "output_type": "stream",
     "text": [
      "Epoch 42/50 [Train]:  91%|█████████ | 263/289 [00:48<00:04,  5.48it/s, Loss=0.0009, Acc=99.49%]"
     ]
    },
    {
     "name": "stdout",
     "output_type": "stream",
     "text": [
      "Warning: Corrupted image /kaggle/input/bone-fracture-multi-region-x-ray-data/Bone_Fracture_Binary_Classification/Bone_Fracture_Binary_Classification/train/not fractured/IMG0004143.jpg: image file is truncated (10 bytes not processed)\n",
      "Using black placeholder image\n"
     ]
    },
    {
     "name": "stderr",
     "output_type": "stream",
     "text": [
      "Epoch 42/50 [Train]: 100%|██████████| 289/289 [00:53<00:00,  5.43it/s, Loss=0.0016, Acc=99.50%]\n",
      "Epoch 42/50 [Val]:  35%|███▍      | 9/26 [00:02<00:03,  5.45it/s, Loss=0.0647, Acc=98.96%]"
     ]
    },
    {
     "name": "stdout",
     "output_type": "stream",
     "text": [
      "Warning: Corrupted image /kaggle/input/bone-fracture-multi-region-x-ray-data/Bone_Fracture_Binary_Classification/Bone_Fracture_Binary_Classification/val/not fractured/IMG0004134.jpg: image file is truncated (1 bytes not processed)\n",
      "Using black placeholder image\n"
     ]
    },
    {
     "name": "stderr",
     "output_type": "stream",
     "text": [
      "Epoch 42/50 [Val]:  35%|███▍      | 9/26 [00:02<00:03,  5.45it/s, Loss=0.1609, Acc=98.75%]"
     ]
    },
    {
     "name": "stdout",
     "output_type": "stream",
     "text": [
      "Warning: Corrupted image /kaggle/input/bone-fracture-multi-region-x-ray-data/Bone_Fracture_Binary_Classification/Bone_Fracture_Binary_Classification/val/not fractured/IMG0004347.jpg: image file is truncated (40 bytes not processed)\n",
      "Using black placeholder image\n",
      "Warning: Corrupted image /kaggle/input/bone-fracture-multi-region-x-ray-data/Bone_Fracture_Binary_Classification/Bone_Fracture_Binary_Classification/val/not fractured/IMG0004148.jpg: image file is truncated (14 bytes not processed)\n",
      "Using black placeholder image\n"
     ]
    },
    {
     "name": "stderr",
     "output_type": "stream",
     "text": [
      "Epoch 42/50 [Val]:  50%|█████     | 13/26 [00:02<00:01,  6.66it/s, Loss=0.0420, Acc=99.11%]"
     ]
    },
    {
     "name": "stdout",
     "output_type": "stream",
     "text": [
      "Warning: Corrupted image /kaggle/input/bone-fracture-multi-region-x-ray-data/Bone_Fracture_Binary_Classification/Bone_Fracture_Binary_Classification/val/not fractured/IMG0004143.jpg: image file is truncated (10 bytes not processed)\n",
      "Using black placeholder image\n",
      "Warning: Corrupted image /kaggle/input/bone-fracture-multi-region-x-ray-data/Bone_Fracture_Binary_Classification/Bone_Fracture_Binary_Classification/val/not fractured/IMG0004308.jpg: image file is truncated (40 bytes not processed)\n",
      "Warning: Corrupted image /kaggle/input/bone-fracture-multi-region-x-ray-data/Bone_Fracture_Binary_Classification/Bone_Fracture_Binary_Classification/val/not fractured/IMG0004149.jpg: image file is truncated (33 bytes not processed)Using black placeholder image\n",
      "Using black placeholder image\n",
      "\n"
     ]
    },
    {
     "name": "stderr",
     "output_type": "stream",
     "text": [
      "Epoch 42/50 [Val]: 100%|██████████| 26/26 [00:04<00:00,  5.90it/s, Loss=0.0157, Acc=99.03%]\n"
     ]
    },
    {
     "name": "stdout",
     "output_type": "stream",
     "text": [
      "Epoch 42/50:\n",
      "Train Loss: 0.0148, Train Acc: 99.50%\n",
      "Val Loss: 0.0398, Val Acc: 99.03%\n",
      "Learning Rate: 0.000250\n",
      "------------------------------------------------------------\n",
      "New best model saved with validation accuracy: 99.03%\n",
      "Early stopping triggered at epoch 42\n",
      "\n",
      "Plotting training history...\n"
     ]
    },
    {
     "data": {
      "image/png": "[encoded data removed]",
      "text/plain": [
       "<Figure size 1500x1000 with 4 Axes>"
      ]
     },
     "metadata": {},
     "output_type": "display_data"
    },
    {
     "name": "stdout",
     "output_type": "stream",
     "text": [
      "\n",
      "Loading best model for evaluation...\n",
      "\n",
      "Evaluating on test set...\n"
     ]
    },
    {
     "name": "stderr",
     "output_type": "stream",
     "text": [
      "Evaluating:  19%|█▉        | 3/16 [00:01<00:04,  3.13it/s]"
     ]
    },
    {
     "name": "stdout",
     "output_type": "stream",
     "text": [
      "Warning: Corrupted image /kaggle/input/bone-fracture-multi-region-x-ray-data/Bone_Fracture_Binary_Classification/Bone_Fracture_Binary_Classification/test/not fractured/IMG0004347.jpg: image file is truncated (40 bytes not processed)\n",
      "Using black placeholder image\n"
     ]
    },
    {
     "name": "stderr",
     "output_type": "stream",
     "text": [
      "Evaluating:  31%|███▏      | 5/16 [00:01<00:02,  4.71it/s]"
     ]
    },
    {
     "name": "stdout",
     "output_type": "stream",
     "text": [
      "Warning: Corrupted image /kaggle/input/bone-fracture-multi-region-x-ray-data/Bone_Fracture_Binary_Classification/Bone_Fracture_Binary_Classification/test/not fractured/IMG0004148.jpg: image file is truncated (14 bytes not processed)\n",
      "Using black placeholder image\n"
     ]
    },
    {
     "name": "stderr",
     "output_type": "stream",
     "text": [
      "Evaluating:  38%|███▊      | 6/16 [00:01<00:01,  5.41it/s]"
     ]
    },
    {
     "name": "stdout",
     "output_type": "stream",
     "text": [
      "Warning: Corrupted image /kaggle/input/bone-fracture-multi-region-x-ray-data/Bone_Fracture_Binary_Classification/Bone_Fracture_Binary_Classification/test/not fractured/IMG0004134.jpg: image file is truncated (1 bytes not processed)\n",
      "Using black placeholder image\n"
     ]
    },
    {
     "name": "stderr",
     "output_type": "stream",
     "text": [
      "Evaluating:  56%|█████▋    | 9/16 [00:02<00:01,  4.39it/s]"
     ]
    },
    {
     "name": "stdout",
     "output_type": "stream",
     "text": [
      "Warning: Corrupted image /kaggle/input/bone-fracture-multi-region-x-ray-data/Bone_Fracture_Binary_Classification/Bone_Fracture_Binary_Classification/test/not fractured/IMG0004149.jpg: image file is truncated (33 bytes not processed)\n",
      "Using black placeholder image\n"
     ]
    },
    {
     "name": "stderr",
     "output_type": "stream",
     "text": [
      "Evaluating:  62%|██████▎   | 10/16 [00:02<00:01,  3.93it/s]"
     ]
    },
    {
     "name": "stdout",
     "output_type": "stream",
     "text": [
      "Warning: Corrupted image /kaggle/input/bone-fracture-multi-region-x-ray-data/Bone_Fracture_Binary_Classification/Bone_Fracture_Binary_Classification/test/not fractured/IMG0004143.jpg: image file is truncated (10 bytes not processed)\n",
      "Using black placeholder image\n"
     ]
    },
    {
     "name": "stderr",
     "output_type": "stream",
     "text": [
      "Evaluating:  75%|███████▌  | 12/16 [00:02<00:00,  5.65it/s]"
     ]
    },
    {
     "name": "stdout",
     "output_type": "stream",
     "text": [
      "Warning: Corrupted image /kaggle/input/bone-fracture-multi-region-x-ray-data/Bone_Fracture_Binary_Classification/Bone_Fracture_Binary_Classification/test/not fractured/IMG0004308.jpg: image file is truncated (40 bytes not processed)\n",
      "Using black placeholder image\n"
     ]
    },
    {
     "name": "stderr",
     "output_type": "stream",
     "text": [
      "Evaluating: 100%|██████████| 16/16 [00:04<00:00,  3.97it/s]\n"
     ]
    },
    {
     "name": "stdout",
     "output_type": "stream",
     "text": [
      "\n",
      "Classification Report:\n",
      "               precision    recall  f1-score   support\n",
      "\n",
      "Not Fractured       1.00      0.99      0.99       268\n",
      "    Fractured       0.98      1.00      0.99       238\n",
      "\n",
      "     accuracy                           0.99       506\n",
      "    macro avg       0.99      0.99      0.99       506\n",
      " weighted avg       0.99      0.99      0.99       506\n",
      "\n",
      "\n",
      "Plotting evaluation metrics...\n"
     ]
    },
    {
     "data": {
      "image/png": "[encoded data removed]",
      "text/plain": [
       "<Figure size 1500x1000 with 5 Axes>"
      ]
     },
     "metadata": {},
     "output_type": "display_data"
    },
    {
     "name": "stdout",
     "output_type": "stream",
     "text": [
      "\n",
      "============================================================\n",
      "TRAINING COMPLETED SUCCESSFULLY!\n",
      "============================================================\n",
      "Best validation accuracy: 99.03%\n",
      "Files saved:\n",
      "- /kaggle/working/best_bone_fracture_model.pth (model weights)\n",
      "- /kaggle/working/training_history.png (training plots)\n",
      "- /kaggle/working/evaluation_metrics.png (evaluation plots)\n",
      "- /kaggle/working/test_results.csv (detailed test results)\n"
     ]
    }
   ],
   "source": [
    "import os\n",
    "import torch\n",
    "import torch.nn as nn\n",
    "import torch.optim as optim\n",
    "from torch.utils.data import Dataset, DataLoader\n",
    "from torchvision import transforms, models\n",
    "from PIL import Image\n",
    "import numpy as np\n",
    "import matplotlib.pyplot as plt\n",
    "import seaborn as sns\n",
    "from sklearn.metrics import classification_report, confusion_matrix, roc_curve, auc\n",
    "import pandas as pd\n",
    "from tqdm import tqdm\n",
    "import warnings\n",
    "warnings.filterwarnings('ignore')\n",
    "\n",
    "# Set device\n",
    "device = torch.device('cuda' if torch.cuda.is_available() else 'cpu')\n",
    "print(f\"Using device: {device}\")\n",
    "\n",
    "class BoneFractureDataset(Dataset):\n",
    "    \"\"\"Custom Dataset for Bone Fracture Detection\"\"\"\n",
    "    \n",
    "    def __init__(self, root_dir, split='train', transform=None):\n",
    "        self.root_dir = root_dir\n",
    "        self.split = split\n",
    "        self.transform = transform\n",
    "        self.images = []\n",
    "        self.labels = []\n",
    "        \n",
    "        # Define paths based on directory structure\n",
    "        split_path = os.path.join(root_dir, 'Bone_Fracture_Binary_Classification', \n",
    "                                 'Bone_Fracture_Binary_Classification', split)\n",
    "        \n",
    "        # Load fractured images (label = 1)\n",
    "        fractured_path = os.path.join(split_path, 'fractured')\n",
    "        if os.path.exists(fractured_path):\n",
    "            for img_name in os.listdir(fractured_path):\n",
    "                if img_name.lower().endswith(('.jpg', '.jpeg', '.png')):\n",
    "                    self.images.append(os.path.join(fractured_path, img_name))\n",
    "                    self.labels.append(1)\n",
    "        \n",
    "        # Load not fractured images (label = 0)\n",
    "        not_fractured_path = os.path.join(split_path, 'not fractured')\n",
    "        if os.path.exists(not_fractured_path):\n",
    "            for img_name in os.listdir(not_fractured_path):\n",
    "                if img_name.lower().endswith(('.jpg', '.jpeg', '.png')):\n",
    "                    self.images.append(os.path.join(not_fractured_path, img_name))\n",
    "                    self.labels.append(0)\n",
    "        \n",
    "        print(f\"Loaded {len(self.images)} images for {split} split\")\n",
    "        print(f\"Fractured: {sum(self.labels)}, Not Fractured: {len(self.labels) - sum(self.labels)}\")\n",
    "    \n",
    "    def __len__(self):\n",
    "        return len(self.images)\n",
    "    \n",
    "    def __getitem__(self, idx):\n",
    "        img_path = self.images[idx]\n",
    "        label = self.labels[idx]\n",
    "        \n",
    "        # Load and convert image with better error handling\n",
    "        try:\n",
    "            # Try to open and verify the image\n",
    "            with Image.open(img_path) as img:\n",
    "                img.verify()  # Verify the image is not corrupted\n",
    "            \n",
    "            # Reopen the image for actual use (verify() closes the file)\n",
    "            image = Image.open(img_path).convert('RGB')\n",
    "            \n",
    "        except (Exception, OSError) as e:\n",
    "            print(f\"Warning: Corrupted image {img_path}: {e}\")\n",
    "            print(\"Using black placeholder image\")\n",
    "            # Return a black placeholder image if loading fails\n",
    "            image = Image.new('RGB', (224, 224), color='black')\n",
    "        \n",
    "        if self.transform:\n",
    "            image = self.transform(image)\n",
    "        \n",
    "        return image, label\n",
    "\n",
    "class BoneFractureModel(nn.Module):\n",
    "    \"\"\"ResNet-based model for bone fracture detection\"\"\"\n",
    "    \n",
    "    def __init__(self, num_classes=2, pretrained=True):\n",
    "        super(BoneFractureModel, self).__init__()\n",
    "        \n",
    "        # Load pre-trained ResNet50\n",
    "        self.backbone = models.resnet50(pretrained=pretrained)\n",
    "        \n",
    "        # Modify the classifier\n",
    "        num_features = self.backbone.fc.in_features\n",
    "        self.backbone.fc = nn.Sequential(\n",
    "            nn.Dropout(0.5),\n",
    "            nn.Linear(num_features, 512),\n",
    "            nn.ReLU(),\n",
    "            nn.Dropout(0.3),\n",
    "            nn.Linear(512, num_classes)\n",
    "        )\n",
    "    \n",
    "    def forward(self, x):\n",
    "        return self.backbone(x)\n",
    "\n",
    "class EarlyStopping:\n",
    "    \"\"\"Early stopping to stop training when validation loss doesn't improve\"\"\"\n",
    "    \n",
    "    def __init__(self, patience=7, min_delta=0, restore_best_weights=True):\n",
    "        self.patience = patience\n",
    "        self.min_delta = min_delta\n",
    "        self.restore_best_weights = restore_best_weights\n",
    "        self.best_loss = None\n",
    "        self.counter = 0\n",
    "        self.best_weights = None\n",
    "        \n",
    "    def __call__(self, val_loss, model):\n",
    "        if self.best_loss is None:\n",
    "            self.best_loss = val_loss\n",
    "            self.save_checkpoint(model)\n",
    "        elif val_loss < self.best_loss - self.min_delta:\n",
    "            self.best_loss = val_loss\n",
    "            self.counter = 0\n",
    "            self.save_checkpoint(model)\n",
    "        else:\n",
    "            self.counter += 1\n",
    "            \n",
    "        if self.counter >= self.patience:\n",
    "            if self.restore_best_weights:\n",
    "                model.load_state_dict(self.best_weights)\n",
    "            return True\n",
    "        return False\n",
    "    \n",
    "    def save_checkpoint(self, model):\n",
    "        self.best_weights = model.state_dict()\n",
    "\n",
    "def get_transforms():\n",
    "    \"\"\"Get data transformations for training and validation\"\"\"\n",
    "    \n",
    "    train_transforms = transforms.Compose([\n",
    "        transforms.Resize((224, 224)),\n",
    "        transforms.RandomHorizontalFlip(p=0.5),\n",
    "        transforms.RandomRotation(degrees=15),\n",
    "        transforms.ColorJitter(brightness=0.2, contrast=0.2, saturation=0.2, hue=0.1),\n",
    "        transforms.ToTensor(),\n",
    "        transforms.Normalize(mean=[0.485, 0.456, 0.406], std=[0.229, 0.224, 0.225])\n",
    "    ])\n",
    "    \n",
    "    val_transforms = transforms.Compose([\n",
    "        transforms.Resize((224, 224)),\n",
    "        transforms.ToTensor(),\n",
    "        transforms.Normalize(mean=[0.485, 0.456, 0.406], std=[0.229, 0.224, 0.225])\n",
    "    ])\n",
    "    \n",
    "    return train_transforms, val_transforms\n",
    "\n",
    "def train_model(model, train_loader, val_loader, num_epochs=50, learning_rate=0.001):\n",
    "    \"\"\"Train the model with early stopping\"\"\"\n",
    "    \n",
    "    criterion = nn.CrossEntropyLoss()\n",
    "    optimizer = optim.Adam(model.parameters(), lr=learning_rate, weight_decay=1e-4)\n",
    "    scheduler = optim.lr_scheduler.ReduceLROnPlateau(optimizer, mode='min', patience=5, factor=0.5)\n",
    "    \n",
    "    early_stopping = EarlyStopping(patience=10, min_delta=0.001)\n",
    "    \n",
    "    # Track metrics\n",
    "    train_losses = []\n",
    "    val_losses = []\n",
    "    train_accuracies = []\n",
    "    val_accuracies = []\n",
    "    \n",
    "    best_val_acc = 0.0\n",
    "    \n",
    "    for epoch in range(num_epochs):\n",
    "        # Training phase\n",
    "        model.train()\n",
    "        train_loss = 0.0\n",
    "        train_correct = 0\n",
    "        train_total = 0\n",
    "        \n",
    "        train_bar = tqdm(train_loader, desc=f'Epoch {epoch+1}/{num_epochs} [Train]')\n",
    "        for batch_idx, (data, target) in enumerate(train_bar):\n",
    "            data, target = data.to(device), target.to(device)\n",
    "            \n",
    "            optimizer.zero_grad()\n",
    "            output = model(data)\n",
    "            loss = criterion(output, target)\n",
    "            loss.backward()\n",
    "            optimizer.step()\n",
    "            \n",
    "            train_loss += loss.item()\n",
    "            _, predicted = torch.max(output.data, 1)\n",
    "            train_total += target.size(0)\n",
    "            train_correct += (predicted == target).sum().item()\n",
    "            \n",
    "            train_bar.set_postfix({\n",
    "                'Loss': f'{loss.item():.4f}',\n",
    "                'Acc': f'{100.*train_correct/train_total:.2f}%'\n",
    "            })\n",
    "        \n",
    "        # Validation phase\n",
    "        model.eval()\n",
    "        val_loss = 0.0\n",
    "        val_correct = 0\n",
    "        val_total = 0\n",
    "        \n",
    "        with torch.no_grad():\n",
    "            val_bar = tqdm(val_loader, desc=f'Epoch {epoch+1}/{num_epochs} [Val]')\n",
    "            for data, target in val_bar:\n",
    "                data, target = data.to(device), target.to(device)\n",
    "                output = model(data)\n",
    "                loss = criterion(output, target)\n",
    "                \n",
    "                val_loss += loss.item()\n",
    "                _, predicted = torch.max(output.data, 1)\n",
    "                val_total += target.size(0)\n",
    "                val_correct += (predicted == target).sum().item()\n",
    "                \n",
    "                val_bar.set_postfix({\n",
    "                    'Loss': f'{loss.item():.4f}',\n",
    "                    'Acc': f'{100.*val_correct/val_total:.2f}%'\n",
    "                })\n",
    "        \n",
    "        # Calculate epoch metrics\n",
    "        train_loss /= len(train_loader)\n",
    "        val_loss /= len(val_loader)\n",
    "        train_acc = 100. * train_correct / train_total\n",
    "        val_acc = 100. * val_correct / val_total\n",
    "        \n",
    "        train_losses.append(train_loss)\n",
    "        val_losses.append(val_loss)\n",
    "        train_accuracies.append(train_acc)\n",
    "        val_accuracies.append(val_acc)\n",
    "        \n",
    "        # Learning rate scheduling\n",
    "        scheduler.step(val_loss)\n",
    "        \n",
    "        print(f'Epoch {epoch+1}/{num_epochs}:')\n",
    "        print(f'Train Loss: {train_loss:.4f}, Train Acc: {train_acc:.2f}%')\n",
    "        print(f'Val Loss: {val_loss:.4f}, Val Acc: {val_acc:.2f}%')\n",
    "        print(f'Learning Rate: {optimizer.param_groups[0][\"lr\"]:.6f}')\n",
    "        print('-' * 60)\n",
    "        \n",
    "        # Save best model\n",
    "        if val_acc > best_val_acc:\n",
    "            best_val_acc = val_acc\n",
    "            torch.save(model.state_dict(), '/kaggle/working/best_bone_fracture_model.pth')\n",
    "            print(f'New best model saved with validation accuracy: {best_val_acc:.2f}%')\n",
    "        \n",
    "        # Early stopping check\n",
    "        if early_stopping(val_loss, model):\n",
    "            print(f'Early stopping triggered at epoch {epoch+1}')\n",
    "            break\n",
    "    \n",
    "    return {\n",
    "        'train_losses': train_losses,\n",
    "        'val_losses': val_losses,\n",
    "        'train_accuracies': train_accuracies,\n",
    "        'val_accuracies': val_accuracies,\n",
    "        'best_val_acc': best_val_acc\n",
    "    }\n",
    "\n",
    "def evaluate_model(model, test_loader):\n",
    "    \"\"\"Evaluate the model and return predictions and true labels\"\"\"\n",
    "    \n",
    "    model.eval()\n",
    "    all_predictions = []\n",
    "    all_labels = []\n",
    "    all_probabilities = []\n",
    "    \n",
    "    with torch.no_grad():\n",
    "        for data, target in tqdm(test_loader, desc='Evaluating'):\n",
    "            data, target = data.to(device), target.to(device)\n",
    "            output = model(data)\n",
    "            \n",
    "            # Get probabilities\n",
    "            probabilities = torch.softmax(output, dim=1)\n",
    "            \n",
    "            # Get predictions\n",
    "            _, predicted = torch.max(output, 1)\n",
    "            \n",
    "            all_predictions.extend(predicted.cpu().numpy())\n",
    "            all_labels.extend(target.cpu().numpy())\n",
    "            all_probabilities.extend(probabilities.cpu().numpy())\n",
    "    \n",
    "    return np.array(all_predictions), np.array(all_labels), np.array(all_probabilities)\n",
    "\n",
    "def plot_training_history(history):\n",
    "    \"\"\"Plot training history\"\"\"\n",
    "    \n",
    "    fig, axes = plt.subplots(2, 2, figsize=(15, 10))\n",
    "    \n",
    "    # Plot training and validation loss\n",
    "    axes[0, 0].plot(history['train_losses'], label='Training Loss', color='blue')\n",
    "    axes[0, 0].plot(history['val_losses'], label='Validation Loss', color='red')\n",
    "    axes[0, 0].set_title('Model Loss')\n",
    "    axes[0, 0].set_xlabel('Epoch')\n",
    "    axes[0, 0].set_ylabel('Loss')\n",
    "    axes[0, 0].legend()\n",
    "    axes[0, 0].grid(True)\n",
    "    \n",
    "    # Plot training and validation accuracy\n",
    "    axes[0, 1].plot(history['train_accuracies'], label='Training Accuracy', color='blue')\n",
    "    axes[0, 1].plot(history['val_accuracies'], label='Validation Accuracy', color='red')\n",
    "    axes[0, 1].set_title('Model Accuracy')\n",
    "    axes[0, 1].set_xlabel('Epoch')\n",
    "    axes[0, 1].set_ylabel('Accuracy (%)')\n",
    "    axes[0, 1].legend()\n",
    "    axes[0, 1].grid(True)\n",
    "    \n",
    "    # Plot learning rate over time (if available)\n",
    "    axes[1, 0].text(0.5, 0.5, f'Best Validation Accuracy: {history[\"best_val_acc\"]:.2f}%', \n",
    "                    ha='center', va='center', transform=axes[1, 0].transAxes, fontsize=14)\n",
    "    axes[1, 0].set_title('Best Performance')\n",
    "    axes[1, 0].axis('off')\n",
    "    \n",
    "    # Plot epoch vs loss difference\n",
    "    loss_diff = np.array(history['val_losses']) - np.array(history['train_losses'])\n",
    "    axes[1, 1].plot(loss_diff, color='green')\n",
    "    axes[1, 1].set_title('Overfitting Monitor (Val Loss - Train Loss)')\n",
    "    axes[1, 1].set_xlabel('Epoch')\n",
    "    axes[1, 1].set_ylabel('Loss Difference')\n",
    "    axes[1, 1].axhline(y=0, color='black', linestyle='--', alpha=0.5)\n",
    "    axes[1, 1].grid(True)\n",
    "    \n",
    "    plt.tight_layout()\n",
    "    plt.savefig('/kaggle/working/training_history.png', dpi=300, bbox_inches='tight')\n",
    "    plt.show()\n",
    "\n",
    "def plot_evaluation_metrics(y_true, y_pred, y_prob):\n",
    "    \"\"\"Plot comprehensive evaluation metrics\"\"\"\n",
    "    \n",
    "    fig, axes = plt.subplots(2, 2, figsize=(15, 10))\n",
    "    \n",
    "    # Confusion Matrix\n",
    "    cm = confusion_matrix(y_true, y_pred)\n",
    "    sns.heatmap(cm, annot=True, fmt='d', cmap='Blues', \n",
    "                xticklabels=['Not Fractured', 'Fractured'],\n",
    "                yticklabels=['Not Fractured', 'Fractured'],\n",
    "                ax=axes[0, 0])\n",
    "    axes[0, 0].set_title('Confusion Matrix')\n",
    "    axes[0, 0].set_xlabel('Predicted')\n",
    "    axes[0, 0].set_ylabel('Actual')\n",
    "    \n",
    "    # ROC Curve\n",
    "    fpr, tpr, _ = roc_curve(y_true, y_prob[:, 1])\n",
    "    roc_auc = auc(fpr, tpr)\n",
    "    axes[0, 1].plot(fpr, tpr, color='darkorange', lw=2, \n",
    "                    label=f'ROC curve (AUC = {roc_auc:.2f})')\n",
    "    axes[0, 1].plot([0, 1], [0, 1], color='navy', lw=2, linestyle='--')\n",
    "    axes[0, 1].set_xlabel('False Positive Rate')\n",
    "    axes[0, 1].set_ylabel('True Positive Rate')\n",
    "    axes[0, 1].set_title('ROC Curve')\n",
    "    axes[0, 1].legend()\n",
    "    axes[0, 1].grid(True)\n",
    "    \n",
    "    # Class Distribution\n",
    "    unique, counts = np.unique(y_true, return_counts=True)\n",
    "    axes[1, 0].bar(['Not Fractured', 'Fractured'], counts, color=['skyblue', 'lightcoral'])\n",
    "    axes[1, 0].set_title('Class Distribution in Test Set')\n",
    "    axes[1, 0].set_ylabel('Count')\n",
    "    \n",
    "    # Prediction Confidence Distribution\n",
    "    axes[1, 1].hist(y_prob[:, 1], bins=30, alpha=0.7, color='green')\n",
    "    axes[1, 1].set_title('Prediction Confidence Distribution')\n",
    "    axes[1, 1].set_xlabel('Probability of Fracture')\n",
    "    axes[1, 1].set_ylabel('Frequency')\n",
    "    axes[1, 1].grid(True, alpha=0.3)\n",
    "    \n",
    "    plt.tight_layout()\n",
    "    plt.savefig('/kaggle/working/evaluation_metrics.png', dpi=300, bbox_inches='tight')\n",
    "    plt.show()\n",
    "\n",
    "def main():\n",
    "    \"\"\"Main function to run the complete pipeline\"\"\"\n",
    "    \n",
    "    # Configuration\n",
    "    CONFIG = {\n",
    "        'data_root': '/kaggle/input/bone-fracture-multi-region-x-ray-data',  # Adjust this path\n",
    "        'batch_size': 32,\n",
    "        'num_epochs': 50,\n",
    "        'learning_rate': 0.001,\n",
    "        'num_workers': 4\n",
    "    }\n",
    "    \n",
    "    print(\"=\"*60)\n",
    "    print(\"BONE FRACTURE DETECTION - PRODUCTION PIPELINE\")\n",
    "    print(\"=\"*60)\n",
    "    \n",
    "    # Check if CUDA is available\n",
    "    if torch.cuda.is_available():\n",
    "        print(f\"CUDA is available. Using GPU: {torch.cuda.get_device_name()}\")\n",
    "    else:\n",
    "        print(\"CUDA is not available. Using CPU.\")\n",
    "    \n",
    "    # Get transforms\n",
    "    train_transforms, val_transforms = get_transforms()\n",
    "    \n",
    "    # Create datasets\n",
    "    print(\"\\nLoading datasets...\")\n",
    "    train_dataset = BoneFractureDataset(\n",
    "        root_dir=CONFIG['data_root'], \n",
    "        split='train', \n",
    "        transform=train_transforms\n",
    "    )\n",
    "    \n",
    "    val_dataset = BoneFractureDataset(\n",
    "        root_dir=CONFIG['data_root'], \n",
    "        split='val', \n",
    "        transform=val_transforms\n",
    "    )\n",
    "    \n",
    "    test_dataset = BoneFractureDataset(\n",
    "        root_dir=CONFIG['data_root'], \n",
    "        split='test', \n",
    "        transform=val_transforms\n",
    "    )\n",
    "    \n",
    "    # Create data loaders\n",
    "    train_loader = DataLoader(\n",
    "        train_dataset, \n",
    "        batch_size=CONFIG['batch_size'], \n",
    "        shuffle=True, \n",
    "        num_workers=CONFIG['num_workers']\n",
    "    )\n",
    "    \n",
    "    val_loader = DataLoader(\n",
    "        val_dataset, \n",
    "        batch_size=CONFIG['batch_size'], \n",
    "        shuffle=False, \n",
    "        num_workers=CONFIG['num_workers']\n",
    "    )\n",
    "    \n",
    "    test_loader = DataLoader(\n",
    "        test_dataset, \n",
    "        batch_size=CONFIG['batch_size'], \n",
    "        shuffle=False, \n",
    "        num_workers=CONFIG['num_workers']\n",
    "    )\n",
    "    \n",
    "    # Create model\n",
    "    print(\"\\nInitializing model...\")\n",
    "    model = BoneFractureModel(num_classes=2, pretrained=True)\n",
    "    model = model.to(device)\n",
    "    \n",
    "    # Print model summary\n",
    "    total_params = sum(p.numel() for p in model.parameters())\n",
    "    trainable_params = sum(p.numel() for p in model.parameters() if p.requires_grad)\n",
    "    print(f\"Total parameters: {total_params:,}\")\n",
    "    print(f\"Trainable parameters: {trainable_params:,}\")\n",
    "    \n",
    "    # Train model\n",
    "    print(\"\\nStarting training...\")\n",
    "    history = train_model(\n",
    "        model, \n",
    "        train_loader, \n",
    "        val_loader, \n",
    "        num_epochs=CONFIG['num_epochs'], \n",
    "        learning_rate=CONFIG['learning_rate']\n",
    "    )\n",
    "    \n",
    "    # Plot training history\n",
    "    print(\"\\nPlotting training history...\")\n",
    "    plot_training_history(history)\n",
    "    \n",
    "    # Load best model for evaluation\n",
    "    print(\"\\nLoading best model for evaluation...\")\n",
    "    model.load_state_dict(torch.load('/kaggle/working/best_bone_fracture_model.pth'))\n",
    "    \n",
    "    # Evaluate on test set\n",
    "    print(\"\\nEvaluating on test set...\")\n",
    "    y_pred, y_true, y_prob = evaluate_model(model, test_loader)\n",
    "    \n",
    "    # Print classification report\n",
    "    print(\"\\nClassification Report:\")\n",
    "    print(classification_report(y_true, y_pred, target_names=['Not Fractured', 'Fractured']))\n",
    "    \n",
    "    # Plot evaluation metrics\n",
    "    print(\"\\nPlotting evaluation metrics...\")\n",
    "    plot_evaluation_metrics(y_true, y_pred, y_prob)\n",
    "    \n",
    "    # Save results\n",
    "    results_df = pd.DataFrame({\n",
    "        'true_label': y_true,\n",
    "        'predicted_label': y_pred,\n",
    "        'probability_not_fractured': y_prob[:, 0],\n",
    "        'probability_fractured': y_prob[:, 1]\n",
    "    })\n",
    "    results_df.to_csv('/kaggle/working/test_results.csv', index=False)\n",
    "    \n",
    "    print(\"\\n\" + \"=\"*60)\n",
    "    print(\"TRAINING COMPLETED SUCCESSFULLY!\")\n",
    "    print(\"=\"*60)\n",
    "    print(f\"Best validation accuracy: {history['best_val_acc']:.2f}%\")\n",
    "    print(\"Files saved:\")\n",
    "    print(\"- /kaggle/working/best_bone_fracture_model.pth (model weights)\")\n",
    "    print(\"- /kaggle/working/training_history.png (training plots)\")\n",
    "    print(\"- /kaggle/working/evaluation_metrics.png (evaluation plots)\")\n",
    "    print(\"- /kaggle/working/test_results.csv (detailed test results)\")\n",
    "\n",
    "if __name__ == \"__main__\":\n",
    "    # Set random seeds for reproducibility\n",
    "    torch.manual_seed(42)\n",
    "    np.random.seed(42)\n",
    "    \n",
    "    main()"
   ]
  }
 ],
 "metadata": {
  "kaggle": {
   "accelerator": "gpu",
   "dataSources": [
    {
     "datasetId": 7756873,
     "sourceId": 12306316,
     "sourceType": "datasetVersion"
    }
   ],
   "dockerImageVersionId": 31041,
   "isGpuEnabled": true,
   "isInternetEnabled": true,
   "language": "python",
   "sourceType": "notebook"
  },
  "kernelspec": {
   "display_name": "Python 3",
   "language": "python",
   "name": "python3"
  },
  "language_info": {
   "codemirror_mode": {
    "name": "ipython",
    "version": 3
   },
   "file_extension": ".py",
   "mimetype": "text/x-python",
   "name": "python",
   "nbconvert_exporter": "python",
   "pygments_lexer": "ipython3",
   "version": "3.11.11"
  },
  "papermill": {
   "default_parameters": {},
   "duration": 2469.677089,
   "end_time": "2025-06-27T23:03:55.674100",
   "environment_variables": {},
   "exception": null,
   "input_path": "__notebook__.ipynb",
   "output_path": "__notebook__.ipynb",
   "parameters": {},
   "start_time": "2025-06-27T22:22:45.997011",
   "version": "2.6.0"
  }
 },
 "nbformat": 4,
 "nbformat_minor": 5
}
